{
 "cells": [
  {
   "cell_type": "markdown",
   "id": "20f20373-c13e-481b-b7c3-9b0ed3f14579",
   "metadata": {},
   "source": [
    "# Identify Clusters using the K-Means Algorithm"
   ]
  },
  {
   "cell_type": "markdown",
   "id": "7a3f7beb-648c-43b5-98d9-529f3047ee5f",
   "metadata": {},
   "source": [
    "## K-Means Algorithm\n",
    "\n",
    "https://docs.aws.amazon.com/sagemaker/latest/dg/k-means.html"
   ]
  },
  {
   "cell_type": "markdown",
   "id": "f90bc748-505b-4709-91d6-cc352cf1d985",
   "metadata": {},
   "source": [
    "# Prepare the Environment"
   ]
  },
  {
   "cell_type": "markdown",
   "id": "b3b60884-741d-4155-88d6-2ae5ae739f68",
   "metadata": {},
   "source": [
    "## Upgrade the version of boto3 and sagemaker and Install necessary software"
   ]
  },
  {
   "cell_type": "code",
   "execution_count": 51,
   "id": "f858c872-89ff-4e18-b032-0cee2813b650",
   "metadata": {
    "tags": []
   },
   "outputs": [
    {
     "name": "stdout",
     "output_type": "stream",
     "text": [
      "Note: you may need to restart the kernel to use updated packages.\n",
      "Note: you may need to restart the kernel to use updated packages.\n"
     ]
    }
   ],
   "source": [
    "%pip install -qU --upgrade boto3\n",
    "%pip install -qU --upgrade sagemaker"
   ]
  },
  {
   "cell_type": "code",
   "execution_count": 52,
   "id": "aab39117-62a0-4b7a-b112-a38e2f78069e",
   "metadata": {
    "tags": []
   },
   "outputs": [
    {
     "name": "stdout",
     "output_type": "stream",
     "text": [
      "Looking in indexes: https://pypi.org/simple, https://pip.repos.neuron.amazonaws.com\n",
      "Requirement already satisfied: mxnet in /home/ec2-user/anaconda3/envs/python3/lib/python3.10/site-packages (1.9.1)\n",
      "Requirement already satisfied: graphviz<0.9.0,>=0.8.1 in /home/ec2-user/anaconda3/envs/python3/lib/python3.10/site-packages (from mxnet) (0.8.4)\n",
      "Requirement already satisfied: numpy<2.0.0,>1.16.0 in /home/ec2-user/anaconda3/envs/python3/lib/python3.10/site-packages (from mxnet) (1.22.3)\n",
      "Requirement already satisfied: requests<3,>=2.20.0 in /home/ec2-user/anaconda3/envs/python3/lib/python3.10/site-packages (from mxnet) (2.28.1)\n",
      "Requirement already satisfied: charset-normalizer<3,>=2 in /home/ec2-user/anaconda3/envs/python3/lib/python3.10/site-packages (from requests<3,>=2.20.0->mxnet) (2.1.1)\n",
      "Requirement already satisfied: idna<4,>=2.5 in /home/ec2-user/anaconda3/envs/python3/lib/python3.10/site-packages (from requests<3,>=2.20.0->mxnet) (3.4)\n",
      "Requirement already satisfied: certifi>=2017.4.17 in /home/ec2-user/anaconda3/envs/python3/lib/python3.10/site-packages (from requests<3,>=2.20.0->mxnet) (2022.12.7)\n",
      "Requirement already satisfied: urllib3<1.27,>=1.21.1 in /home/ec2-user/anaconda3/envs/python3/lib/python3.10/site-packages (from requests<3,>=2.20.0->mxnet) (1.26.8)\n",
      "Note: you may need to restart the kernel to use updated packages.\n"
     ]
    }
   ],
   "source": [
    "# Install mxnet\n",
    "\n",
    "%pip install mxnet"
   ]
  },
  {
   "cell_type": "markdown",
   "id": "684418ad-e77b-4954-833c-2edef7f2a66b",
   "metadata": {},
   "source": [
    "## Import the usual suspect of packages"
   ]
  },
  {
   "cell_type": "code",
   "execution_count": 53,
   "id": "dacff02d-f2f4-42e7-8131-f5e35d1ae079",
   "metadata": {
    "tags": []
   },
   "outputs": [],
   "source": [
    "import pandas as pd\n",
    "\n",
    "from sklearn.preprocessing import MinMaxScaler\n",
    "from sklearn.model_selection import train_test_split\n",
    "\n",
    "import matplotlib.pyplot as plt\n",
    "\n",
    "import boto3\n",
    "\n",
    "import sagemaker\n",
    "from sagemaker import KMeans\n",
    "from sagemaker import get_execution_role\n",
    "from sagemaker import image_uris\n",
    "from sagemaker import TrainingInput\n",
    "from sagemaker.amazon.amazon_estimator import get_image_uri\n",
    "from sagemaker.tuner import IntegerParameter, CategoricalParameter, ContinuousParameter, HyperparameterTuner\n",
    "\n",
    "import seaborn as sns\n",
    "\n",
    "import time\n",
    "from time import gmtime, strftime\n",
    "\n",
    "import boto3\n",
    "\n",
    "import json\n",
    "\n",
    "import os\n",
    "\n",
    "import mxnet as mx\n",
    "\n",
    "import numpy as np\n",
    "\n",
    "import io\n",
    "from io import StringIO\n",
    "\n",
    "from scipy.spatial.distance import cdist\n",
    "\n",
    "import warnings\n",
    "warnings.filterwarnings(\"ignore\")"
   ]
  },
  {
   "cell_type": "markdown",
   "id": "a7bb5feb-9bc7-4c2a-a961-8534ae039987",
   "metadata": {},
   "source": [
    "## Setup your your Environment Variables"
   ]
  },
  {
   "cell_type": "code",
   "execution_count": 54,
   "id": "ec92f4fa-2365-48b2-8946-1a7deafabd61",
   "metadata": {
    "tags": []
   },
   "outputs": [
    {
     "name": "stdout",
     "output_type": "stream",
     "text": [
      "The role is  arn:aws:iam::231015462399:role/LabRole\n",
      "The session is  <sagemaker.session.Session object at 0x7f7c4c433df0>\n",
      "The region is  us-east-1\n",
      "The bucket is  sagemaker-us-east-1-231015462399\n"
     ]
    }
   ],
   "source": [
    "role = get_execution_role()\n",
    "sess = sagemaker.Session() \n",
    "region = sess.boto_session.region_name\n",
    "bucket = sess.default_bucket()\n",
    "runtime = boto3.client('sagemaker')\n",
    "sagemaker_client = boto3.Session().client(\"sagemaker\")\n",
    "print(\"The role is \", role)\n",
    "print(\"The session is \", sess)\n",
    "print(\"The region is \", region)\n",
    "print(\"The bucket is \", bucket)"
   ]
  },
  {
   "cell_type": "markdown",
   "id": "ed09a9ee-b4de-41f0-a7d5-aec4365f073a",
   "metadata": {},
   "source": [
    "## Explore the Data"
   ]
  },
  {
   "cell_type": "code",
   "execution_count": 55,
   "id": "f2478b81-6630-4cf0-9d1b-264cf5172e8b",
   "metadata": {
    "tags": []
   },
   "outputs": [
    {
     "data": {
      "text/html": [
       "<div>\n",
       "<style scoped>\n",
       "    .dataframe tbody tr th:only-of-type {\n",
       "        vertical-align: middle;\n",
       "    }\n",
       "\n",
       "    .dataframe tbody tr th {\n",
       "        vertical-align: top;\n",
       "    }\n",
       "\n",
       "    .dataframe thead th {\n",
       "        text-align: right;\n",
       "    }\n",
       "</style>\n",
       "<table border=\"1\" class=\"dataframe\">\n",
       "  <thead>\n",
       "    <tr style=\"text-align: right;\">\n",
       "      <th></th>\n",
       "      <th>Customer ID</th>\n",
       "      <th>Age</th>\n",
       "      <th>Sales ($)</th>\n",
       "    </tr>\n",
       "  </thead>\n",
       "  <tbody>\n",
       "    <tr>\n",
       "      <th>0</th>\n",
       "      <td>10001</td>\n",
       "      <td>28</td>\n",
       "      <td>69870</td>\n",
       "    </tr>\n",
       "    <tr>\n",
       "      <th>1</th>\n",
       "      <td>10002</td>\n",
       "      <td>32</td>\n",
       "      <td>90187</td>\n",
       "    </tr>\n",
       "    <tr>\n",
       "      <th>2</th>\n",
       "      <td>10003</td>\n",
       "      <td>29</td>\n",
       "      <td>60993</td>\n",
       "    </tr>\n",
       "    <tr>\n",
       "      <th>3</th>\n",
       "      <td>10004</td>\n",
       "      <td>31</td>\n",
       "      <td>59939</td>\n",
       "    </tr>\n",
       "    <tr>\n",
       "      <th>4</th>\n",
       "      <td>10005</td>\n",
       "      <td>39</td>\n",
       "      <td>150107</td>\n",
       "    </tr>\n",
       "  </tbody>\n",
       "</table>\n",
       "</div>"
      ],
      "text/plain": [
       "   Customer ID  Age  Sales ($)\n",
       "0        10001   28      69870\n",
       "1        10002   32      90187\n",
       "2        10003   29      60993\n",
       "3        10004   31      59939\n",
       "4        10005   39     150107"
      ]
     },
     "execution_count": 55,
     "metadata": {},
     "output_type": "execute_result"
    }
   ],
   "source": [
    "# Read in the Data\n",
    "\n",
    "sales_data = pd.read_csv('sales.csv')\n",
    "sales_data.head()"
   ]
  },
  {
   "cell_type": "code",
   "execution_count": 56,
   "id": "03d9e3c5-c22e-47f4-b02c-3b072288f5f0",
   "metadata": {
    "tags": []
   },
   "outputs": [
    {
     "data": {
      "text/plain": [
       "Text(0, 0.5, 'Sales ($)')"
      ]
     },
     "execution_count": 56,
     "metadata": {},
     "output_type": "execute_result"
    },
    {
     "data": {
      "image/png": "[encoded data removed]",
      "text/plain": [
       "<Figure size 640x480 with 1 Axes>"
      ]
     },
     "metadata": {},
     "output_type": "display_data"
    }
   ],
   "source": [
    "# Graph the Data on a scatter plot\n",
    "\n",
    "plt.scatter(sales_data['Age'],sales_data['Sales ($)'])\n",
    "plt.xlabel('Age')\n",
    "plt.ylabel('Sales ($)')"
   ]
  },
  {
   "cell_type": "markdown",
   "id": "ced07bfb-1137-40af-a739-6c69575de673",
   "metadata": {
    "tags": []
   },
   "source": [
    "## Scale the Data\n",
    "### This is not always necessary if you data is similar in scale"
   ]
  },
  {
   "cell_type": "markdown",
   "id": "46891410-9aed-418e-b92c-127f516b52be",
   "metadata": {},
   "source": [
    "### This is the data before scaling "
   ]
  },
  {
   "cell_type": "code",
   "execution_count": 57,
   "id": "60db4a99-41da-40ae-8871-4b0fe928a850",
   "metadata": {
    "tags": []
   },
   "outputs": [
    {
     "data": {
      "text/html": [
       "<div>\n",
       "<style scoped>\n",
       "    .dataframe tbody tr th:only-of-type {\n",
       "        vertical-align: middle;\n",
       "    }\n",
       "\n",
       "    .dataframe tbody tr th {\n",
       "        vertical-align: top;\n",
       "    }\n",
       "\n",
       "    .dataframe thead th {\n",
       "        text-align: right;\n",
       "    }\n",
       "</style>\n",
       "<table border=\"1\" class=\"dataframe\">\n",
       "  <thead>\n",
       "    <tr style=\"text-align: right;\">\n",
       "      <th></th>\n",
       "      <th>Customer ID</th>\n",
       "      <th>Age</th>\n",
       "      <th>Sales ($)</th>\n",
       "    </tr>\n",
       "  </thead>\n",
       "  <tbody>\n",
       "    <tr>\n",
       "      <th>0</th>\n",
       "      <td>10001</td>\n",
       "      <td>28</td>\n",
       "      <td>69870</td>\n",
       "    </tr>\n",
       "    <tr>\n",
       "      <th>1</th>\n",
       "      <td>10002</td>\n",
       "      <td>32</td>\n",
       "      <td>90187</td>\n",
       "    </tr>\n",
       "    <tr>\n",
       "      <th>2</th>\n",
       "      <td>10003</td>\n",
       "      <td>29</td>\n",
       "      <td>60993</td>\n",
       "    </tr>\n",
       "    <tr>\n",
       "      <th>3</th>\n",
       "      <td>10004</td>\n",
       "      <td>31</td>\n",
       "      <td>59939</td>\n",
       "    </tr>\n",
       "    <tr>\n",
       "      <th>4</th>\n",
       "      <td>10005</td>\n",
       "      <td>39</td>\n",
       "      <td>150107</td>\n",
       "    </tr>\n",
       "  </tbody>\n",
       "</table>\n",
       "</div>"
      ],
      "text/plain": [
       "   Customer ID  Age  Sales ($)\n",
       "0        10001   28      69870\n",
       "1        10002   32      90187\n",
       "2        10003   29      60993\n",
       "3        10004   31      59939\n",
       "4        10005   39     150107"
      ]
     },
     "execution_count": 57,
     "metadata": {},
     "output_type": "execute_result"
    }
   ],
   "source": [
    "sales_data.head()"
   ]
  },
  {
   "cell_type": "markdown",
   "id": "7b21b822-4db7-44f4-ad07-d5e0a4fcc1df",
   "metadata": {},
   "source": [
    "### Scale the Data"
   ]
  },
  {
   "cell_type": "code",
   "execution_count": 58,
   "id": "04b76853-c93e-48e4-8215-b43bdbd8c030",
   "metadata": {
    "tags": []
   },
   "outputs": [],
   "source": [
    "scaler = MinMaxScaler()\n",
    "\n",
    "scaler.fit(sales_data[['Sales ($)']])\n",
    "sales_data['Sales ($)'] = scaler.transform(sales_data[['Sales ($)']])\n",
    "\n",
    "scaler.fit(sales_data[['Age']])\n",
    "sales_data['Age'] = scaler.transform(sales_data[['Age']])"
   ]
  },
  {
   "cell_type": "markdown",
   "id": "af5dbeee-6d7f-4ab2-9212-4b2e3e24bf66",
   "metadata": {},
   "source": [
    "### This is the data after scaling "
   ]
  },
  {
   "cell_type": "code",
   "execution_count": 59,
   "id": "e1be80d5-46ba-4a7c-8007-3c0efd2ee55c",
   "metadata": {
    "tags": []
   },
   "outputs": [
    {
     "data": {
      "text/html": [
       "<div>\n",
       "<style scoped>\n",
       "    .dataframe tbody tr th:only-of-type {\n",
       "        vertical-align: middle;\n",
       "    }\n",
       "\n",
       "    .dataframe tbody tr th {\n",
       "        vertical-align: top;\n",
       "    }\n",
       "\n",
       "    .dataframe thead th {\n",
       "        text-align: right;\n",
       "    }\n",
       "</style>\n",
       "<table border=\"1\" class=\"dataframe\">\n",
       "  <thead>\n",
       "    <tr style=\"text-align: right;\">\n",
       "      <th></th>\n",
       "      <th>Customer ID</th>\n",
       "      <th>Age</th>\n",
       "      <th>Sales ($)</th>\n",
       "    </tr>\n",
       "  </thead>\n",
       "  <tbody>\n",
       "    <tr>\n",
       "      <th>0</th>\n",
       "      <td>10001</td>\n",
       "      <td>0.08</td>\n",
       "      <td>0.213426</td>\n",
       "    </tr>\n",
       "    <tr>\n",
       "      <th>1</th>\n",
       "      <td>10002</td>\n",
       "      <td>0.24</td>\n",
       "      <td>0.386678</td>\n",
       "    </tr>\n",
       "    <tr>\n",
       "      <th>2</th>\n",
       "      <td>10003</td>\n",
       "      <td>0.12</td>\n",
       "      <td>0.137727</td>\n",
       "    </tr>\n",
       "    <tr>\n",
       "      <th>3</th>\n",
       "      <td>10004</td>\n",
       "      <td>0.20</td>\n",
       "      <td>0.128739</td>\n",
       "    </tr>\n",
       "    <tr>\n",
       "      <th>4</th>\n",
       "      <td>10005</td>\n",
       "      <td>0.52</td>\n",
       "      <td>0.897645</td>\n",
       "    </tr>\n",
       "  </tbody>\n",
       "</table>\n",
       "</div>"
      ],
      "text/plain": [
       "   Customer ID   Age  Sales ($)\n",
       "0        10001  0.08   0.213426\n",
       "1        10002  0.24   0.386678\n",
       "2        10003  0.12   0.137727\n",
       "3        10004  0.20   0.128739\n",
       "4        10005  0.52   0.897645"
      ]
     },
     "execution_count": 59,
     "metadata": {},
     "output_type": "execute_result"
    }
   ],
   "source": [
    "sales_data.head()"
   ]
  },
  {
   "cell_type": "code",
   "execution_count": 60,
   "id": "7cc8be22-d86c-4b78-baaa-39d499e65a41",
   "metadata": {
    "tags": []
   },
   "outputs": [
    {
     "data": {
      "text/plain": [
       "<matplotlib.collections.PathCollection at 0x7f7c4f5b8ca0>"
      ]
     },
     "execution_count": 60,
     "metadata": {},
     "output_type": "execute_result"
    },
    {
     "data": {
      "image/png": "[encoded data removed]",
      "text/plain": [
       "<Figure size 640x480 with 1 Axes>"
      ]
     },
     "metadata": {},
     "output_type": "display_data"
    }
   ],
   "source": [
    "# Plot the data again after being scalled and you notice there is no change\n",
    "\n",
    "plt.scatter(sales_data.Age,sales_data['Sales ($)'])"
   ]
  },
  {
   "cell_type": "markdown",
   "id": "98f9bbb7-8042-420a-beff-48e03b913c5a",
   "metadata": {},
   "source": [
    "## Drop un-necessary data"
   ]
  },
  {
   "cell_type": "code",
   "execution_count": 61,
   "id": "c96b1b77-24a9-4ee2-acdf-f25fd15feed7",
   "metadata": {
    "tags": []
   },
   "outputs": [],
   "source": [
    "# Drop the cusotmer ID column since it is not part of the cluster data\n",
    "\n",
    "sales_data_kmeans = sales_data.drop('Customer ID', axis=1)"
   ]
  },
  {
   "cell_type": "code",
   "execution_count": 62,
   "id": "27afabfa-7a42-40d8-b6bd-18059017cd43",
   "metadata": {
    "tags": []
   },
   "outputs": [
    {
     "data": {
      "text/html": [
       "<div>\n",
       "<style scoped>\n",
       "    .dataframe tbody tr th:only-of-type {\n",
       "        vertical-align: middle;\n",
       "    }\n",
       "\n",
       "    .dataframe tbody tr th {\n",
       "        vertical-align: top;\n",
       "    }\n",
       "\n",
       "    .dataframe thead th {\n",
       "        text-align: right;\n",
       "    }\n",
       "</style>\n",
       "<table border=\"1\" class=\"dataframe\">\n",
       "  <thead>\n",
       "    <tr style=\"text-align: right;\">\n",
       "      <th></th>\n",
       "      <th>Age</th>\n",
       "      <th>Sales ($)</th>\n",
       "    </tr>\n",
       "  </thead>\n",
       "  <tbody>\n",
       "    <tr>\n",
       "      <th>0</th>\n",
       "      <td>0.08</td>\n",
       "      <td>0.213426</td>\n",
       "    </tr>\n",
       "    <tr>\n",
       "      <th>1</th>\n",
       "      <td>0.24</td>\n",
       "      <td>0.386678</td>\n",
       "    </tr>\n",
       "    <tr>\n",
       "      <th>2</th>\n",
       "      <td>0.12</td>\n",
       "      <td>0.137727</td>\n",
       "    </tr>\n",
       "    <tr>\n",
       "      <th>3</th>\n",
       "      <td>0.20</td>\n",
       "      <td>0.128739</td>\n",
       "    </tr>\n",
       "    <tr>\n",
       "      <th>4</th>\n",
       "      <td>0.52</td>\n",
       "      <td>0.897645</td>\n",
       "    </tr>\n",
       "  </tbody>\n",
       "</table>\n",
       "</div>"
      ],
      "text/plain": [
       "    Age  Sales ($)\n",
       "0  0.08   0.213426\n",
       "1  0.24   0.386678\n",
       "2  0.12   0.137727\n",
       "3  0.20   0.128739\n",
       "4  0.52   0.897645"
      ]
     },
     "execution_count": 62,
     "metadata": {},
     "output_type": "execute_result"
    }
   ],
   "source": [
    "sales_data_kmeans.head()"
   ]
  },
  {
   "cell_type": "markdown",
   "id": "125d5795-e497-4150-91c0-724e926e49c3",
   "metadata": {},
   "source": [
    "# Data Preparation"
   ]
  },
  {
   "cell_type": "code",
   "execution_count": 63,
   "id": "a5db3364-3ad0-435f-ab98-9d7ca80eb258",
   "metadata": {
    "tags": []
   },
   "outputs": [],
   "source": [
    "# Shuffle and Split the data into 80% training and 20% validating\n",
    "\n",
    "train_data, test_data = train_test_split(sales_data_kmeans, test_size=0.2)\n",
    "\n",
    "# Convert dataframes to back to CSV files and save them locally to the notebook and make sure to exclude the headers so that KMeans will accept the file\n",
    "\n",
    "train_data.to_csv('train.csv', header=False, index=False)\n",
    "test_data.to_csv('test.csv', header=False, index=False)"
   ]
  },
  {
   "cell_type": "code",
   "execution_count": 64,
   "id": "ebb02983-d7b7-45c3-a397-88f5f8372612",
   "metadata": {
    "tags": []
   },
   "outputs": [
    {
     "name": "stdout",
     "output_type": "stream",
     "text": [
      "s3://sagemaker-us-east-1-231015462399/Sales/input/train/train.csv\n",
      "s3://sagemaker-us-east-1-231015462399/Sales/input/test/test.csv\n",
      "s3://sagemaker-us-east-1-231015462399/Sales/output\n"
     ]
    }
   ],
   "source": [
    "# Copy the file to your S3 bucket using sess.upload_data\n",
    "# You will need to pass the file to be uploaded, a prefix (top level folder to store the data) and the subfolders\n",
    "# Here we will also define the output folder for the results\n",
    "\n",
    "prefix = 'Sales'\n",
    "training_data_path = sess.upload_data( path='train.csv', key_prefix=prefix + '/input/train') \n",
    "testing_data_path = sess.upload_data( path='test.csv', key_prefix=prefix + '/input/test')\n",
    "output_data_path = 's3://{}/{}/output'.format(bucket, prefix)\n",
    "print(training_data_path)\n",
    "print(testing_data_path)\n",
    "print(output_data_path)"
   ]
  },
  {
   "cell_type": "code",
   "execution_count": 65,
   "id": "830b47c7-3c94-4669-9ff8-7e66ee6bad62",
   "metadata": {
    "tags": []
   },
   "outputs": [],
   "source": [
    "# Creating a channel from the S3 data source and file system\n",
    "# TrainingInput documentation https://sagemaker.readthedocs.io/en/stable/api/utility/inputs.html\n",
    "\n",
    "training_data_channel = TrainingInput( s3_data=training_data_path, content_type='text/csv') \n",
    "testing_data_channel = TrainingInput( s3_data=testing_data_path,   content_type='text/csv')"
   ]
  },
  {
   "cell_type": "markdown",
   "id": "dc10be9f-0583-4c23-980b-788d449bcdb5",
   "metadata": {},
   "source": [
    "# Train the Model with different versions of K and plot the SSEs in an elbow plot to Determine K"
   ]
  },
  {
   "cell_type": "code",
   "execution_count": 66,
   "id": "b8fd6300-8169-4ab7-9e8f-465e043ab7fe",
   "metadata": {
    "tags": []
   },
   "outputs": [
    {
     "name": "stderr",
     "output_type": "stream",
     "text": [
      "The method get_image_uri has been renamed in sagemaker>=2.\n",
      "See: https://sagemaker.readthedocs.io/en/stable/v2.html for details.\n"
     ]
    },
    {
     "name": "stdout",
     "output_type": "stream",
     "text": [
      "starting train job:2\n",
      "training artifacts will be uploaded to: s3://sagemaker-us-east-1-231015462399/Sales/kmeans-k-discovery/output/kmeans-k-discovery-2023-03-20-14-09-10\n",
      "InProgress\n",
      "starting train job:3\n",
      "training artifacts will be uploaded to: s3://sagemaker-us-east-1-231015462399/Sales/kmeans-k-discovery/output/kmeans-k-discovery-2023-03-20-14-09-10\n",
      "InProgress\n",
      "starting train job:4\n",
      "training artifacts will be uploaded to: s3://sagemaker-us-east-1-231015462399/Sales/kmeans-k-discovery/output/kmeans-k-discovery-2023-03-20-14-09-10\n",
      "InProgress\n",
      "starting train job:5\n",
      "training artifacts will be uploaded to: s3://sagemaker-us-east-1-231015462399/Sales/kmeans-k-discovery/output/kmeans-k-discovery-2023-03-20-14-09-10\n",
      "InProgress\n",
      "starting train job:6\n",
      "training artifacts will be uploaded to: s3://sagemaker-us-east-1-231015462399/Sales/kmeans-k-discovery/output/kmeans-k-discovery-2023-03-20-14-09-10\n",
      "InProgress\n",
      "starting train job:7\n",
      "training artifacts will be uploaded to: s3://sagemaker-us-east-1-231015462399/Sales/kmeans-k-discovery/output/kmeans-k-discovery-2023-03-20-14-09-10\n",
      "InProgress\n",
      "starting train job:8\n",
      "training artifacts will be uploaded to: s3://sagemaker-us-east-1-231015462399/Sales/kmeans-k-discovery/output/kmeans-k-discovery-2023-03-20-14-09-10\n",
      "InProgress\n",
      "starting train job:9\n",
      "training artifacts will be uploaded to: s3://sagemaker-us-east-1-231015462399/Sales/kmeans-k-discovery/output/kmeans-k-discovery-2023-03-20-14-09-10\n",
      "InProgress\n",
      "starting train job:10\n",
      "training artifacts will be uploaded to: s3://sagemaker-us-east-1-231015462399/Sales/kmeans-k-discovery/output/kmeans-k-discovery-2023-03-20-14-09-10\n",
      "InProgress\n",
      "starting train job:11\n",
      "training artifacts will be uploaded to: s3://sagemaker-us-east-1-231015462399/Sales/kmeans-k-discovery/output/kmeans-k-discovery-2023-03-20-14-09-10\n",
      "InProgress\n"
     ]
    }
   ],
   "source": [
    "# gets the K-Means docker image from AWS\n",
    "image = get_image_uri(boto3.Session().region_name, 'kmeans')\n",
    "\n",
    "data_location = training_data_path\n",
    "output_location = output_data_path\n",
    "test_location = testing_data_path\n",
    "\n",
    "output_time = strftime(\"%Y-%m-%d-%H-%M-%S\", gmtime())\n",
    "output_folder = 'kmeans-k-discovery-' + output_time\n",
    "K = range(2, 12) # change the range to be used for k\n",
    "INSTANCE_COUNT = 2\n",
    "run_parallel_jobs = True \n",
    "\n",
    "job_names = []\n",
    "\n",
    "# launching jobs for all k\n",
    "for k in K:\n",
    "    print('starting train job:' + str(k))\n",
    "    output_location = 's3://{}/Sales/kmeans-k-discovery/output/'.format(bucket) + output_folder\n",
    "    print('training artifacts will be uploaded to: {}'.format(output_location))\n",
    "    job_name = output_folder + str(k)\n",
    "\n",
    "    create_training_params = \\\n",
    "    {\n",
    "        \"AlgorithmSpecification\": {\n",
    "            \"TrainingImage\": image,\n",
    "            \"TrainingInputMode\": \"File\"\n",
    "        },\n",
    "        \"RoleArn\": role,\n",
    "        \"OutputDataConfig\": {\n",
    "            \"S3OutputPath\": output_location\n",
    "        },\n",
    "        \"ResourceConfig\": {\n",
    "            \"InstanceCount\": INSTANCE_COUNT,\n",
    "            \"InstanceType\": \"ml.m4.xlarge\",\n",
    "            \"VolumeSizeInGB\": 50\n",
    "        },\n",
    "        \"TrainingJobName\": job_name,\n",
    "        \"HyperParameters\": {\n",
    "            \"k\": str(k),\n",
    "            \"feature_dim\": \"2\",  # change to the correct number of features\n",
    "            \"mini_batch_size\": \"1000\"\n",
    "        },\n",
    "        \"StoppingCondition\": {\n",
    "            \"MaxRuntimeInSeconds\": 60 * 60\n",
    "        },\n",
    "                'InputDataConfig': [\n",
    "            {\n",
    "                'ChannelName': 'train',\n",
    "                'DataSource': {\n",
    "                    'S3DataSource': {\n",
    "                        'S3DataType': 'S3Prefix',\n",
    "                        'S3Uri': data_location,\n",
    "                        'S3DataDistributionType': 'FullyReplicated'\n",
    "                    }\n",
    "                },\n",
    "                'ContentType': 'text/csv;label_size=0'\n",
    "            },\n",
    "            \n",
    "            {\n",
    "                'ChannelName': 'test',\n",
    "                'DataSource': {\n",
    "                    'S3DataSource': {\n",
    "                        'S3DataType': 'S3Prefix',\n",
    "                        'S3Uri': test_location,\n",
    "                        'S3DataDistributionType': 'FullyReplicated'\n",
    "                    }\n",
    "                },\n",
    "                'ContentType': 'text/csv;label_size=0'\n",
    "            },\n",
    "        ]\n",
    "    }\n",
    "\n",
    "    sagemaker = boto3.client('sagemaker')\n",
    "\n",
    "    sagemaker.create_training_job(**create_training_params)\n",
    "\n",
    "    status = sagemaker.describe_training_job(TrainingJobName=job_name)['TrainingJobStatus']\n",
    "    print(status)"
   ]
  },
  {
   "cell_type": "code",
   "execution_count": 19,
   "id": "f913dcfa-7326-4b21-a58f-54153f5e899f",
   "metadata": {
    "tags": []
   },
   "outputs": [],
   "source": [
    "# Collect the name of each of the jobs\n",
    "\n",
    "while len(job_names):\n",
    "    try:\n",
    "        sagemaker.get_waiter('training_job_completed_or_stopped').wait(TrainingJobName=job_names[0])\n",
    "    finally:\n",
    "        status = sagemaker.describe_training_job(TrainingJobName=job_name)['TrainingJobStatus']\n",
    "        print(\"Training job ended with status: \" + status)\n",
    "        if status == 'Failed':\n",
    "            message = sagemaker.describe_training_job(TrainingJobName=job_name)['FailureReason']\n",
    "            print('Training failed with the following error: {}'.format(message))\n",
    "            raise Exception('Training job failed')\n",
    "\n",
    "    info = sagemaker.describe_training_job(TrainingJobName=job_name)\n",
    "    job_names.pop(0)"
   ]
  },
  {
   "cell_type": "markdown",
   "id": "608b2f57-bac9-4227-824e-4eb4bba96221",
   "metadata": {},
   "source": [
    "## Plot your elbow graph to determine the right value of K"
   ]
  },
  {
   "cell_type": "code",
   "execution_count": 20,
   "id": "ab82ef6a-635c-47d1-9539-6c333ad861ab",
   "metadata": {
    "tags": []
   },
   "outputs": [
    {
     "name": "stdout",
     "output_type": "stream",
     "text": [
      "Model for k=2 (Sales/kmeans-k-discovery/output/kmeans-k-discovery-2023-03-20-12-39-53/kmeans-k-discovery-2023-03-20-12-39-532/output/model.tar.gz)\n",
      "model_algo-1\n",
      "Model for k=3 (Sales/kmeans-k-discovery/output/kmeans-k-discovery-2023-03-20-12-39-53/kmeans-k-discovery-2023-03-20-12-39-533/output/model.tar.gz)\n",
      "model_algo-1\n",
      "Model for k=4 (Sales/kmeans-k-discovery/output/kmeans-k-discovery-2023-03-20-12-39-53/kmeans-k-discovery-2023-03-20-12-39-534/output/model.tar.gz)\n",
      "model_algo-1\n",
      "Model for k=5 (Sales/kmeans-k-discovery/output/kmeans-k-discovery-2023-03-20-12-39-53/kmeans-k-discovery-2023-03-20-12-39-535/output/model.tar.gz)\n",
      "model_algo-1\n",
      "Model for k=6 (Sales/kmeans-k-discovery/output/kmeans-k-discovery-2023-03-20-12-39-53/kmeans-k-discovery-2023-03-20-12-39-536/output/model.tar.gz)\n",
      "model_algo-1\n",
      "Model for k=7 (Sales/kmeans-k-discovery/output/kmeans-k-discovery-2023-03-20-12-39-53/kmeans-k-discovery-2023-03-20-12-39-537/output/model.tar.gz)\n",
      "model_algo-1\n",
      "Model for k=8 (Sales/kmeans-k-discovery/output/kmeans-k-discovery-2023-03-20-12-39-53/kmeans-k-discovery-2023-03-20-12-39-538/output/model.tar.gz)\n",
      "model_algo-1\n",
      "Model for k=9 (Sales/kmeans-k-discovery/output/kmeans-k-discovery-2023-03-20-12-39-53/kmeans-k-discovery-2023-03-20-12-39-539/output/model.tar.gz)\n",
      "model_algo-1\n",
      "Model for k=10 (Sales/kmeans-k-discovery/output/kmeans-k-discovery-2023-03-20-12-39-53/kmeans-k-discovery-2023-03-20-12-39-5310/output/model.tar.gz)\n",
      "model_algo-1\n",
      "Model for k=11 (Sales/kmeans-k-discovery/output/kmeans-k-discovery-2023-03-20-12-39-53/kmeans-k-discovery-2023-03-20-12-39-5311/output/model.tar.gz)\n",
      "model_algo-1\n"
     ]
    },
    {
     "data": {
      "image/png": "[encoded data removed]",
      "text/plain": [
       "<Figure size 640x480 with 1 Axes>"
      ]
     },
     "metadata": {},
     "output_type": "display_data"
    }
   ],
   "source": [
    "plt.plot()\n",
    "colors = ['b', 'g', 'r']\n",
    "markers = ['o', 'v', 's']\n",
    "models = {}\n",
    "distortions = []\n",
    "for k in K:\n",
    "    s3_client = boto3.client('s3')\n",
    "    key = 'Sales/kmeans-k-discovery/output/' + output_folder +'/' + output_folder + str(k) + '/output/model.tar.gz'\n",
    "    s3_client.download_file(bucket, key, 'model.tar.gz')\n",
    "    print(\"Model for k={} ({})\".format(k, key))\n",
    "    !tar -xvf model.tar.gz                       \n",
    "    kmeans_model=mx.ndarray.load('model_algo-1')\n",
    "    kmeans_numpy = kmeans_model[0].asnumpy()\n",
    "    distortions.append(sum(np.min(cdist(train_data, kmeans_numpy, 'euclidean'), axis=1)) / train_data.shape[0])\n",
    "    models[k] = kmeans_numpy\n",
    " \n",
    "# Plot the elbow\n",
    "plt.plot(K, distortions, 'bx-')\n",
    "plt.xlabel('k')\n",
    "plt.ylabel('Sum of squared error')\n",
    "plt.title('Elbow graph')\n",
    "x_labels = [2, 3, 4, 5, 6, 7, 8, 9, 10, 11] \n",
    "plt.xticks(ticks=x_labels, labels=x_labels)\n",
    "plt.grid()\n",
    "plt.show()"
   ]
  },
  {
   "cell_type": "markdown",
   "id": "e8256f97-3a39-4643-b756-a39302310418",
   "metadata": {},
   "source": [
    "## Start the hyperparameter tunning job"
   ]
  },
  {
   "cell_type": "code",
   "execution_count": 21,
   "id": "b33a3ae3-def9-4c29-9299-525d878b1c04",
   "metadata": {
    "tags": []
   },
   "outputs": [],
   "source": [
    "# Enter your value for K that you will use for the hyperparameter tuning job\n",
    "\n",
    "k = \"3\""
   ]
  },
  {
   "cell_type": "code",
   "execution_count": 22,
   "id": "dd4120fe-39ca-4111-9eb9-ceb52f59fe06",
   "metadata": {
    "tags": []
   },
   "outputs": [
    {
     "name": "stdout",
     "output_type": "stream",
     "text": [
      "InProgress\n",
      "Number of jobs completed 0\n",
      "InProgress\n",
      "Number of jobs completed 0\n",
      "InProgress\n",
      "Number of jobs completed 0\n",
      "InProgress\n",
      "Number of jobs completed 0\n",
      "InProgress\n",
      "Number of jobs completed 4\n",
      "InProgress\n",
      "Number of jobs completed 6\n",
      "InProgress\n",
      "Number of jobs completed 9\n",
      "Completed\n",
      "Number of jobs completed 10\n"
     ]
    }
   ],
   "source": [
    "# https://docs.aws.amazon.com/sagemaker/latest/dg/k-means-tuning.html\n",
    "\n",
    "tuning_job_name = \"sales-data\" + strftime(\"%Y-%m-%d-%H-%M-%S\", gmtime())\n",
    "\n",
    "\n",
    "data_location = training_data_path\n",
    "output_location = output_data_path\n",
    "test_location = testing_data_path\n",
    "\n",
    "sagemaker = boto3.client('sagemaker')\n",
    "\n",
    "response = sagemaker.create_hyper_parameter_tuning_job(\n",
    "    HyperParameterTuningJobName= tuning_job_name,\n",
    "    HyperParameterTuningJobConfig={\n",
    "        'Strategy': 'Bayesian',\n",
    "        'HyperParameterTuningJobObjective': {\n",
    "            'Type': 'Minimize',\n",
    "            'MetricName': 'test:ssd'\n",
    "        },\n",
    "        'ResourceLimits': {\n",
    "            'MaxNumberOfTrainingJobs': 10,\n",
    "            'MaxParallelTrainingJobs': 2\n",
    "        },\n",
    "        'ParameterRanges': {\n",
    "            'IntegerParameterRanges': [\n",
    "                {\n",
    "                    'Name': 'mini_batch_size',\n",
    "                    'MinValue': '3000',\n",
    "                    'MaxValue': '15000'\n",
    "                },\n",
    "            ],\n",
    "            'CategoricalParameterRanges': [\n",
    "                {\n",
    "                    'Name': 'init_method',\n",
    "                    'Values': [\n",
    "                        'kmeans++', 'random'\n",
    "                    ]\n",
    "                },\n",
    "            ]\n",
    "        },\n",
    "        'TrainingJobEarlyStoppingType' : 'Auto'\n",
    "    },\n",
    "    TrainingJobDefinition={\n",
    "        'StaticHyperParameters': {\n",
    "            'k': k,\n",
    "            'feature_dim': '2', #CHANGE TO MATCH YOUR NUMBER OF FEATURES\n",
    "        },\n",
    "        'AlgorithmSpecification': {\n",
    "            'TrainingImage': image,\n",
    "            'TrainingInputMode': 'File'\n",
    "        },\n",
    "        'RoleArn': role,\n",
    "        'InputDataConfig': [\n",
    "            {\n",
    "                'ChannelName': 'train',\n",
    "                'DataSource': {\n",
    "                    'S3DataSource': {\n",
    "                        'S3DataType': 'S3Prefix',\n",
    "                        'S3Uri': data_location,\n",
    "                        'S3DataDistributionType': 'FullyReplicated'\n",
    "                    }\n",
    "                },\n",
    "                'ContentType': 'text/csv;label_size=0'\n",
    "            },\n",
    "            \n",
    "            {\n",
    "                'ChannelName': 'test',\n",
    "                'DataSource': {\n",
    "                    'S3DataSource': {\n",
    "                        'S3DataType': 'S3Prefix',\n",
    "                        'S3Uri': test_location,\n",
    "                        'S3DataDistributionType': 'FullyReplicated'\n",
    "                    }\n",
    "                },\n",
    "                'ContentType': 'text/csv;label_size=0'\n",
    "            },\n",
    "        ],\n",
    "        'OutputDataConfig': {\n",
    "                'S3OutputPath': output_location\n",
    "        },\n",
    "        'ResourceConfig': {\n",
    "            'InstanceType': 'ml.m5.xlarge',\n",
    "            'InstanceCount': 1,\n",
    "            'VolumeSizeInGB': 50\n",
    "        },\n",
    "        'StoppingCondition': {\n",
    "            'MaxRuntimeInSeconds': 60 * 60\n",
    "        }\n",
    "    }\n",
    ")\n",
    "\n",
    "\n",
    "tuning_job_result = sagemaker.describe_hyper_parameter_tuning_job(\n",
    "HyperParameterTuningJobName=tuning_job_name\n",
    ")\n",
    "\n",
    "status = tuning_job_result[\"HyperParameterTuningJobStatus\"]\n",
    "\n",
    "while status != \"Completed\":\n",
    "    tuning_job_result = sagemaker.describe_hyper_parameter_tuning_job(\n",
    "    HyperParameterTuningJobName=tuning_job_name\n",
    "    )\n",
    "    status = tuning_job_result[\"HyperParameterTuningJobStatus\"]\n",
    "    print(status)\n",
    "\n",
    "    job_count = tuning_job_result[\"TrainingJobStatusCounters\"][\"Completed\"]\n",
    "    print(\"Number of jobs completed\", job_count)\n",
    "    \n",
    "    time.sleep(60)\n",
    "\n",
    "objective = tuning_job_result[\"HyperParameterTuningJobConfig\"][\"HyperParameterTuningJobObjective\"]\n",
    "is_minimize = objective[\"Type\"] != \"Maximize\"\n",
    "objective_name = objective[\"MetricName\"]\n"
   ]
  },
  {
   "cell_type": "code",
   "execution_count": 23,
   "id": "d258dcd3-3554-4eb7-adb7-f6f47b805b02",
   "metadata": {
    "tags": []
   },
   "outputs": [],
   "source": [
    "# Grab the details from each job https://docs.aws.amazon.com/sagemaker/latest/APIReference/API_DescribeHyperParameterTuningJob.html\n",
    "\n",
    "tuning_job_result = sagemaker.describe_hyper_parameter_tuning_job(\n",
    "HyperParameterTuningJobName=tuning_job_name\n",
    ")\n",
    "\n",
    "status = tuning_job_result[\"HyperParameterTuningJobStatus\"]\n",
    "\n",
    "while status != \"Completed\":\n",
    "    tuning_job_result = sagemaker.describe_hyper_parameter_tuning_job(\n",
    "    HyperParameterTuningJobName=tuning_job_name\n",
    "    )\n",
    "    status = tuning_job_result[\"HyperParameterTuningJobStatus\"]\n",
    "    print(status)\n",
    "\n",
    "    job_count = tuning_job_result[\"TrainingJobStatusCounters\"][\"Completed\"]\n",
    "    print(\"Number of jobs completed\", job_count)\n",
    "    \n",
    "    time.sleep(60)\n",
    "\n",
    "objective = tuning_job_result[\"HyperParameterTuningJobConfig\"][\"HyperParameterTuningJobObjective\"]\n",
    "is_minimize = objective[\"Type\"] != \"Maximize\"\n",
    "objective_name = objective[\"MetricName\"]"
   ]
  },
  {
   "cell_type": "code",
   "execution_count": 28,
   "id": "e3eec7dc-57b7-4f81-bd90-5e17c418871e",
   "metadata": {
    "tags": []
   },
   "outputs": [
    {
     "name": "stdout",
     "output_type": "stream",
     "text": [
      "Number of training jobs with valid objective: 10\n",
      "{'lowest': 0.2580701410770416, 'highest': 1.0630403757095337}\n"
     ]
    },
    {
     "data": {
      "text/html": [
       "<div>\n",
       "<style scoped>\n",
       "    .dataframe tbody tr th:only-of-type {\n",
       "        vertical-align: middle;\n",
       "    }\n",
       "\n",
       "    .dataframe tbody tr th {\n",
       "        vertical-align: top;\n",
       "    }\n",
       "\n",
       "    .dataframe thead th {\n",
       "        text-align: right;\n",
       "    }\n",
       "</style>\n",
       "<table border=\"1\" class=\"dataframe\">\n",
       "  <thead>\n",
       "    <tr style=\"text-align: right;\">\n",
       "      <th></th>\n",
       "      <th>init_method</th>\n",
       "      <th>mini_batch_size</th>\n",
       "      <th>TrainingJobName</th>\n",
       "      <th>TrainingJobStatus</th>\n",
       "      <th>FinalObjectiveValue</th>\n",
       "      <th>TrainingStartTime</th>\n",
       "      <th>TrainingEndTime</th>\n",
       "      <th>TrainingElapsedTimeSeconds</th>\n",
       "    </tr>\n",
       "  </thead>\n",
       "  <tbody>\n",
       "    <tr>\n",
       "      <th>4</th>\n",
       "      <td>random</td>\n",
       "      <td>3324.0</td>\n",
       "      <td>sales-data2023-03-20-12-51-50-006-7c81d40c</td>\n",
       "      <td>Completed</td>\n",
       "      <td>0.258070</td>\n",
       "      <td>2023-03-20 12:55:56+00:00</td>\n",
       "      <td>2023-03-20 12:56:23+00:00</td>\n",
       "      <td>27.0</td>\n",
       "    </tr>\n",
       "    <tr>\n",
       "      <th>2</th>\n",
       "      <td>random</td>\n",
       "      <td>3000.0</td>\n",
       "      <td>sales-data2023-03-20-12-51-50-008-0d236944</td>\n",
       "      <td>Completed</td>\n",
       "      <td>0.260610</td>\n",
       "      <td>2023-03-20 12:56:39+00:00</td>\n",
       "      <td>2023-03-20 12:57:06+00:00</td>\n",
       "      <td>27.0</td>\n",
       "    </tr>\n",
       "    <tr>\n",
       "      <th>0</th>\n",
       "      <td>random</td>\n",
       "      <td>3068.0</td>\n",
       "      <td>sales-data2023-03-20-12-51-50-010-1392975f</td>\n",
       "      <td>Completed</td>\n",
       "      <td>0.285702</td>\n",
       "      <td>2023-03-20 12:57:21+00:00</td>\n",
       "      <td>2023-03-20 12:57:48+00:00</td>\n",
       "      <td>27.0</td>\n",
       "    </tr>\n",
       "    <tr>\n",
       "      <th>3</th>\n",
       "      <td>random</td>\n",
       "      <td>3491.0</td>\n",
       "      <td>sales-data2023-03-20-12-51-50-007-d04b77c0</td>\n",
       "      <td>Completed</td>\n",
       "      <td>0.292865</td>\n",
       "      <td>2023-03-20 12:56:33+00:00</td>\n",
       "      <td>2023-03-20 12:57:00+00:00</td>\n",
       "      <td>27.0</td>\n",
       "    </tr>\n",
       "    <tr>\n",
       "      <th>8</th>\n",
       "      <td>random</td>\n",
       "      <td>12973.0</td>\n",
       "      <td>sales-data2023-03-20-12-51-50-002-94aab4eb</td>\n",
       "      <td>Completed</td>\n",
       "      <td>0.306270</td>\n",
       "      <td>2023-03-20 12:52:58+00:00</td>\n",
       "      <td>2023-03-20 12:54:45+00:00</td>\n",
       "      <td>107.0</td>\n",
       "    </tr>\n",
       "    <tr>\n",
       "      <th>1</th>\n",
       "      <td>random</td>\n",
       "      <td>3001.0</td>\n",
       "      <td>sales-data2023-03-20-12-51-50-009-c554282a</td>\n",
       "      <td>Completed</td>\n",
       "      <td>0.306283</td>\n",
       "      <td>2023-03-20 12:57:13+00:00</td>\n",
       "      <td>2023-03-20 12:57:40+00:00</td>\n",
       "      <td>27.0</td>\n",
       "    </tr>\n",
       "    <tr>\n",
       "      <th>5</th>\n",
       "      <td>kmeans++</td>\n",
       "      <td>5968.0</td>\n",
       "      <td>sales-data2023-03-20-12-51-50-005-6d830abc</td>\n",
       "      <td>Completed</td>\n",
       "      <td>1.063040</td>\n",
       "      <td>2023-03-20 12:55:53+00:00</td>\n",
       "      <td>2023-03-20 12:56:20+00:00</td>\n",
       "      <td>27.0</td>\n",
       "    </tr>\n",
       "    <tr>\n",
       "      <th>6</th>\n",
       "      <td>kmeans++</td>\n",
       "      <td>7082.0</td>\n",
       "      <td>sales-data2023-03-20-12-51-50-004-4d1b7c82</td>\n",
       "      <td>Completed</td>\n",
       "      <td>1.063040</td>\n",
       "      <td>2023-03-20 12:55:16+00:00</td>\n",
       "      <td>2023-03-20 12:55:43+00:00</td>\n",
       "      <td>27.0</td>\n",
       "    </tr>\n",
       "    <tr>\n",
       "      <th>7</th>\n",
       "      <td>kmeans++</td>\n",
       "      <td>10307.0</td>\n",
       "      <td>sales-data2023-03-20-12-51-50-003-44e27ae1</td>\n",
       "      <td>Completed</td>\n",
       "      <td>1.063040</td>\n",
       "      <td>2023-03-20 12:55:16+00:00</td>\n",
       "      <td>2023-03-20 12:55:42+00:00</td>\n",
       "      <td>26.0</td>\n",
       "    </tr>\n",
       "    <tr>\n",
       "      <th>9</th>\n",
       "      <td>kmeans++</td>\n",
       "      <td>7873.0</td>\n",
       "      <td>sales-data2023-03-20-12-51-50-001-756870f8</td>\n",
       "      <td>Completed</td>\n",
       "      <td>1.063040</td>\n",
       "      <td>2023-03-20 12:52:55+00:00</td>\n",
       "      <td>2023-03-20 12:54:42+00:00</td>\n",
       "      <td>107.0</td>\n",
       "    </tr>\n",
       "  </tbody>\n",
       "</table>\n",
       "</div>"
      ],
      "text/plain": [
       "  init_method  mini_batch_size                             TrainingJobName  \\\n",
       "4      random           3324.0  sales-data2023-03-20-12-51-50-006-7c81d40c   \n",
       "2      random           3000.0  sales-data2023-03-20-12-51-50-008-0d236944   \n",
       "0      random           3068.0  sales-data2023-03-20-12-51-50-010-1392975f   \n",
       "3      random           3491.0  sales-data2023-03-20-12-51-50-007-d04b77c0   \n",
       "8      random          12973.0  sales-data2023-03-20-12-51-50-002-94aab4eb   \n",
       "1      random           3001.0  sales-data2023-03-20-12-51-50-009-c554282a   \n",
       "5    kmeans++           5968.0  sales-data2023-03-20-12-51-50-005-6d830abc   \n",
       "6    kmeans++           7082.0  sales-data2023-03-20-12-51-50-004-4d1b7c82   \n",
       "7    kmeans++          10307.0  sales-data2023-03-20-12-51-50-003-44e27ae1   \n",
       "9    kmeans++           7873.0  sales-data2023-03-20-12-51-50-001-756870f8   \n",
       "\n",
       "  TrainingJobStatus  FinalObjectiveValue         TrainingStartTime  \\\n",
       "4         Completed             0.258070 2023-03-20 12:55:56+00:00   \n",
       "2         Completed             0.260610 2023-03-20 12:56:39+00:00   \n",
       "0         Completed             0.285702 2023-03-20 12:57:21+00:00   \n",
       "3         Completed             0.292865 2023-03-20 12:56:33+00:00   \n",
       "8         Completed             0.306270 2023-03-20 12:52:58+00:00   \n",
       "1         Completed             0.306283 2023-03-20 12:57:13+00:00   \n",
       "5         Completed             1.063040 2023-03-20 12:55:53+00:00   \n",
       "6         Completed             1.063040 2023-03-20 12:55:16+00:00   \n",
       "7         Completed             1.063040 2023-03-20 12:55:16+00:00   \n",
       "9         Completed             1.063040 2023-03-20 12:52:55+00:00   \n",
       "\n",
       "            TrainingEndTime  TrainingElapsedTimeSeconds  \n",
       "4 2023-03-20 12:56:23+00:00                        27.0  \n",
       "2 2023-03-20 12:57:06+00:00                        27.0  \n",
       "0 2023-03-20 12:57:48+00:00                        27.0  \n",
       "3 2023-03-20 12:57:00+00:00                        27.0  \n",
       "8 2023-03-20 12:54:45+00:00                       107.0  \n",
       "1 2023-03-20 12:57:40+00:00                        27.0  \n",
       "5 2023-03-20 12:56:20+00:00                        27.0  \n",
       "6 2023-03-20 12:55:43+00:00                        27.0  \n",
       "7 2023-03-20 12:55:42+00:00                        26.0  \n",
       "9 2023-03-20 12:54:42+00:00                       107.0  "
      ]
     },
     "execution_count": 28,
     "metadata": {},
     "output_type": "execute_result"
    }
   ],
   "source": [
    "# Print out the jobs sorted by the lowest SSE \"FinalObjectiveValue\"\n",
    "\n",
    "import sagemaker\n",
    "\n",
    "tuner = sagemaker.HyperparameterTuningJobAnalytics(tuning_job_name)\n",
    "\n",
    "full_df = tuner.dataframe()\n",
    "\n",
    "if len(full_df) > 0:\n",
    "    df = full_df[full_df[\"FinalObjectiveValue\"] > -float(\"inf\")]\n",
    "    if len(df) > 0:\n",
    "        df = df.sort_values(\"FinalObjectiveValue\", ascending=is_minimize)\n",
    "        print(\"Number of training jobs with valid objective: %d\" % len(df))\n",
    "        print({\"lowest\": min(df[\"FinalObjectiveValue\"]), \"highest\": max(df[\"FinalObjectiveValue\"])})\n",
    "        pd.set_option(\"display.max_colwidth\", None)  # Don't truncate TrainingJobName\n",
    "    else:\n",
    "        print(\"No training jobs have reported valid results yet.\")\n",
    "\n",
    "df"
   ]
  },
  {
   "cell_type": "code",
   "execution_count": 29,
   "id": "173c91c5-706e-4b45-a176-ca111b26f776",
   "metadata": {
    "tags": []
   },
   "outputs": [],
   "source": [
    "# Store the best tuning job\n",
    "\n",
    "job_name = tuning_job_result[\"BestTrainingJob\"][\"TrainingJobName\"]"
   ]
  },
  {
   "cell_type": "markdown",
   "id": "9a56b68e-0fdb-4c59-a27e-511a38bb5f02",
   "metadata": {},
   "source": [
    "## Make Inferences"
   ]
  },
  {
   "cell_type": "markdown",
   "id": "7b885ee9-0f5d-4e6c-909a-a76a24b7b27a",
   "metadata": {},
   "source": [
    "### Deploy the Model"
   ]
  },
  {
   "cell_type": "code",
   "execution_count": null,
   "id": "30203fcc-42c0-4067-9edb-71fb46879739",
   "metadata": {
    "tags": []
   },
   "outputs": [],
   "source": [
    "sagemaker = boto3.client('sagemaker')\n",
    "\n",
    "model_name = job_name\n",
    "print(model_name)\n",
    "\n",
    "info = sagemaker.describe_training_job(TrainingJobName=job_name)\n",
    "model_data = info[\"ModelArtifacts\"][\"S3ModelArtifacts\"]\n",
    "\n",
    "primary_container = {\"Image\": image, \"ModelDataUrl\": model_data}\n",
    "\n",
    "create_model_response = sagemaker.create_model(\n",
    "    ModelName=model_name, ExecutionRoleArn=role, PrimaryContainer=primary_container\n",
    ")\n",
    "\n",
    "print(create_model_response[\"ModelArn\"])"
   ]
  },
  {
   "cell_type": "markdown",
   "id": "8a8aa1df-0e21-4677-b556-40ca4b0400c9",
   "metadata": {},
   "source": [
    "### Deploy the Endpoint Config"
   ]
  },
  {
   "cell_type": "code",
   "execution_count": null,
   "id": "7eecd072-aa38-4725-ae33-ee841b0f1c7a",
   "metadata": {
    "tags": []
   },
   "outputs": [],
   "source": [
    "endpoint_config_name = \"Sales-Data-epc-\" + strftime(\"%Y-%m-%d-%H-%M-%S\", gmtime())\n",
    "print(endpoint_config_name)\n",
    "create_endpoint_config_response = runtime.create_endpoint_config(\n",
    "    EndpointConfigName=endpoint_config_name,\n",
    "    ProductionVariants=[\n",
    "        {\n",
    "            \"InstanceType\": \"ml.m5.xlarge\",\n",
    "            \"InitialInstanceCount\": 1,\n",
    "            \"ModelName\": model_name,\n",
    "            \"VariantName\": \"AllTraffic\",\n",
    "        }\n",
    "    ],\n",
    ")\n",
    "\n",
    "print(\"Endpoint Config Arn: \" + create_endpoint_config_response[\"EndpointConfigArn\"])"
   ]
  },
  {
   "cell_type": "markdown",
   "id": "8dacd8f7-9884-4451-9b07-d45936b3ae23",
   "metadata": {
    "tags": []
   },
   "source": [
    "### Deploy the Endpoint"
   ]
  },
  {
   "cell_type": "code",
   "execution_count": 32,
   "id": "db28ed95-bb65-47ab-8538-76cb2768c768",
   "metadata": {
    "tags": []
   },
   "outputs": [
    {
     "name": "stdout",
     "output_type": "stream",
     "text": [
      "Sales-Data-ep-2023-03-20-13-10-42\n",
      "arn:aws:sagemaker:us-east-1:231015462399:endpoint/sales-data-ep-2023-03-20-13-10-42\n",
      "Status: Creating\n",
      "Arn: arn:aws:sagemaker:us-east-1:231015462399:endpoint/sales-data-ep-2023-03-20-13-10-42\n",
      "Create endpoint ended with status: InService\n"
     ]
    }
   ],
   "source": [
    "endpoint_name = \"Sales-Data-ep-\" + strftime(\"%Y-%m-%d-%H-%M-%S\", gmtime())\n",
    "print(endpoint_name)\n",
    "create_endpoint_response = runtime.create_endpoint(\n",
    "    EndpointName=endpoint_name, EndpointConfigName=endpoint_config_name\n",
    ")\n",
    "print(create_endpoint_response[\"EndpointArn\"])\n",
    "\n",
    "resp = runtime.describe_endpoint(EndpointName=endpoint_name)\n",
    "status = resp[\"EndpointStatus\"]\n",
    "print(\"Status: \" + status)\n",
    "\n",
    "try:\n",
    "    runtime.get_waiter(\"endpoint_in_service\").wait(EndpointName=endpoint_name)\n",
    "finally:\n",
    "    resp = runtime.describe_endpoint(EndpointName=endpoint_name)\n",
    "    status = resp[\"EndpointStatus\"]\n",
    "    print(\"Arn: \" + resp[\"EndpointArn\"])\n",
    "    print(\"Create endpoint ended with status: \" + status)\n",
    "\n",
    "    if status != \"InService\":\n",
    "        message = runtime.describe_endpoint(EndpointName=endpoint_name)[\"FailureReason\"]\n",
    "        print(\"Training failed with the following error: {}\".format(message))\n",
    "        raise Exception(\"Endpoint creation did not succeed\")"
   ]
  },
  {
   "cell_type": "markdown",
   "id": "72ac1f4c-916c-46f8-86c2-17975660d4e6",
   "metadata": {},
   "source": [
    "## Demo how to do infernences"
   ]
  },
  {
   "cell_type": "markdown",
   "id": "b5f158f0-b4a0-43ca-8bc9-4269c8d17c69",
   "metadata": {},
   "source": [
    "### Single Inference"
   ]
  },
  {
   "cell_type": "code",
   "execution_count": 33,
   "id": "8c40eedd-a129-4818-88da-a5b8e69a637d",
   "metadata": {
    "tags": []
   },
   "outputs": [
    {
     "name": "stdout",
     "output_type": "stream",
     "text": [
      "{'predictions': [{'closest_cluster': 1.0, 'distance_to_cluster': 156009.125}]}\n"
     ]
    }
   ],
   "source": [
    "runtime = boto3.Session().client('sagemaker-runtime',use_ssl=True)\n",
    "payload = \"39,156010\"\n",
    "\n",
    "response = runtime.invoke_endpoint(EndpointName=endpoint_name, \n",
    "                                   ContentType='text/csv', \n",
    "                                   Body=payload)\n",
    "result = json.loads(response['Body'].read())\n",
    "print(result)"
   ]
  },
  {
   "cell_type": "markdown",
   "id": "7fd8251a-1905-4140-92e6-464c02b8d5d4",
   "metadata": {
    "tags": []
   },
   "source": [
    "### Batch Inferences"
   ]
  },
  {
   "cell_type": "code",
   "execution_count": 34,
   "id": "8b00a4c5-54a5-49c9-ab0e-14a64d090b8e",
   "metadata": {
    "tags": []
   },
   "outputs": [],
   "source": [
    "# This where you can plot out the training set or batch load a new dataset\n",
    "\n",
    "csv_file = io.StringIO()\n",
    "\n",
    "sales_data_kmeans.to_csv(csv_file, sep=\",\", header=False, index=False)\n",
    "payload = csv_file.getvalue()"
   ]
  },
  {
   "cell_type": "code",
   "execution_count": 35,
   "id": "5532b54e-ef48-472b-9192-b3a909bc38e0",
   "metadata": {
    "tags": []
   },
   "outputs": [],
   "source": [
    "response = runtime.invoke_endpoint(\n",
    "    EndpointName=endpoint_name,\n",
    "    Body= payload,\n",
    "    ContentType = 'text/csv')\n",
    "result = json.loads(response[\"Body\"].read().decode())\n",
    "clusters = [p[\"closest_cluster\"] for p in result[\"predictions\"]]\n"
   ]
  },
  {
   "cell_type": "code",
   "execution_count": 36,
   "id": "747c968f-5ae4-43bb-ad82-ccacc2df7e59",
   "metadata": {
    "tags": []
   },
   "outputs": [
    {
     "name": "stdout",
     "output_type": "stream",
     "text": [
      "[0.0, 0.0, 0.0, 0.0, 1.0, 1.0, 1.0, 1.0, 1.0, 1.0, 1.0, 0.0, 0.0, 0.0, 0.0, 0.0, 2.0, 2.0, 2.0, 2.0, 2.0, 2.0, 2.0, 2.0, 2.0, 2.0, 1.0, 1.0, 1.0, 1.0, 1.0, 1.0, 1.0, 2.0, 2.0, 2.0, 2.0, 2.0, 2.0, 2.0, 2.0, 2.0, 2.0, 2.0, 2.0, 2.0, 2.0, 2.0, 1.0, 1.0]\n"
     ]
    }
   ],
   "source": [
    "print(clusters)"
   ]
  },
  {
   "cell_type": "code",
   "execution_count": 37,
   "id": "b8b84f6e-6aef-4b7c-a94c-0145cd0115d0",
   "metadata": {
    "tags": []
   },
   "outputs": [
    {
     "data": {
      "text/html": [
       "<div>\n",
       "<style scoped>\n",
       "    .dataframe tbody tr th:only-of-type {\n",
       "        vertical-align: middle;\n",
       "    }\n",
       "\n",
       "    .dataframe tbody tr th {\n",
       "        vertical-align: top;\n",
       "    }\n",
       "\n",
       "    .dataframe thead th {\n",
       "        text-align: right;\n",
       "    }\n",
       "</style>\n",
       "<table border=\"1\" class=\"dataframe\">\n",
       "  <thead>\n",
       "    <tr style=\"text-align: right;\">\n",
       "      <th></th>\n",
       "      <th>Customer ID</th>\n",
       "      <th>Age</th>\n",
       "      <th>Sales ($)</th>\n",
       "      <th>cluster</th>\n",
       "    </tr>\n",
       "  </thead>\n",
       "  <tbody>\n",
       "    <tr>\n",
       "      <th>0</th>\n",
       "      <td>10001</td>\n",
       "      <td>0.08</td>\n",
       "      <td>0.213426</td>\n",
       "      <td>0.0</td>\n",
       "    </tr>\n",
       "    <tr>\n",
       "      <th>1</th>\n",
       "      <td>10002</td>\n",
       "      <td>0.24</td>\n",
       "      <td>0.386678</td>\n",
       "      <td>0.0</td>\n",
       "    </tr>\n",
       "    <tr>\n",
       "      <th>2</th>\n",
       "      <td>10003</td>\n",
       "      <td>0.12</td>\n",
       "      <td>0.137727</td>\n",
       "      <td>0.0</td>\n",
       "    </tr>\n",
       "    <tr>\n",
       "      <th>3</th>\n",
       "      <td>10004</td>\n",
       "      <td>0.20</td>\n",
       "      <td>0.128739</td>\n",
       "      <td>0.0</td>\n",
       "    </tr>\n",
       "    <tr>\n",
       "      <th>4</th>\n",
       "      <td>10005</td>\n",
       "      <td>0.52</td>\n",
       "      <td>0.897645</td>\n",
       "      <td>1.0</td>\n",
       "    </tr>\n",
       "  </tbody>\n",
       "</table>\n",
       "</div>"
      ],
      "text/plain": [
       "   Customer ID   Age  Sales ($)  cluster\n",
       "0        10001  0.08   0.213426      0.0\n",
       "1        10002  0.24   0.386678      0.0\n",
       "2        10003  0.12   0.137727      0.0\n",
       "3        10004  0.20   0.128739      0.0\n",
       "4        10005  0.52   0.897645      1.0"
      ]
     },
     "execution_count": 37,
     "metadata": {},
     "output_type": "execute_result"
    }
   ],
   "source": [
    "sales_data['cluster']=clusters\n",
    "sales_data.head()"
   ]
  },
  {
   "cell_type": "code",
   "execution_count": 38,
   "id": "9227fedf-7520-49dd-86e9-d1c795b9312d",
   "metadata": {
    "tags": []
   },
   "outputs": [
    {
     "data": {
      "text/plain": [
       "Customer ID      int64\n",
       "Age            float64\n",
       "Sales ($)      float64\n",
       "cluster        float64\n",
       "dtype: object"
      ]
     },
     "execution_count": 38,
     "metadata": {},
     "output_type": "execute_result"
    }
   ],
   "source": [
    "sales_data.dtypes"
   ]
  },
  {
   "cell_type": "code",
   "execution_count": 39,
   "id": "5aa39b72-f762-409b-a02d-acd52d644599",
   "metadata": {
    "tags": []
   },
   "outputs": [],
   "source": [
    "sales_data['cluster'] = sales_data['cluster'].astype(int)"
   ]
  },
  {
   "cell_type": "code",
   "execution_count": 40,
   "id": "76d0c0d5-4306-402b-8a82-e9f7ab5589fc",
   "metadata": {
    "tags": []
   },
   "outputs": [
    {
     "data": {
      "text/html": [
       "<div>\n",
       "<style scoped>\n",
       "    .dataframe tbody tr th:only-of-type {\n",
       "        vertical-align: middle;\n",
       "    }\n",
       "\n",
       "    .dataframe tbody tr th {\n",
       "        vertical-align: top;\n",
       "    }\n",
       "\n",
       "    .dataframe thead th {\n",
       "        text-align: right;\n",
       "    }\n",
       "</style>\n",
       "<table border=\"1\" class=\"dataframe\">\n",
       "  <thead>\n",
       "    <tr style=\"text-align: right;\">\n",
       "      <th></th>\n",
       "      <th>Customer ID</th>\n",
       "      <th>Age</th>\n",
       "      <th>Sales ($)</th>\n",
       "      <th>cluster</th>\n",
       "    </tr>\n",
       "  </thead>\n",
       "  <tbody>\n",
       "    <tr>\n",
       "      <th>0</th>\n",
       "      <td>10001</td>\n",
       "      <td>0.08</td>\n",
       "      <td>0.213426</td>\n",
       "      <td>0</td>\n",
       "    </tr>\n",
       "    <tr>\n",
       "      <th>1</th>\n",
       "      <td>10002</td>\n",
       "      <td>0.24</td>\n",
       "      <td>0.386678</td>\n",
       "      <td>0</td>\n",
       "    </tr>\n",
       "    <tr>\n",
       "      <th>2</th>\n",
       "      <td>10003</td>\n",
       "      <td>0.12</td>\n",
       "      <td>0.137727</td>\n",
       "      <td>0</td>\n",
       "    </tr>\n",
       "    <tr>\n",
       "      <th>3</th>\n",
       "      <td>10004</td>\n",
       "      <td>0.20</td>\n",
       "      <td>0.128739</td>\n",
       "      <td>0</td>\n",
       "    </tr>\n",
       "    <tr>\n",
       "      <th>4</th>\n",
       "      <td>10005</td>\n",
       "      <td>0.52</td>\n",
       "      <td>0.897645</td>\n",
       "      <td>1</td>\n",
       "    </tr>\n",
       "  </tbody>\n",
       "</table>\n",
       "</div>"
      ],
      "text/plain": [
       "   Customer ID   Age  Sales ($)  cluster\n",
       "0        10001  0.08   0.213426        0\n",
       "1        10002  0.24   0.386678        0\n",
       "2        10003  0.12   0.137727        0\n",
       "3        10004  0.20   0.128739        0\n",
       "4        10005  0.52   0.897645        1"
      ]
     },
     "execution_count": 40,
     "metadata": {},
     "output_type": "execute_result"
    }
   ],
   "source": [
    "sales_data.head()"
   ]
  },
  {
   "cell_type": "markdown",
   "id": "dedefc04-cf73-43e2-853f-d2602f616edf",
   "metadata": {},
   "source": [
    "## Get the cluster centroids from the model artifact"
   ]
  },
  {
   "cell_type": "code",
   "execution_count": 41,
   "id": "c59a8bed-0651-4daa-8302-489e2619b9d7",
   "metadata": {
    "tags": []
   },
   "outputs": [
    {
     "name": "stdout",
     "output_type": "stream",
     "text": [
      "sagemaker-us-east-1-231015462399\n",
      "model.tar.gz\n",
      "Sales/output/sales-data2023-03-20-12-51-50-006-7c81d40c/output/model.tar.gz\n",
      "Model for k=3 (model.tar.gz)\n",
      "model_algo-1\n"
     ]
    }
   ],
   "source": [
    "key = 'model.tar.gz'\n",
    "model_path = 'Sales/output/' +tuning_job_result[\"BestTrainingJob\"][\"TrainingJobName\"] + \"/output/\" + key\n",
    "print(bucket)\n",
    "print(key)\n",
    "print(model_path)\n",
    "\n",
    "s3_client = boto3.client('s3')\n",
    "s3_client.download_file(bucket, model_path, 'model.tar.gz')\n",
    "print(\"Model for k={} ({})\".format(k, key))\n",
    "!tar -xvf model.tar.gz                       \n",
    "kmeans_model=mx.ndarray.load('model_algo-1')"
   ]
  },
  {
   "cell_type": "code",
   "execution_count": 42,
   "id": "31d5302f-c8f5-4b20-8ece-70dd912307a5",
   "metadata": {
    "tags": []
   },
   "outputs": [],
   "source": [
    "Kmeans_model_params = mx.ndarray.load(\"model_algo-1\")\n",
    "cluster_centroids=pd.DataFrame(Kmeans_model_params[0].asnumpy())"
   ]
  },
  {
   "cell_type": "code",
   "execution_count": 43,
   "id": "91f3e774-91e0-457b-a061-6c1cd5778dd0",
   "metadata": {
    "tags": []
   },
   "outputs": [
    {
     "data": {
      "text/html": [
       "<div>\n",
       "<style scoped>\n",
       "    .dataframe tbody tr th:only-of-type {\n",
       "        vertical-align: middle;\n",
       "    }\n",
       "\n",
       "    .dataframe tbody tr th {\n",
       "        vertical-align: top;\n",
       "    }\n",
       "\n",
       "    .dataframe thead th {\n",
       "        text-align: right;\n",
       "    }\n",
       "</style>\n",
       "<table border=\"1\" class=\"dataframe\">\n",
       "  <thead>\n",
       "    <tr style=\"text-align: right;\">\n",
       "      <th></th>\n",
       "      <th>0</th>\n",
       "      <th>1</th>\n",
       "    </tr>\n",
       "  </thead>\n",
       "  <tbody>\n",
       "    <tr>\n",
       "      <th>0</th>\n",
       "      <td>0.117500</td>\n",
       "      <td>0.120515</td>\n",
       "    </tr>\n",
       "    <tr>\n",
       "      <th>1</th>\n",
       "      <td>0.615714</td>\n",
       "      <td>0.888640</td>\n",
       "    </tr>\n",
       "    <tr>\n",
       "      <th>2</th>\n",
       "      <td>0.700000</td>\n",
       "      <td>0.186997</td>\n",
       "    </tr>\n",
       "  </tbody>\n",
       "</table>\n",
       "</div>"
      ],
      "text/plain": [
       "          0         1\n",
       "0  0.117500  0.120515\n",
       "1  0.615714  0.888640\n",
       "2  0.700000  0.186997"
      ]
     },
     "execution_count": 43,
     "metadata": {},
     "output_type": "execute_result"
    }
   ],
   "source": [
    "cluster_centroids"
   ]
  },
  {
   "cell_type": "code",
   "execution_count": 44,
   "id": "0171e23e-e9e1-401e-a083-a1b51bb7685c",
   "metadata": {
    "tags": []
   },
   "outputs": [
    {
     "data": {
      "text/plain": [
       "<matplotlib.legend.Legend at 0x7f7c4734cc40>"
      ]
     },
     "execution_count": 44,
     "metadata": {},
     "output_type": "execute_result"
    },
    {
     "data": {
      "image/png": "[encoded data removed]",
      "text/plain": [
       "<Figure size 640x480 with 1 Axes>"
      ]
     },
     "metadata": {},
     "output_type": "display_data"
    }
   ],
   "source": [
    "sales_data0 = sales_data[sales_data.cluster==0]\n",
    "sales_data1 = sales_data[sales_data.cluster==1]\n",
    "sales_data2 = sales_data[sales_data.cluster==2]\n",
    "plt.scatter(sales_data0['Age'],sales_data0['Sales ($)'],color='green')\n",
    "plt.scatter(sales_data1['Age'],sales_data1['Sales ($)'],color='red')\n",
    "plt.scatter(sales_data2['Age'],sales_data2['Sales ($)'],color='black')\n",
    "plt.scatter(cluster_centroids[0],cluster_centroids[1],color='purple',marker=\"x\",label='centroid')\n",
    "plt.xlabel('Age')\n",
    "plt.ylabel('Sales ($)')\n",
    "plt.legend()"
   ]
  },
  {
   "cell_type": "markdown",
   "id": "3cd0d351-1f64-4a1e-a821-c9dad227da83",
   "metadata": {},
   "source": [
    "## Cleanup"
   ]
  },
  {
   "cell_type": "code",
   "execution_count": null,
   "id": "8436e47f-5d62-4393-8ca1-54c988dfa97d",
   "metadata": {
    "tags": []
   },
   "outputs": [],
   "source": [
    "sagemaker_client.delete_model(ModelName=model_name)"
   ]
  },
  {
   "cell_type": "code",
   "execution_count": null,
   "id": "299413ba-8988-47bc-90c3-41a84c11dc73",
   "metadata": {
    "tags": []
   },
   "outputs": [],
   "source": [
    "sagemaker_client.delete_endpoint_config(EndpointConfigName=endpoint_config_name)"
   ]
  },
  {
   "cell_type": "code",
   "execution_count": null,
   "id": "7619b1df-3941-413e-8d3c-b5cff6df88aa",
   "metadata": {
    "tags": []
   },
   "outputs": [],
   "source": [
    "sagemaker_client.delete_endpoint(EndpointName=endpoint_name)"
   ]
  }
 ],
 "metadata": {
  "kernelspec": {
   "display_name": "conda_python3",
   "language": "python",
   "name": "conda_python3"
  },
  "language_info": {
   "codemirror_mode": {
    "name": "ipython",
    "version": 3
   },
   "file_extension": ".py",
   "mimetype": "text/x-python",
   "name": "python",
   "nbconvert_exporter": "python",
   "pygments_lexer": "ipython3",
   "version": "3.10.8"
  }
 },
 "nbformat": 4,
 "nbformat_minor": 5
}
