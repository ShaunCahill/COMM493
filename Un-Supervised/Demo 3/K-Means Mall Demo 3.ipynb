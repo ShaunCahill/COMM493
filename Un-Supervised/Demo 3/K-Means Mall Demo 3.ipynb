{
 "cells": [
  {
   "cell_type": "markdown",
   "id": "20f20373-c13e-481b-b7c3-9b0ed3f14579",
   "metadata": {},
   "source": [
    "# Identify Clusters using the K-Means Algorithm"
   ]
  },
  {
   "cell_type": "markdown",
   "id": "7a3f7beb-648c-43b5-98d9-529f3047ee5f",
   "metadata": {},
   "source": [
    "## K-Means Algorithm\n",
    "\n",
    "https://docs.aws.amazon.com/sagemaker/latest/dg/k-means.html"
   ]
  },
  {
   "cell_type": "markdown",
   "id": "f90bc748-505b-4709-91d6-cc352cf1d985",
   "metadata": {},
   "source": [
    "# Prepare the Environment"
   ]
  },
  {
   "cell_type": "markdown",
   "id": "b3b60884-741d-4155-88d6-2ae5ae739f68",
   "metadata": {},
   "source": [
    "## Upgrade the version of boto3 and sagemaker"
   ]
  },
  {
   "cell_type": "code",
   "execution_count": 17,
   "id": "f858c872-89ff-4e18-b032-0cee2813b650",
   "metadata": {
    "tags": []
   },
   "outputs": [
    {
     "name": "stdout",
     "output_type": "stream",
     "text": [
      "Note: you may need to restart the kernel to use updated packages.\n",
      "Note: you may need to restart the kernel to use updated packages.\n"
     ]
    }
   ],
   "source": [
    "%pip install -qU --upgrade boto3\n",
    "%pip install -qU --upgrade sagemaker"
   ]
  },
  {
   "cell_type": "code",
   "execution_count": 18,
   "id": "aab39117-62a0-4b7a-b112-a38e2f78069e",
   "metadata": {
    "tags": []
   },
   "outputs": [
    {
     "name": "stdout",
     "output_type": "stream",
     "text": [
      "Looking in indexes: https://pypi.org/simple, https://pip.repos.neuron.amazonaws.com\n",
      "Requirement already satisfied: mxnet in /home/ec2-user/anaconda3/envs/python3/lib/python3.10/site-packages (1.9.1)\n",
      "Requirement already satisfied: numpy<2.0.0,>1.16.0 in /home/ec2-user/anaconda3/envs/python3/lib/python3.10/site-packages (from mxnet) (1.22.3)\n",
      "Requirement already satisfied: requests<3,>=2.20.0 in /home/ec2-user/anaconda3/envs/python3/lib/python3.10/site-packages (from mxnet) (2.28.1)\n",
      "Requirement already satisfied: graphviz<0.9.0,>=0.8.1 in /home/ec2-user/anaconda3/envs/python3/lib/python3.10/site-packages (from mxnet) (0.8.4)\n",
      "Requirement already satisfied: idna<4,>=2.5 in /home/ec2-user/anaconda3/envs/python3/lib/python3.10/site-packages (from requests<3,>=2.20.0->mxnet) (3.4)\n",
      "Requirement already satisfied: charset-normalizer<3,>=2 in /home/ec2-user/anaconda3/envs/python3/lib/python3.10/site-packages (from requests<3,>=2.20.0->mxnet) (2.1.1)\n",
      "Requirement already satisfied: urllib3<1.27,>=1.21.1 in /home/ec2-user/anaconda3/envs/python3/lib/python3.10/site-packages (from requests<3,>=2.20.0->mxnet) (1.26.8)\n",
      "Requirement already satisfied: certifi>=2017.4.17 in /home/ec2-user/anaconda3/envs/python3/lib/python3.10/site-packages (from requests<3,>=2.20.0->mxnet) (2022.12.7)\n",
      "Note: you may need to restart the kernel to use updated packages.\n"
     ]
    }
   ],
   "source": [
    "# Install mxnet\n",
    "\n",
    "%pip install mxnet"
   ]
  },
  {
   "cell_type": "markdown",
   "id": "ed83bb74-ecf9-4083-bd03-13f11f7a26bb",
   "metadata": {},
   "source": [
    "## Import the usual suspect of packages"
   ]
  },
  {
   "cell_type": "code",
   "execution_count": 43,
   "id": "dacff02d-f2f4-42e7-8131-f5e35d1ae079",
   "metadata": {
    "tags": []
   },
   "outputs": [],
   "source": [
    "import pandas as pd\n",
    "\n",
    "from sklearn.preprocessing import MinMaxScaler\n",
    "from sklearn.model_selection import train_test_split\n",
    "from sklearn.preprocessing import LabelEncoder\n",
    "\n",
    "import matplotlib.pyplot as plt\n",
    "\n",
    "import boto3\n",
    "\n",
    "import sagemaker\n",
    "from sagemaker import KMeans\n",
    "from sagemaker import get_execution_role\n",
    "from sagemaker import image_uris\n",
    "from sagemaker import TrainingInput\n",
    "from sagemaker.amazon.amazon_estimator import get_image_uri\n",
    "from sagemaker.tuner import IntegerParameter, CategoricalParameter, ContinuousParameter, HyperparameterTuner\n",
    "\n",
    "import seaborn as sns\n",
    "\n",
    "import time\n",
    "from time import gmtime, strftime\n",
    "\n",
    "import boto3\n",
    "\n",
    "import json\n",
    "\n",
    "import os\n",
    "\n",
    "import mxnet as mx\n",
    "\n",
    "import numpy as np\n",
    "\n",
    "import io\n",
    "from io import StringIO\n",
    "\n",
    "from scipy.spatial.distance import cdist\n",
    "\n",
    "import warnings\n",
    "warnings.filterwarnings(\"ignore\")"
   ]
  },
  {
   "cell_type": "markdown",
   "id": "a7bb5feb-9bc7-4c2a-a961-8534ae039987",
   "metadata": {},
   "source": [
    "## Setup your your Environment Variables"
   ]
  },
  {
   "cell_type": "code",
   "execution_count": 20,
   "id": "ec92f4fa-2365-48b2-8946-1a7deafabd61",
   "metadata": {
    "tags": []
   },
   "outputs": [
    {
     "name": "stdout",
     "output_type": "stream",
     "text": [
      "The role is  arn:aws:iam::231015462399:role/LabRole\n",
      "The session is  <sagemaker.session.Session object at 0x7f3bbe0251b0>\n",
      "The region is  us-east-1\n",
      "The bucket is  sagemaker-us-east-1-231015462399\n"
     ]
    }
   ],
   "source": [
    "role = get_execution_role()\n",
    "sess = sagemaker.Session() \n",
    "region = sess.boto_session.region_name\n",
    "bucket = sess.default_bucket()\n",
    "runtime = boto3.client('sagemaker')\n",
    "sagemaker_client = boto3.Session().client(\"sagemaker\")\n",
    "print(\"The role is \", role)\n",
    "print(\"The session is \", sess)\n",
    "print(\"The region is \", region)\n",
    "print(\"The bucket is \", bucket)"
   ]
  },
  {
   "cell_type": "markdown",
   "id": "ed09a9ee-b4de-41f0-a7d5-aec4365f073a",
   "metadata": {},
   "source": [
    "## Explore the Data"
   ]
  },
  {
   "cell_type": "code",
   "execution_count": 21,
   "id": "f2478b81-6630-4cf0-9d1b-264cf5172e8b",
   "metadata": {
    "tags": []
   },
   "outputs": [
    {
     "data": {
      "text/html": [
       "<div>\n",
       "<style scoped>\n",
       "    .dataframe tbody tr th:only-of-type {\n",
       "        vertical-align: middle;\n",
       "    }\n",
       "\n",
       "    .dataframe tbody tr th {\n",
       "        vertical-align: top;\n",
       "    }\n",
       "\n",
       "    .dataframe thead th {\n",
       "        text-align: right;\n",
       "    }\n",
       "</style>\n",
       "<table border=\"1\" class=\"dataframe\">\n",
       "  <thead>\n",
       "    <tr style=\"text-align: right;\">\n",
       "      <th></th>\n",
       "      <th>CustomerID</th>\n",
       "      <th>Gender</th>\n",
       "      <th>Age</th>\n",
       "      <th>Annual Income (k$)</th>\n",
       "      <th>Spending Score (1-100)</th>\n",
       "    </tr>\n",
       "  </thead>\n",
       "  <tbody>\n",
       "    <tr>\n",
       "      <th>0</th>\n",
       "      <td>1</td>\n",
       "      <td>Male</td>\n",
       "      <td>19</td>\n",
       "      <td>15</td>\n",
       "      <td>39</td>\n",
       "    </tr>\n",
       "    <tr>\n",
       "      <th>1</th>\n",
       "      <td>2</td>\n",
       "      <td>Male</td>\n",
       "      <td>21</td>\n",
       "      <td>15</td>\n",
       "      <td>81</td>\n",
       "    </tr>\n",
       "    <tr>\n",
       "      <th>2</th>\n",
       "      <td>3</td>\n",
       "      <td>Female</td>\n",
       "      <td>20</td>\n",
       "      <td>16</td>\n",
       "      <td>6</td>\n",
       "    </tr>\n",
       "    <tr>\n",
       "      <th>3</th>\n",
       "      <td>4</td>\n",
       "      <td>Female</td>\n",
       "      <td>23</td>\n",
       "      <td>16</td>\n",
       "      <td>77</td>\n",
       "    </tr>\n",
       "    <tr>\n",
       "      <th>4</th>\n",
       "      <td>5</td>\n",
       "      <td>Female</td>\n",
       "      <td>31</td>\n",
       "      <td>17</td>\n",
       "      <td>40</td>\n",
       "    </tr>\n",
       "  </tbody>\n",
       "</table>\n",
       "</div>"
      ],
      "text/plain": [
       "   CustomerID  Gender  Age  Annual Income (k$)  Spending Score (1-100)\n",
       "0           1    Male   19                  15                      39\n",
       "1           2    Male   21                  15                      81\n",
       "2           3  Female   20                  16                       6\n",
       "3           4  Female   23                  16                      77\n",
       "4           5  Female   31                  17                      40"
      ]
     },
     "execution_count": 21,
     "metadata": {},
     "output_type": "execute_result"
    }
   ],
   "source": [
    "# Graph the Data on a scatter plot\n",
    "\n",
    "mall_data = pd.read_csv('Mall_Customers.csv')\n",
    "mall_data.head()"
   ]
  },
  {
   "cell_type": "code",
   "execution_count": 22,
   "id": "03d9e3c5-c22e-47f4-b02c-3b072288f5f0",
   "metadata": {
    "tags": []
   },
   "outputs": [
    {
     "data": {
      "image/png": "[encoded data removed]",
      "text/plain": [
       "<Figure size 1000x700 with 1 Axes>"
      ]
     },
     "metadata": {},
     "output_type": "display_data"
    }
   ],
   "source": [
    "# Graph the Data\n",
    "\n",
    "# Creating figure\n",
    "plt.figure(figsize = (10, 7))\n",
    "ax = plt.axes(projection =\"3d\")\n",
    " \n",
    "# Creating plot\n",
    "ax.scatter3D(mall_data['Age'], mall_data['Annual Income (k$)'], mall_data['Spending Score (1-100)'], color = \"green\")\n",
    "plt.title(\"simple 3D scatter plot\")\n",
    " \n",
    "# show plot\n",
    "plt.show()\n"
   ]
  },
  {
   "cell_type": "markdown",
   "id": "8b5a6df2-d960-4a4b-8fdf-cfb3197af33c",
   "metadata": {
    "tags": []
   },
   "source": [
    "## Scale the Data\n",
    "### This is not always necessary if you data is similar in scale\n",
    "\n",
    "### NOte: I chose not to scale the data since they are all relatively the same scale"
   ]
  },
  {
   "cell_type": "markdown",
   "id": "e27282bd-a780-4c8d-b315-f8d679e55c2f",
   "metadata": {},
   "source": [
    "## Encode the data\n",
    "\n",
    "### This is not always necessary if you do not have categorical data\n",
    "### You may have to do label, ordinal or one-hot encoding"
   ]
  },
  {
   "cell_type": "code",
   "execution_count": 23,
   "id": "e6797eac-b8e3-4581-beaf-7ce601968b60",
   "metadata": {
    "tags": []
   },
   "outputs": [
    {
     "data": {
      "text/html": [
       "<div>\n",
       "<style scoped>\n",
       "    .dataframe tbody tr th:only-of-type {\n",
       "        vertical-align: middle;\n",
       "    }\n",
       "\n",
       "    .dataframe tbody tr th {\n",
       "        vertical-align: top;\n",
       "    }\n",
       "\n",
       "    .dataframe thead th {\n",
       "        text-align: right;\n",
       "    }\n",
       "</style>\n",
       "<table border=\"1\" class=\"dataframe\">\n",
       "  <thead>\n",
       "    <tr style=\"text-align: right;\">\n",
       "      <th></th>\n",
       "      <th>CustomerID</th>\n",
       "      <th>Gender</th>\n",
       "      <th>Age</th>\n",
       "      <th>Annual Income (k$)</th>\n",
       "      <th>Spending Score (1-100)</th>\n",
       "    </tr>\n",
       "  </thead>\n",
       "  <tbody>\n",
       "    <tr>\n",
       "      <th>0</th>\n",
       "      <td>1</td>\n",
       "      <td>Male</td>\n",
       "      <td>19</td>\n",
       "      <td>15</td>\n",
       "      <td>39</td>\n",
       "    </tr>\n",
       "    <tr>\n",
       "      <th>1</th>\n",
       "      <td>2</td>\n",
       "      <td>Male</td>\n",
       "      <td>21</td>\n",
       "      <td>15</td>\n",
       "      <td>81</td>\n",
       "    </tr>\n",
       "    <tr>\n",
       "      <th>2</th>\n",
       "      <td>3</td>\n",
       "      <td>Female</td>\n",
       "      <td>20</td>\n",
       "      <td>16</td>\n",
       "      <td>6</td>\n",
       "    </tr>\n",
       "    <tr>\n",
       "      <th>3</th>\n",
       "      <td>4</td>\n",
       "      <td>Female</td>\n",
       "      <td>23</td>\n",
       "      <td>16</td>\n",
       "      <td>77</td>\n",
       "    </tr>\n",
       "    <tr>\n",
       "      <th>4</th>\n",
       "      <td>5</td>\n",
       "      <td>Female</td>\n",
       "      <td>31</td>\n",
       "      <td>17</td>\n",
       "      <td>40</td>\n",
       "    </tr>\n",
       "  </tbody>\n",
       "</table>\n",
       "</div>"
      ],
      "text/plain": [
       "   CustomerID  Gender  Age  Annual Income (k$)  Spending Score (1-100)\n",
       "0           1    Male   19                  15                      39\n",
       "1           2    Male   21                  15                      81\n",
       "2           3  Female   20                  16                       6\n",
       "3           4  Female   23                  16                      77\n",
       "4           5  Female   31                  17                      40"
      ]
     },
     "execution_count": 23,
     "metadata": {},
     "output_type": "execute_result"
    }
   ],
   "source": [
    "mall_data.head()"
   ]
  },
  {
   "cell_type": "code",
   "execution_count": 24,
   "id": "94ca8f39-a485-4566-8730-f98d9a458d10",
   "metadata": {
    "tags": []
   },
   "outputs": [],
   "source": [
    "# Here we will use SKLearn to encode each Male Female label to a 1 or 0\n",
    "\n",
    "labelencoder = LabelEncoder()\n",
    "mall_data['Gender'] = labelencoder.fit_transform(mall_data['Gender'])"
   ]
  },
  {
   "cell_type": "code",
   "execution_count": 25,
   "id": "5f9e613a-7dc8-49ad-8fde-291635ef93f2",
   "metadata": {
    "tags": []
   },
   "outputs": [
    {
     "data": {
      "text/html": [
       "<div>\n",
       "<style scoped>\n",
       "    .dataframe tbody tr th:only-of-type {\n",
       "        vertical-align: middle;\n",
       "    }\n",
       "\n",
       "    .dataframe tbody tr th {\n",
       "        vertical-align: top;\n",
       "    }\n",
       "\n",
       "    .dataframe thead th {\n",
       "        text-align: right;\n",
       "    }\n",
       "</style>\n",
       "<table border=\"1\" class=\"dataframe\">\n",
       "  <thead>\n",
       "    <tr style=\"text-align: right;\">\n",
       "      <th></th>\n",
       "      <th>CustomerID</th>\n",
       "      <th>Gender</th>\n",
       "      <th>Age</th>\n",
       "      <th>Annual Income (k$)</th>\n",
       "      <th>Spending Score (1-100)</th>\n",
       "    </tr>\n",
       "  </thead>\n",
       "  <tbody>\n",
       "    <tr>\n",
       "      <th>0</th>\n",
       "      <td>1</td>\n",
       "      <td>1</td>\n",
       "      <td>19</td>\n",
       "      <td>15</td>\n",
       "      <td>39</td>\n",
       "    </tr>\n",
       "    <tr>\n",
       "      <th>1</th>\n",
       "      <td>2</td>\n",
       "      <td>1</td>\n",
       "      <td>21</td>\n",
       "      <td>15</td>\n",
       "      <td>81</td>\n",
       "    </tr>\n",
       "    <tr>\n",
       "      <th>2</th>\n",
       "      <td>3</td>\n",
       "      <td>0</td>\n",
       "      <td>20</td>\n",
       "      <td>16</td>\n",
       "      <td>6</td>\n",
       "    </tr>\n",
       "    <tr>\n",
       "      <th>3</th>\n",
       "      <td>4</td>\n",
       "      <td>0</td>\n",
       "      <td>23</td>\n",
       "      <td>16</td>\n",
       "      <td>77</td>\n",
       "    </tr>\n",
       "    <tr>\n",
       "      <th>4</th>\n",
       "      <td>5</td>\n",
       "      <td>0</td>\n",
       "      <td>31</td>\n",
       "      <td>17</td>\n",
       "      <td>40</td>\n",
       "    </tr>\n",
       "  </tbody>\n",
       "</table>\n",
       "</div>"
      ],
      "text/plain": [
       "   CustomerID  Gender  Age  Annual Income (k$)  Spending Score (1-100)\n",
       "0           1       1   19                  15                      39\n",
       "1           2       1   21                  15                      81\n",
       "2           3       0   20                  16                       6\n",
       "3           4       0   23                  16                      77\n",
       "4           5       0   31                  17                      40"
      ]
     },
     "execution_count": 25,
     "metadata": {},
     "output_type": "execute_result"
    }
   ],
   "source": [
    "mall_data.head()"
   ]
  },
  {
   "cell_type": "markdown",
   "id": "31cd1f7a-e251-4621-af92-89165ceeee9f",
   "metadata": {},
   "source": [
    "## Drop un-necessary data"
   ]
  },
  {
   "cell_type": "code",
   "execution_count": 26,
   "id": "1ea41270-5863-4803-aab7-e5998fd4d098",
   "metadata": {
    "tags": []
   },
   "outputs": [],
   "source": [
    "# Drop the cusotmer ID column since it is not part of the cluster data\n",
    "\n",
    "mall_data_kmeans = mall_data.drop('CustomerID', axis=1)"
   ]
  },
  {
   "cell_type": "code",
   "execution_count": 27,
   "id": "cae29397-1ba7-47e6-8ca3-e931249b5882",
   "metadata": {
    "tags": []
   },
   "outputs": [
    {
     "data": {
      "text/html": [
       "<div>\n",
       "<style scoped>\n",
       "    .dataframe tbody tr th:only-of-type {\n",
       "        vertical-align: middle;\n",
       "    }\n",
       "\n",
       "    .dataframe tbody tr th {\n",
       "        vertical-align: top;\n",
       "    }\n",
       "\n",
       "    .dataframe thead th {\n",
       "        text-align: right;\n",
       "    }\n",
       "</style>\n",
       "<table border=\"1\" class=\"dataframe\">\n",
       "  <thead>\n",
       "    <tr style=\"text-align: right;\">\n",
       "      <th></th>\n",
       "      <th>Gender</th>\n",
       "      <th>Age</th>\n",
       "      <th>Annual Income (k$)</th>\n",
       "      <th>Spending Score (1-100)</th>\n",
       "    </tr>\n",
       "  </thead>\n",
       "  <tbody>\n",
       "    <tr>\n",
       "      <th>0</th>\n",
       "      <td>1</td>\n",
       "      <td>19</td>\n",
       "      <td>15</td>\n",
       "      <td>39</td>\n",
       "    </tr>\n",
       "    <tr>\n",
       "      <th>1</th>\n",
       "      <td>1</td>\n",
       "      <td>21</td>\n",
       "      <td>15</td>\n",
       "      <td>81</td>\n",
       "    </tr>\n",
       "    <tr>\n",
       "      <th>2</th>\n",
       "      <td>0</td>\n",
       "      <td>20</td>\n",
       "      <td>16</td>\n",
       "      <td>6</td>\n",
       "    </tr>\n",
       "    <tr>\n",
       "      <th>3</th>\n",
       "      <td>0</td>\n",
       "      <td>23</td>\n",
       "      <td>16</td>\n",
       "      <td>77</td>\n",
       "    </tr>\n",
       "    <tr>\n",
       "      <th>4</th>\n",
       "      <td>0</td>\n",
       "      <td>31</td>\n",
       "      <td>17</td>\n",
       "      <td>40</td>\n",
       "    </tr>\n",
       "  </tbody>\n",
       "</table>\n",
       "</div>"
      ],
      "text/plain": [
       "   Gender  Age  Annual Income (k$)  Spending Score (1-100)\n",
       "0       1   19                  15                      39\n",
       "1       1   21                  15                      81\n",
       "2       0   20                  16                       6\n",
       "3       0   23                  16                      77\n",
       "4       0   31                  17                      40"
      ]
     },
     "execution_count": 27,
     "metadata": {},
     "output_type": "execute_result"
    }
   ],
   "source": [
    "mall_data_kmeans.head()"
   ]
  },
  {
   "cell_type": "markdown",
   "id": "125d5795-e497-4150-91c0-724e926e49c3",
   "metadata": {},
   "source": [
    "# Data Preparation"
   ]
  },
  {
   "cell_type": "code",
   "execution_count": 28,
   "id": "a5db3364-3ad0-435f-ab98-9d7ca80eb258",
   "metadata": {
    "tags": []
   },
   "outputs": [],
   "source": [
    "# Shuffle and Split the data into 80% training and 20% validating\n",
    "\n",
    "train_data, test_data = train_test_split(mall_data_kmeans, test_size=0.2)\n",
    "\n",
    "# Convert dataframes to back to CSV files and save them locally to the notebook and make sure to exclude the headers so taht Linear Learner will accept the file\n",
    "\n",
    "train_data.to_csv('train.csv', header=False, index=False)\n",
    "test_data.to_csv('test.csv', header=False, index=False)"
   ]
  },
  {
   "cell_type": "code",
   "execution_count": 29,
   "id": "ebb02983-d7b7-45c3-a397-88f5f8372612",
   "metadata": {
    "tags": []
   },
   "outputs": [
    {
     "name": "stdout",
     "output_type": "stream",
     "text": [
      "s3://sagemaker-us-east-1-231015462399/Mall/input/train/train.csv\n",
      "s3://sagemaker-us-east-1-231015462399/Mall/input/test/test.csv\n",
      "s3://sagemaker-us-east-1-231015462399/Mall/output\n"
     ]
    }
   ],
   "source": [
    "# Copy the file to your S3 bucket using sess.upload_data\n",
    "# You will need to pass the file to be uploaded, a prefix (top level folder to store the data) and the subfolders\n",
    "# Here we will also define the output folder for the results\n",
    "\n",
    "prefix = 'Mall'\n",
    "training_data_path = sess.upload_data( path='train.csv', key_prefix=prefix + '/input/train') \n",
    "testing_data_path = sess.upload_data( path='test.csv', key_prefix=prefix + '/input/test')\n",
    "output_data_path = 's3://{}/{}/output'.format(bucket, prefix)\n",
    "print(training_data_path)\n",
    "print(testing_data_path)\n",
    "print(output_data_path)"
   ]
  },
  {
   "cell_type": "code",
   "execution_count": 30,
   "id": "830b47c7-3c94-4669-9ff8-7e66ee6bad62",
   "metadata": {
    "tags": []
   },
   "outputs": [],
   "source": [
    "# Creating a channel from the S3 data source and file system\n",
    "# TrainingInput documentation https://sagemaker.readthedocs.io/en/stable/api/utility/inputs.html\n",
    "\n",
    "from sagemaker import TrainingInput \n",
    "training_data_channel = TrainingInput( s3_data=training_data_path, content_type='text/csv') \n",
    "testing_data_channel = TrainingInput( s3_data=testing_data_path,   content_type='text/csv')"
   ]
  },
  {
   "cell_type": "markdown",
   "id": "dc10be9f-0583-4c23-980b-788d449bcdb5",
   "metadata": {},
   "source": [
    "# Train the Model with different versions of K and plot the SSEs in an elbow plot to Determine K"
   ]
  },
  {
   "cell_type": "code",
   "execution_count": 31,
   "id": "b8fd6300-8169-4ab7-9e8f-465e043ab7fe",
   "metadata": {
    "tags": []
   },
   "outputs": [
    {
     "name": "stderr",
     "output_type": "stream",
     "text": [
      "The method get_image_uri has been renamed in sagemaker>=2.\n",
      "See: https://sagemaker.readthedocs.io/en/stable/v2.html for details.\n"
     ]
    },
    {
     "name": "stdout",
     "output_type": "stream",
     "text": [
      "starting train job:2\n",
      "training artifacts will be uploaded to: s3://sagemaker-us-east-1-231015462399/Mall/kmeans-k-discovery/output/kmeans-k-discovery-2023-03-20-13-20-29\n",
      "InProgress\n",
      "starting train job:3\n",
      "training artifacts will be uploaded to: s3://sagemaker-us-east-1-231015462399/Mall/kmeans-k-discovery/output/kmeans-k-discovery-2023-03-20-13-20-29\n",
      "InProgress\n",
      "starting train job:4\n",
      "training artifacts will be uploaded to: s3://sagemaker-us-east-1-231015462399/Mall/kmeans-k-discovery/output/kmeans-k-discovery-2023-03-20-13-20-29\n",
      "InProgress\n",
      "starting train job:5\n",
      "training artifacts will be uploaded to: s3://sagemaker-us-east-1-231015462399/Mall/kmeans-k-discovery/output/kmeans-k-discovery-2023-03-20-13-20-29\n",
      "InProgress\n",
      "starting train job:6\n",
      "training artifacts will be uploaded to: s3://sagemaker-us-east-1-231015462399/Mall/kmeans-k-discovery/output/kmeans-k-discovery-2023-03-20-13-20-29\n",
      "InProgress\n",
      "starting train job:7\n",
      "training artifacts will be uploaded to: s3://sagemaker-us-east-1-231015462399/Mall/kmeans-k-discovery/output/kmeans-k-discovery-2023-03-20-13-20-29\n",
      "InProgress\n",
      "starting train job:8\n",
      "training artifacts will be uploaded to: s3://sagemaker-us-east-1-231015462399/Mall/kmeans-k-discovery/output/kmeans-k-discovery-2023-03-20-13-20-29\n",
      "InProgress\n",
      "starting train job:9\n",
      "training artifacts will be uploaded to: s3://sagemaker-us-east-1-231015462399/Mall/kmeans-k-discovery/output/kmeans-k-discovery-2023-03-20-13-20-29\n",
      "InProgress\n",
      "starting train job:10\n",
      "training artifacts will be uploaded to: s3://sagemaker-us-east-1-231015462399/Mall/kmeans-k-discovery/output/kmeans-k-discovery-2023-03-20-13-20-29\n",
      "InProgress\n",
      "starting train job:11\n",
      "training artifacts will be uploaded to: s3://sagemaker-us-east-1-231015462399/Mall/kmeans-k-discovery/output/kmeans-k-discovery-2023-03-20-13-20-29\n",
      "InProgress\n"
     ]
    }
   ],
   "source": [
    "from time import gmtime, strftime\n",
    "\n",
    "from sagemaker.amazon.amazon_estimator import get_image_uri\n",
    "\n",
    "# gets the K-Means docker image from AWS\n",
    "image = get_image_uri(boto3.Session().region_name, 'kmeans')\n",
    "\n",
    "data_location = training_data_path\n",
    "output_location = output_data_path\n",
    "test_location = testing_data_path\n",
    "\n",
    "output_time = strftime(\"%Y-%m-%d-%H-%M-%S\", gmtime())\n",
    "output_folder = 'kmeans-k-discovery-' + output_time\n",
    "K = range(2, 12) # change the range to be used for k\n",
    "INSTANCE_COUNT = 2\n",
    "run_parallel_jobs = True \n",
    "\n",
    "job_names = []\n",
    "\n",
    "# launching jobs for all k\n",
    "for k in K:\n",
    "    print('starting train job:' + str(k))\n",
    "    output_location = 's3://{}/Mall/kmeans-k-discovery/output/'.format(bucket) + output_folder\n",
    "    print('training artifacts will be uploaded to: {}'.format(output_location))\n",
    "    job_name = output_folder + str(k)\n",
    "\n",
    "    create_training_params = \\\n",
    "    {\n",
    "        \"AlgorithmSpecification\": {\n",
    "            \"TrainingImage\": image,\n",
    "            \"TrainingInputMode\": \"File\"\n",
    "        },\n",
    "        \"RoleArn\": role,\n",
    "        \"OutputDataConfig\": {\n",
    "            \"S3OutputPath\": output_location\n",
    "        },\n",
    "        \"ResourceConfig\": {\n",
    "            \"InstanceCount\": INSTANCE_COUNT,\n",
    "            \"InstanceType\": \"ml.m5.large\",\n",
    "            \"VolumeSizeInGB\": 50\n",
    "        },\n",
    "        \"TrainingJobName\": job_name,\n",
    "        \"HyperParameters\": {\n",
    "            \"k\": str(k),\n",
    "            \"feature_dim\": \"4\", # change to the correct number of features\n",
    "            \"mini_batch_size\": \"1000\"\n",
    "        },\n",
    "        \"StoppingCondition\": {\n",
    "            \"MaxRuntimeInSeconds\": 60 * 60\n",
    "        },\n",
    "                'InputDataConfig': [\n",
    "            {\n",
    "                'ChannelName': 'train',\n",
    "                'DataSource': {\n",
    "                    'S3DataSource': {\n",
    "                        'S3DataType': 'S3Prefix',\n",
    "                        'S3Uri': data_location,\n",
    "                        'S3DataDistributionType': 'FullyReplicated'\n",
    "                    }\n",
    "                },\n",
    "                'ContentType': 'text/csv;label_size=0'\n",
    "            },\n",
    "            \n",
    "            {\n",
    "                'ChannelName': 'test',\n",
    "                'DataSource': {\n",
    "                    'S3DataSource': {\n",
    "                        'S3DataType': 'S3Prefix',\n",
    "                        'S3Uri': test_location,\n",
    "                        'S3DataDistributionType': 'FullyReplicated'\n",
    "                    }\n",
    "                },\n",
    "                'ContentType': 'text/csv;label_size=0'\n",
    "            },\n",
    "        ]\n",
    "    }\n",
    "\n",
    "    sagemaker = boto3.client('sagemaker')\n",
    "\n",
    "    sagemaker.create_training_job(**create_training_params)\n",
    "\n",
    "    status = sagemaker.describe_training_job(TrainingJobName=job_name)['TrainingJobStatus']\n",
    "    print(status)\n",
    "    \n",
    "    job_names.append(job_name)"
   ]
  },
  {
   "cell_type": "code",
   "execution_count": 32,
   "id": "f913dcfa-7326-4b21-a58f-54153f5e899f",
   "metadata": {
    "tags": []
   },
   "outputs": [
    {
     "name": "stdout",
     "output_type": "stream",
     "text": [
      "Training job ended with status: Completed\n",
      "Training job ended with status: Completed\n",
      "Training job ended with status: Completed\n",
      "Training job ended with status: Completed\n",
      "Training job ended with status: Completed\n",
      "Training job ended with status: Completed\n",
      "Training job ended with status: Completed\n",
      "Training job ended with status: Completed\n",
      "Training job ended with status: Completed\n",
      "Training job ended with status: Completed\n"
     ]
    }
   ],
   "source": [
    "# Collect the name of each of the jobs\n",
    "\n",
    "\n",
    "while len(job_names):\n",
    "    try:\n",
    "        sagemaker.get_waiter('training_job_completed_or_stopped').wait(TrainingJobName=job_names[0])\n",
    "    finally:\n",
    "        status = sagemaker.describe_training_job(TrainingJobName=job_name)['TrainingJobStatus']\n",
    "        print(\"Training job ended with status: \" + status)\n",
    "        if status == 'Failed':\n",
    "            message = sagemaker.describe_training_job(TrainingJobName=job_name)['FailureReason']\n",
    "            print('Training failed with the following error: {}'.format(message))\n",
    "            raise Exception('Training job failed')\n",
    "\n",
    "    info = sagemaker.describe_training_job(TrainingJobName=job_name)\n",
    "    job_names.pop(0)"
   ]
  },
  {
   "cell_type": "markdown",
   "id": "cee344ca-aef6-449a-bdd9-ca108e89533a",
   "metadata": {},
   "source": [
    "## Plot your elbow graph to determine the right value of K"
   ]
  },
  {
   "cell_type": "code",
   "execution_count": 34,
   "id": "ab82ef6a-635c-47d1-9539-6c333ad861ab",
   "metadata": {
    "tags": []
   },
   "outputs": [
    {
     "name": "stdout",
     "output_type": "stream",
     "text": [
      "Model for k=2 (Mall/kmeans-k-discovery/output/kmeans-k-discovery-2023-03-20-13-20-29/kmeans-k-discovery-2023-03-20-13-20-292/output/model.tar.gz)\n",
      "model_algo-1\n",
      "Model for k=3 (Mall/kmeans-k-discovery/output/kmeans-k-discovery-2023-03-20-13-20-29/kmeans-k-discovery-2023-03-20-13-20-293/output/model.tar.gz)\n",
      "model_algo-1\n",
      "Model for k=4 (Mall/kmeans-k-discovery/output/kmeans-k-discovery-2023-03-20-13-20-29/kmeans-k-discovery-2023-03-20-13-20-294/output/model.tar.gz)\n",
      "model_algo-1\n",
      "Model for k=5 (Mall/kmeans-k-discovery/output/kmeans-k-discovery-2023-03-20-13-20-29/kmeans-k-discovery-2023-03-20-13-20-295/output/model.tar.gz)\n",
      "model_algo-1\n",
      "Model for k=6 (Mall/kmeans-k-discovery/output/kmeans-k-discovery-2023-03-20-13-20-29/kmeans-k-discovery-2023-03-20-13-20-296/output/model.tar.gz)\n",
      "model_algo-1\n",
      "Model for k=7 (Mall/kmeans-k-discovery/output/kmeans-k-discovery-2023-03-20-13-20-29/kmeans-k-discovery-2023-03-20-13-20-297/output/model.tar.gz)\n",
      "model_algo-1\n",
      "Model for k=8 (Mall/kmeans-k-discovery/output/kmeans-k-discovery-2023-03-20-13-20-29/kmeans-k-discovery-2023-03-20-13-20-298/output/model.tar.gz)\n",
      "model_algo-1\n",
      "Model for k=9 (Mall/kmeans-k-discovery/output/kmeans-k-discovery-2023-03-20-13-20-29/kmeans-k-discovery-2023-03-20-13-20-299/output/model.tar.gz)\n",
      "model_algo-1\n",
      "Model for k=10 (Mall/kmeans-k-discovery/output/kmeans-k-discovery-2023-03-20-13-20-29/kmeans-k-discovery-2023-03-20-13-20-2910/output/model.tar.gz)\n",
      "model_algo-1\n",
      "Model for k=11 (Mall/kmeans-k-discovery/output/kmeans-k-discovery-2023-03-20-13-20-29/kmeans-k-discovery-2023-03-20-13-20-2911/output/model.tar.gz)\n",
      "model_algo-1\n"
     ]
    },
    {
     "data": {
      "image/png": "[encoded data removed]",
      "text/plain": [
       "<Figure size 640x480 with 1 Axes>"
      ]
     },
     "metadata": {},
     "output_type": "display_data"
    }
   ],
   "source": [
    "import numpy as np\n",
    "from scipy.spatial.distance import cdist\n",
    "\n",
    "plt.plot()\n",
    "colors = ['b', 'g', 'r']\n",
    "markers = ['o', 'v', 's']\n",
    "models = {}\n",
    "distortions = []\n",
    "for k in K:\n",
    "    s3_client = boto3.client('s3')\n",
    "    key = 'Mall/kmeans-k-discovery/output/' + output_folder +'/' + output_folder + str(k) + '/output/model.tar.gz'\n",
    "    s3_client.download_file(bucket, key, 'model.tar.gz')\n",
    "    print(\"Model for k={} ({})\".format(k, key))\n",
    "    !tar -xvf model.tar.gz                       \n",
    "    kmeans_model=mx.ndarray.load('model_algo-1')\n",
    "    kmeans_numpy = kmeans_model[0].asnumpy()\n",
    "    distortions.append(sum(np.min(cdist(train_data, kmeans_numpy, 'euclidean'), axis=1)) / train_data.shape[0])\n",
    "    models[k] = kmeans_numpy\n",
    " \n",
    "# Plot the elbow\n",
    "plt.plot(K, distortions, 'bx-')\n",
    "plt.xlabel('k')\n",
    "plt.ylabel('Sum of squared error')\n",
    "plt.title('Elbow graph')\n",
    "x_labels = [2, 3, 4, 5, 6, 7, 8, 9, 10, 11] \n",
    "plt.xticks(ticks=x_labels, labels=x_labels)\n",
    "plt.grid()\n",
    "plt.show()"
   ]
  },
  {
   "cell_type": "code",
   "execution_count": 35,
   "id": "b33a3ae3-def9-4c29-9299-525d878b1c04",
   "metadata": {
    "tags": []
   },
   "outputs": [],
   "source": [
    "# Enter your value for K that you will use for the hyperparameter tuning job\n",
    "\n",
    "k = \"3\""
   ]
  },
  {
   "cell_type": "code",
   "execution_count": 37,
   "id": "dd4120fe-39ca-4111-9eb9-ceb52f59fe06",
   "metadata": {
    "tags": []
   },
   "outputs": [
    {
     "name": "stdout",
     "output_type": "stream",
     "text": [
      "InProgress\n",
      "Number of jobs completed 0\n",
      "InProgress\n",
      "Number of jobs completed 0\n",
      "InProgress\n",
      "Number of jobs completed 0\n",
      "InProgress\n",
      "Number of jobs completed 0\n",
      "InProgress\n",
      "Number of jobs completed 0\n",
      "InProgress\n",
      "Number of jobs completed 2\n",
      "InProgress\n",
      "Number of jobs completed 3\n",
      "InProgress\n",
      "Number of jobs completed 3\n",
      "InProgress\n",
      "Number of jobs completed 4\n",
      "InProgress\n",
      "Number of jobs completed 5\n",
      "Completed\n",
      "Number of jobs completed 7\n"
     ]
    }
   ],
   "source": [
    "# https://docs.aws.amazon.com/sagemaker/latest/dg/k-means-tuning.html\n",
    "\n",
    "tuning_job_name = \"mall-data\" + strftime(\"%Y-%m-%d-%H-%M-%S\", gmtime())\n",
    "\n",
    "\n",
    "data_location = training_data_path\n",
    "output_location = output_data_path\n",
    "test_location = testing_data_path\n",
    "\n",
    "sagemaker = boto3.client('sagemaker')\n",
    "\n",
    "response = sagemaker.create_hyper_parameter_tuning_job(\n",
    "    HyperParameterTuningJobName= tuning_job_name,\n",
    "    HyperParameterTuningJobConfig={\n",
    "        'Strategy': 'Bayesian',\n",
    "        'HyperParameterTuningJobObjective': {\n",
    "            'Type': 'Minimize',\n",
    "            'MetricName': 'test:ssd'\n",
    "        },\n",
    "        'ResourceLimits': {\n",
    "            'MaxNumberOfTrainingJobs': 10,\n",
    "            'MaxParallelTrainingJobs': 2\n",
    "        },\n",
    "        'ParameterRanges': {\n",
    "            'IntegerParameterRanges': [\n",
    "                {\n",
    "                    'Name': 'mini_batch_size',\n",
    "                    'MinValue': '3000',\n",
    "                    'MaxValue': '15000'\n",
    "                },\n",
    "            ],\n",
    "            'CategoricalParameterRanges': [\n",
    "                {\n",
    "                    'Name': 'init_method',\n",
    "                    'Values': [\n",
    "                        'kmeans++', 'random'\n",
    "                    ]\n",
    "                },\n",
    "            ]\n",
    "        },\n",
    "        'TrainingJobEarlyStoppingType' : 'Auto'\n",
    "    },\n",
    "    TrainingJobDefinition={\n",
    "        'StaticHyperParameters': {\n",
    "            'k': k,\n",
    "            'feature_dim': '4', #CHANGE TO MATCH YOUR NUMBER OF FEATURES\n",
    "        },\n",
    "        'AlgorithmSpecification': {\n",
    "            'TrainingImage': image,\n",
    "            'TrainingInputMode': 'File'\n",
    "        },\n",
    "        'RoleArn': role,\n",
    "        'InputDataConfig': [\n",
    "            {\n",
    "                'ChannelName': 'train',\n",
    "                'DataSource': {\n",
    "                    'S3DataSource': {\n",
    "                        'S3DataType': 'S3Prefix',\n",
    "                        'S3Uri': data_location,\n",
    "                        'S3DataDistributionType': 'FullyReplicated'\n",
    "                    }\n",
    "                },\n",
    "                'ContentType': 'text/csv;label_size=0'\n",
    "            },\n",
    "            \n",
    "            {\n",
    "                'ChannelName': 'test',\n",
    "                'DataSource': {\n",
    "                    'S3DataSource': {\n",
    "                        'S3DataType': 'S3Prefix',\n",
    "                        'S3Uri': test_location,\n",
    "                        'S3DataDistributionType': 'FullyReplicated'\n",
    "                    }\n",
    "                },\n",
    "                'ContentType': 'text/csv;label_size=0'\n",
    "            },\n",
    "        ],\n",
    "        'OutputDataConfig': {\n",
    "                'S3OutputPath': output_location\n",
    "        },\n",
    "        'ResourceConfig': {\n",
    "            'InstanceType': 'ml.m4.xlarge',\n",
    "            'InstanceCount': 1,\n",
    "            'VolumeSizeInGB': 50\n",
    "        },\n",
    "        'StoppingCondition': {\n",
    "            'MaxRuntimeInSeconds': 60 * 60\n",
    "        }\n",
    "    }\n",
    ")\n",
    "\n",
    "\n",
    "tuning_job_result = sagemaker.describe_hyper_parameter_tuning_job(\n",
    "HyperParameterTuningJobName=tuning_job_name\n",
    ")\n",
    "\n",
    "status = tuning_job_result[\"HyperParameterTuningJobStatus\"]\n",
    "\n",
    "while status != \"Completed\":\n",
    "    tuning_job_result = sagemaker.describe_hyper_parameter_tuning_job(\n",
    "    HyperParameterTuningJobName=tuning_job_name\n",
    "    )\n",
    "    status = tuning_job_result[\"HyperParameterTuningJobStatus\"]\n",
    "    print(status)\n",
    "\n",
    "    job_count = tuning_job_result[\"TrainingJobStatusCounters\"][\"Completed\"]\n",
    "    print(\"Number of jobs completed\", job_count)\n",
    "    \n",
    "    time.sleep(60)\n",
    "\n",
    "objective = tuning_job_result[\"HyperParameterTuningJobConfig\"][\"HyperParameterTuningJobObjective\"]\n",
    "is_minimize = objective[\"Type\"] != \"Maximize\"\n",
    "objective_name = objective[\"MetricName\"]\n"
   ]
  },
  {
   "cell_type": "code",
   "execution_count": 38,
   "id": "d258dcd3-3554-4eb7-adb7-f6f47b805b02",
   "metadata": {
    "tags": []
   },
   "outputs": [],
   "source": [
    "# Grab the details from each job https://docs.aws.amazon.com/sagemaker/latest/APIReference/API_DescribeHyperParameterTuningJob.html\n",
    "\n",
    "tuning_job_result = sagemaker.describe_hyper_parameter_tuning_job(\n",
    "HyperParameterTuningJobName=tuning_job_name\n",
    ")\n",
    "\n",
    "status = tuning_job_result[\"HyperParameterTuningJobStatus\"]\n",
    "\n",
    "while status != \"Completed\":\n",
    "    tuning_job_result = sagemaker.describe_hyper_parameter_tuning_job(\n",
    "    HyperParameterTuningJobName=tuning_job_name\n",
    "    )\n",
    "    status = tuning_job_result[\"HyperParameterTuningJobStatus\"]\n",
    "    print(status)\n",
    "\n",
    "    job_count = tuning_job_result[\"TrainingJobStatusCounters\"][\"Completed\"]\n",
    "    print(\"Number of jobs completed\", job_count)\n",
    "    \n",
    "    time.sleep(60)\n",
    "\n",
    "objective = tuning_job_result[\"HyperParameterTuningJobConfig\"][\"HyperParameterTuningJobObjective\"]\n",
    "is_minimize = objective[\"Type\"] != \"Maximize\"\n",
    "objective_name = objective[\"MetricName\"]\n"
   ]
  },
  {
   "cell_type": "code",
   "execution_count": 40,
   "id": "e3eec7dc-57b7-4f81-bd90-5e17c418871e",
   "metadata": {
    "tags": []
   },
   "outputs": [
    {
     "name": "stdout",
     "output_type": "stream",
     "text": [
      "Number of training jobs with valid objective: 10\n",
      "{'lowest': 25737.27734375, 'highest': 59192.8828125}\n"
     ]
    },
    {
     "data": {
      "text/html": [
       "<div>\n",
       "<style scoped>\n",
       "    .dataframe tbody tr th:only-of-type {\n",
       "        vertical-align: middle;\n",
       "    }\n",
       "\n",
       "    .dataframe tbody tr th {\n",
       "        vertical-align: top;\n",
       "    }\n",
       "\n",
       "    .dataframe thead th {\n",
       "        text-align: right;\n",
       "    }\n",
       "</style>\n",
       "<table border=\"1\" class=\"dataframe\">\n",
       "  <thead>\n",
       "    <tr style=\"text-align: right;\">\n",
       "      <th></th>\n",
       "      <th>init_method</th>\n",
       "      <th>mini_batch_size</th>\n",
       "      <th>TrainingJobName</th>\n",
       "      <th>TrainingJobStatus</th>\n",
       "      <th>FinalObjectiveValue</th>\n",
       "      <th>TrainingStartTime</th>\n",
       "      <th>TrainingEndTime</th>\n",
       "      <th>TrainingElapsedTimeSeconds</th>\n",
       "    </tr>\n",
       "  </thead>\n",
       "  <tbody>\n",
       "    <tr>\n",
       "      <th>2</th>\n",
       "      <td>random</td>\n",
       "      <td>3132.0</td>\n",
       "      <td>mall-data2023-03-20-13-45-31-008-978f1722</td>\n",
       "      <td>Completed</td>\n",
       "      <td>25737.277344</td>\n",
       "      <td>2023-03-20 13:52:20+00:00</td>\n",
       "      <td>2023-03-20 13:52:51+00:00</td>\n",
       "      <td>31.0</td>\n",
       "    </tr>\n",
       "    <tr>\n",
       "      <th>8</th>\n",
       "      <td>random</td>\n",
       "      <td>6949.0</td>\n",
       "      <td>mall-data2023-03-20-13-45-31-002-8ccd7374</td>\n",
       "      <td>Completed</td>\n",
       "      <td>25984.943359</td>\n",
       "      <td>2023-03-20 13:47:32+00:00</td>\n",
       "      <td>2023-03-20 13:49:50+00:00</td>\n",
       "      <td>138.0</td>\n",
       "    </tr>\n",
       "    <tr>\n",
       "      <th>5</th>\n",
       "      <td>random</td>\n",
       "      <td>7000.0</td>\n",
       "      <td>mall-data2023-03-20-13-45-31-005-1ee4e2ae</td>\n",
       "      <td>Completed</td>\n",
       "      <td>26208.175781</td>\n",
       "      <td>2023-03-20 13:52:25+00:00</td>\n",
       "      <td>2023-03-20 13:54:42+00:00</td>\n",
       "      <td>137.0</td>\n",
       "    </tr>\n",
       "    <tr>\n",
       "      <th>9</th>\n",
       "      <td>random</td>\n",
       "      <td>3806.0</td>\n",
       "      <td>mall-data2023-03-20-13-45-31-001-f774e584</td>\n",
       "      <td>Completed</td>\n",
       "      <td>26786.119141</td>\n",
       "      <td>2023-03-20 13:47:23+00:00</td>\n",
       "      <td>2023-03-20 13:49:35+00:00</td>\n",
       "      <td>132.0</td>\n",
       "    </tr>\n",
       "    <tr>\n",
       "      <th>1</th>\n",
       "      <td>random</td>\n",
       "      <td>7806.0</td>\n",
       "      <td>mall-data2023-03-20-13-45-31-009-add82be3</td>\n",
       "      <td>Completed</td>\n",
       "      <td>27059.718750</td>\n",
       "      <td>2023-03-20 13:53:08+00:00</td>\n",
       "      <td>2023-03-20 13:53:40+00:00</td>\n",
       "      <td>32.0</td>\n",
       "    </tr>\n",
       "    <tr>\n",
       "      <th>4</th>\n",
       "      <td>random</td>\n",
       "      <td>15000.0</td>\n",
       "      <td>mall-data2023-03-20-13-45-31-006-481022ca</td>\n",
       "      <td>Completed</td>\n",
       "      <td>39560.500000</td>\n",
       "      <td>2023-03-20 13:50:50+00:00</td>\n",
       "      <td>2023-03-20 13:51:21+00:00</td>\n",
       "      <td>31.0</td>\n",
       "    </tr>\n",
       "    <tr>\n",
       "      <th>3</th>\n",
       "      <td>random</td>\n",
       "      <td>5724.0</td>\n",
       "      <td>mall-data2023-03-20-13-45-31-007-1e97a37b</td>\n",
       "      <td>Stopped</td>\n",
       "      <td>40689.171875</td>\n",
       "      <td>2023-03-20 13:51:38+00:00</td>\n",
       "      <td>2023-03-20 13:52:08+00:00</td>\n",
       "      <td>30.0</td>\n",
       "    </tr>\n",
       "    <tr>\n",
       "      <th>0</th>\n",
       "      <td>random</td>\n",
       "      <td>7302.0</td>\n",
       "      <td>mall-data2023-03-20-13-45-31-010-2c0869b0</td>\n",
       "      <td>Completed</td>\n",
       "      <td>41091.824219</td>\n",
       "      <td>2023-03-20 13:53:57+00:00</td>\n",
       "      <td>2023-03-20 13:54:33+00:00</td>\n",
       "      <td>36.0</td>\n",
       "    </tr>\n",
       "    <tr>\n",
       "      <th>6</th>\n",
       "      <td>kmeans++</td>\n",
       "      <td>9082.0</td>\n",
       "      <td>mall-data2023-03-20-13-45-31-004-049efa66</td>\n",
       "      <td>Stopped</td>\n",
       "      <td>59192.882812</td>\n",
       "      <td>2023-03-20 13:50:13+00:00</td>\n",
       "      <td>2023-03-20 13:50:39+00:00</td>\n",
       "      <td>26.0</td>\n",
       "    </tr>\n",
       "    <tr>\n",
       "      <th>7</th>\n",
       "      <td>kmeans++</td>\n",
       "      <td>6829.0</td>\n",
       "      <td>mall-data2023-03-20-13-45-31-003-9f67a696</td>\n",
       "      <td>Stopped</td>\n",
       "      <td>59192.882812</td>\n",
       "      <td>2023-03-20 13:50:11+00:00</td>\n",
       "      <td>2023-03-20 13:50:35+00:00</td>\n",
       "      <td>24.0</td>\n",
       "    </tr>\n",
       "  </tbody>\n",
       "</table>\n",
       "</div>"
      ],
      "text/plain": [
       "  init_method  mini_batch_size                            TrainingJobName  \\\n",
       "2      random           3132.0  mall-data2023-03-20-13-45-31-008-978f1722   \n",
       "8      random           6949.0  mall-data2023-03-20-13-45-31-002-8ccd7374   \n",
       "5      random           7000.0  mall-data2023-03-20-13-45-31-005-1ee4e2ae   \n",
       "9      random           3806.0  mall-data2023-03-20-13-45-31-001-f774e584   \n",
       "1      random           7806.0  mall-data2023-03-20-13-45-31-009-add82be3   \n",
       "4      random          15000.0  mall-data2023-03-20-13-45-31-006-481022ca   \n",
       "3      random           5724.0  mall-data2023-03-20-13-45-31-007-1e97a37b   \n",
       "0      random           7302.0  mall-data2023-03-20-13-45-31-010-2c0869b0   \n",
       "6    kmeans++           9082.0  mall-data2023-03-20-13-45-31-004-049efa66   \n",
       "7    kmeans++           6829.0  mall-data2023-03-20-13-45-31-003-9f67a696   \n",
       "\n",
       "  TrainingJobStatus  FinalObjectiveValue         TrainingStartTime  \\\n",
       "2         Completed         25737.277344 2023-03-20 13:52:20+00:00   \n",
       "8         Completed         25984.943359 2023-03-20 13:47:32+00:00   \n",
       "5         Completed         26208.175781 2023-03-20 13:52:25+00:00   \n",
       "9         Completed         26786.119141 2023-03-20 13:47:23+00:00   \n",
       "1         Completed         27059.718750 2023-03-20 13:53:08+00:00   \n",
       "4         Completed         39560.500000 2023-03-20 13:50:50+00:00   \n",
       "3           Stopped         40689.171875 2023-03-20 13:51:38+00:00   \n",
       "0         Completed         41091.824219 2023-03-20 13:53:57+00:00   \n",
       "6           Stopped         59192.882812 2023-03-20 13:50:13+00:00   \n",
       "7           Stopped         59192.882812 2023-03-20 13:50:11+00:00   \n",
       "\n",
       "            TrainingEndTime  TrainingElapsedTimeSeconds  \n",
       "2 2023-03-20 13:52:51+00:00                        31.0  \n",
       "8 2023-03-20 13:49:50+00:00                       138.0  \n",
       "5 2023-03-20 13:54:42+00:00                       137.0  \n",
       "9 2023-03-20 13:49:35+00:00                       132.0  \n",
       "1 2023-03-20 13:53:40+00:00                        32.0  \n",
       "4 2023-03-20 13:51:21+00:00                        31.0  \n",
       "3 2023-03-20 13:52:08+00:00                        30.0  \n",
       "0 2023-03-20 13:54:33+00:00                        36.0  \n",
       "6 2023-03-20 13:50:39+00:00                        26.0  \n",
       "7 2023-03-20 13:50:35+00:00                        24.0  "
      ]
     },
     "execution_count": 40,
     "metadata": {},
     "output_type": "execute_result"
    }
   ],
   "source": [
    "# Print out the jobs sorted by the lowest SSE \"FinalObjectiveValue\"\n",
    "import sagemaker \n",
    "\n",
    "tuner = sagemaker.HyperparameterTuningJobAnalytics(tuning_job_name)\n",
    "\n",
    "full_df = tuner.dataframe()\n",
    "\n",
    "if len(full_df) > 0:\n",
    "    df = full_df[full_df[\"FinalObjectiveValue\"] > -float(\"inf\")]\n",
    "    if len(df) > 0:\n",
    "        df = df.sort_values(\"FinalObjectiveValue\", ascending=is_minimize)\n",
    "        print(\"Number of training jobs with valid objective: %d\" % len(df))\n",
    "        print({\"lowest\": min(df[\"FinalObjectiveValue\"]), \"highest\": max(df[\"FinalObjectiveValue\"])})\n",
    "        pd.set_option(\"display.max_colwidth\", None)  # Don't truncate TrainingJobName\n",
    "    else:\n",
    "        print(\"No training jobs have reported valid results yet.\")\n",
    "\n",
    "df"
   ]
  },
  {
   "cell_type": "code",
   "execution_count": 41,
   "id": "aa058472-21c5-4bfc-8557-85492abbab8f",
   "metadata": {
    "tags": []
   },
   "outputs": [],
   "source": [
    "# Store the best tuning job\n",
    "\n",
    "job_name = tuning_job_result[\"BestTrainingJob\"][\"TrainingJobName\"]"
   ]
  },
  {
   "cell_type": "markdown",
   "id": "2ef98417-c1ec-42a8-8e3e-21d0d66d6854",
   "metadata": {},
   "source": [
    "## Make Inferences"
   ]
  },
  {
   "cell_type": "markdown",
   "id": "143e548f-58e8-4e78-8366-93cc02deb3c0",
   "metadata": {},
   "source": [
    "### Deploy the Model"
   ]
  },
  {
   "cell_type": "code",
   "execution_count": 50,
   "id": "1a1013a6-34b7-4db1-8093-ffaaa2faed6b",
   "metadata": {
    "tags": []
   },
   "outputs": [
    {
     "name": "stdout",
     "output_type": "stream",
     "text": [
      "mall-data2023-03-20-13-45-31-008-978f1722\n",
      "arn:aws:sagemaker:us-east-1:231015462399:model/mall-data2023-03-20-13-45-31-008-978f1722\n"
     ]
    }
   ],
   "source": [
    "sagemaker = boto3.client('sagemaker')\n",
    "\n",
    "\n",
    "model_name = job_name\n",
    "print(model_name)\n",
    "\n",
    "info = sagemaker.describe_training_job(TrainingJobName=job_name)\n",
    "model_data = info[\"ModelArtifacts\"][\"S3ModelArtifacts\"]\n",
    "\n",
    "primary_container = {\"Image\": image, \"ModelDataUrl\": model_data}\n",
    "\n",
    "create_model_response = sagemaker.create_model(\n",
    "    ModelName=model_name, ExecutionRoleArn=role, PrimaryContainer=primary_container\n",
    ")\n",
    "\n",
    "print(create_model_response[\"ModelArn\"])"
   ]
  },
  {
   "cell_type": "markdown",
   "id": "6dd2b472-39ff-474a-aa06-aa076334c8d9",
   "metadata": {},
   "source": [
    "### Deploy the Endpoint Config"
   ]
  },
  {
   "cell_type": "code",
   "execution_count": 51,
   "id": "71dec20f-656f-4923-b449-fda91d9e871e",
   "metadata": {
    "tags": []
   },
   "outputs": [
    {
     "name": "stdout",
     "output_type": "stream",
     "text": [
      "Mall-Data-epc-2023-03-20-14-07-53\n",
      "Endpoint Config Arn: arn:aws:sagemaker:us-east-1:231015462399:endpoint-config/mall-data-epc-2023-03-20-14-07-53\n"
     ]
    }
   ],
   "source": [
    "endpoint_config_name = \"Mall-Data-epc-\" + strftime(\"%Y-%m-%d-%H-%M-%S\", gmtime())\n",
    "print(endpoint_config_name)\n",
    "create_endpoint_config_response = sagemaker.create_endpoint_config(\n",
    "    EndpointConfigName=endpoint_config_name,\n",
    "    ProductionVariants=[\n",
    "        {\n",
    "            \"InstanceType\": \"ml.m5.xlarge\",\n",
    "            \"InitialInstanceCount\": 1,\n",
    "            \"ModelName\": model_name,\n",
    "            \"VariantName\": \"AllTraffic\",\n",
    "        }\n",
    "    ],\n",
    ")\n",
    "\n",
    "print(\"Endpoint Config Arn: \" + create_endpoint_config_response[\"EndpointConfigArn\"])"
   ]
  },
  {
   "cell_type": "markdown",
   "id": "609b2a89-8758-4c5f-97fa-4d0dd39cb86a",
   "metadata": {
    "tags": []
   },
   "source": [
    "### Deploy the Endpoint"
   ]
  },
  {
   "cell_type": "code",
   "execution_count": 52,
   "id": "126a42a8-3f7d-4924-955e-ea711ac9e60a",
   "metadata": {
    "tags": []
   },
   "outputs": [
    {
     "name": "stdout",
     "output_type": "stream",
     "text": [
      "Mall-Data-ep-2023-03-20-14-07-56\n",
      "arn:aws:sagemaker:us-east-1:231015462399:endpoint/mall-data-ep-2023-03-20-14-07-56\n",
      "Status: Creating\n",
      "Arn: arn:aws:sagemaker:us-east-1:231015462399:endpoint/mall-data-ep-2023-03-20-14-07-56\n",
      "Create endpoint ended with status: InService\n"
     ]
    }
   ],
   "source": [
    "endpoint_name = \"Mall-Data-ep-\" + strftime(\"%Y-%m-%d-%H-%M-%S\", gmtime())\n",
    "print(endpoint_name)\n",
    "create_endpoint_response = sagemaker.create_endpoint(\n",
    "    EndpointName=endpoint_name, EndpointConfigName=endpoint_config_name\n",
    ")\n",
    "print(create_endpoint_response[\"EndpointArn\"])\n",
    "\n",
    "resp = sagemaker.describe_endpoint(EndpointName=endpoint_name)\n",
    "status = resp[\"EndpointStatus\"]\n",
    "print(\"Status: \" + status)\n",
    "\n",
    "try:\n",
    "    sagemaker.get_waiter(\"endpoint_in_service\").wait(EndpointName=endpoint_name)\n",
    "finally:\n",
    "    resp = sagemaker.describe_endpoint(EndpointName=endpoint_name)\n",
    "    status = resp[\"EndpointStatus\"]\n",
    "    print(\"Arn: \" + resp[\"EndpointArn\"])\n",
    "    print(\"Create endpoint ended with status: \" + status)\n",
    "\n",
    "    if status != \"InService\":\n",
    "        message = sagemaker.describe_endpoint(EndpointName=endpoint_name)[\"FailureReason\"]\n",
    "        print(\"Training failed with the following error: {}\".format(message))\n",
    "        raise Exception(\"Endpoint creation did not succeed\")"
   ]
  },
  {
   "cell_type": "markdown",
   "id": "dd710e45-d991-4962-89a4-9b88fe407a66",
   "metadata": {},
   "source": [
    "## Demo how to do infernences"
   ]
  },
  {
   "cell_type": "markdown",
   "id": "67a740ca-813f-4c5f-882c-c88bcaea7c69",
   "metadata": {},
   "source": [
    "### Single Inference"
   ]
  },
  {
   "cell_type": "code",
   "execution_count": 53,
   "id": "7632e337-1396-4c26-824c-3738a99c2353",
   "metadata": {
    "tags": []
   },
   "outputs": [
    {
     "name": "stdout",
     "output_type": "stream",
     "text": [
      "{'predictions': [{'closest_cluster': 1.0, 'distance_to_cluster': 37.616737365722656}]}\n"
     ]
    }
   ],
   "source": [
    "runtime = boto3.Session().client('sagemaker-runtime',use_ssl=True)\n",
    "\n",
    "payload = \"1,19,15,39\"\n",
    "\n",
    "response = runtime.invoke_endpoint(EndpointName=endpoint_name, \n",
    "                                   ContentType='text/csv', \n",
    "                                   Body=payload)\n",
    "result = json.loads(response['Body'].read())\n",
    "print(result)"
   ]
  },
  {
   "cell_type": "markdown",
   "id": "58c418f4-a88d-4721-8052-36531a38dd20",
   "metadata": {
    "tags": []
   },
   "source": [
    "### Batch Inferences"
   ]
  },
  {
   "cell_type": "code",
   "execution_count": 54,
   "id": "4cfe5355-c7bf-4a25-a1c6-8d8851d63441",
   "metadata": {
    "tags": []
   },
   "outputs": [],
   "source": [
    "csv_file = io.StringIO()\n",
    "\n",
    "mall_data_kmeans.to_csv(csv_file, sep=\",\", header=False, index=False)\n",
    "payload = csv_file.getvalue()"
   ]
  },
  {
   "cell_type": "code",
   "execution_count": 57,
   "id": "5cc0c8b2-711c-407f-a33c-feb38e6b2b64",
   "metadata": {
    "tags": []
   },
   "outputs": [],
   "source": [
    "response = runtime.invoke_endpoint(\n",
    "    EndpointName=endpoint_name,\n",
    "    Body= payload,\n",
    "    ContentType = 'text/csv')\n",
    "result = json.loads(response[\"Body\"].read().decode())\n",
    "clusters = [p[\"closest_cluster\"] for p in result[\"predictions\"]]\n"
   ]
  },
  {
   "cell_type": "code",
   "execution_count": 58,
   "id": "77885500-4cf2-44ea-bce7-b021be96cd01",
   "metadata": {
    "tags": []
   },
   "outputs": [
    {
     "name": "stdout",
     "output_type": "stream",
     "text": [
      "[1.0, 1.0, 1.0, 1.0, 1.0, 1.0, 1.0, 1.0, 1.0, 1.0, 1.0, 1.0, 1.0, 1.0, 1.0, 1.0, 1.0, 1.0, 1.0, 1.0, 1.0, 1.0, 1.0, 1.0, 1.0, 1.0, 1.0, 1.0, 1.0, 1.0, 1.0, 1.0, 1.0, 1.0, 1.0, 1.0, 1.0, 1.0, 1.0, 1.0, 1.0, 1.0, 1.0, 1.0, 1.0, 1.0, 1.0, 1.0, 1.0, 1.0, 1.0, 1.0, 1.0, 1.0, 1.0, 1.0, 1.0, 1.0, 1.0, 1.0, 1.0, 1.0, 1.0, 1.0, 1.0, 1.0, 1.0, 1.0, 1.0, 1.0, 1.0, 1.0, 1.0, 1.0, 1.0, 1.0, 1.0, 1.0, 1.0, 1.0, 1.0, 1.0, 1.0, 1.0, 1.0, 1.0, 1.0, 1.0, 1.0, 1.0, 1.0, 1.0, 1.0, 1.0, 1.0, 1.0, 1.0, 1.0, 1.0, 1.0, 1.0, 1.0, 1.0, 1.0, 1.0, 1.0, 1.0, 1.0, 1.0, 1.0, 1.0, 1.0, 1.0, 1.0, 1.0, 1.0, 1.0, 1.0, 1.0, 1.0, 1.0, 1.0, 1.0, 0.0, 2.0, 0.0, 2.0, 0.0, 2.0, 0.0, 2.0, 0.0, 2.0, 0.0, 2.0, 0.0, 2.0, 0.0, 2.0, 0.0, 2.0, 0.0, 2.0, 0.0, 2.0, 0.0, 2.0, 0.0, 2.0, 0.0, 2.0, 0.0, 2.0, 0.0, 2.0, 0.0, 2.0, 0.0, 2.0, 0.0, 2.0, 0.0, 2.0, 0.0, 2.0, 0.0, 2.0, 0.0, 2.0, 0.0, 2.0, 0.0, 2.0, 0.0, 2.0, 0.0, 2.0, 0.0, 2.0, 0.0, 2.0, 0.0, 2.0, 0.0, 2.0, 0.0, 2.0, 0.0, 2.0, 0.0, 2.0, 0.0, 2.0, 0.0, 2.0, 0.0, 2.0, 0.0, 2.0, 0.0]\n"
     ]
    }
   ],
   "source": [
    "print(clusters)"
   ]
  },
  {
   "cell_type": "code",
   "execution_count": 59,
   "id": "e0147a8e-b256-4f17-8474-1cbb4e542410",
   "metadata": {
    "tags": []
   },
   "outputs": [
    {
     "data": {
      "text/html": [
       "<div>\n",
       "<style scoped>\n",
       "    .dataframe tbody tr th:only-of-type {\n",
       "        vertical-align: middle;\n",
       "    }\n",
       "\n",
       "    .dataframe tbody tr th {\n",
       "        vertical-align: top;\n",
       "    }\n",
       "\n",
       "    .dataframe thead th {\n",
       "        text-align: right;\n",
       "    }\n",
       "</style>\n",
       "<table border=\"1\" class=\"dataframe\">\n",
       "  <thead>\n",
       "    <tr style=\"text-align: right;\">\n",
       "      <th></th>\n",
       "      <th>CustomerID</th>\n",
       "      <th>Gender</th>\n",
       "      <th>Age</th>\n",
       "      <th>Annual Income (k$)</th>\n",
       "      <th>Spending Score (1-100)</th>\n",
       "      <th>cluster</th>\n",
       "    </tr>\n",
       "  </thead>\n",
       "  <tbody>\n",
       "    <tr>\n",
       "      <th>0</th>\n",
       "      <td>1</td>\n",
       "      <td>1</td>\n",
       "      <td>19</td>\n",
       "      <td>15</td>\n",
       "      <td>39</td>\n",
       "      <td>1.0</td>\n",
       "    </tr>\n",
       "    <tr>\n",
       "      <th>1</th>\n",
       "      <td>2</td>\n",
       "      <td>1</td>\n",
       "      <td>21</td>\n",
       "      <td>15</td>\n",
       "      <td>81</td>\n",
       "      <td>1.0</td>\n",
       "    </tr>\n",
       "    <tr>\n",
       "      <th>2</th>\n",
       "      <td>3</td>\n",
       "      <td>0</td>\n",
       "      <td>20</td>\n",
       "      <td>16</td>\n",
       "      <td>6</td>\n",
       "      <td>1.0</td>\n",
       "    </tr>\n",
       "    <tr>\n",
       "      <th>3</th>\n",
       "      <td>4</td>\n",
       "      <td>0</td>\n",
       "      <td>23</td>\n",
       "      <td>16</td>\n",
       "      <td>77</td>\n",
       "      <td>1.0</td>\n",
       "    </tr>\n",
       "    <tr>\n",
       "      <th>4</th>\n",
       "      <td>5</td>\n",
       "      <td>0</td>\n",
       "      <td>31</td>\n",
       "      <td>17</td>\n",
       "      <td>40</td>\n",
       "      <td>1.0</td>\n",
       "    </tr>\n",
       "  </tbody>\n",
       "</table>\n",
       "</div>"
      ],
      "text/plain": [
       "   CustomerID  Gender  Age  Annual Income (k$)  Spending Score (1-100)  \\\n",
       "0           1       1   19                  15                      39   \n",
       "1           2       1   21                  15                      81   \n",
       "2           3       0   20                  16                       6   \n",
       "3           4       0   23                  16                      77   \n",
       "4           5       0   31                  17                      40   \n",
       "\n",
       "   cluster  \n",
       "0      1.0  \n",
       "1      1.0  \n",
       "2      1.0  \n",
       "3      1.0  \n",
       "4      1.0  "
      ]
     },
     "execution_count": 59,
     "metadata": {},
     "output_type": "execute_result"
    }
   ],
   "source": [
    "mall_data['cluster']=clusters\n",
    "mall_data.head()"
   ]
  },
  {
   "cell_type": "code",
   "execution_count": 60,
   "id": "b26b4ae2-6b0b-4326-b7c8-c498cf1fc273",
   "metadata": {
    "tags": []
   },
   "outputs": [
    {
     "data": {
      "text/plain": [
       "CustomerID                  int64\n",
       "Gender                      int64\n",
       "Age                         int64\n",
       "Annual Income (k$)          int64\n",
       "Spending Score (1-100)      int64\n",
       "cluster                   float64\n",
       "dtype: object"
      ]
     },
     "execution_count": 60,
     "metadata": {},
     "output_type": "execute_result"
    }
   ],
   "source": [
    "mall_data.dtypes"
   ]
  },
  {
   "cell_type": "code",
   "execution_count": 61,
   "id": "6b1ea1b7-ef63-4593-a3a9-708ff92f85df",
   "metadata": {
    "tags": []
   },
   "outputs": [],
   "source": [
    "mall_data['cluaster'] = mall_data['cluster'].astype(int)"
   ]
  },
  {
   "cell_type": "code",
   "execution_count": 62,
   "id": "3dd002ae-81e7-426d-9638-f6b161e691ad",
   "metadata": {
    "tags": []
   },
   "outputs": [
    {
     "data": {
      "text/html": [
       "<div>\n",
       "<style scoped>\n",
       "    .dataframe tbody tr th:only-of-type {\n",
       "        vertical-align: middle;\n",
       "    }\n",
       "\n",
       "    .dataframe tbody tr th {\n",
       "        vertical-align: top;\n",
       "    }\n",
       "\n",
       "    .dataframe thead th {\n",
       "        text-align: right;\n",
       "    }\n",
       "</style>\n",
       "<table border=\"1\" class=\"dataframe\">\n",
       "  <thead>\n",
       "    <tr style=\"text-align: right;\">\n",
       "      <th></th>\n",
       "      <th>CustomerID</th>\n",
       "      <th>Gender</th>\n",
       "      <th>Age</th>\n",
       "      <th>Annual Income (k$)</th>\n",
       "      <th>Spending Score (1-100)</th>\n",
       "      <th>cluster</th>\n",
       "      <th>cluaster</th>\n",
       "    </tr>\n",
       "  </thead>\n",
       "  <tbody>\n",
       "    <tr>\n",
       "      <th>0</th>\n",
       "      <td>1</td>\n",
       "      <td>1</td>\n",
       "      <td>19</td>\n",
       "      <td>15</td>\n",
       "      <td>39</td>\n",
       "      <td>1.0</td>\n",
       "      <td>1</td>\n",
       "    </tr>\n",
       "    <tr>\n",
       "      <th>1</th>\n",
       "      <td>2</td>\n",
       "      <td>1</td>\n",
       "      <td>21</td>\n",
       "      <td>15</td>\n",
       "      <td>81</td>\n",
       "      <td>1.0</td>\n",
       "      <td>1</td>\n",
       "    </tr>\n",
       "    <tr>\n",
       "      <th>2</th>\n",
       "      <td>3</td>\n",
       "      <td>0</td>\n",
       "      <td>20</td>\n",
       "      <td>16</td>\n",
       "      <td>6</td>\n",
       "      <td>1.0</td>\n",
       "      <td>1</td>\n",
       "    </tr>\n",
       "    <tr>\n",
       "      <th>3</th>\n",
       "      <td>4</td>\n",
       "      <td>0</td>\n",
       "      <td>23</td>\n",
       "      <td>16</td>\n",
       "      <td>77</td>\n",
       "      <td>1.0</td>\n",
       "      <td>1</td>\n",
       "    </tr>\n",
       "    <tr>\n",
       "      <th>4</th>\n",
       "      <td>5</td>\n",
       "      <td>0</td>\n",
       "      <td>31</td>\n",
       "      <td>17</td>\n",
       "      <td>40</td>\n",
       "      <td>1.0</td>\n",
       "      <td>1</td>\n",
       "    </tr>\n",
       "  </tbody>\n",
       "</table>\n",
       "</div>"
      ],
      "text/plain": [
       "   CustomerID  Gender  Age  Annual Income (k$)  Spending Score (1-100)  \\\n",
       "0           1       1   19                  15                      39   \n",
       "1           2       1   21                  15                      81   \n",
       "2           3       0   20                  16                       6   \n",
       "3           4       0   23                  16                      77   \n",
       "4           5       0   31                  17                      40   \n",
       "\n",
       "   cluster  cluaster  \n",
       "0      1.0         1  \n",
       "1      1.0         1  \n",
       "2      1.0         1  \n",
       "3      1.0         1  \n",
       "4      1.0         1  "
      ]
     },
     "execution_count": 62,
     "metadata": {},
     "output_type": "execute_result"
    }
   ],
   "source": [
    "mall_data.head()"
   ]
  },
  {
   "cell_type": "markdown",
   "id": "ae384e68-ed08-408e-97e4-3dece071043b",
   "metadata": {},
   "source": [
    "## Get the cluster centroids from the model artifact"
   ]
  },
  {
   "cell_type": "code",
   "execution_count": 63,
   "id": "5b7c59dd-1337-441d-adbe-5055eaee89c1",
   "metadata": {
    "tags": []
   },
   "outputs": [
    {
     "name": "stdout",
     "output_type": "stream",
     "text": [
      "sagemaker-us-east-1-231015462399\n",
      "model.tar.gz\n",
      "Mall/output/mall-data2023-03-20-13-45-31-008-978f1722/output/model.tar.gz\n",
      "Model for k=3 (model.tar.gz)\n",
      "model_algo-1\n"
     ]
    }
   ],
   "source": [
    "key = 'model.tar.gz'\n",
    "model_path = 'Mall/output/' +tuning_job_result[\"BestTrainingJob\"][\"TrainingJobName\"] + \"/output/\" + key\n",
    "print(bucket)\n",
    "print(key)\n",
    "print(model_path)\n",
    "\n",
    "s3_client = boto3.client('s3')\n",
    "s3_client.download_file(bucket, model_path, 'model.tar.gz')\n",
    "print(\"Model for k={} ({})\".format(k, key))\n",
    "!tar -xvf model.tar.gz                       \n",
    "kmeans_model=mx.ndarray.load('model_algo-1')"
   ]
  },
  {
   "cell_type": "code",
   "execution_count": 64,
   "id": "8284b047-cecd-4e2d-86fd-e1f490c0b224",
   "metadata": {
    "tags": []
   },
   "outputs": [],
   "source": [
    "Kmeans_model_params = mx.ndarray.load(\"model_algo-1\")\n",
    "cluster_centroids=pd.DataFrame(Kmeans_model_params[0].asnumpy())"
   ]
  },
  {
   "cell_type": "code",
   "execution_count": 65,
   "id": "e3c140cb-b9cf-4a09-a5d6-a33fe847e68e",
   "metadata": {
    "tags": []
   },
   "outputs": [
    {
     "data": {
      "text/html": [
       "<div>\n",
       "<style scoped>\n",
       "    .dataframe tbody tr th:only-of-type {\n",
       "        vertical-align: middle;\n",
       "    }\n",
       "\n",
       "    .dataframe tbody tr th {\n",
       "        vertical-align: top;\n",
       "    }\n",
       "\n",
       "    .dataframe thead th {\n",
       "        text-align: right;\n",
       "    }\n",
       "</style>\n",
       "<table border=\"1\" class=\"dataframe\">\n",
       "  <thead>\n",
       "    <tr style=\"text-align: right;\">\n",
       "      <th></th>\n",
       "      <th>0</th>\n",
       "      <th>1</th>\n",
       "      <th>2</th>\n",
       "      <th>3</th>\n",
       "    </tr>\n",
       "  </thead>\n",
       "  <tbody>\n",
       "    <tr>\n",
       "      <th>0</th>\n",
       "      <td>0.488889</td>\n",
       "      <td>32.933334</td>\n",
       "      <td>85.977783</td>\n",
       "      <td>82.422226</td>\n",
       "    </tr>\n",
       "    <tr>\n",
       "      <th>1</th>\n",
       "      <td>0.439655</td>\n",
       "      <td>39.879311</td>\n",
       "      <td>44.629311</td>\n",
       "      <td>49.043102</td>\n",
       "    </tr>\n",
       "    <tr>\n",
       "      <th>2</th>\n",
       "      <td>0.620690</td>\n",
       "      <td>41.103451</td>\n",
       "      <td>89.482758</td>\n",
       "      <td>15.275860</td>\n",
       "    </tr>\n",
       "  </tbody>\n",
       "</table>\n",
       "</div>"
      ],
      "text/plain": [
       "          0          1          2          3\n",
       "0  0.488889  32.933334  85.977783  82.422226\n",
       "1  0.439655  39.879311  44.629311  49.043102\n",
       "2  0.620690  41.103451  89.482758  15.275860"
      ]
     },
     "execution_count": 65,
     "metadata": {},
     "output_type": "execute_result"
    }
   ],
   "source": [
    "cluster_centroids"
   ]
  },
  {
   "cell_type": "markdown",
   "id": "ee892168-aefc-403d-b900-994c04c6206c",
   "metadata": {},
   "source": [
    "## Cleanup"
   ]
  },
  {
   "cell_type": "code",
   "execution_count": null,
   "id": "88d8361a-963c-4c46-bab7-e87e033ad0dd",
   "metadata": {
    "tags": []
   },
   "outputs": [],
   "source": [
    "sagemaker_client.delete_model(ModelName=model_name)"
   ]
  },
  {
   "cell_type": "code",
   "execution_count": null,
   "id": "a177e183-208b-4cdf-bea4-52744ddc3937",
   "metadata": {
    "tags": []
   },
   "outputs": [],
   "source": [
    "sagemaker_client.delete_endpoint_config(EndpointConfigName=endpoint_config_name)"
   ]
  },
  {
   "cell_type": "code",
   "execution_count": null,
   "id": "cd983aad-bd0c-4312-bf64-80744975fde5",
   "metadata": {},
   "outputs": [],
   "source": [
    "sagemaker_client.delete_endpoint(EndpointName=endpoint_name)"
   ]
  }
 ],
 "metadata": {
  "kernelspec": {
   "display_name": "conda_python3",
   "language": "python",
   "name": "conda_python3"
  },
  "language_info": {
   "codemirror_mode": {
    "name": "ipython",
    "version": 3
   },
   "file_extension": ".py",
   "mimetype": "text/x-python",
   "name": "python",
   "nbconvert_exporter": "python",
   "pygments_lexer": "ipython3",
   "version": "3.10.8"
  }
 },
 "nbformat": 4,
 "nbformat_minor": 5
}
