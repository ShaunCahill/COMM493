{
 "cells": [
  {
   "cell_type": "markdown",
   "id": "ebfc12bd-8167-4695-9510-4c62266e7f01",
   "metadata": {},
   "source": [
    "# Techical Expectations"
   ]
  },
  {
   "cell_type": "markdown",
   "id": "eb1e8ba5-001e-449a-b2a3-b194808eff6e",
   "metadata": {},
   "source": [
    "## Import our usual packages"
   ]
  },
  {
   "cell_type": "code",
   "execution_count": 2,
   "id": "5e9c09f6-61aa-44ad-abc2-1caa90e6ae35",
   "metadata": {},
   "outputs": [],
   "source": [
    "from sklearn.preprocessing import LabelEncoder\n",
    "import numpy as np\n",
    "import pandas as pd"
   ]
  },
  {
   "cell_type": "markdown",
   "id": "32a0e5b1-de87-4bb7-97fe-35e365bd1084",
   "metadata": {},
   "source": [
    "## Read in the dummy data I created for this demo"
   ]
  },
  {
   "cell_type": "code",
   "execution_count": 5,
   "id": "8762c10f-5e74-41ba-9429-9575b7c963c6",
   "metadata": {},
   "outputs": [],
   "source": [
    "demo_data = pd.read_csv(\"demo_data.csv\")"
   ]
  },
  {
   "cell_type": "markdown",
   "id": "12f407f9-7da1-492e-a2cc-ede729d16d19",
   "metadata": {},
   "source": [
    "## Data Exploration"
   ]
  },
  {
   "cell_type": "code",
   "execution_count": 6,
   "id": "b2257d61-1d2b-4257-9156-2dd2b1377ccb",
   "metadata": {},
   "outputs": [
    {
     "data": {
      "text/html": [
       "<div>\n",
       "<style scoped>\n",
       "    .dataframe tbody tr th:only-of-type {\n",
       "        vertical-align: middle;\n",
       "    }\n",
       "\n",
       "    .dataframe tbody tr th {\n",
       "        vertical-align: top;\n",
       "    }\n",
       "\n",
       "    .dataframe thead th {\n",
       "        text-align: right;\n",
       "    }\n",
       "</style>\n",
       "<table border=\"1\" class=\"dataframe\">\n",
       "  <thead>\n",
       "    <tr style=\"text-align: right;\">\n",
       "      <th></th>\n",
       "      <th>Date_Time</th>\n",
       "      <th>Name</th>\n",
       "      <th>Age</th>\n",
       "      <th>Eye_Colour</th>\n",
       "      <th>Satisfaction</th>\n",
       "      <th>Sale</th>\n",
       "    </tr>\n",
       "  </thead>\n",
       "  <tbody>\n",
       "    <tr>\n",
       "      <th>0</th>\n",
       "      <td>09/25/22 23:30</td>\n",
       "      <td>Amii Powelee</td>\n",
       "      <td>54</td>\n",
       "      <td>Hazel</td>\n",
       "      <td>Extremely Satisfied</td>\n",
       "      <td>False</td>\n",
       "    </tr>\n",
       "    <tr>\n",
       "      <th>1</th>\n",
       "      <td>08/30/22 13:23</td>\n",
       "      <td>Henryetta Heynel</td>\n",
       "      <td>59</td>\n",
       "      <td>Green</td>\n",
       "      <td>Very Satisfied</td>\n",
       "      <td>False</td>\n",
       "    </tr>\n",
       "    <tr>\n",
       "      <th>2</th>\n",
       "      <td>06/23/22 9:18</td>\n",
       "      <td>Cindi Jantet</td>\n",
       "      <td>36</td>\n",
       "      <td>Gray</td>\n",
       "      <td>Very Satisfied</td>\n",
       "      <td>False</td>\n",
       "    </tr>\n",
       "    <tr>\n",
       "      <th>3</th>\n",
       "      <td>08/15/22 21:25</td>\n",
       "      <td>Vally Bricket</td>\n",
       "      <td>34</td>\n",
       "      <td>Gray</td>\n",
       "      <td>Extremely Satisfied</td>\n",
       "      <td>True</td>\n",
       "    </tr>\n",
       "    <tr>\n",
       "      <th>4</th>\n",
       "      <td>08/02/22 15:37</td>\n",
       "      <td>Carla Roggers</td>\n",
       "      <td>42</td>\n",
       "      <td>Gray</td>\n",
       "      <td>Very Satisfied</td>\n",
       "      <td>False</td>\n",
       "    </tr>\n",
       "  </tbody>\n",
       "</table>\n",
       "</div>"
      ],
      "text/plain": [
       "        Date_Time              Name  Age Eye_Colour         Satisfaction  \\\n",
       "0  09/25/22 23:30      Amii Powelee   54      Hazel  Extremely Satisfied   \n",
       "1  08/30/22 13:23  Henryetta Heynel   59      Green       Very Satisfied   \n",
       "2   06/23/22 9:18      Cindi Jantet   36       Gray       Very Satisfied   \n",
       "3  08/15/22 21:25     Vally Bricket   34       Gray  Extremely Satisfied   \n",
       "4  08/02/22 15:37     Carla Roggers   42       Gray       Very Satisfied   \n",
       "\n",
       "    Sale  \n",
       "0  False  \n",
       "1  False  \n",
       "2  False  \n",
       "3   True  \n",
       "4  False  "
      ]
     },
     "execution_count": 6,
     "metadata": {},
     "output_type": "execute_result"
    }
   ],
   "source": [
    "demo_data.head()"
   ]
  },
  {
   "cell_type": "code",
   "execution_count": 7,
   "id": "956889ff-0b33-494c-b215-4990161f3779",
   "metadata": {},
   "outputs": [
    {
     "name": "stdout",
     "output_type": "stream",
     "text": [
      "<class 'pandas.core.frame.DataFrame'>\n",
      "RangeIndex: 1000 entries, 0 to 999\n",
      "Data columns (total 6 columns):\n",
      " #   Column        Non-Null Count  Dtype \n",
      "---  ------        --------------  ----- \n",
      " 0   Date_Time     1000 non-null   object\n",
      " 1   Name          1000 non-null   object\n",
      " 2   Age           1000 non-null   int64 \n",
      " 3   Eye_Colour    1000 non-null   object\n",
      " 4   Satisfaction  1000 non-null   object\n",
      " 5   Sale          1000 non-null   bool  \n",
      "dtypes: bool(1), int64(1), object(4)\n",
      "memory usage: 40.2+ KB\n"
     ]
    }
   ],
   "source": [
    "demo_data.info()"
   ]
  },
  {
   "cell_type": "markdown",
   "id": "692919af-5c33-4543-a3a8-84f2204a3ae0",
   "metadata": {},
   "source": [
    "### Based on the data shown you can see that there is mostly text data and we are trying to predict Sale based on Date_Time, Name, Age and Eye Colour.\n",
    "### There are 1,000 records and six columns (five features and one target)\n",
    "### Most data is stored as an Object and we will need to transform these values to numeric values to make the prediciton\n",
    "### There are no missing vlaues (Non-Null Count)"
   ]
  },
  {
   "cell_type": "markdown",
   "id": "abfbc1e1-7178-4c23-be49-d215818ac759",
   "metadata": {},
   "source": [
    "## Data Transformation"
   ]
  },
  {
   "cell_type": "markdown",
   "id": "d53fb90e-4372-4d20-9479-7ba57274a1ce",
   "metadata": {},
   "source": [
    "### Notice how date time is an object (text) Linear Learner needs numeric data"
   ]
  },
  {
   "cell_type": "markdown",
   "id": "c6a29d46-cf47-4ae2-b4de-c975845af30c",
   "metadata": {},
   "source": [
    "## Encoding Date Time Feature"
   ]
  },
  {
   "cell_type": "code",
   "execution_count": 6,
   "id": "ff94cdbb-a2d5-482d-ab1f-db3f34ff56dd",
   "metadata": {},
   "outputs": [],
   "source": [
    "demo_data['Date_Time'] = pd.to_datetime(demo_data['Date_Time'])"
   ]
  },
  {
   "cell_type": "code",
   "execution_count": 7,
   "id": "1201381d-fba9-49ca-9640-d8a716a21575",
   "metadata": {},
   "outputs": [
    {
     "data": {
      "text/html": [
       "<div>\n",
       "<style scoped>\n",
       "    .dataframe tbody tr th:only-of-type {\n",
       "        vertical-align: middle;\n",
       "    }\n",
       "\n",
       "    .dataframe tbody tr th {\n",
       "        vertical-align: top;\n",
       "    }\n",
       "\n",
       "    .dataframe thead th {\n",
       "        text-align: right;\n",
       "    }\n",
       "</style>\n",
       "<table border=\"1\" class=\"dataframe\">\n",
       "  <thead>\n",
       "    <tr style=\"text-align: right;\">\n",
       "      <th></th>\n",
       "      <th>Date_Time</th>\n",
       "      <th>Name</th>\n",
       "      <th>Age</th>\n",
       "      <th>Eye_Colour</th>\n",
       "      <th>Satisfaction</th>\n",
       "      <th>Sale</th>\n",
       "    </tr>\n",
       "  </thead>\n",
       "  <tbody>\n",
       "    <tr>\n",
       "      <th>0</th>\n",
       "      <td>2022-09-25 23:30:00</td>\n",
       "      <td>Amii Powelee</td>\n",
       "      <td>54</td>\n",
       "      <td>Hazel</td>\n",
       "      <td>Extremely Satisfied</td>\n",
       "      <td>False</td>\n",
       "    </tr>\n",
       "    <tr>\n",
       "      <th>1</th>\n",
       "      <td>2022-08-30 13:23:00</td>\n",
       "      <td>Henryetta Heynel</td>\n",
       "      <td>59</td>\n",
       "      <td>Green</td>\n",
       "      <td>Very Satisfied</td>\n",
       "      <td>False</td>\n",
       "    </tr>\n",
       "    <tr>\n",
       "      <th>2</th>\n",
       "      <td>2022-06-23 09:18:00</td>\n",
       "      <td>Cindi Jantet</td>\n",
       "      <td>36</td>\n",
       "      <td>Gray</td>\n",
       "      <td>Very Satisfied</td>\n",
       "      <td>False</td>\n",
       "    </tr>\n",
       "    <tr>\n",
       "      <th>3</th>\n",
       "      <td>2022-08-15 21:25:00</td>\n",
       "      <td>Vally Bricket</td>\n",
       "      <td>34</td>\n",
       "      <td>Gray</td>\n",
       "      <td>Extremely Satisfied</td>\n",
       "      <td>True</td>\n",
       "    </tr>\n",
       "    <tr>\n",
       "      <th>4</th>\n",
       "      <td>2022-08-02 15:37:00</td>\n",
       "      <td>Carla Roggers</td>\n",
       "      <td>42</td>\n",
       "      <td>Gray</td>\n",
       "      <td>Very Satisfied</td>\n",
       "      <td>False</td>\n",
       "    </tr>\n",
       "  </tbody>\n",
       "</table>\n",
       "</div>"
      ],
      "text/plain": [
       "            Date_Time              Name  Age Eye_Colour         Satisfaction  \\\n",
       "0 2022-09-25 23:30:00      Amii Powelee   54      Hazel  Extremely Satisfied   \n",
       "1 2022-08-30 13:23:00  Henryetta Heynel   59      Green       Very Satisfied   \n",
       "2 2022-06-23 09:18:00      Cindi Jantet   36       Gray       Very Satisfied   \n",
       "3 2022-08-15 21:25:00     Vally Bricket   34       Gray  Extremely Satisfied   \n",
       "4 2022-08-02 15:37:00     Carla Roggers   42       Gray       Very Satisfied   \n",
       "\n",
       "    Sale  \n",
       "0  False  \n",
       "1  False  \n",
       "2  False  \n",
       "3   True  \n",
       "4  False  "
      ]
     },
     "execution_count": 7,
     "metadata": {},
     "output_type": "execute_result"
    }
   ],
   "source": [
    "demo_data.head()"
   ]
  },
  {
   "cell_type": "code",
   "execution_count": 8,
   "id": "fef809b0-b1db-4b74-951a-1dcdfaa56798",
   "metadata": {},
   "outputs": [
    {
     "data": {
      "text/plain": [
       "Date_Time       datetime64[ns]\n",
       "Name                    object\n",
       "Age                      int64\n",
       "Eye_Colour              object\n",
       "Satisfaction            object\n",
       "Sale                      bool\n",
       "dtype: object"
      ]
     },
     "execution_count": 8,
     "metadata": {},
     "output_type": "execute_result"
    }
   ],
   "source": [
    "demo_data.dtypes"
   ]
  },
  {
   "cell_type": "markdown",
   "id": "879ecb97-d166-40f8-af9c-c0bae9902035",
   "metadata": {},
   "source": [
    "## Remove Junk Data"
   ]
  },
  {
   "cell_type": "code",
   "execution_count": 9,
   "id": "cda2abc6-9f5e-4528-bd77-9054ca9ea519",
   "metadata": {},
   "outputs": [],
   "source": [
    "# For this demo I am assuming that Name does not have an influence on the data do we will drop it\n",
    "\n",
    "del demo_data['Name']"
   ]
  },
  {
   "cell_type": "code",
   "execution_count": 10,
   "id": "8a2ba71f-b579-4738-86b3-e53b3bddf472",
   "metadata": {},
   "outputs": [
    {
     "data": {
      "text/html": [
       "<div>\n",
       "<style scoped>\n",
       "    .dataframe tbody tr th:only-of-type {\n",
       "        vertical-align: middle;\n",
       "    }\n",
       "\n",
       "    .dataframe tbody tr th {\n",
       "        vertical-align: top;\n",
       "    }\n",
       "\n",
       "    .dataframe thead th {\n",
       "        text-align: right;\n",
       "    }\n",
       "</style>\n",
       "<table border=\"1\" class=\"dataframe\">\n",
       "  <thead>\n",
       "    <tr style=\"text-align: right;\">\n",
       "      <th></th>\n",
       "      <th>Date_Time</th>\n",
       "      <th>Age</th>\n",
       "      <th>Eye_Colour</th>\n",
       "      <th>Satisfaction</th>\n",
       "      <th>Sale</th>\n",
       "    </tr>\n",
       "  </thead>\n",
       "  <tbody>\n",
       "    <tr>\n",
       "      <th>0</th>\n",
       "      <td>2022-09-25 23:30:00</td>\n",
       "      <td>54</td>\n",
       "      <td>Hazel</td>\n",
       "      <td>Extremely Satisfied</td>\n",
       "      <td>False</td>\n",
       "    </tr>\n",
       "    <tr>\n",
       "      <th>1</th>\n",
       "      <td>2022-08-30 13:23:00</td>\n",
       "      <td>59</td>\n",
       "      <td>Green</td>\n",
       "      <td>Very Satisfied</td>\n",
       "      <td>False</td>\n",
       "    </tr>\n",
       "    <tr>\n",
       "      <th>2</th>\n",
       "      <td>2022-06-23 09:18:00</td>\n",
       "      <td>36</td>\n",
       "      <td>Gray</td>\n",
       "      <td>Very Satisfied</td>\n",
       "      <td>False</td>\n",
       "    </tr>\n",
       "    <tr>\n",
       "      <th>3</th>\n",
       "      <td>2022-08-15 21:25:00</td>\n",
       "      <td>34</td>\n",
       "      <td>Gray</td>\n",
       "      <td>Extremely Satisfied</td>\n",
       "      <td>True</td>\n",
       "    </tr>\n",
       "    <tr>\n",
       "      <th>4</th>\n",
       "      <td>2022-08-02 15:37:00</td>\n",
       "      <td>42</td>\n",
       "      <td>Gray</td>\n",
       "      <td>Very Satisfied</td>\n",
       "      <td>False</td>\n",
       "    </tr>\n",
       "  </tbody>\n",
       "</table>\n",
       "</div>"
      ],
      "text/plain": [
       "            Date_Time  Age Eye_Colour         Satisfaction   Sale\n",
       "0 2022-09-25 23:30:00   54      Hazel  Extremely Satisfied  False\n",
       "1 2022-08-30 13:23:00   59      Green       Very Satisfied  False\n",
       "2 2022-06-23 09:18:00   36       Gray       Very Satisfied  False\n",
       "3 2022-08-15 21:25:00   34       Gray  Extremely Satisfied   True\n",
       "4 2022-08-02 15:37:00   42       Gray       Very Satisfied  False"
      ]
     },
     "execution_count": 10,
     "metadata": {},
     "output_type": "execute_result"
    }
   ],
   "source": [
    "demo_data.head()"
   ]
  },
  {
   "cell_type": "markdown",
   "id": "6f541d2c-88cd-4720-80d8-4cda9d385fa1",
   "metadata": {},
   "source": [
    "## One Hot Encoding"
   ]
  },
  {
   "cell_type": "code",
   "execution_count": 11,
   "id": "adaa4efb-9bf3-4a3b-88b8-16dbb93906ce",
   "metadata": {},
   "outputs": [],
   "source": [
    "# Change the Eye_Colour feature to have a column per eye colour and then  use binary encoding to identify the eye colour\n",
    "\n",
    "demo_data = pd.get_dummies(demo_data, prefix=['Eye_Colour'], columns = ['Eye_Colour'], drop_first=True)"
   ]
  },
  {
   "cell_type": "code",
   "execution_count": 12,
   "id": "7b24560f-099a-435f-a373-36e3808d35b9",
   "metadata": {},
   "outputs": [
    {
     "data": {
      "text/html": [
       "<div>\n",
       "<style scoped>\n",
       "    .dataframe tbody tr th:only-of-type {\n",
       "        vertical-align: middle;\n",
       "    }\n",
       "\n",
       "    .dataframe tbody tr th {\n",
       "        vertical-align: top;\n",
       "    }\n",
       "\n",
       "    .dataframe thead th {\n",
       "        text-align: right;\n",
       "    }\n",
       "</style>\n",
       "<table border=\"1\" class=\"dataframe\">\n",
       "  <thead>\n",
       "    <tr style=\"text-align: right;\">\n",
       "      <th></th>\n",
       "      <th>Date_Time</th>\n",
       "      <th>Age</th>\n",
       "      <th>Satisfaction</th>\n",
       "      <th>Sale</th>\n",
       "      <th>Eye_Colour_Blue</th>\n",
       "      <th>Eye_Colour_Brown</th>\n",
       "      <th>Eye_Colour_Gray</th>\n",
       "      <th>Eye_Colour_Green</th>\n",
       "      <th>Eye_Colour_Hazel</th>\n",
       "      <th>Eye_Colour_Red</th>\n",
       "    </tr>\n",
       "  </thead>\n",
       "  <tbody>\n",
       "    <tr>\n",
       "      <th>0</th>\n",
       "      <td>2022-09-25 23:30:00</td>\n",
       "      <td>54</td>\n",
       "      <td>Extremely Satisfied</td>\n",
       "      <td>False</td>\n",
       "      <td>0</td>\n",
       "      <td>0</td>\n",
       "      <td>0</td>\n",
       "      <td>0</td>\n",
       "      <td>1</td>\n",
       "      <td>0</td>\n",
       "    </tr>\n",
       "    <tr>\n",
       "      <th>1</th>\n",
       "      <td>2022-08-30 13:23:00</td>\n",
       "      <td>59</td>\n",
       "      <td>Very Satisfied</td>\n",
       "      <td>False</td>\n",
       "      <td>0</td>\n",
       "      <td>0</td>\n",
       "      <td>0</td>\n",
       "      <td>1</td>\n",
       "      <td>0</td>\n",
       "      <td>0</td>\n",
       "    </tr>\n",
       "    <tr>\n",
       "      <th>2</th>\n",
       "      <td>2022-06-23 09:18:00</td>\n",
       "      <td>36</td>\n",
       "      <td>Very Satisfied</td>\n",
       "      <td>False</td>\n",
       "      <td>0</td>\n",
       "      <td>0</td>\n",
       "      <td>1</td>\n",
       "      <td>0</td>\n",
       "      <td>0</td>\n",
       "      <td>0</td>\n",
       "    </tr>\n",
       "    <tr>\n",
       "      <th>3</th>\n",
       "      <td>2022-08-15 21:25:00</td>\n",
       "      <td>34</td>\n",
       "      <td>Extremely Satisfied</td>\n",
       "      <td>True</td>\n",
       "      <td>0</td>\n",
       "      <td>0</td>\n",
       "      <td>1</td>\n",
       "      <td>0</td>\n",
       "      <td>0</td>\n",
       "      <td>0</td>\n",
       "    </tr>\n",
       "    <tr>\n",
       "      <th>4</th>\n",
       "      <td>2022-08-02 15:37:00</td>\n",
       "      <td>42</td>\n",
       "      <td>Very Satisfied</td>\n",
       "      <td>False</td>\n",
       "      <td>0</td>\n",
       "      <td>0</td>\n",
       "      <td>1</td>\n",
       "      <td>0</td>\n",
       "      <td>0</td>\n",
       "      <td>0</td>\n",
       "    </tr>\n",
       "  </tbody>\n",
       "</table>\n",
       "</div>"
      ],
      "text/plain": [
       "            Date_Time  Age         Satisfaction   Sale  Eye_Colour_Blue  \\\n",
       "0 2022-09-25 23:30:00   54  Extremely Satisfied  False                0   \n",
       "1 2022-08-30 13:23:00   59       Very Satisfied  False                0   \n",
       "2 2022-06-23 09:18:00   36       Very Satisfied  False                0   \n",
       "3 2022-08-15 21:25:00   34  Extremely Satisfied   True                0   \n",
       "4 2022-08-02 15:37:00   42       Very Satisfied  False                0   \n",
       "\n",
       "   Eye_Colour_Brown  Eye_Colour_Gray  Eye_Colour_Green  Eye_Colour_Hazel  \\\n",
       "0                 0                0                 0                 1   \n",
       "1                 0                0                 1                 0   \n",
       "2                 0                1                 0                 0   \n",
       "3                 0                1                 0                 0   \n",
       "4                 0                1                 0                 0   \n",
       "\n",
       "   Eye_Colour_Red  \n",
       "0               0  \n",
       "1               0  \n",
       "2               0  \n",
       "3               0  \n",
       "4               0  "
      ]
     },
     "execution_count": 12,
     "metadata": {},
     "output_type": "execute_result"
    }
   ],
   "source": [
    "demo_data.head()"
   ]
  },
  {
   "cell_type": "code",
   "execution_count": 13,
   "id": "18cd3f63-1c0e-4b2d-b857-144bc332cf41",
   "metadata": {},
   "outputs": [
    {
     "data": {
      "text/plain": [
       "Date_Time           datetime64[ns]\n",
       "Age                          int64\n",
       "Satisfaction                object\n",
       "Sale                          bool\n",
       "Eye_Colour_Blue              uint8\n",
       "Eye_Colour_Brown             uint8\n",
       "Eye_Colour_Gray              uint8\n",
       "Eye_Colour_Green             uint8\n",
       "Eye_Colour_Hazel             uint8\n",
       "Eye_Colour_Red               uint8\n",
       "dtype: object"
      ]
     },
     "execution_count": 13,
     "metadata": {},
     "output_type": "execute_result"
    }
   ],
   "source": [
    "demo_data.dtypes"
   ]
  },
  {
   "cell_type": "markdown",
   "id": "d9b7beb4-4edc-4469-895e-4b2e4baa0371",
   "metadata": {},
   "source": [
    "## Label Encoding"
   ]
  },
  {
   "cell_type": "code",
   "execution_count": 14,
   "id": "1582f641-9fd8-4c32-aae1-3f3c15f0cbbf",
   "metadata": {},
   "outputs": [],
   "source": [
    "# Here we will use SKLearn to encode each satisfaction label\n",
    "\n",
    "labelencoder = LabelEncoder()\n",
    "demo_data['Satisfaction'] = labelencoder.fit_transform(demo_data['Satisfaction'])"
   ]
  },
  {
   "cell_type": "code",
   "execution_count": 15,
   "id": "c4674b9a-7f1f-4931-a6e6-812c57f4e33c",
   "metadata": {},
   "outputs": [
    {
     "data": {
      "text/html": [
       "<div>\n",
       "<style scoped>\n",
       "    .dataframe tbody tr th:only-of-type {\n",
       "        vertical-align: middle;\n",
       "    }\n",
       "\n",
       "    .dataframe tbody tr th {\n",
       "        vertical-align: top;\n",
       "    }\n",
       "\n",
       "    .dataframe thead th {\n",
       "        text-align: right;\n",
       "    }\n",
       "</style>\n",
       "<table border=\"1\" class=\"dataframe\">\n",
       "  <thead>\n",
       "    <tr style=\"text-align: right;\">\n",
       "      <th></th>\n",
       "      <th>Date_Time</th>\n",
       "      <th>Age</th>\n",
       "      <th>Satisfaction</th>\n",
       "      <th>Sale</th>\n",
       "      <th>Eye_Colour_Blue</th>\n",
       "      <th>Eye_Colour_Brown</th>\n",
       "      <th>Eye_Colour_Gray</th>\n",
       "      <th>Eye_Colour_Green</th>\n",
       "      <th>Eye_Colour_Hazel</th>\n",
       "      <th>Eye_Colour_Red</th>\n",
       "    </tr>\n",
       "  </thead>\n",
       "  <tbody>\n",
       "    <tr>\n",
       "      <th>0</th>\n",
       "      <td>2022-09-25 23:30:00</td>\n",
       "      <td>54</td>\n",
       "      <td>0</td>\n",
       "      <td>False</td>\n",
       "      <td>0</td>\n",
       "      <td>0</td>\n",
       "      <td>0</td>\n",
       "      <td>0</td>\n",
       "      <td>1</td>\n",
       "      <td>0</td>\n",
       "    </tr>\n",
       "    <tr>\n",
       "      <th>1</th>\n",
       "      <td>2022-08-30 13:23:00</td>\n",
       "      <td>59</td>\n",
       "      <td>4</td>\n",
       "      <td>False</td>\n",
       "      <td>0</td>\n",
       "      <td>0</td>\n",
       "      <td>0</td>\n",
       "      <td>1</td>\n",
       "      <td>0</td>\n",
       "      <td>0</td>\n",
       "    </tr>\n",
       "    <tr>\n",
       "      <th>2</th>\n",
       "      <td>2022-06-23 09:18:00</td>\n",
       "      <td>36</td>\n",
       "      <td>4</td>\n",
       "      <td>False</td>\n",
       "      <td>0</td>\n",
       "      <td>0</td>\n",
       "      <td>1</td>\n",
       "      <td>0</td>\n",
       "      <td>0</td>\n",
       "      <td>0</td>\n",
       "    </tr>\n",
       "    <tr>\n",
       "      <th>3</th>\n",
       "      <td>2022-08-15 21:25:00</td>\n",
       "      <td>34</td>\n",
       "      <td>0</td>\n",
       "      <td>True</td>\n",
       "      <td>0</td>\n",
       "      <td>0</td>\n",
       "      <td>1</td>\n",
       "      <td>0</td>\n",
       "      <td>0</td>\n",
       "      <td>0</td>\n",
       "    </tr>\n",
       "    <tr>\n",
       "      <th>4</th>\n",
       "      <td>2022-08-02 15:37:00</td>\n",
       "      <td>42</td>\n",
       "      <td>4</td>\n",
       "      <td>False</td>\n",
       "      <td>0</td>\n",
       "      <td>0</td>\n",
       "      <td>1</td>\n",
       "      <td>0</td>\n",
       "      <td>0</td>\n",
       "      <td>0</td>\n",
       "    </tr>\n",
       "  </tbody>\n",
       "</table>\n",
       "</div>"
      ],
      "text/plain": [
       "            Date_Time  Age  Satisfaction   Sale  Eye_Colour_Blue  \\\n",
       "0 2022-09-25 23:30:00   54             0  False                0   \n",
       "1 2022-08-30 13:23:00   59             4  False                0   \n",
       "2 2022-06-23 09:18:00   36             4  False                0   \n",
       "3 2022-08-15 21:25:00   34             0   True                0   \n",
       "4 2022-08-02 15:37:00   42             4  False                0   \n",
       "\n",
       "   Eye_Colour_Brown  Eye_Colour_Gray  Eye_Colour_Green  Eye_Colour_Hazel  \\\n",
       "0                 0                0                 0                 1   \n",
       "1                 0                0                 1                 0   \n",
       "2                 0                1                 0                 0   \n",
       "3                 0                1                 0                 0   \n",
       "4                 0                1                 0                 0   \n",
       "\n",
       "   Eye_Colour_Red  \n",
       "0               0  \n",
       "1               0  \n",
       "2               0  \n",
       "3               0  \n",
       "4               0  "
      ]
     },
     "execution_count": 15,
     "metadata": {},
     "output_type": "execute_result"
    }
   ],
   "source": [
    "demo_data.head()"
   ]
  },
  {
   "cell_type": "code",
   "execution_count": 16,
   "id": "e2a1f57c-9024-4cc5-8f76-0690d5883064",
   "metadata": {},
   "outputs": [
    {
     "data": {
      "text/plain": [
       "Date_Time           datetime64[ns]\n",
       "Age                          int64\n",
       "Satisfaction                 int64\n",
       "Sale                          bool\n",
       "Eye_Colour_Blue              uint8\n",
       "Eye_Colour_Brown             uint8\n",
       "Eye_Colour_Gray              uint8\n",
       "Eye_Colour_Green             uint8\n",
       "Eye_Colour_Hazel             uint8\n",
       "Eye_Colour_Red               uint8\n",
       "dtype: object"
      ]
     },
     "execution_count": 16,
     "metadata": {},
     "output_type": "execute_result"
    }
   ],
   "source": [
    "demo_data.dtypes"
   ]
  },
  {
   "cell_type": "markdown",
   "id": "3532f66c-39f7-43c0-9e27-b787a5791e5f",
   "metadata": {},
   "source": [
    "## Binary Encoding"
   ]
  },
  {
   "cell_type": "code",
   "execution_count": 17,
   "id": "8236eb67-0446-4061-a1fb-38ace956c78f",
   "metadata": {},
   "outputs": [],
   "source": [
    "# Here we will use SKLearn to encode each True False label to a 1 or 0\n",
    "\n",
    "labelencoder = LabelEncoder()\n",
    "demo_data['Sale'] = labelencoder.fit_transform(demo_data['Sale'])"
   ]
  },
  {
   "cell_type": "code",
   "execution_count": 18,
   "id": "26e0c829-2d44-4cf0-9509-2b74aca53ee0",
   "metadata": {},
   "outputs": [
    {
     "data": {
      "text/html": [
       "<div>\n",
       "<style scoped>\n",
       "    .dataframe tbody tr th:only-of-type {\n",
       "        vertical-align: middle;\n",
       "    }\n",
       "\n",
       "    .dataframe tbody tr th {\n",
       "        vertical-align: top;\n",
       "    }\n",
       "\n",
       "    .dataframe thead th {\n",
       "        text-align: right;\n",
       "    }\n",
       "</style>\n",
       "<table border=\"1\" class=\"dataframe\">\n",
       "  <thead>\n",
       "    <tr style=\"text-align: right;\">\n",
       "      <th></th>\n",
       "      <th>Date_Time</th>\n",
       "      <th>Age</th>\n",
       "      <th>Satisfaction</th>\n",
       "      <th>Sale</th>\n",
       "      <th>Eye_Colour_Blue</th>\n",
       "      <th>Eye_Colour_Brown</th>\n",
       "      <th>Eye_Colour_Gray</th>\n",
       "      <th>Eye_Colour_Green</th>\n",
       "      <th>Eye_Colour_Hazel</th>\n",
       "      <th>Eye_Colour_Red</th>\n",
       "    </tr>\n",
       "  </thead>\n",
       "  <tbody>\n",
       "    <tr>\n",
       "      <th>0</th>\n",
       "      <td>2022-09-25 23:30:00</td>\n",
       "      <td>54</td>\n",
       "      <td>0</td>\n",
       "      <td>0</td>\n",
       "      <td>0</td>\n",
       "      <td>0</td>\n",
       "      <td>0</td>\n",
       "      <td>0</td>\n",
       "      <td>1</td>\n",
       "      <td>0</td>\n",
       "    </tr>\n",
       "    <tr>\n",
       "      <th>1</th>\n",
       "      <td>2022-08-30 13:23:00</td>\n",
       "      <td>59</td>\n",
       "      <td>4</td>\n",
       "      <td>0</td>\n",
       "      <td>0</td>\n",
       "      <td>0</td>\n",
       "      <td>0</td>\n",
       "      <td>1</td>\n",
       "      <td>0</td>\n",
       "      <td>0</td>\n",
       "    </tr>\n",
       "    <tr>\n",
       "      <th>2</th>\n",
       "      <td>2022-06-23 09:18:00</td>\n",
       "      <td>36</td>\n",
       "      <td>4</td>\n",
       "      <td>0</td>\n",
       "      <td>0</td>\n",
       "      <td>0</td>\n",
       "      <td>1</td>\n",
       "      <td>0</td>\n",
       "      <td>0</td>\n",
       "      <td>0</td>\n",
       "    </tr>\n",
       "    <tr>\n",
       "      <th>3</th>\n",
       "      <td>2022-08-15 21:25:00</td>\n",
       "      <td>34</td>\n",
       "      <td>0</td>\n",
       "      <td>1</td>\n",
       "      <td>0</td>\n",
       "      <td>0</td>\n",
       "      <td>1</td>\n",
       "      <td>0</td>\n",
       "      <td>0</td>\n",
       "      <td>0</td>\n",
       "    </tr>\n",
       "    <tr>\n",
       "      <th>4</th>\n",
       "      <td>2022-08-02 15:37:00</td>\n",
       "      <td>42</td>\n",
       "      <td>4</td>\n",
       "      <td>0</td>\n",
       "      <td>0</td>\n",
       "      <td>0</td>\n",
       "      <td>1</td>\n",
       "      <td>0</td>\n",
       "      <td>0</td>\n",
       "      <td>0</td>\n",
       "    </tr>\n",
       "  </tbody>\n",
       "</table>\n",
       "</div>"
      ],
      "text/plain": [
       "            Date_Time  Age  Satisfaction  Sale  Eye_Colour_Blue  \\\n",
       "0 2022-09-25 23:30:00   54             0     0                0   \n",
       "1 2022-08-30 13:23:00   59             4     0                0   \n",
       "2 2022-06-23 09:18:00   36             4     0                0   \n",
       "3 2022-08-15 21:25:00   34             0     1                0   \n",
       "4 2022-08-02 15:37:00   42             4     0                0   \n",
       "\n",
       "   Eye_Colour_Brown  Eye_Colour_Gray  Eye_Colour_Green  Eye_Colour_Hazel  \\\n",
       "0                 0                0                 0                 1   \n",
       "1                 0                0                 1                 0   \n",
       "2                 0                1                 0                 0   \n",
       "3                 0                1                 0                 0   \n",
       "4                 0                1                 0                 0   \n",
       "\n",
       "   Eye_Colour_Red  \n",
       "0               0  \n",
       "1               0  \n",
       "2               0  \n",
       "3               0  \n",
       "4               0  "
      ]
     },
     "execution_count": 18,
     "metadata": {},
     "output_type": "execute_result"
    }
   ],
   "source": [
    "demo_data.head()"
   ]
  },
  {
   "cell_type": "code",
   "execution_count": 19,
   "id": "016c4e93-5aa8-45a9-b0a9-e98f9978eac9",
   "metadata": {},
   "outputs": [
    {
     "data": {
      "text/plain": [
       "Date_Time           datetime64[ns]\n",
       "Age                          int64\n",
       "Satisfaction                 int64\n",
       "Sale                         int64\n",
       "Eye_Colour_Blue              uint8\n",
       "Eye_Colour_Brown             uint8\n",
       "Eye_Colour_Gray              uint8\n",
       "Eye_Colour_Green             uint8\n",
       "Eye_Colour_Hazel             uint8\n",
       "Eye_Colour_Red               uint8\n",
       "dtype: object"
      ]
     },
     "execution_count": 19,
     "metadata": {},
     "output_type": "execute_result"
    }
   ],
   "source": [
    "demo_data.dtypes"
   ]
  },
  {
   "cell_type": "code",
   "execution_count": null,
   "id": "be051295-9288-4a96-b562-ea70097cb4dc",
   "metadata": {},
   "outputs": [],
   "source": [
    "## Data Encoding"
   ]
  },
  {
   "cell_type": "code",
   "execution_count": 20,
   "id": "3d51fcdb-d039-4de3-8d21-4ad4a18e786e",
   "metadata": {},
   "outputs": [],
   "source": [
    "# Here we will encode the date time to hour, day, month or year depending on our needs.\n",
    "\n",
    "demo_data['Date_Time'] = demo_data['Date_Time'].dt.hour\n",
    "#demo_data['Date_Time'] = demo_data['Date_Time'].dt.day\n",
    "#demo_data['Date_Time'] = demo_data['Date_Time'].dt.month\n",
    "#demo_data['Date_Time'] = demo_data['Date_Time'].dt.year"
   ]
  },
  {
   "cell_type": "code",
   "execution_count": 21,
   "id": "1c1b8625-38a9-4afe-9be6-7621560ee607",
   "metadata": {},
   "outputs": [
    {
     "data": {
      "text/html": [
       "<div>\n",
       "<style scoped>\n",
       "    .dataframe tbody tr th:only-of-type {\n",
       "        vertical-align: middle;\n",
       "    }\n",
       "\n",
       "    .dataframe tbody tr th {\n",
       "        vertical-align: top;\n",
       "    }\n",
       "\n",
       "    .dataframe thead th {\n",
       "        text-align: right;\n",
       "    }\n",
       "</style>\n",
       "<table border=\"1\" class=\"dataframe\">\n",
       "  <thead>\n",
       "    <tr style=\"text-align: right;\">\n",
       "      <th></th>\n",
       "      <th>Date_Time</th>\n",
       "      <th>Age</th>\n",
       "      <th>Satisfaction</th>\n",
       "      <th>Sale</th>\n",
       "      <th>Eye_Colour_Blue</th>\n",
       "      <th>Eye_Colour_Brown</th>\n",
       "      <th>Eye_Colour_Gray</th>\n",
       "      <th>Eye_Colour_Green</th>\n",
       "      <th>Eye_Colour_Hazel</th>\n",
       "      <th>Eye_Colour_Red</th>\n",
       "    </tr>\n",
       "  </thead>\n",
       "  <tbody>\n",
       "    <tr>\n",
       "      <th>0</th>\n",
       "      <td>23</td>\n",
       "      <td>54</td>\n",
       "      <td>0</td>\n",
       "      <td>0</td>\n",
       "      <td>0</td>\n",
       "      <td>0</td>\n",
       "      <td>0</td>\n",
       "      <td>0</td>\n",
       "      <td>1</td>\n",
       "      <td>0</td>\n",
       "    </tr>\n",
       "    <tr>\n",
       "      <th>1</th>\n",
       "      <td>13</td>\n",
       "      <td>59</td>\n",
       "      <td>4</td>\n",
       "      <td>0</td>\n",
       "      <td>0</td>\n",
       "      <td>0</td>\n",
       "      <td>0</td>\n",
       "      <td>1</td>\n",
       "      <td>0</td>\n",
       "      <td>0</td>\n",
       "    </tr>\n",
       "    <tr>\n",
       "      <th>2</th>\n",
       "      <td>9</td>\n",
       "      <td>36</td>\n",
       "      <td>4</td>\n",
       "      <td>0</td>\n",
       "      <td>0</td>\n",
       "      <td>0</td>\n",
       "      <td>1</td>\n",
       "      <td>0</td>\n",
       "      <td>0</td>\n",
       "      <td>0</td>\n",
       "    </tr>\n",
       "    <tr>\n",
       "      <th>3</th>\n",
       "      <td>21</td>\n",
       "      <td>34</td>\n",
       "      <td>0</td>\n",
       "      <td>1</td>\n",
       "      <td>0</td>\n",
       "      <td>0</td>\n",
       "      <td>1</td>\n",
       "      <td>0</td>\n",
       "      <td>0</td>\n",
       "      <td>0</td>\n",
       "    </tr>\n",
       "    <tr>\n",
       "      <th>4</th>\n",
       "      <td>15</td>\n",
       "      <td>42</td>\n",
       "      <td>4</td>\n",
       "      <td>0</td>\n",
       "      <td>0</td>\n",
       "      <td>0</td>\n",
       "      <td>1</td>\n",
       "      <td>0</td>\n",
       "      <td>0</td>\n",
       "      <td>0</td>\n",
       "    </tr>\n",
       "  </tbody>\n",
       "</table>\n",
       "</div>"
      ],
      "text/plain": [
       "   Date_Time  Age  Satisfaction  Sale  Eye_Colour_Blue  Eye_Colour_Brown  \\\n",
       "0         23   54             0     0                0                 0   \n",
       "1         13   59             4     0                0                 0   \n",
       "2          9   36             4     0                0                 0   \n",
       "3         21   34             0     1                0                 0   \n",
       "4         15   42             4     0                0                 0   \n",
       "\n",
       "   Eye_Colour_Gray  Eye_Colour_Green  Eye_Colour_Hazel  Eye_Colour_Red  \n",
       "0                0                 0                 1               0  \n",
       "1                0                 1                 0               0  \n",
       "2                1                 0                 0               0  \n",
       "3                1                 0                 0               0  \n",
       "4                1                 0                 0               0  "
      ]
     },
     "execution_count": 21,
     "metadata": {},
     "output_type": "execute_result"
    }
   ],
   "source": [
    "demo_data.head()"
   ]
  }
 ],
 "metadata": {
  "kernelspec": {
   "display_name": "conda_python3",
   "language": "python",
   "name": "conda_python3"
  },
  "language_info": {
   "codemirror_mode": {
    "name": "ipython",
    "version": 3
   },
   "file_extension": ".py",
   "mimetype": "text/x-python",
   "name": "python",
   "nbconvert_exporter": "python",
   "pygments_lexer": "ipython3",
   "version": "3.10.6"
  }
 },
 "nbformat": 4,
 "nbformat_minor": 5
}
