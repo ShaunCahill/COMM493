{
 "cells": [
  {
   "cell_type": "markdown",
   "id": "36e3d5b2-2cf0-4c45-9b0e-2bc6cc15b4c2",
   "metadata": {},
   "source": [
    "# Predict a binary value using BlazingText"
   ]
  },
  {
   "cell_type": "markdown",
   "id": "d7f24767-ee8e-4e76-867c-597b769c8c31",
   "metadata": {},
   "source": [
    "## BlazingText\n",
    "\n",
    "https://docs.aws.amazon.com/sagemaker/latest/dg/blazingtext.html"
   ]
  },
  {
   "cell_type": "markdown",
   "id": "19db27d4-83ff-4d09-9526-d15140c833b1",
   "metadata": {},
   "source": [
    "# Prepare the Environment"
   ]
  },
  {
   "cell_type": "markdown",
   "id": "f43e7003-94fa-400f-aee3-7575de24c38b",
   "metadata": {},
   "source": [
    "## Upgrade the version of boto3 and sagemaker"
   ]
  },
  {
   "cell_type": "code",
   "execution_count": 1,
   "id": "6d2c0793-d9ec-49c2-8ae2-ee7c862b7ab0",
   "metadata": {
    "tags": []
   },
   "outputs": [
    {
     "name": "stdout",
     "output_type": "stream",
     "text": [
      "Note: you may need to restart the kernel to use updated packages.\n",
      "Note: you may need to restart the kernel to use updated packages.\n"
     ]
    }
   ],
   "source": [
    "%pip install -qU --upgrade boto3\n",
    "%pip install -qU --upgrade sagemaker"
   ]
  },
  {
   "cell_type": "code",
   "execution_count": 2,
   "id": "bc293a9b-ca07-42b6-a9ce-4ca78b7a32fc",
   "metadata": {
    "tags": []
   },
   "outputs": [],
   "source": [
    "import pandas as pd\n",
    "import numpy as np\n",
    "import seaborn as sns\n",
    "import matplotlib.pyplot as plt\n",
    "import json\n",
    "from sklearn.model_selection import train_test_split\n",
    "import sagemaker\n",
    "from sagemaker.estimator import Estimator \n",
    "from sagemaker import get_execution_role\n",
    "import boto3\n",
    "from sagemaker import image_uris\n",
    "import nltk\n",
    "from nltk.tokenize import word_tokenize, wordpunct_tokenize\n",
    "from nltk.corpus import stopwords\n",
    "import time\n",
    "from time import gmtime, strftime"
   ]
  },
  {
   "cell_type": "markdown",
   "id": "1fbe15d5-aaea-4209-8380-6b9cff0ffd87",
   "metadata": {},
   "source": [
    "## Download the NTLK Trained Models"
   ]
  },
  {
   "cell_type": "code",
   "execution_count": 3,
   "id": "4a962da2-571d-4827-a88b-d8b06cfdb8db",
   "metadata": {
    "tags": []
   },
   "outputs": [
    {
     "name": "stderr",
     "output_type": "stream",
     "text": [
      "[nltk_data] Downloading package punkt to /home/ec2-user/nltk_data...\n",
      "[nltk_data]   Package punkt is already up-to-date!\n"
     ]
    },
    {
     "data": {
      "text/plain": [
       "True"
      ]
     },
     "execution_count": 3,
     "metadata": {},
     "output_type": "execute_result"
    }
   ],
   "source": [
    "nltk.download('punkt')"
   ]
  },
  {
   "cell_type": "markdown",
   "id": "be3c101e-8493-4bb8-b716-29829211d798",
   "metadata": {},
   "source": [
    "## Download the NTLK Stopwords list"
   ]
  },
  {
   "cell_type": "code",
   "execution_count": 4,
   "id": "8f0f7860-ff05-4907-a67a-d0c898adfd51",
   "metadata": {
    "tags": []
   },
   "outputs": [
    {
     "name": "stderr",
     "output_type": "stream",
     "text": [
      "[nltk_data] Downloading package stopwords to\n",
      "[nltk_data]     /home/ec2-user/nltk_data...\n",
      "[nltk_data]   Package stopwords is already up-to-date!\n"
     ]
    },
    {
     "data": {
      "text/plain": [
       "True"
      ]
     },
     "execution_count": 4,
     "metadata": {},
     "output_type": "execute_result"
    }
   ],
   "source": [
    "nltk.download('stopwords')"
   ]
  },
  {
   "cell_type": "markdown",
   "id": "4d00e4ae-adb4-4cfc-bb29-d490c65f2b66",
   "metadata": {},
   "source": [
    "## Setup your your Environment Variables"
   ]
  },
  {
   "cell_type": "code",
   "execution_count": 5,
   "id": "083df54a-ab69-4741-b26a-78f7d9dce946",
   "metadata": {
    "tags": []
   },
   "outputs": [
    {
     "name": "stdout",
     "output_type": "stream",
     "text": [
      "The role is  arn:aws:iam::870427325799:role/LabRole\n",
      "The session is  <sagemaker.session.Session object at 0x7f4f9a515510>\n",
      "The region is  us-east-1\n",
      "The bucket is  sagemaker-us-east-1-870427325799\n"
     ]
    }
   ],
   "source": [
    "role = get_execution_role()\n",
    "sess = sagemaker.Session() \n",
    "region = sess.boto_session.region_name\n",
    "bucket = sess.default_bucket()\n",
    "print(\"The role is \", role)\n",
    "print(\"The session is \", sess)\n",
    "print(\"The region is \", region)\n",
    "print(\"The bucket is \", bucket)"
   ]
  },
  {
   "cell_type": "markdown",
   "id": "c394d331-1579-4f46-9760-879fce02f555",
   "metadata": {
    "tags": []
   },
   "source": [
    "## We are going to use BlazingText to make predicitons based on the SMS Spam Collection Dataset\n",
    "\n",
    "## SMS Spam Collection Dataset\n",
    "https://www.kaggle.com/datasets/uciml/sms-spam-collection-dataset\n",
    "\n",
    "### About Dataset\n",
    "\n",
    "#### Context\n",
    "The SMS Spam Collection is a set of SMS tagged messages that have been collected for SMS Spam research. It contains one set of SMS messages in English of 5,574 messages, tagged acording being ham (legitimate) or spam.\n",
    "\n",
    "#### Content\n",
    "The files contain one message per line. Each line is composed by two columns: v1 contains the label (ham or spam) and v2 contains the raw text.\n",
    "\n",
    "This corpus has been collected from free or free for research sources at the Internet:\n",
    "\n",
    "-> A collection of 425 SMS spam messages was manually extracted from the Grumbletext Web site. This is a UK forum in which cell phone users make public claims about SMS spam messages, most of them without reporting the very spam message received. The identification of the text of spam messages in the claims is a very hard and time-consuming task, and it involved carefully scanning hundreds of web pages. The Grumbletext Web site is: [Web Link].\n",
    "\n",
    "-> A subset of 3,375 SMS randomly chosen ham messages of the NUS SMS Corpus (NSC), which is a dataset of about 10,000 legitimate messages collected for research at the Department of Computer Science at the National University of Singapore. The messages largely originate from Singaporeans and mostly from students attending the University. These messages were collected from volunteers who were made aware that their contributions were going to be made publicly available. The NUS SMS Corpus is avalaible at: [Web Link].\n",
    "\n",
    "-> A list of 450 SMS ham messages collected from Caroline Tag's PhD Thesis available at [Web Link].\n",
    "\n",
    "-> Finally, we have incorporated the SMS Spam Corpus v.0.1 Big. It has 1,002 SMS ham messages and 322 spam messages and it is public available at: [Web Link]. This corpus has been used in the following academic researches:\n"
   ]
  },
  {
   "cell_type": "markdown",
   "id": "f92dbab1-8589-4715-bc60-824cec0f7882",
   "metadata": {
    "tags": []
   },
   "source": [
    "# Prepare and Inspect the Data\n",
    "## Download the Dataset to Jupyter Notebook and Explore the Data"
   ]
  },
  {
   "cell_type": "code",
   "execution_count": 6,
   "id": "5af929e4-b12d-478a-8c3d-ac3876e60ce6",
   "metadata": {
    "tags": []
   },
   "outputs": [],
   "source": [
    "# Import the data into a pandas DataFrame\n",
    "\n",
    "spam_data = pd.read_csv(\"spam.csv\")"
   ]
  },
  {
   "cell_type": "code",
   "execution_count": 7,
   "id": "34c31bd5-60a1-4e69-84ed-0c0bb8ce2872",
   "metadata": {
    "tags": []
   },
   "outputs": [
    {
     "data": {
      "text/html": [
       "<div>\n",
       "<style scoped>\n",
       "    .dataframe tbody tr th:only-of-type {\n",
       "        vertical-align: middle;\n",
       "    }\n",
       "\n",
       "    .dataframe tbody tr th {\n",
       "        vertical-align: top;\n",
       "    }\n",
       "\n",
       "    .dataframe thead th {\n",
       "        text-align: right;\n",
       "    }\n",
       "</style>\n",
       "<table border=\"1\" class=\"dataframe\">\n",
       "  <thead>\n",
       "    <tr style=\"text-align: right;\">\n",
       "      <th></th>\n",
       "      <th>Category</th>\n",
       "      <th>Message</th>\n",
       "    </tr>\n",
       "  </thead>\n",
       "  <tbody>\n",
       "    <tr>\n",
       "      <th>0</th>\n",
       "      <td>ham</td>\n",
       "      <td>Go until jurong point, crazy.. Available only ...</td>\n",
       "    </tr>\n",
       "    <tr>\n",
       "      <th>1</th>\n",
       "      <td>ham</td>\n",
       "      <td>Ok lar... Joking wif u oni...</td>\n",
       "    </tr>\n",
       "    <tr>\n",
       "      <th>2</th>\n",
       "      <td>spam</td>\n",
       "      <td>Free entry in 2 a wkly comp to win FA Cup fina...</td>\n",
       "    </tr>\n",
       "    <tr>\n",
       "      <th>3</th>\n",
       "      <td>ham</td>\n",
       "      <td>U dun say so early hor... U c already then say...</td>\n",
       "    </tr>\n",
       "    <tr>\n",
       "      <th>4</th>\n",
       "      <td>ham</td>\n",
       "      <td>Nah I don't think he goes to usf, he lives aro...</td>\n",
       "    </tr>\n",
       "    <tr>\n",
       "      <th>...</th>\n",
       "      <td>...</td>\n",
       "      <td>...</td>\n",
       "    </tr>\n",
       "    <tr>\n",
       "      <th>5567</th>\n",
       "      <td>spam</td>\n",
       "      <td>This is the 2nd time we have tried 2 contact u...</td>\n",
       "    </tr>\n",
       "    <tr>\n",
       "      <th>5568</th>\n",
       "      <td>ham</td>\n",
       "      <td>Will ?_ b going to esplanade fr home?</td>\n",
       "    </tr>\n",
       "    <tr>\n",
       "      <th>5569</th>\n",
       "      <td>ham</td>\n",
       "      <td>Pity, * was in mood for that. So...any other s...</td>\n",
       "    </tr>\n",
       "    <tr>\n",
       "      <th>5570</th>\n",
       "      <td>ham</td>\n",
       "      <td>The guy did some bitching but I acted like i'd...</td>\n",
       "    </tr>\n",
       "    <tr>\n",
       "      <th>5571</th>\n",
       "      <td>ham</td>\n",
       "      <td>Rofl. Its true to its name</td>\n",
       "    </tr>\n",
       "  </tbody>\n",
       "</table>\n",
       "<p>5572 rows × 2 columns</p>\n",
       "</div>"
      ],
      "text/plain": [
       "     Category                                            Message\n",
       "0         ham  Go until jurong point, crazy.. Available only ...\n",
       "1         ham                      Ok lar... Joking wif u oni...\n",
       "2        spam  Free entry in 2 a wkly comp to win FA Cup fina...\n",
       "3         ham  U dun say so early hor... U c already then say...\n",
       "4         ham  Nah I don't think he goes to usf, he lives aro...\n",
       "...       ...                                                ...\n",
       "5567     spam  This is the 2nd time we have tried 2 contact u...\n",
       "5568      ham              Will ?_ b going to esplanade fr home?\n",
       "5569      ham  Pity, * was in mood for that. So...any other s...\n",
       "5570      ham  The guy did some bitching but I acted like i'd...\n",
       "5571      ham                         Rofl. Its true to its name\n",
       "\n",
       "[5572 rows x 2 columns]"
      ]
     },
     "execution_count": 7,
     "metadata": {},
     "output_type": "execute_result"
    }
   ],
   "source": [
    "# Look at the data\n",
    "\n",
    "spam_data"
   ]
  },
  {
   "cell_type": "code",
   "execution_count": 8,
   "id": "05aa9f32-234f-4644-bad5-3f6000ec640e",
   "metadata": {
    "tags": []
   },
   "outputs": [
    {
     "data": {
      "text/plain": [
       "Category    0\n",
       "Message     0\n",
       "dtype: int64"
      ]
     },
     "execution_count": 8,
     "metadata": {},
     "output_type": "execute_result"
    }
   ],
   "source": [
    "# Lets check to see if there are any missing values\n",
    "\n",
    "spam_data.isnull().sum()"
   ]
  },
  {
   "cell_type": "code",
   "execution_count": 9,
   "id": "faba2e55-55b4-4ffb-b454-81fb1f8e06ac",
   "metadata": {
    "tags": []
   },
   "outputs": [
    {
     "data": {
      "text/html": [
       "<div>\n",
       "<style scoped>\n",
       "    .dataframe tbody tr th:only-of-type {\n",
       "        vertical-align: middle;\n",
       "    }\n",
       "\n",
       "    .dataframe tbody tr th {\n",
       "        vertical-align: top;\n",
       "    }\n",
       "\n",
       "    .dataframe thead th {\n",
       "        text-align: right;\n",
       "    }\n",
       "</style>\n",
       "<table border=\"1\" class=\"dataframe\">\n",
       "  <thead>\n",
       "    <tr style=\"text-align: right;\">\n",
       "      <th></th>\n",
       "      <th>Category</th>\n",
       "      <th>Message</th>\n",
       "    </tr>\n",
       "  </thead>\n",
       "  <tbody>\n",
       "    <tr>\n",
       "      <th>count</th>\n",
       "      <td>5572</td>\n",
       "      <td>5572</td>\n",
       "    </tr>\n",
       "    <tr>\n",
       "      <th>unique</th>\n",
       "      <td>2</td>\n",
       "      <td>5169</td>\n",
       "    </tr>\n",
       "    <tr>\n",
       "      <th>top</th>\n",
       "      <td>ham</td>\n",
       "      <td>Sorry, I'll call later</td>\n",
       "    </tr>\n",
       "    <tr>\n",
       "      <th>freq</th>\n",
       "      <td>4825</td>\n",
       "      <td>30</td>\n",
       "    </tr>\n",
       "  </tbody>\n",
       "</table>\n",
       "</div>"
      ],
      "text/plain": [
       "       Category                 Message\n",
       "count      5572                    5572\n",
       "unique        2                    5169\n",
       "top         ham  Sorry, I'll call later\n",
       "freq       4825                      30"
      ]
     },
     "execution_count": 9,
     "metadata": {},
     "output_type": "execute_result"
    }
   ],
   "source": [
    "# Use describe to get some information about the data\n",
    "\n",
    "spam_data.describe()"
   ]
  },
  {
   "cell_type": "code",
   "execution_count": 10,
   "id": "b1dbce41-bdf4-468c-8fa4-514ee8b16ddb",
   "metadata": {
    "tags": []
   },
   "outputs": [
    {
     "data": {
      "text/html": [
       "<div>\n",
       "<style scoped>\n",
       "    .dataframe tbody tr th:only-of-type {\n",
       "        vertical-align: middle;\n",
       "    }\n",
       "\n",
       "    .dataframe tbody tr th {\n",
       "        vertical-align: top;\n",
       "    }\n",
       "\n",
       "    .dataframe thead tr th {\n",
       "        text-align: left;\n",
       "    }\n",
       "\n",
       "    .dataframe thead tr:last-of-type th {\n",
       "        text-align: right;\n",
       "    }\n",
       "</style>\n",
       "<table border=\"1\" class=\"dataframe\">\n",
       "  <thead>\n",
       "    <tr>\n",
       "      <th></th>\n",
       "      <th colspan=\"4\" halign=\"left\">Message</th>\n",
       "    </tr>\n",
       "    <tr>\n",
       "      <th></th>\n",
       "      <th>count</th>\n",
       "      <th>unique</th>\n",
       "      <th>top</th>\n",
       "      <th>freq</th>\n",
       "    </tr>\n",
       "    <tr>\n",
       "      <th>Category</th>\n",
       "      <th></th>\n",
       "      <th></th>\n",
       "      <th></th>\n",
       "      <th></th>\n",
       "    </tr>\n",
       "  </thead>\n",
       "  <tbody>\n",
       "    <tr>\n",
       "      <th>ham</th>\n",
       "      <td>4825</td>\n",
       "      <td>4516</td>\n",
       "      <td>Sorry, I'll call later</td>\n",
       "      <td>30</td>\n",
       "    </tr>\n",
       "    <tr>\n",
       "      <th>spam</th>\n",
       "      <td>747</td>\n",
       "      <td>653</td>\n",
       "      <td>Please call our customer service representativ...</td>\n",
       "      <td>4</td>\n",
       "    </tr>\n",
       "  </tbody>\n",
       "</table>\n",
       "</div>"
      ],
      "text/plain": [
       "         Message                                                            \\\n",
       "           count unique                                                top   \n",
       "Category                                                                     \n",
       "ham         4825   4516                             Sorry, I'll call later   \n",
       "spam         747    653  Please call our customer service representativ...   \n",
       "\n",
       "               \n",
       "         freq  \n",
       "Category       \n",
       "ham        30  \n",
       "spam        4  "
      ]
     },
     "execution_count": 10,
     "metadata": {},
     "output_type": "execute_result"
    }
   ],
   "source": [
    "# Use the group by to see how many records there are for each label\n",
    "\n",
    "spam_data.groupby('Category').describe()"
   ]
  },
  {
   "cell_type": "code",
   "execution_count": 11,
   "id": "fe8700d3-d7c5-490e-81a8-50d7ce2a2150",
   "metadata": {
    "tags": []
   },
   "outputs": [
    {
     "data": {
      "text/plain": [
       "<AxesSubplot: xlabel='Category', ylabel='count'>"
      ]
     },
     "execution_count": 11,
     "metadata": {},
     "output_type": "execute_result"
    },
    {
     "data": {
      "image/png": "[encoded data removed]",
      "text/plain": [
       "<Figure size 640x480 with 1 Axes>"
      ]
     },
     "metadata": {},
     "output_type": "display_data"
    }
   ],
   "source": [
    "# Using Seaborn visualize the balance between the two labels\n",
    "\n",
    "sns.countplot(x ='Category', data = spam_data)"
   ]
  },
  {
   "cell_type": "code",
   "execution_count": 12,
   "id": "d3198449-7f2f-455d-b3be-71456de8de87",
   "metadata": {
    "tags": []
   },
   "outputs": [],
   "source": [
    "# I am creating a copy of the Dataframe so that I can modify it for deeper visualization\n",
    "\n",
    "spam_data_analysis = spam_data.copy()"
   ]
  },
  {
   "cell_type": "code",
   "execution_count": 13,
   "id": "9f004f8f-b82e-4b3c-9450-b9b562990b31",
   "metadata": {
    "tags": []
   },
   "outputs": [
    {
     "data": {
      "text/html": [
       "<div>\n",
       "<style scoped>\n",
       "    .dataframe tbody tr th:only-of-type {\n",
       "        vertical-align: middle;\n",
       "    }\n",
       "\n",
       "    .dataframe tbody tr th {\n",
       "        vertical-align: top;\n",
       "    }\n",
       "\n",
       "    .dataframe thead th {\n",
       "        text-align: right;\n",
       "    }\n",
       "</style>\n",
       "<table border=\"1\" class=\"dataframe\">\n",
       "  <thead>\n",
       "    <tr style=\"text-align: right;\">\n",
       "      <th></th>\n",
       "      <th>Category</th>\n",
       "      <th>Message</th>\n",
       "    </tr>\n",
       "  </thead>\n",
       "  <tbody>\n",
       "    <tr>\n",
       "      <th>0</th>\n",
       "      <td>ham</td>\n",
       "      <td>Go until jurong point, crazy.. Available only ...</td>\n",
       "    </tr>\n",
       "    <tr>\n",
       "      <th>1</th>\n",
       "      <td>ham</td>\n",
       "      <td>Ok lar... Joking wif u oni...</td>\n",
       "    </tr>\n",
       "    <tr>\n",
       "      <th>2</th>\n",
       "      <td>spam</td>\n",
       "      <td>Free entry in 2 a wkly comp to win FA Cup fina...</td>\n",
       "    </tr>\n",
       "    <tr>\n",
       "      <th>3</th>\n",
       "      <td>ham</td>\n",
       "      <td>U dun say so early hor... U c already then say...</td>\n",
       "    </tr>\n",
       "    <tr>\n",
       "      <th>4</th>\n",
       "      <td>ham</td>\n",
       "      <td>Nah I don't think he goes to usf, he lives aro...</td>\n",
       "    </tr>\n",
       "    <tr>\n",
       "      <th>...</th>\n",
       "      <td>...</td>\n",
       "      <td>...</td>\n",
       "    </tr>\n",
       "    <tr>\n",
       "      <th>5567</th>\n",
       "      <td>spam</td>\n",
       "      <td>This is the 2nd time we have tried 2 contact u...</td>\n",
       "    </tr>\n",
       "    <tr>\n",
       "      <th>5568</th>\n",
       "      <td>ham</td>\n",
       "      <td>Will ?_ b going to esplanade fr home?</td>\n",
       "    </tr>\n",
       "    <tr>\n",
       "      <th>5569</th>\n",
       "      <td>ham</td>\n",
       "      <td>Pity, * was in mood for that. So...any other s...</td>\n",
       "    </tr>\n",
       "    <tr>\n",
       "      <th>5570</th>\n",
       "      <td>ham</td>\n",
       "      <td>The guy did some bitching but I acted like i'd...</td>\n",
       "    </tr>\n",
       "    <tr>\n",
       "      <th>5571</th>\n",
       "      <td>ham</td>\n",
       "      <td>Rofl. Its true to its name</td>\n",
       "    </tr>\n",
       "  </tbody>\n",
       "</table>\n",
       "<p>5572 rows × 2 columns</p>\n",
       "</div>"
      ],
      "text/plain": [
       "     Category                                            Message\n",
       "0         ham  Go until jurong point, crazy.. Available only ...\n",
       "1         ham                      Ok lar... Joking wif u oni...\n",
       "2        spam  Free entry in 2 a wkly comp to win FA Cup fina...\n",
       "3         ham  U dun say so early hor... U c already then say...\n",
       "4         ham  Nah I don't think he goes to usf, he lives aro...\n",
       "...       ...                                                ...\n",
       "5567     spam  This is the 2nd time we have tried 2 contact u...\n",
       "5568      ham              Will ?_ b going to esplanade fr home?\n",
       "5569      ham  Pity, * was in mood for that. So...any other s...\n",
       "5570      ham  The guy did some bitching but I acted like i'd...\n",
       "5571      ham                         Rofl. Its true to its name\n",
       "\n",
       "[5572 rows x 2 columns]"
      ]
     },
     "execution_count": 13,
     "metadata": {},
     "output_type": "execute_result"
    }
   ],
   "source": [
    "# Make sure the copy worked\n",
    "\n",
    "spam_data_analysis"
   ]
  },
  {
   "cell_type": "code",
   "execution_count": 14,
   "id": "e1f7f672-e9b3-4928-8d99-ae1cc22ce23a",
   "metadata": {
    "tags": []
   },
   "outputs": [
    {
     "data": {
      "text/html": [
       "<div>\n",
       "<style scoped>\n",
       "    .dataframe tbody tr th:only-of-type {\n",
       "        vertical-align: middle;\n",
       "    }\n",
       "\n",
       "    .dataframe tbody tr th {\n",
       "        vertical-align: top;\n",
       "    }\n",
       "\n",
       "    .dataframe thead th {\n",
       "        text-align: right;\n",
       "    }\n",
       "</style>\n",
       "<table border=\"1\" class=\"dataframe\">\n",
       "  <thead>\n",
       "    <tr style=\"text-align: right;\">\n",
       "      <th></th>\n",
       "      <th>Category</th>\n",
       "      <th>Message</th>\n",
       "      <th>Message_Length</th>\n",
       "    </tr>\n",
       "  </thead>\n",
       "  <tbody>\n",
       "    <tr>\n",
       "      <th>0</th>\n",
       "      <td>ham</td>\n",
       "      <td>Go until jurong point, crazy.. Available only ...</td>\n",
       "      <td>111</td>\n",
       "    </tr>\n",
       "    <tr>\n",
       "      <th>1</th>\n",
       "      <td>ham</td>\n",
       "      <td>Ok lar... Joking wif u oni...</td>\n",
       "      <td>29</td>\n",
       "    </tr>\n",
       "    <tr>\n",
       "      <th>2</th>\n",
       "      <td>spam</td>\n",
       "      <td>Free entry in 2 a wkly comp to win FA Cup fina...</td>\n",
       "      <td>155</td>\n",
       "    </tr>\n",
       "    <tr>\n",
       "      <th>3</th>\n",
       "      <td>ham</td>\n",
       "      <td>U dun say so early hor... U c already then say...</td>\n",
       "      <td>49</td>\n",
       "    </tr>\n",
       "    <tr>\n",
       "      <th>4</th>\n",
       "      <td>ham</td>\n",
       "      <td>Nah I don't think he goes to usf, he lives aro...</td>\n",
       "      <td>61</td>\n",
       "    </tr>\n",
       "  </tbody>\n",
       "</table>\n",
       "</div>"
      ],
      "text/plain": [
       "  Category                                            Message  Message_Length\n",
       "0      ham  Go until jurong point, crazy.. Available only ...             111\n",
       "1      ham                      Ok lar... Joking wif u oni...              29\n",
       "2     spam  Free entry in 2 a wkly comp to win FA Cup fina...             155\n",
       "3      ham  U dun say so early hor... U c already then say...              49\n",
       "4      ham  Nah I don't think he goes to usf, he lives aro...              61"
      ]
     },
     "execution_count": 14,
     "metadata": {},
     "output_type": "execute_result"
    }
   ],
   "source": [
    "# Create a new column call Message_Length and sore the length of each corresponding message \n",
    "\n",
    "spam_data_analysis['Message_Length'] = spam_data_analysis.Message.apply(len)\n",
    "spam_data_analysis.head()"
   ]
  },
  {
   "cell_type": "code",
   "execution_count": 15,
   "id": "a09874d9-e456-40ec-a8cc-1b2f48293589",
   "metadata": {
    "tags": []
   },
   "outputs": [
    {
     "data": {
      "text/plain": [
       "Text(0.5, 0, 'Message Length')"
      ]
     },
     "execution_count": 15,
     "metadata": {},
     "output_type": "execute_result"
    },
    {
     "data": {
      "image/png": "[encoded data removed]",
      "text/plain": [
       "<Figure size 1200x800 with 1 Axes>"
      ]
     },
     "metadata": {},
     "output_type": "display_data"
    }
   ],
   "source": [
    "# Plot the relationship between length of the message and category\n",
    "\n",
    "plt.figure(figsize=(12, 8))\n",
    "\n",
    "spam_data_analysis[spam_data_analysis.Category=='ham'].Message_Length.plot(bins=35, kind='hist', color='blue', \n",
    "                                       label='Ham messages', alpha=0.6)\n",
    "spam_data_analysis[spam_data_analysis.Category=='spam'].Message_Length.plot(kind='hist', color='red', \n",
    "                                       label='Spam messages', alpha=0.6)\n",
    "plt.legend()\n",
    "plt.xlabel(\"Message Length\")"
   ]
  },
  {
   "cell_type": "markdown",
   "id": "65ddc572-fe68-4a14-9ff6-3d22774ab928",
   "metadata": {},
   "source": [
    "# Transform the Data into the following format\n",
    "\n",
    "__label__4  linux ready for prime time , intel says , despite all the linux hype , the open-source movement has yet to make a huge splash in the desktop market . that may be about to change , thanks to chipmaking giant intel corp .\n",
    "\n",
    "__label__2  bowled by the slower one again , kolkata , november 14 the past caught up with sourav ganguly as the indian skippers return to international cricket was short lived .\n"
   ]
  },
  {
   "cell_type": "code",
   "execution_count": 16,
   "id": "098a0908-ffc6-44d8-badb-2db395160e38",
   "metadata": {
    "tags": []
   },
   "outputs": [],
   "source": [
    "# Concatenate __label__ with spam_data['Category'] \n",
    "\n",
    "spam_data['Category'] = \"__label__\" + spam_data['Category']"
   ]
  },
  {
   "cell_type": "code",
   "execution_count": 17,
   "id": "5738d1cb-376b-4537-8efd-bd36ace72990",
   "metadata": {
    "tags": []
   },
   "outputs": [
    {
     "data": {
      "text/html": [
       "<div>\n",
       "<style scoped>\n",
       "    .dataframe tbody tr th:only-of-type {\n",
       "        vertical-align: middle;\n",
       "    }\n",
       "\n",
       "    .dataframe tbody tr th {\n",
       "        vertical-align: top;\n",
       "    }\n",
       "\n",
       "    .dataframe thead th {\n",
       "        text-align: right;\n",
       "    }\n",
       "</style>\n",
       "<table border=\"1\" class=\"dataframe\">\n",
       "  <thead>\n",
       "    <tr style=\"text-align: right;\">\n",
       "      <th></th>\n",
       "      <th>Category</th>\n",
       "      <th>Message</th>\n",
       "    </tr>\n",
       "  </thead>\n",
       "  <tbody>\n",
       "    <tr>\n",
       "      <th>0</th>\n",
       "      <td>__label__ham</td>\n",
       "      <td>Go until jurong point, crazy.. Available only ...</td>\n",
       "    </tr>\n",
       "    <tr>\n",
       "      <th>1</th>\n",
       "      <td>__label__ham</td>\n",
       "      <td>Ok lar... Joking wif u oni...</td>\n",
       "    </tr>\n",
       "    <tr>\n",
       "      <th>2</th>\n",
       "      <td>__label__spam</td>\n",
       "      <td>Free entry in 2 a wkly comp to win FA Cup fina...</td>\n",
       "    </tr>\n",
       "    <tr>\n",
       "      <th>3</th>\n",
       "      <td>__label__ham</td>\n",
       "      <td>U dun say so early hor... U c already then say...</td>\n",
       "    </tr>\n",
       "    <tr>\n",
       "      <th>4</th>\n",
       "      <td>__label__ham</td>\n",
       "      <td>Nah I don't think he goes to usf, he lives aro...</td>\n",
       "    </tr>\n",
       "    <tr>\n",
       "      <th>...</th>\n",
       "      <td>...</td>\n",
       "      <td>...</td>\n",
       "    </tr>\n",
       "    <tr>\n",
       "      <th>5567</th>\n",
       "      <td>__label__spam</td>\n",
       "      <td>This is the 2nd time we have tried 2 contact u...</td>\n",
       "    </tr>\n",
       "    <tr>\n",
       "      <th>5568</th>\n",
       "      <td>__label__ham</td>\n",
       "      <td>Will ?_ b going to esplanade fr home?</td>\n",
       "    </tr>\n",
       "    <tr>\n",
       "      <th>5569</th>\n",
       "      <td>__label__ham</td>\n",
       "      <td>Pity, * was in mood for that. So...any other s...</td>\n",
       "    </tr>\n",
       "    <tr>\n",
       "      <th>5570</th>\n",
       "      <td>__label__ham</td>\n",
       "      <td>The guy did some bitching but I acted like i'd...</td>\n",
       "    </tr>\n",
       "    <tr>\n",
       "      <th>5571</th>\n",
       "      <td>__label__ham</td>\n",
       "      <td>Rofl. Its true to its name</td>\n",
       "    </tr>\n",
       "  </tbody>\n",
       "</table>\n",
       "<p>5572 rows × 2 columns</p>\n",
       "</div>"
      ],
      "text/plain": [
       "           Category                                            Message\n",
       "0      __label__ham  Go until jurong point, crazy.. Available only ...\n",
       "1      __label__ham                      Ok lar... Joking wif u oni...\n",
       "2     __label__spam  Free entry in 2 a wkly comp to win FA Cup fina...\n",
       "3      __label__ham  U dun say so early hor... U c already then say...\n",
       "4      __label__ham  Nah I don't think he goes to usf, he lives aro...\n",
       "...             ...                                                ...\n",
       "5567  __label__spam  This is the 2nd time we have tried 2 contact u...\n",
       "5568   __label__ham              Will ?_ b going to esplanade fr home?\n",
       "5569   __label__ham  Pity, * was in mood for that. So...any other s...\n",
       "5570   __label__ham  The guy did some bitching but I acted like i'd...\n",
       "5571   __label__ham                         Rofl. Its true to its name\n",
       "\n",
       "[5572 rows x 2 columns]"
      ]
     },
     "execution_count": 17,
     "metadata": {},
     "output_type": "execute_result"
    }
   ],
   "source": [
    "# Look at the change\n",
    "\n",
    "spam_data"
   ]
  },
  {
   "cell_type": "code",
   "execution_count": 18,
   "id": "f59b7767-9632-45d6-b7e1-247b755ceeb5",
   "metadata": {
    "tags": []
   },
   "outputs": [],
   "source": [
    "# Use NTLK word_tokenize to seperate the sentence into words\n",
    "\n",
    "spam_data['Message'] = spam_data['Message'].apply(word_tokenize)"
   ]
  },
  {
   "cell_type": "code",
   "execution_count": 19,
   "id": "cbd0e9aa-6bdd-416c-b3ac-0d032ee07ce4",
   "metadata": {
    "tags": []
   },
   "outputs": [
    {
     "name": "stdout",
     "output_type": "stream",
     "text": [
      "           Category                                            Message\n",
      "0      __label__ham  [Go, until, jurong, point, ,, crazy, .., Avail...\n",
      "1      __label__ham           [Ok, lar, ..., Joking, wif, u, oni, ...]\n",
      "2     __label__spam  [Free, entry, in, 2, a, wkly, comp, to, win, F...\n",
      "3      __label__ham  [U, dun, say, so, early, hor, ..., U, c, alrea...\n",
      "4      __label__ham  [Nah, I, do, n't, think, he, goes, to, usf, ,,...\n",
      "...             ...                                                ...\n",
      "5567  __label__spam  [This, is, the, 2nd, time, we, have, tried, 2,...\n",
      "5568   __label__ham  [Will, ?, _, b, going, to, esplanade, fr, home...\n",
      "5569   __label__ham  [Pity, ,, *, was, in, mood, for, that, ., So, ...\n",
      "5570   __label__ham  [The, guy, did, some, bitching, but, I, acted,...\n",
      "5571   __label__ham                [Rofl, ., Its, true, to, its, name]\n",
      "\n",
      "[5572 rows x 2 columns]\n"
     ]
    }
   ],
   "source": [
    "# Inspect the results\n",
    "\n",
    "print(spam_data)"
   ]
  },
  {
   "cell_type": "code",
   "execution_count": 20,
   "id": "16939027-7f88-4439-b340-c56d2db0cf9e",
   "metadata": {
    "tags": []
   },
   "outputs": [],
   "source": [
    "# The results create a list in the message column and we will use apply, join and lanbda to replace the list with a string\n",
    "\n",
    "spam_data['Message'] = spam_data['Message'].apply(lambda x: ' '.join(x))"
   ]
  },
  {
   "cell_type": "code",
   "execution_count": 21,
   "id": "38524c4e-35bc-4609-87a4-eb75385aa6b3",
   "metadata": {
    "tags": []
   },
   "outputs": [
    {
     "data": {
      "text/html": [
       "<div>\n",
       "<style scoped>\n",
       "    .dataframe tbody tr th:only-of-type {\n",
       "        vertical-align: middle;\n",
       "    }\n",
       "\n",
       "    .dataframe tbody tr th {\n",
       "        vertical-align: top;\n",
       "    }\n",
       "\n",
       "    .dataframe thead th {\n",
       "        text-align: right;\n",
       "    }\n",
       "</style>\n",
       "<table border=\"1\" class=\"dataframe\">\n",
       "  <thead>\n",
       "    <tr style=\"text-align: right;\">\n",
       "      <th></th>\n",
       "      <th>Category</th>\n",
       "      <th>Message</th>\n",
       "    </tr>\n",
       "  </thead>\n",
       "  <tbody>\n",
       "    <tr>\n",
       "      <th>0</th>\n",
       "      <td>__label__ham</td>\n",
       "      <td>Go until jurong point , crazy .. Available onl...</td>\n",
       "    </tr>\n",
       "    <tr>\n",
       "      <th>1</th>\n",
       "      <td>__label__ham</td>\n",
       "      <td>Ok lar ... Joking wif u oni ...</td>\n",
       "    </tr>\n",
       "    <tr>\n",
       "      <th>2</th>\n",
       "      <td>__label__spam</td>\n",
       "      <td>Free entry in 2 a wkly comp to win FA Cup fina...</td>\n",
       "    </tr>\n",
       "    <tr>\n",
       "      <th>3</th>\n",
       "      <td>__label__ham</td>\n",
       "      <td>U dun say so early hor ... U c already then sa...</td>\n",
       "    </tr>\n",
       "    <tr>\n",
       "      <th>4</th>\n",
       "      <td>__label__ham</td>\n",
       "      <td>Nah I do n't think he goes to usf , he lives a...</td>\n",
       "    </tr>\n",
       "    <tr>\n",
       "      <th>...</th>\n",
       "      <td>...</td>\n",
       "      <td>...</td>\n",
       "    </tr>\n",
       "    <tr>\n",
       "      <th>5567</th>\n",
       "      <td>__label__spam</td>\n",
       "      <td>This is the 2nd time we have tried 2 contact u...</td>\n",
       "    </tr>\n",
       "    <tr>\n",
       "      <th>5568</th>\n",
       "      <td>__label__ham</td>\n",
       "      <td>Will ? _ b going to esplanade fr home ?</td>\n",
       "    </tr>\n",
       "    <tr>\n",
       "      <th>5569</th>\n",
       "      <td>__label__ham</td>\n",
       "      <td>Pity , * was in mood for that . So ... any oth...</td>\n",
       "    </tr>\n",
       "    <tr>\n",
       "      <th>5570</th>\n",
       "      <td>__label__ham</td>\n",
       "      <td>The guy did some bitching but I acted like i '...</td>\n",
       "    </tr>\n",
       "    <tr>\n",
       "      <th>5571</th>\n",
       "      <td>__label__ham</td>\n",
       "      <td>Rofl . Its true to its name</td>\n",
       "    </tr>\n",
       "  </tbody>\n",
       "</table>\n",
       "<p>5572 rows × 2 columns</p>\n",
       "</div>"
      ],
      "text/plain": [
       "           Category                                            Message\n",
       "0      __label__ham  Go until jurong point , crazy .. Available onl...\n",
       "1      __label__ham                    Ok lar ... Joking wif u oni ...\n",
       "2     __label__spam  Free entry in 2 a wkly comp to win FA Cup fina...\n",
       "3      __label__ham  U dun say so early hor ... U c already then sa...\n",
       "4      __label__ham  Nah I do n't think he goes to usf , he lives a...\n",
       "...             ...                                                ...\n",
       "5567  __label__spam  This is the 2nd time we have tried 2 contact u...\n",
       "5568   __label__ham            Will ? _ b going to esplanade fr home ?\n",
       "5569   __label__ham  Pity , * was in mood for that . So ... any oth...\n",
       "5570   __label__ham  The guy did some bitching but I acted like i '...\n",
       "5571   __label__ham                        Rofl . Its true to its name\n",
       "\n",
       "[5572 rows x 2 columns]"
      ]
     },
     "execution_count": 21,
     "metadata": {},
     "output_type": "execute_result"
    }
   ],
   "source": [
    "spam_data"
   ]
  },
  {
   "cell_type": "code",
   "execution_count": 22,
   "id": "8262a6dc-0f85-4a5d-b4a2-5fa03d35f533",
   "metadata": {
    "tags": []
   },
   "outputs": [
    {
     "name": "stdout",
     "output_type": "stream",
     "text": [
      "['i', 'me', 'my', 'myself', 'we', 'our', 'ours', 'ourselves', 'you', \"you're\", \"you've\", \"you'll\", \"you'd\", 'your', 'yours', 'yourself', 'yourselves', 'he', 'him', 'his', 'himself', 'she', \"she's\", 'her', 'hers', 'herself', 'it', \"it's\", 'its', 'itself', 'they', 'them', 'their', 'theirs', 'themselves', 'what', 'which', 'who', 'whom', 'this', 'that', \"that'll\", 'these', 'those', 'am', 'is', 'are', 'was', 'were', 'be', 'been', 'being', 'have', 'has', 'had', 'having', 'do', 'does', 'did', 'doing', 'a', 'an', 'the', 'and', 'but', 'if', 'or', 'because', 'as', 'until', 'while', 'of', 'at', 'by', 'for', 'with', 'about', 'against', 'between', 'into', 'through', 'during', 'before', 'after', 'above', 'below', 'to', 'from', 'up', 'down', 'in', 'out', 'on', 'off', 'over', 'under', 'again', 'further', 'then', 'once', 'here', 'there', 'when', 'where', 'why', 'how', 'all', 'any', 'both', 'each', 'few', 'more', 'most', 'other', 'some', 'such', 'no', 'nor', 'not', 'only', 'own', 'same', 'so', 'than', 'too', 'very', 's', 't', 'can', 'will', 'just', 'don', \"don't\", 'should', \"should've\", 'now', 'd', 'll', 'm', 'o', 're', 've', 'y', 'ain', 'aren', \"aren't\", 'couldn', \"couldn't\", 'didn', \"didn't\", 'doesn', \"doesn't\", 'hadn', \"hadn't\", 'hasn', \"hasn't\", 'haven', \"haven't\", 'isn', \"isn't\", 'ma', 'mightn', \"mightn't\", 'mustn', \"mustn't\", 'needn', \"needn't\", 'shan', \"shan't\", 'shouldn', \"shouldn't\", 'wasn', \"wasn't\", 'weren', \"weren't\", 'won', \"won't\", 'wouldn', \"wouldn't\"]\n"
     ]
    }
   ],
   "source": [
    "# Print out the list of stopwords that will be removed from messages\n",
    "\n",
    "stopwords = stopwords.words('english')\n",
    "\n",
    "print(stopwords)"
   ]
  },
  {
   "cell_type": "code",
   "execution_count": 23,
   "id": "20c244df-fd88-4c7c-8b14-c6bbcf92b23c",
   "metadata": {
    "tags": []
   },
   "outputs": [
    {
     "name": "stdout",
     "output_type": "stream",
     "text": [
      "['i', 'me', 'my', 'myself', 'we', 'our', 'ours', 'ourselves', 'you', \"you're\", \"you've\", \"you'll\", \"you'd\", 'your', 'yours', 'yourself', 'yourselves', 'he', 'him', 'his', 'himself', 'she', \"she's\", 'her', 'hers', 'herself', 'it', \"it's\", 'its', 'itself', 'they', 'them', 'their', 'theirs', 'themselves', 'what', 'which', 'who', 'whom', 'this', 'that', \"that'll\", 'these', 'those', 'am', 'is', 'are', 'was', 'were', 'be', 'been', 'being', 'have', 'has', 'had', 'having', 'do', 'does', 'did', 'doing', 'a', 'an', 'the', 'and', 'but', 'if', 'or', 'because', 'as', 'until', 'while', 'of', 'at', 'by', 'for', 'with', 'about', 'against', 'between', 'into', 'through', 'during', 'before', 'after', 'above', 'below', 'to', 'from', 'up', 'down', 'in', 'out', 'on', 'off', 'over', 'under', 'again', 'further', 'then', 'once', 'here', 'there', 'when', 'where', 'why', 'how', 'all', 'any', 'both', 'each', 'few', 'more', 'most', 'other', 'some', 'such', 'no', 'nor', 'not', 'only', 'own', 'same', 'so', 'than', 'too', 'very', 's', 't', 'can', 'will', 'just', 'don', \"don't\", 'should', \"should've\", 'now', 'd', 'll', 'm', 'o', 're', 've', 'y', 'ain', 'aren', \"aren't\", 'couldn', \"couldn't\", 'didn', \"didn't\", 'doesn', \"doesn't\", 'hadn', \"hadn't\", 'hasn', \"hasn't\", 'haven', \"haven't\", 'isn', \"isn't\", 'ma', 'mightn', \"mightn't\", 'mustn', \"mustn't\", 'needn', \"needn't\", 'shan', \"shan't\", 'shouldn', \"shouldn't\", 'wasn', \"wasn't\", 'weren', \"weren't\", 'won', \"won't\", 'wouldn', \"wouldn't\", 'nah', 'wif', 'dun']\n"
     ]
    }
   ],
   "source": [
    "# Let's add a few of our own words\n",
    "\n",
    "new_words=('nah','wif', 'dun')\n",
    "for i in new_words:\n",
    "    stopwords.append(i)\n",
    "print(stopwords)\n"
   ]
  },
  {
   "cell_type": "code",
   "execution_count": 24,
   "id": "e46b3e44-4042-45bc-b834-e0ba4a3e4f4c",
   "metadata": {
    "tags": []
   },
   "outputs": [],
   "source": [
    "# We will convert the case of each word to lower case to simplify the removal. ie: The, THE and the all equal the\n",
    "\n",
    "spam_data['Message'] = spam_data['Message'].str.lower()"
   ]
  },
  {
   "cell_type": "code",
   "execution_count": 25,
   "id": "e781bfd4-601d-44bf-9346-5a53ff50d7f9",
   "metadata": {
    "tags": []
   },
   "outputs": [
    {
     "data": {
      "text/html": [
       "<div>\n",
       "<style scoped>\n",
       "    .dataframe tbody tr th:only-of-type {\n",
       "        vertical-align: middle;\n",
       "    }\n",
       "\n",
       "    .dataframe tbody tr th {\n",
       "        vertical-align: top;\n",
       "    }\n",
       "\n",
       "    .dataframe thead th {\n",
       "        text-align: right;\n",
       "    }\n",
       "</style>\n",
       "<table border=\"1\" class=\"dataframe\">\n",
       "  <thead>\n",
       "    <tr style=\"text-align: right;\">\n",
       "      <th></th>\n",
       "      <th>Category</th>\n",
       "      <th>Message</th>\n",
       "    </tr>\n",
       "  </thead>\n",
       "  <tbody>\n",
       "    <tr>\n",
       "      <th>0</th>\n",
       "      <td>__label__ham</td>\n",
       "      <td>go until jurong point , crazy .. available onl...</td>\n",
       "    </tr>\n",
       "    <tr>\n",
       "      <th>1</th>\n",
       "      <td>__label__ham</td>\n",
       "      <td>ok lar ... joking wif u oni ...</td>\n",
       "    </tr>\n",
       "    <tr>\n",
       "      <th>2</th>\n",
       "      <td>__label__spam</td>\n",
       "      <td>free entry in 2 a wkly comp to win fa cup fina...</td>\n",
       "    </tr>\n",
       "    <tr>\n",
       "      <th>3</th>\n",
       "      <td>__label__ham</td>\n",
       "      <td>u dun say so early hor ... u c already then sa...</td>\n",
       "    </tr>\n",
       "    <tr>\n",
       "      <th>4</th>\n",
       "      <td>__label__ham</td>\n",
       "      <td>nah i do n't think he goes to usf , he lives a...</td>\n",
       "    </tr>\n",
       "    <tr>\n",
       "      <th>...</th>\n",
       "      <td>...</td>\n",
       "      <td>...</td>\n",
       "    </tr>\n",
       "    <tr>\n",
       "      <th>5567</th>\n",
       "      <td>__label__spam</td>\n",
       "      <td>this is the 2nd time we have tried 2 contact u...</td>\n",
       "    </tr>\n",
       "    <tr>\n",
       "      <th>5568</th>\n",
       "      <td>__label__ham</td>\n",
       "      <td>will ? _ b going to esplanade fr home ?</td>\n",
       "    </tr>\n",
       "    <tr>\n",
       "      <th>5569</th>\n",
       "      <td>__label__ham</td>\n",
       "      <td>pity , * was in mood for that . so ... any oth...</td>\n",
       "    </tr>\n",
       "    <tr>\n",
       "      <th>5570</th>\n",
       "      <td>__label__ham</td>\n",
       "      <td>the guy did some bitching but i acted like i '...</td>\n",
       "    </tr>\n",
       "    <tr>\n",
       "      <th>5571</th>\n",
       "      <td>__label__ham</td>\n",
       "      <td>rofl . its true to its name</td>\n",
       "    </tr>\n",
       "  </tbody>\n",
       "</table>\n",
       "<p>5572 rows × 2 columns</p>\n",
       "</div>"
      ],
      "text/plain": [
       "           Category                                            Message\n",
       "0      __label__ham  go until jurong point , crazy .. available onl...\n",
       "1      __label__ham                    ok lar ... joking wif u oni ...\n",
       "2     __label__spam  free entry in 2 a wkly comp to win fa cup fina...\n",
       "3      __label__ham  u dun say so early hor ... u c already then sa...\n",
       "4      __label__ham  nah i do n't think he goes to usf , he lives a...\n",
       "...             ...                                                ...\n",
       "5567  __label__spam  this is the 2nd time we have tried 2 contact u...\n",
       "5568   __label__ham            will ? _ b going to esplanade fr home ?\n",
       "5569   __label__ham  pity , * was in mood for that . so ... any oth...\n",
       "5570   __label__ham  the guy did some bitching but i acted like i '...\n",
       "5571   __label__ham                        rofl . its true to its name\n",
       "\n",
       "[5572 rows x 2 columns]"
      ]
     },
     "execution_count": 25,
     "metadata": {},
     "output_type": "execute_result"
    }
   ],
   "source": [
    "spam_data"
   ]
  },
  {
   "cell_type": "code",
   "execution_count": 26,
   "id": "26b45a1a-e4a3-4cd9-9622-c954627e30e8",
   "metadata": {
    "tags": []
   },
   "outputs": [],
   "source": [
    "# Using Apply, lambda and a For loop remove all the stop words\n",
    "# word for word in x.split() - Split the first message into words and run the loop for each word\n",
    "# if the word is not in teh stopword list use the join method to put it back in the sentence\n",
    "\n",
    "spam_data['Message'] = spam_data['Message'].apply(lambda x: ' '.join([word for word in x.split() if word not in (stopwords)]))"
   ]
  },
  {
   "cell_type": "code",
   "execution_count": 27,
   "id": "c9df5d69-5ba1-467c-b79d-ee3bcd9bf211",
   "metadata": {
    "tags": []
   },
   "outputs": [
    {
     "data": {
      "text/html": [
       "<div>\n",
       "<style scoped>\n",
       "    .dataframe tbody tr th:only-of-type {\n",
       "        vertical-align: middle;\n",
       "    }\n",
       "\n",
       "    .dataframe tbody tr th {\n",
       "        vertical-align: top;\n",
       "    }\n",
       "\n",
       "    .dataframe thead th {\n",
       "        text-align: right;\n",
       "    }\n",
       "</style>\n",
       "<table border=\"1\" class=\"dataframe\">\n",
       "  <thead>\n",
       "    <tr style=\"text-align: right;\">\n",
       "      <th></th>\n",
       "      <th>Category</th>\n",
       "      <th>Message</th>\n",
       "    </tr>\n",
       "  </thead>\n",
       "  <tbody>\n",
       "    <tr>\n",
       "      <th>0</th>\n",
       "      <td>__label__ham</td>\n",
       "      <td>go jurong point , crazy .. available bugis n g...</td>\n",
       "    </tr>\n",
       "    <tr>\n",
       "      <th>1</th>\n",
       "      <td>__label__ham</td>\n",
       "      <td>ok lar ... joking u oni ...</td>\n",
       "    </tr>\n",
       "    <tr>\n",
       "      <th>2</th>\n",
       "      <td>__label__spam</td>\n",
       "      <td>free entry 2 wkly comp win fa cup final tkts 2...</td>\n",
       "    </tr>\n",
       "    <tr>\n",
       "      <th>3</th>\n",
       "      <td>__label__ham</td>\n",
       "      <td>u say early hor ... u c already say ...</td>\n",
       "    </tr>\n",
       "    <tr>\n",
       "      <th>4</th>\n",
       "      <td>__label__ham</td>\n",
       "      <td>n't think goes usf , lives around though</td>\n",
       "    </tr>\n",
       "    <tr>\n",
       "      <th>...</th>\n",
       "      <td>...</td>\n",
       "      <td>...</td>\n",
       "    </tr>\n",
       "    <tr>\n",
       "      <th>5567</th>\n",
       "      <td>__label__spam</td>\n",
       "      <td>2nd time tried 2 contact u. u â€ å “ 750 pound...</td>\n",
       "    </tr>\n",
       "    <tr>\n",
       "      <th>5568</th>\n",
       "      <td>__label__ham</td>\n",
       "      <td>? _ b going esplanade fr home ?</td>\n",
       "    </tr>\n",
       "    <tr>\n",
       "      <th>5569</th>\n",
       "      <td>__label__ham</td>\n",
       "      <td>pity , * mood . ... suggestions ?</td>\n",
       "    </tr>\n",
       "    <tr>\n",
       "      <th>5570</th>\n",
       "      <td>__label__ham</td>\n",
       "      <td>guy bitching acted like 'd interested buying s...</td>\n",
       "    </tr>\n",
       "    <tr>\n",
       "      <th>5571</th>\n",
       "      <td>__label__ham</td>\n",
       "      <td>rofl . true name</td>\n",
       "    </tr>\n",
       "  </tbody>\n",
       "</table>\n",
       "<p>5572 rows × 2 columns</p>\n",
       "</div>"
      ],
      "text/plain": [
       "           Category                                            Message\n",
       "0      __label__ham  go jurong point , crazy .. available bugis n g...\n",
       "1      __label__ham                        ok lar ... joking u oni ...\n",
       "2     __label__spam  free entry 2 wkly comp win fa cup final tkts 2...\n",
       "3      __label__ham            u say early hor ... u c already say ...\n",
       "4      __label__ham           n't think goes usf , lives around though\n",
       "...             ...                                                ...\n",
       "5567  __label__spam  2nd time tried 2 contact u. u â€ å “ 750 pound...\n",
       "5568   __label__ham                    ? _ b going esplanade fr home ?\n",
       "5569   __label__ham                  pity , * mood . ... suggestions ?\n",
       "5570   __label__ham  guy bitching acted like 'd interested buying s...\n",
       "5571   __label__ham                                   rofl . true name\n",
       "\n",
       "[5572 rows x 2 columns]"
      ]
     },
     "execution_count": 27,
     "metadata": {},
     "output_type": "execute_result"
    }
   ],
   "source": [
    "spam_data"
   ]
  },
  {
   "cell_type": "code",
   "execution_count": 28,
   "id": "971fef92-016a-4312-859c-45af43cf031c",
   "metadata": {
    "tags": []
   },
   "outputs": [],
   "source": [
    "# Shuffle and Split the data into 80% training and 20% validating\n",
    "\n",
    "train_data, validate_data = train_test_split(spam_data, test_size=0.2)\n",
    "\n",
    "# Convert dataframes to TEXT files and save them locally to the notebook and make sure to exclude the headers so that BlazingText will accept the file\n",
    "\n",
    "train_data.to_csv('spam_data.train', sep=' ', header=False, index=False, quotechar=\" \")\n",
    "validate_data.to_csv('spam_data.validate', sep=' ', header=False, index=False, quotechar=\" \")"
   ]
  },
  {
   "cell_type": "code",
   "execution_count": 29,
   "id": "61df0021-4009-4f58-8546-321202a3e47c",
   "metadata": {
    "tags": []
   },
   "outputs": [
    {
     "data": {
      "text/plain": [
       "(4457, 2)"
      ]
     },
     "execution_count": 29,
     "metadata": {},
     "output_type": "execute_result"
    }
   ],
   "source": [
    "# Inspect the shape of the training data\n",
    "\n",
    "train_data.shape"
   ]
  },
  {
   "cell_type": "code",
   "execution_count": 30,
   "id": "ba5bf57f-ec70-42f0-87b6-3e530d8e24f0",
   "metadata": {
    "tags": []
   },
   "outputs": [
    {
     "data": {
      "text/plain": [
       "(1115, 2)"
      ]
     },
     "execution_count": 30,
     "metadata": {},
     "output_type": "execute_result"
    }
   ],
   "source": [
    "# Inspect the shape of the validation data\n",
    "\n",
    "validate_data.shape"
   ]
  },
  {
   "cell_type": "code",
   "execution_count": 31,
   "id": "d4375cb5-dc56-4f92-b28b-eb5fe5b9e11c",
   "metadata": {
    "tags": []
   },
   "outputs": [
    {
     "name": "stdout",
     "output_type": "stream",
     "text": [
      "s3://sagemaker-us-east-1-870427325799/spam/input/train/spam_data.train\n",
      "s3://sagemaker-us-east-1-870427325799/spam/input/validate/spam_data.validate\n",
      "s3://sagemaker-us-east-1-870427325799/spam/output\n"
     ]
    }
   ],
   "source": [
    "# Copy the file to your S3 bucket using sess.upload_data\n",
    "# You will need to pass the file to be uploaded, a prefix (top level folder to store the data) and the subfolders\n",
    "# Here we will also define the output folder for the results\n",
    "# Note I did not call them .csv because the are not csv files but text files\n",
    "\n",
    "prefix = 'spam'\n",
    "training_data_path = sess.upload_data( path='spam_data.train', key_prefix=prefix + '/input/train') \n",
    "validation_data_path = sess.upload_data( path='spam_data.validate', key_prefix=prefix + '/input/validate')\n",
    "output_data_path = 's3://{}/{}/output'.format(bucket, prefix)\n",
    "print(training_data_path)\n",
    "print(validation_data_path)\n",
    "print(output_data_path)"
   ]
  },
  {
   "cell_type": "code",
   "execution_count": 32,
   "id": "c93990ab-29d1-4de1-8de9-545bbf2352e1",
   "metadata": {
    "tags": []
   },
   "outputs": [],
   "source": [
    "# Create the training container\n",
    "\n",
    "container = image_uris.retrieve(framework='blazingtext',region=region)"
   ]
  },
  {
   "cell_type": "code",
   "execution_count": 33,
   "id": "8eb8aba9-5ab0-47de-895c-42b7df7b43a5",
   "metadata": {
    "tags": []
   },
   "outputs": [],
   "source": [
    "# Create your data channels\n",
    "\n",
    "train_data = sagemaker.inputs.TrainingInput(\n",
    "    training_data_path,\n",
    "    distribution=\"FullyReplicated\",\n",
    "    content_type=\"text/plain\",\n",
    "    s3_data_type=\"S3Prefix\",\n",
    ")\n",
    "validate_data = sagemaker.inputs.TrainingInput(\n",
    "    validation_data_path,\n",
    "    distribution=\"FullyReplicated\",\n",
    "    content_type=\"text/plain\",\n",
    "    s3_data_type=\"S3Prefix\",\n",
    ")\n",
    "data_channels = {\"train\": train_data, \"validation\": validate_data}"
   ]
  },
  {
   "cell_type": "code",
   "execution_count": 34,
   "id": "fb050e73-b128-46c0-a538-840ebb50f747",
   "metadata": {
    "tags": []
   },
   "outputs": [],
   "source": [
    "# Here we are using the only required hyperameter and everything else will be set to default\n",
    "\n",
    "bt_model = Estimator(\n",
    "    container,\n",
    "    role,\n",
    "    instance_count=1,\n",
    "    instance_type=\"ml.m5.large\",\n",
    "    volume_size=30,\n",
    "    max_run=360000,\n",
    "    input_mode=\"File\",\n",
    "    output_path=output_data_path,\n",
    "    hyperparameters={\n",
    "        \"mode\": \"supervised\"\n",
    "    },\n",
    ")"
   ]
  },
  {
   "cell_type": "code",
   "execution_count": 35,
   "id": "8ffad7a9-9805-427f-b543-f7c7529dd6c6",
   "metadata": {
    "tags": []
   },
   "outputs": [
    {
     "name": "stderr",
     "output_type": "stream",
     "text": [
      "INFO:sagemaker:Creating training-job with name: blazingtext-2023-02-27-14-51-01-000\n"
     ]
    },
    {
     "name": "stdout",
     "output_type": "stream",
     "text": [
      "2023-02-27 14:51:01 Starting - Starting the training job...\n",
      "2023-02-27 14:51:16 Starting - Preparing the instances for training......\n",
      "2023-02-27 14:52:12 Downloading - Downloading input data...\n",
      "2023-02-27 14:53:02 Training - Training image download completed. Training in progress...\u001b[34mArguments: train\u001b[0m\n",
      "\u001b[34m[02/27/2023 14:53:06 WARNING 140164468479808] Loggers have already been setup.\u001b[0m\n",
      "\u001b[34m[02/27/2023 14:53:06 WARNING 140164468479808] Loggers have already been setup.\u001b[0m\n",
      "\u001b[34m[02/27/2023 14:53:06 INFO 140164468479808] nvidia-smi took: 0.02518939971923828 secs to identify 0 gpus\u001b[0m\n",
      "\u001b[34m[02/27/2023 14:53:06 INFO 140164468479808] Running single machine CPU BlazingText training using supervised mode.\u001b[0m\n",
      "\u001b[34mNumber of CPU sockets found in instance is  1\u001b[0m\n",
      "\u001b[34m[02/27/2023 14:53:06 INFO 140164468479808] Processing /opt/ml/input/data/train/spam_data.train . File size: 0.3796567916870117 MB\u001b[0m\n",
      "\u001b[34m[02/27/2023 14:53:06 INFO 140164468479808] Processing /opt/ml/input/data/validation/spam_data.validate . File size: 0.09500980377197266 MB\u001b[0m\n",
      "\u001b[34mRead 0M words\u001b[0m\n",
      "\u001b[34mNumber of words:  1512\u001b[0m\n",
      "\u001b[34m##### Alpha: -0.0000  Progress: 100.02%  Million Words/sec: 3.28 #####\u001b[0m\n",
      "\u001b[34m##### Alpha: 0.0000  Progress: 100.00%  Million Words/sec: 3.28 #####\u001b[0m\n",
      "\u001b[34mTraining finished.\u001b[0m\n",
      "\u001b[34mAverage throughput in Million words/sec: 3.28\u001b[0m\n",
      "\u001b[34mTotal training time in seconds: 0.10\u001b[0m\n",
      "\u001b[34m#train_accuracy: 0.9697\u001b[0m\n",
      "\u001b[34mNumber of train examples: 4457\u001b[0m\n",
      "\u001b[34m#validation_accuracy: 0.9605\u001b[0m\n",
      "\u001b[34mNumber of validation examples: 1115\u001b[0m\n",
      "\n",
      "2023-02-27 14:53:18 Uploading - Uploading generated training model\n",
      "2023-02-27 14:55:14 Completed - Training job completed\n",
      "Training seconds: 183\n",
      "Billable seconds: 183\n"
     ]
    }
   ],
   "source": [
    "# Train the model\n",
    "\n",
    "bt_model.fit(inputs=data_channels, logs=True)"
   ]
  },
  {
   "cell_type": "markdown",
   "id": "e1c0803a-a541-4848-ae46-1aa628faf06a",
   "metadata": {
    "tags": []
   },
   "source": [
    "# Deploy the model (no tuning)\n",
    "## Here we are going to deploy the model so that we can make some inferences"
   ]
  },
  {
   "cell_type": "code",
   "execution_count": 36,
   "id": "8ff7419d-e590-4ea0-92c1-c89617288171",
   "metadata": {
    "tags": []
   },
   "outputs": [
    {
     "data": {
      "text/plain": [
       "'s3://sagemaker-us-east-1-870427325799/spam/output/blazingtext-2023-02-27-14-51-01-000/output/model.tar.gz'"
      ]
     },
     "execution_count": 36,
     "metadata": {},
     "output_type": "execute_result"
    }
   ],
   "source": [
    "# Retrieve model data from training job\n",
    "\n",
    "training_job_model_data = bt_model.model_data\n",
    "training_job_model_data"
   ]
  },
  {
   "cell_type": "code",
   "execution_count": 37,
   "id": "dcce3994-940f-4281-bae8-dafd316163f5",
   "metadata": {
    "tags": []
   },
   "outputs": [
    {
     "name": "stdout",
     "output_type": "stream",
     "text": [
      "Model name is spam-bt-model2023-02-27-15-09-30\n"
     ]
    }
   ],
   "source": [
    "# Create a unique model name so it won't overwrite ones taht are already there using date and time\n",
    "\n",
    "deployed_BlazingText_model_name = \"spam-bt-model\" + strftime(\"%Y-%m-%d-%H-%M-%S\", gmtime())\n",
    "print(\"Model name is \" + deployed_BlazingText_model_name)"
   ]
  },
  {
   "cell_type": "code",
   "execution_count": 38,
   "id": "a0edb9b4-6e5a-4906-a745-83f27b9457b7",
   "metadata": {
    "tags": []
   },
   "outputs": [
    {
     "name": "stderr",
     "output_type": "stream",
     "text": [
      "INFO:botocore.credentials:Found credentials from IAM Role: BaseNotebookInstanceEc2InstanceRole\n"
     ]
    },
    {
     "name": "stdout",
     "output_type": "stream",
     "text": [
      "Model Arn: arn:aws:sagemaker:us-east-1:870427325799:model/spam-bt-model2023-02-27-15-09-30\n"
     ]
    }
   ],
   "source": [
    "# Container Definition https://docs.aws.amazon.com/sagemaker/latest/APIReference/API_ContainerDefinition.html\n",
    "\n",
    "client = boto3.client(service_name=\"sagemaker\")\n",
    "\n",
    "create_model_response = client.create_model(\n",
    "    ModelName=deployed_BlazingText_model_name,\n",
    "    Containers=[\n",
    "        {\n",
    "            \"Image\": container, # use the same container defined in the estimator\n",
    "            \"ModelDataUrl\": training_job_model_data\n",
    "        }\n",
    "    ],\n",
    "    ExecutionRoleArn=role,\n",
    ")\n",
    "\n",
    "print(\"Model Arn: \" + create_model_response[\"ModelArn\"])"
   ]
  },
  {
   "cell_type": "code",
   "execution_count": 39,
   "id": "3f428b4a-2741-422a-9e6c-14ae52f2cd2f",
   "metadata": {
    "tags": []
   },
   "outputs": [
    {
     "name": "stdout",
     "output_type": "stream",
     "text": [
      "Endpoint Configuration Arn: arn:aws:sagemaker:us-east-1:870427325799:endpoint-config/blazingtext-serverless-epc2023-02-27-15-09-32\n"
     ]
    }
   ],
   "source": [
    "# Create the endpoint configuration\n",
    "\n",
    "spam_epc_name = \"blazingtext-serverless-epc\" + strftime(\"%Y-%m-%d-%H-%M-%S\", gmtime())\n",
    "\n",
    "endpoint_config_response = client.create_endpoint_config(\n",
    "    EndpointConfigName=spam_epc_name,\n",
    "    ProductionVariants=[\n",
    "        {\n",
    "            \"VariantName\": \"btVariant\",\n",
    "            \"ModelName\": deployed_BlazingText_model_name,\n",
    "            \"ServerlessConfig\": {\n",
    "                \"MemorySizeInMB\": 4096,\n",
    "                \"MaxConcurrency\": 1,\n",
    "            },\n",
    "        },\n",
    "    ],\n",
    ")\n",
    "\n",
    "print(\"Endpoint Configuration Arn: \" + endpoint_config_response[\"EndpointConfigArn\"])"
   ]
  },
  {
   "cell_type": "code",
   "execution_count": 40,
   "id": "03b47dae-5e23-4633-a9f0-928d231f09d4",
   "metadata": {
    "tags": []
   },
   "outputs": [
    {
     "name": "stdout",
     "output_type": "stream",
     "text": [
      "Endpoint Arn: arn:aws:sagemaker:us-east-1:870427325799:endpoint/spam-serverless-ep2023-02-27-15-09-36\n"
     ]
    }
   ],
   "source": [
    "# Create the endpoint response\n",
    "\n",
    "spam_ep_name = \"spam-serverless-ep\" + strftime(\"%Y-%m-%d-%H-%M-%S\", gmtime())\n",
    "\n",
    "create_endpoint_response = client.create_endpoint(\n",
    "    EndpointName=spam_ep_name,\n",
    "    EndpointConfigName=spam_epc_name,\n",
    ")\n",
    "\n",
    "print(\"Endpoint Arn: \" + create_endpoint_response[\"EndpointArn\"])"
   ]
  },
  {
   "cell_type": "code",
   "execution_count": 41,
   "id": "1da0e90e-9587-49ef-a2b5-c41609d07687",
   "metadata": {
    "tags": []
   },
   "outputs": [
    {
     "name": "stdout",
     "output_type": "stream",
     "text": [
      "Creating\n",
      "Creating\n",
      "Creating\n",
      "Creating\n",
      "Creating\n",
      "Creating\n",
      "Creating\n",
      "InService\n"
     ]
    },
    {
     "data": {
      "text/plain": [
       "{'EndpointName': 'spam-serverless-ep2023-02-27-15-09-36',\n",
       " 'EndpointArn': 'arn:aws:sagemaker:us-east-1:870427325799:endpoint/spam-serverless-ep2023-02-27-15-09-36',\n",
       " 'EndpointConfigName': 'blazingtext-serverless-epc2023-02-27-15-09-32',\n",
       " 'ProductionVariants': [{'VariantName': 'btVariant',\n",
       "   'DeployedImages': [{'SpecifiedImage': '811284229777.dkr.ecr.us-east-1.amazonaws.com/blazingtext:1',\n",
       "     'ResolvedImage': '811284229777.dkr.ecr.us-east-1.amazonaws.com/blazingtext@sha256:0574bac80b6081e684481c1325d7c5ab0111fb28be306f9e66b0508297736b7a',\n",
       "     'ResolutionTime': datetime.datetime(2023, 2, 27, 15, 9, 37, 13000, tzinfo=tzlocal())}],\n",
       "   'CurrentWeight': 1.0,\n",
       "   'DesiredWeight': 1.0,\n",
       "   'CurrentInstanceCount': 0,\n",
       "   'CurrentServerlessConfig': {'MemorySizeInMB': 4096, 'MaxConcurrency': 1}}],\n",
       " 'EndpointStatus': 'InService',\n",
       " 'CreationTime': datetime.datetime(2023, 2, 27, 15, 9, 36, 421000, tzinfo=tzlocal()),\n",
       " 'LastModifiedTime': datetime.datetime(2023, 2, 27, 15, 11, 19, 878000, tzinfo=tzlocal()),\n",
       " 'ResponseMetadata': {'RequestId': '2e0f51f7-fce0-4eed-944a-d022232ae664',\n",
       "  'HTTPStatusCode': 200,\n",
       "  'HTTPHeaders': {'x-amzn-requestid': '2e0f51f7-fce0-4eed-944a-d022232ae664',\n",
       "   'content-type': 'application/x-amz-json-1.1',\n",
       "   'content-length': '791',\n",
       "   'date': 'Mon, 27 Feb 2023 15:11:22 GMT'},\n",
       "  'RetryAttempts': 0}}"
      ]
     },
     "execution_count": 41,
     "metadata": {},
     "output_type": "execute_result"
    }
   ],
   "source": [
    "# Wait for endpoint to reach a terminal state (InService) using describe endpoint\n",
    "\n",
    "describe_endpoint_response = client.describe_endpoint(EndpointName=spam_ep_name)\n",
    "\n",
    "while describe_endpoint_response[\"EndpointStatus\"] == \"Creating\":\n",
    "    describe_endpoint_response = client.describe_endpoint(EndpointName=spam_ep_name)\n",
    "    print(describe_endpoint_response[\"EndpointStatus\"])\n",
    "    time.sleep(15)\n",
    "\n",
    "describe_endpoint_response"
   ]
  },
  {
   "cell_type": "code",
   "execution_count": 80,
   "id": "02c84c52-6759-4639-8be8-41632dec70bc",
   "metadata": {
    "tags": []
   },
   "outputs": [
    {
     "name": "stderr",
     "output_type": "stream",
     "text": [
      "INFO:botocore.credentials:Found credentials from IAM Role: BaseNotebookInstanceEc2InstanceRole\n"
     ]
    },
    {
     "name": "stdout",
     "output_type": "stream",
     "text": [
      "[{'label': ['__label__ham'], 'prob': [0.7290090918540955]}, {'label': ['__label__spam'], 'prob': [0.8990699052810669]}]\n"
     ]
    }
   ],
   "source": [
    "# Test the model by supplying two know sentences in the training file\n",
    "\n",
    "sentences = [\n",
    "    \"As per your request 'Melle Melle (Oru Minnaminunginte Nurungu Vettam)' has been set as your callertune for all Callers. Press *9 to copy your friends Callertune\",\n",
    "    \"WINNER!! As a valued network customer you have been selected to receivea â€ Å“900 prize reward! To claim call 09061701461. Claim code KL341. Valid 12 hours only.\"\n",
    "]\n",
    "\n",
    "# using the same nltk tokenizer that we used during data preparation for training\n",
    "tokenized_sentences = [\" \".join(nltk.word_tokenize(sent)) for sent in sentences]\n",
    "tokenized_sentences = [x.lower() for x in tokenized_sentences]\n",
    "\n",
    "runtime = boto3.Session().client('sagemaker-runtime')\n",
    "\n",
    "payload = {\"instances\": tokenized_sentences}\n",
    "\n",
    "response = runtime.invoke_endpoint(\n",
    "    EndpointName=spam_ep_name,\n",
    "    Body=json.dumps(payload),\n",
    "    ContentType=\"application/json\",\n",
    ")\n",
    "\n",
    "output = json.loads(response['Body'].read().decode('utf-8'))\n",
    "\n",
    "print(output)"
   ]
  },
  {
   "cell_type": "code",
   "execution_count": null,
   "id": "ddbc4256-7bc1-4ea4-9591-7e2e8dec4406",
   "metadata": {},
   "outputs": [],
   "source": [
    "# Delete the endpoint\n",
    "\n",
    "client.delete_model(ModelName=deployed_BlazingText_model_name)\n",
    "client.delete_endpoint_config(EndpointConfigName=spam_epc_name)\n",
    "client.delete_endpoint(EndpointName=spam_ep_name)"
   ]
  },
  {
   "cell_type": "markdown",
   "id": "7fb7ae93-49a1-48e6-af6c-13ba7bac75ed",
   "metadata": {},
   "source": [
    "## Hyperparameter Tuning"
   ]
  },
  {
   "cell_type": "code",
   "execution_count": 81,
   "id": "8b3801e5-a933-421e-952c-15f5be2372dc",
   "metadata": {
    "tags": []
   },
   "outputs": [],
   "source": [
    "# Set the blazingtext hyperparameters\n",
    "# tunable hyperparameters can be found here https://docs.aws.amazon.com/sagemaker/latest/dg/blazingtext-tuning.html\n",
    "\n",
    "bt_model.set_hyperparameters()"
   ]
  },
  {
   "cell_type": "code",
   "execution_count": 82,
   "id": "368fbe93-514c-4f7e-82b1-ca469d1483cd",
   "metadata": {
    "tags": []
   },
   "outputs": [],
   "source": [
    "# The BlazingText Text Classification algorithm (supervised mode), also reports on a single metric during training: the validation:accuracy.\n",
    "\n",
    "from sagemaker.tuner import IntegerParameter, CategoricalParameter, ContinuousParameter, HyperparameterTuner\n",
    "\n",
    "hypertuner = HyperparameterTuner(bt_model, \n",
    "                                 objective_metric_name = 'validation:accuracy',\n",
    "                                 hyperparameter_ranges = {\n",
    "                                 'epochs' : CategoricalParameter([1,3,5]),\n",
    "                                 'min_count' : CategoricalParameter([1,3,5]),\n",
    "                                 'learning_rate' : ContinuousParameter(0.01, 0.1),\n",
    "                                 'batch_size': CategoricalParameter([32,64,128,256,512])},   \n",
    "                                 objective_type = 'Maximize',\n",
    "                                 metric_definitions = [{'Name': 'validation:accuracy', 'Regex': 'loss (\\S+)'}],\n",
    "                                 max_jobs=10, \n",
    "                                 max_parallel_jobs=1\n",
    "                                )\n"
   ]
  },
  {
   "cell_type": "code",
   "execution_count": null,
   "id": "6f98763f-4c09-4630-bb18-5789fd368f98",
   "metadata": {
    "tags": []
   },
   "outputs": [
    {
     "name": "stderr",
     "output_type": "stream",
     "text": [
      "INFO:sagemaker:Creating hyperparameter tuning job with name: blazingtext-230227-1550\n"
     ]
    },
    {
     "name": "stdout",
     "output_type": "stream",
     "text": [
      "........................................................................................................................................................................................................................"
     ]
    }
   ],
   "source": [
    "# Start the training and tuning\n",
    "\n",
    "hypertuner.fit(inputs=data_channels, logs=True)"
   ]
  },
  {
   "cell_type": "code",
   "execution_count": null,
   "id": "eb12d3d2-db7f-475b-9059-19943a7f14ef",
   "metadata": {
    "tags": []
   },
   "outputs": [],
   "source": [
    "# Print out the best parameters the tuning job found\n",
    "\n",
    "print(\"Best hyerparameter tuning job:{}\".format(hypertuner.best_training_job()))\n",
    "print(\"Best parameters found={}\".format(hypertuner.best_estimator().hyperparameters()))"
   ]
  },
  {
   "cell_type": "code",
   "execution_count": 87,
   "id": "ae2880e4-a6eb-454e-bfc0-4ed4abc82864",
   "metadata": {
    "tags": []
   },
   "outputs": [],
   "source": [
    "# Confirgure the model with the parameters that were printed\n",
    "\n",
    "bt_model = Estimator(\n",
    "    container,\n",
    "    role,\n",
    "    instance_count=1,\n",
    "    instance_type=\"ml.m5.large\",\n",
    "    volume_size=30,\n",
    "    max_run=360000,\n",
    "    input_mode=\"File\",\n",
    "    output_path=output_data_path,\n",
    "    hyperparameters={\n",
    "        \"mode\": \"supervised\",\n",
    "        \"batch_size\": 32,\n",
    "        \"epochs\": 5,\n",
    "        \"learning_rate\": 0.08928775025027585,\n",
    "        \"min_count\": 1\n",
    "    },\n",
    ")"
   ]
  },
  {
   "cell_type": "code",
   "execution_count": null,
   "id": "9461a201-9f05-4648-8fa7-4125148a3977",
   "metadata": {
    "tags": []
   },
   "outputs": [
    {
     "name": "stderr",
     "output_type": "stream",
     "text": [
      "INFO:sagemaker:Creating training-job with name: blazingtext-2023-02-27-16-23-32-729\n"
     ]
    },
    {
     "name": "stdout",
     "output_type": "stream",
     "text": [
      "2023-02-27 16:23:33 Starting - Starting the training job...\n",
      "2023-02-27 16:23:49 Starting - Preparing the instances for training......\n",
      "2023-02-27 16:24:39 Downloading - Downloading input data...\n",
      "2023-02-27 16:25:30 Training - Training image download completed. Training in progress..\u001b[34mArguments: train\u001b[0m\n",
      "\u001b[34m[02/27/2023 16:25:35 WARNING 140513712944960] Loggers have already been setup.\u001b[0m\n",
      "\u001b[34m[02/27/2023 16:25:35 WARNING 140513712944960] Loggers have already been setup.\u001b[0m\n",
      "\u001b[34m[02/27/2023 16:25:35 INFO 140513712944960] nvidia-smi took: 0.025223970413208008 secs to identify 0 gpus\u001b[0m\n",
      "\u001b[34m[02/27/2023 16:25:35 INFO 140513712944960] Running single machine CPU BlazingText training using supervised mode.\u001b[0m\n",
      "\u001b[34mNumber of CPU sockets found in instance is  1\u001b[0m\n",
      "\u001b[34m[02/27/2023 16:25:35 INFO 140513712944960] Processing /opt/ml/input/data/train/spam_data.train . File size: 0.3796567916870117 MB\u001b[0m\n",
      "\u001b[34m[02/27/2023 16:25:35 INFO 140513712944960] Processing /opt/ml/input/data/validation/spam_data.validate . File size: 0.09500980377197266 MB\u001b[0m\n",
      "\u001b[34mRead 0M words\u001b[0m\n",
      "\u001b[34mNumber of words:  8178\u001b[0m\n",
      "\u001b[34m##### Alpha: -0.0000  Progress: 100.03%  Million Words/sec: 3.28 #####\u001b[0m\n",
      "\u001b[34m##### Alpha: 0.0000  Progress: 100.00%  Million Words/sec: 3.28 #####\u001b[0m\n",
      "\u001b[34mTraining finished.\u001b[0m\n",
      "\u001b[34mAverage throughput in Million words/sec: 3.28\u001b[0m\n",
      "\u001b[34mTotal training time in seconds: 0.10\u001b[0m\n",
      "\u001b[34m#train_accuracy: 0.9847\u001b[0m\n",
      "\u001b[34mNumber of train examples: 4457\u001b[0m\n",
      "\u001b[34m#validation_accuracy: 0.9821\u001b[0m\n",
      "\u001b[34mNumber of validation examples: 1115\u001b[0m\n",
      "\n",
      "2023-02-27 16:25:45 Uploading - Uploading generated training model"
     ]
    }
   ],
   "source": [
    "# Train the model\n",
    "\n",
    "bt_model.fit(inputs=data_channels, logs=True)"
   ]
  },
  {
   "cell_type": "markdown",
   "id": "e2907115-83fa-4804-8f08-cadcdf82d04c",
   "metadata": {
    "tags": []
   },
   "source": [
    "# Deploy the model (with tuning)\n",
    "## Here we are going to deploy the model so that we can make some inferences"
   ]
  },
  {
   "cell_type": "code",
   "execution_count": null,
   "id": "2c9ed945-8483-453e-9183-6c6a5a1f04f9",
   "metadata": {
    "tags": []
   },
   "outputs": [],
   "source": [
    "# Retrieve model data from training job\n",
    "\n",
    "training_job_model_data = bt_model.model_data\n",
    "training_job_model_data"
   ]
  },
  {
   "cell_type": "code",
   "execution_count": null,
   "id": "f96ea344-1849-4919-9fd7-549ca84dca56",
   "metadata": {
    "tags": []
   },
   "outputs": [],
   "source": [
    "# Create a unique model name so it won't overwrite ones taht are already there using date and time\n",
    "deployed_BlazingText_model_name = \"spam-bt-model\" + strftime(\"%Y-%m-%d-%H-%M-%S\", gmtime())\n",
    "print(\"Model name is \" + deployed_BlazingText_model_name)"
   ]
  },
  {
   "cell_type": "code",
   "execution_count": null,
   "id": "a19a99c5-156d-4597-8941-e4fdcabaa06e",
   "metadata": {
    "tags": []
   },
   "outputs": [],
   "source": [
    "# Container Definition https://docs.aws.amazon.com/sagemaker/latest/APIReference/API_ContainerDefinition.html\n",
    "\n",
    "client = boto3.client(service_name=\"sagemaker\")\n",
    "\n",
    "create_model_response = client.create_model(\n",
    "    ModelName=deployed_BlazingText_model_name,\n",
    "    Containers=[\n",
    "        {\n",
    "            \"Image\": container, # use the same container defined in the estimator\n",
    "            \"ModelDataUrl\": training_job_model_data\n",
    "        }\n",
    "    ],\n",
    "    ExecutionRoleArn=role,\n",
    ")\n",
    "\n",
    "print(\"Model Arn: \" + create_model_response[\"ModelArn\"])"
   ]
  },
  {
   "cell_type": "code",
   "execution_count": null,
   "id": "278c25e0-005d-4012-bfe4-40de50ed91b7",
   "metadata": {
    "tags": []
   },
   "outputs": [],
   "source": [
    "spam_epc_name = \"blazingtext-serverless-epc\" + strftime(\"%Y-%m-%d-%H-%M-%S\", gmtime())\n",
    "\n",
    "endpoint_config_response = client.create_endpoint_config(\n",
    "    EndpointConfigName=spam_epc_name,\n",
    "    ProductionVariants=[\n",
    "        {\n",
    "            \"VariantName\": \"btVariant\",\n",
    "            \"ModelName\": deployed_BlazingText_model_name,\n",
    "            \"ServerlessConfig\": {\n",
    "                \"MemorySizeInMB\": 4096,\n",
    "                \"MaxConcurrency\": 1,\n",
    "            },\n",
    "        },\n",
    "    ],\n",
    ")\n",
    "\n",
    "print(\"Endpoint Configuration Arn: \" + endpoint_config_response[\"EndpointConfigArn\"])"
   ]
  },
  {
   "cell_type": "code",
   "execution_count": null,
   "id": "a8b0fef9-3960-4f75-90c5-7335c4c544b4",
   "metadata": {
    "tags": []
   },
   "outputs": [],
   "source": [
    "spam_ep_name = \"spam-serverless-ep\" + strftime(\"%Y-%m-%d-%H-%M-%S\", gmtime())\n",
    "\n",
    "create_endpoint_response = client.create_endpoint(\n",
    "    EndpointName=spam_ep_name,\n",
    "    EndpointConfigName=spam_epc_name,\n",
    ")\n",
    "\n",
    "print(\"Endpoint Arn: \" + create_endpoint_response[\"EndpointArn\"])"
   ]
  },
  {
   "cell_type": "code",
   "execution_count": null,
   "id": "d1da4d8a-fb2d-4d4b-85d2-6ea3f1c297a0",
   "metadata": {
    "tags": []
   },
   "outputs": [],
   "source": [
    "# wait for endpoint to reach a terminal state (InService) using describe endpoint\n",
    "\n",
    "import time\n",
    "\n",
    "describe_endpoint_response = client.describe_endpoint(EndpointName=spam_ep_name)\n",
    "\n",
    "while describe_endpoint_response[\"EndpointStatus\"] == \"Creating\":\n",
    "    describe_endpoint_response = client.describe_endpoint(EndpointName=spam_ep_name)\n",
    "    print(describe_endpoint_response[\"EndpointStatus\"])\n",
    "    time.sleep(15)\n",
    "\n",
    "describe_endpoint_response"
   ]
  },
  {
   "cell_type": "code",
   "execution_count": null,
   "id": "a3c7ddd0-001b-44bf-b611-400b78141b92",
   "metadata": {
    "tags": []
   },
   "outputs": [],
   "source": [
    "# Test the model by supplying two know sentences in the training file\n",
    "\n",
    "sentences = [\n",
    "    \"As per your request 'Melle Melle (Oru Minnaminunginte Nurungu Vettam)' has been set as your callertune for all Callers. Press *9 to copy your friends Callertune\",\n",
    "    \"WINNER!! As a valued network customer you have been selected to receivea â€ Å“900 prize reward! To claim call 09061701461. Claim code KL341. Valid 12 hours only.\"\n",
    "]\n",
    "\n",
    "# using the same nltk tokenizer that we used during data preparation for training\n",
    "tokenized_sentences = [\" \".join(nltk.word_tokenize(sent)) for sent in sentences]\n",
    "tokenized_sentences = [x.lower() for x in tokenized_sentences]\n",
    "\n",
    "runtime = boto3.Session().client('sagemaker-runtime')\n",
    "\n",
    "payload = {\"instances\": tokenized_sentences}\n",
    "\n",
    "response = runtime.invoke_endpoint(\n",
    "    EndpointName=spam_ep_name,\n",
    "    Body=json.dumps(payload),\n",
    "    ContentType=\"application/json\",\n",
    ")\n",
    "\n",
    "output = json.loads(response['Body'].read().decode('utf-8'))\n",
    "\n",
    "print(output)"
   ]
  },
  {
   "cell_type": "code",
   "execution_count": null,
   "id": "9b148312-67af-4ea2-a88b-293005093cf8",
   "metadata": {
    "tags": []
   },
   "outputs": [],
   "source": [
    "# Delete the endpoint\n",
    "\n",
    "client.delete_model(ModelName=deployed_BlazingText_model_name)\n",
    "client.delete_endpoint_config(EndpointConfigName=spam_epc_name)\n",
    "client.delete_endpoint(EndpointName=spam_ep_name)"
   ]
  },
  {
   "cell_type": "code",
   "execution_count": null,
   "id": "34610cfc-e368-4d67-9446-b00bbda78621",
   "metadata": {},
   "outputs": [],
   "source": []
  }
 ],
 "metadata": {
  "kernelspec": {
   "display_name": "conda_python3",
   "language": "python",
   "name": "conda_python3"
  },
  "language_info": {
   "codemirror_mode": {
    "name": "ipython",
    "version": 3
   },
   "file_extension": ".py",
   "mimetype": "text/x-python",
   "name": "python",
   "nbconvert_exporter": "python",
   "pygments_lexer": "ipython3",
   "version": "3.10.8"
  }
 },
 "nbformat": 4,
 "nbformat_minor": 5
}
