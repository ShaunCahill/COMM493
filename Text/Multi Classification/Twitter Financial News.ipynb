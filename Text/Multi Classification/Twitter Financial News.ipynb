{
 "cells": [
  {
   "cell_type": "markdown",
   "id": "36e3d5b2-2cf0-4c45-9b0e-2bc6cc15b4c2",
   "metadata": {},
   "source": [
    "# Predict a multi-label text value using BlazingText"
   ]
  },
  {
   "cell_type": "markdown",
   "id": "d7f24767-ee8e-4e76-867c-597b769c8c31",
   "metadata": {},
   "source": [
    "## BlazingText\n",
    "\n",
    "https://docs.aws.amazon.com/sagemaker/latest/dg/blazingtext.html"
   ]
  },
  {
   "cell_type": "markdown",
   "id": "19db27d4-83ff-4d09-9526-d15140c833b1",
   "metadata": {},
   "source": [
    "# Prepare the Environment"
   ]
  },
  {
   "cell_type": "markdown",
   "id": "f43e7003-94fa-400f-aee3-7575de24c38b",
   "metadata": {},
   "source": [
    "## Upgrade the version of boto3 and sagemaker"
   ]
  },
  {
   "cell_type": "code",
   "execution_count": 1,
   "id": "6d2c0793-d9ec-49c2-8ae2-ee7c862b7ab0",
   "metadata": {
    "tags": []
   },
   "outputs": [
    {
     "name": "stdout",
     "output_type": "stream",
     "text": [
      "Note: you may need to restart the kernel to use updated packages.\n",
      "Note: you may need to restart the kernel to use updated packages.\n"
     ]
    }
   ],
   "source": [
    "%pip install -qU --upgrade boto3\n",
    "%pip install -qU --upgrade sagemaker"
   ]
  },
  {
   "cell_type": "code",
   "execution_count": 2,
   "id": "602717fb-3064-4749-aa0b-c31db6be73f3",
   "metadata": {
    "tags": []
   },
   "outputs": [
    {
     "name": "stdout",
     "output_type": "stream",
     "text": [
      "Looking in indexes: https://pypi.org/simple, https://pip.repos.neuron.amazonaws.com\n",
      "Requirement already satisfied: wordcloud in /home/ec2-user/anaconda3/envs/python3/lib/python3.10/site-packages (1.8.2.2)\n",
      "Requirement already satisfied: numpy>=1.6.1 in /home/ec2-user/anaconda3/envs/python3/lib/python3.10/site-packages (from wordcloud) (1.22.3)\n",
      "Requirement already satisfied: matplotlib in /home/ec2-user/anaconda3/envs/python3/lib/python3.10/site-packages (from wordcloud) (3.6.2)\n",
      "Requirement already satisfied: pillow in /home/ec2-user/anaconda3/envs/python3/lib/python3.10/site-packages (from wordcloud) (9.4.0)\n",
      "Requirement already satisfied: contourpy>=1.0.1 in /home/ec2-user/anaconda3/envs/python3/lib/python3.10/site-packages (from matplotlib->wordcloud) (1.0.6)\n",
      "Requirement already satisfied: kiwisolver>=1.0.1 in /home/ec2-user/anaconda3/envs/python3/lib/python3.10/site-packages (from matplotlib->wordcloud) (1.4.4)\n",
      "Requirement already satisfied: fonttools>=4.22.0 in /home/ec2-user/anaconda3/envs/python3/lib/python3.10/site-packages (from matplotlib->wordcloud) (4.38.0)\n",
      "Requirement already satisfied: packaging>=20.0 in /home/ec2-user/anaconda3/envs/python3/lib/python3.10/site-packages (from matplotlib->wordcloud) (21.3)\n",
      "Requirement already satisfied: pyparsing>=2.2.1 in /home/ec2-user/anaconda3/envs/python3/lib/python3.10/site-packages (from matplotlib->wordcloud) (3.0.9)\n",
      "Requirement already satisfied: cycler>=0.10 in /home/ec2-user/anaconda3/envs/python3/lib/python3.10/site-packages (from matplotlib->wordcloud) (0.11.0)\n",
      "Requirement already satisfied: python-dateutil>=2.7 in /home/ec2-user/anaconda3/envs/python3/lib/python3.10/site-packages (from matplotlib->wordcloud) (2.8.2)\n",
      "Requirement already satisfied: six>=1.5 in /home/ec2-user/anaconda3/envs/python3/lib/python3.10/site-packages (from python-dateutil>=2.7->matplotlib->wordcloud) (1.16.0)\n",
      "Note: you may need to restart the kernel to use updated packages.\n"
     ]
    }
   ],
   "source": [
    "# Install Wordcloud\n",
    "\n",
    "%pip install wordcloud"
   ]
  },
  {
   "cell_type": "code",
   "execution_count": 3,
   "id": "bc293a9b-ca07-42b6-a9ce-4ca78b7a32fc",
   "metadata": {
    "tags": []
   },
   "outputs": [],
   "source": [
    "import pandas as pd\n",
    "import numpy as np\n",
    "import seaborn as sns\n",
    "import matplotlib.pyplot as plt\n",
    "import json\n",
    "from sklearn.model_selection import train_test_split\n",
    "import sagemaker\n",
    "from sagemaker.estimator import Estimator \n",
    "from sagemaker import get_execution_role\n",
    "import boto3\n",
    "from sagemaker import image_uris\n",
    "import nltk\n",
    "from nltk.tokenize import word_tokenize\n",
    "from nltk.corpus import stopwords\n",
    "from nltk.stem import WordNetLemmatizer\n",
    "import time\n",
    "from time import gmtime, strftime\n",
    "from PIL import Image\n",
    "from wordcloud import WordCloud, STOPWORDS, ImageColorGenerator\n",
    "import string\n",
    "import re\n",
    "\n",
    "# Set column widtrh to 200 to make the text easier to read\n",
    "pd.options.display.max_colwidth = 200"
   ]
  },
  {
   "cell_type": "markdown",
   "id": "1fbe15d5-aaea-4209-8380-6b9cff0ffd87",
   "metadata": {},
   "source": [
    "## Download the NTLK Trained Models"
   ]
  },
  {
   "cell_type": "code",
   "execution_count": 4,
   "id": "4a962da2-571d-4827-a88b-d8b06cfdb8db",
   "metadata": {
    "tags": []
   },
   "outputs": [
    {
     "name": "stderr",
     "output_type": "stream",
     "text": [
      "[nltk_data] Downloading package punkt to /home/ec2-user/nltk_data...\n",
      "[nltk_data]   Unzipping tokenizers/punkt.zip.\n"
     ]
    },
    {
     "data": {
      "text/plain": [
       "True"
      ]
     },
     "execution_count": 4,
     "metadata": {},
     "output_type": "execute_result"
    }
   ],
   "source": [
    "nltk.download('punkt')"
   ]
  },
  {
   "cell_type": "markdown",
   "id": "be3c101e-8493-4bb8-b716-29829211d798",
   "metadata": {},
   "source": [
    "## Download the NTLK Stopwords list"
   ]
  },
  {
   "cell_type": "code",
   "execution_count": 5,
   "id": "8f0f7860-ff05-4907-a67a-d0c898adfd51",
   "metadata": {
    "tags": []
   },
   "outputs": [
    {
     "name": "stderr",
     "output_type": "stream",
     "text": [
      "[nltk_data] Downloading package stopwords to\n",
      "[nltk_data]     /home/ec2-user/nltk_data...\n",
      "[nltk_data]   Unzipping corpora/stopwords.zip.\n"
     ]
    },
    {
     "data": {
      "text/plain": [
       "True"
      ]
     },
     "execution_count": 5,
     "metadata": {},
     "output_type": "execute_result"
    }
   ],
   "source": [
    "nltk.download('stopwords')"
   ]
  },
  {
   "cell_type": "markdown",
   "id": "5aa1d618-0ab2-4cd6-a302-d56aca8cd9c2",
   "metadata": {},
   "source": [
    "## Download the NLTK corpus reader"
   ]
  },
  {
   "cell_type": "code",
   "execution_count": 6,
   "id": "baaa7379-d68b-4b3b-9474-67a593fad451",
   "metadata": {
    "tags": []
   },
   "outputs": [
    {
     "name": "stderr",
     "output_type": "stream",
     "text": [
      "[nltk_data] Downloading package wordnet to /home/ec2-user/nltk_data...\n"
     ]
    },
    {
     "data": {
      "text/plain": [
       "True"
      ]
     },
     "execution_count": 6,
     "metadata": {},
     "output_type": "execute_result"
    }
   ],
   "source": [
    "nltk.download('wordnet')"
   ]
  },
  {
   "cell_type": "markdown",
   "id": "4d00e4ae-adb4-4cfc-bb29-d490c65f2b66",
   "metadata": {},
   "source": [
    "## Setup your your Environment Variables"
   ]
  },
  {
   "cell_type": "code",
   "execution_count": 7,
   "id": "083df54a-ab69-4741-b26a-78f7d9dce946",
   "metadata": {
    "tags": []
   },
   "outputs": [
    {
     "name": "stdout",
     "output_type": "stream",
     "text": [
      "The role is  arn:aws:iam::870427325799:role/LabRole\n",
      "The session is  <sagemaker.session.Session object at 0x7f3b014ebb50>\n",
      "The region is  us-east-1\n",
      "The bucket is  sagemaker-us-east-1-870427325799\n"
     ]
    }
   ],
   "source": [
    "role = get_execution_role()\n",
    "sess = sagemaker.Session() \n",
    "region = sess.boto_session.region_name\n",
    "bucket = sess.default_bucket()\n",
    "print(\"The role is \", role)\n",
    "print(\"The session is \", sess)\n",
    "print(\"The region is \", region)\n",
    "print(\"The bucket is \", bucket)"
   ]
  },
  {
   "cell_type": "markdown",
   "id": "c394d331-1579-4f46-9760-879fce02f555",
   "metadata": {
    "tags": []
   },
   "source": [
    "## We are going to use BlazingText to make predicitons based on the Twitter Financial News Dataset\n",
    "\n",
    "## Twitter Financial News Dataset\n",
    "https://www.kaggle.com/datasets/sulphatet/twitter-financial-news\n",
    "\n",
    "### About the Data\n",
    "The Twitter Financial News dataset is an English-language dataset containing an annotated corpus of finance-related tweets. This dataset is used to classify finance-related tweets for their topic.\n",
    "\n",
    "#### Label\n",
    "\n",
    "The dataset holds 21,107 documents annotated with 20 labels:\n",
    "\n",
    "    \"LABEL_0\": \"Analyst Update\",\n",
    "\n",
    "    \"LABEL_1\": \"Fed | Central Banks\",\n",
    "\n",
    "    \"LABEL_2\": \"Company | Product News\",\n",
    "\n",
    "    \"LABEL_3\": \"Treasuries | Corporate Debt\",\n",
    "\n",
    "    \"LABEL_4\": \"Dividend\",\n",
    "\n",
    "    \"LABEL_5\": \"Earnings\",\n",
    "\n",
    "    \"LABEL_6\": \"Energy | Oil\",\n",
    "\n",
    "    \"LABEL_7\": \"Financials\",\n",
    "\n",
    "    \"LABEL_8\": \"Currencies\",\n",
    "\n",
    "    \"LABEL_9\": \"General News | Opinion\",\n",
    "\n",
    "    \"LABEL_10\": \"Gold | Metals | Materials\",\n",
    "\n",
    "    \"LABEL_11\": \"IPO\",\n",
    "\n",
    "    \"LABEL_12\": \"Legal | Regulation\",\n",
    "\n",
    "    \"LABEL_13\": \"M&A | Investments\",\n",
    "\n",
    "    \"LABEL_14\": \"Macro\",\n",
    "\n",
    "    \"LABEL_15\": \"Markets\",\n",
    "\n",
    "    \"LABEL_16\": \"Politics\",\n",
    "\n",
    "    \"LABEL_17\": \"Personnel Change\",\n",
    "\n",
    "    \"LABEL_18\": \"Stock Commentary\",\n",
    "\n",
    "    \"LABEL_19\": \"Stock Movement\""
   ]
  },
  {
   "cell_type": "markdown",
   "id": "f92dbab1-8589-4715-bc60-824cec0f7882",
   "metadata": {
    "tags": []
   },
   "source": [
    "# Prepare and Inspect the Data\n",
    "## Download the Dataset to Jupyter Notebook and Explore the Data"
   ]
  },
  {
   "cell_type": "code",
   "execution_count": 8,
   "id": "5af929e4-b12d-478a-8c3d-ac3876e60ce6",
   "metadata": {
    "tags": []
   },
   "outputs": [],
   "source": [
    "# Import the data into a pandas DataFrame\n",
    "\n",
    "twitter_data = pd.read_csv(\"twitter_financial_data.csv\")"
   ]
  },
  {
   "cell_type": "code",
   "execution_count": 9,
   "id": "34c31bd5-60a1-4e69-84ed-0c0bb8ce2872",
   "metadata": {
    "tags": []
   },
   "outputs": [
    {
     "data": {
      "text/html": [
       "<div>\n",
       "<style scoped>\n",
       "    .dataframe tbody tr th:only-of-type {\n",
       "        vertical-align: middle;\n",
       "    }\n",
       "\n",
       "    .dataframe tbody tr th {\n",
       "        vertical-align: top;\n",
       "    }\n",
       "\n",
       "    .dataframe thead th {\n",
       "        text-align: right;\n",
       "    }\n",
       "</style>\n",
       "<table border=\"1\" class=\"dataframe\">\n",
       "  <thead>\n",
       "    <tr style=\"text-align: right;\">\n",
       "      <th></th>\n",
       "      <th>text</th>\n",
       "      <th>label</th>\n",
       "    </tr>\n",
       "  </thead>\n",
       "  <tbody>\n",
       "    <tr>\n",
       "      <th>0</th>\n",
       "      <td>Here are Thursday's biggest analyst calls: Apple, Amazon, Tesla, Palantir, DocuSign, Exxon &amp;amp; more  https://t.co/QPN8Gwl7Uh</td>\n",
       "      <td>0</td>\n",
       "    </tr>\n",
       "    <tr>\n",
       "      <th>1</th>\n",
       "      <td>Buy Las Vegas Sands as travel to Singapore builds, Wells Fargo says  https://t.co/fLS2w57iCz</td>\n",
       "      <td>0</td>\n",
       "    </tr>\n",
       "    <tr>\n",
       "      <th>2</th>\n",
       "      <td>Piper Sandler downgrades DocuSign to sell, citing elevated risks amid CEO transition  https://t.co/1EmtywmYpr</td>\n",
       "      <td>0</td>\n",
       "    </tr>\n",
       "    <tr>\n",
       "      <th>3</th>\n",
       "      <td>Analysts react to Tesla's latest earnings, break down what's next for electric car maker  https://t.co/kwhoE6W06u</td>\n",
       "      <td>0</td>\n",
       "    </tr>\n",
       "    <tr>\n",
       "      <th>4</th>\n",
       "      <td>Netflix and its peers are set for a ‘return to growth,’ analysts say, giving one stock 120% upside  https://t.co/jPpdl0D9s4</td>\n",
       "      <td>0</td>\n",
       "    </tr>\n",
       "    <tr>\n",
       "      <th>...</th>\n",
       "      <td>...</td>\n",
       "      <td>...</td>\n",
       "    </tr>\n",
       "    <tr>\n",
       "      <th>21102</th>\n",
       "      <td>Dollar bonds of Chinese developers fall as stress spreads from junk-rated names to investment-grade peers amid renewed concerns about more Covid lockdowns  https://t.co/uhSv4iiR6C</td>\n",
       "      <td>3</td>\n",
       "    </tr>\n",
       "    <tr>\n",
       "      <th>21103</th>\n",
       "      <td>Longer maturity Treasury yields have scope to go higher still and the market is erring in pricing in Fed interest-rate cuts in the latter part of 2023, according to Franklin Templeton  https://t.c...</td>\n",
       "      <td>3</td>\n",
       "    </tr>\n",
       "    <tr>\n",
       "      <th>21104</th>\n",
       "      <td>Pimco buys €1bn of Apollo buyout loans from banks  https://t.co/nbgVPY34JA</td>\n",
       "      <td>3</td>\n",
       "    </tr>\n",
       "    <tr>\n",
       "      <th>21105</th>\n",
       "      <td>Analysis: Banks' snubbing of junk-rated loan funds worsens financing logjam  https://t.co/Jl0EuExhB1  https://t.co/M8MuEzCPO1</td>\n",
       "      <td>3</td>\n",
       "    </tr>\n",
       "    <tr>\n",
       "      <th>21106</th>\n",
       "      <td>U.S. Treasury seeks information on digital asset risks  https://t.co/1qmdZ0O1n1  https://t.co/Zhn49a7nsy</td>\n",
       "      <td>3</td>\n",
       "    </tr>\n",
       "  </tbody>\n",
       "</table>\n",
       "<p>21107 rows × 2 columns</p>\n",
       "</div>"
      ],
      "text/plain": [
       "                                                                                                                                                                                                          text  \\\n",
       "0                                                                               Here are Thursday's biggest analyst calls: Apple, Amazon, Tesla, Palantir, DocuSign, Exxon &amp; more  https://t.co/QPN8Gwl7Uh   \n",
       "1                                                                                                                 Buy Las Vegas Sands as travel to Singapore builds, Wells Fargo says  https://t.co/fLS2w57iCz   \n",
       "2                                                                                                Piper Sandler downgrades DocuSign to sell, citing elevated risks amid CEO transition  https://t.co/1EmtywmYpr   \n",
       "3                                                                                            Analysts react to Tesla's latest earnings, break down what's next for electric car maker  https://t.co/kwhoE6W06u   \n",
       "4                                                                                  Netflix and its peers are set for a ‘return to growth,’ analysts say, giving one stock 120% upside  https://t.co/jPpdl0D9s4   \n",
       "...                                                                                                                                                                                                        ...   \n",
       "21102                      Dollar bonds of Chinese developers fall as stress spreads from junk-rated names to investment-grade peers amid renewed concerns about more Covid lockdowns  https://t.co/uhSv4iiR6C   \n",
       "21103  Longer maturity Treasury yields have scope to go higher still and the market is erring in pricing in Fed interest-rate cuts in the latter part of 2023, according to Franklin Templeton  https://t.c...   \n",
       "21104                                                                                                                               Pimco buys €1bn of Apollo buyout loans from banks  https://t.co/nbgVPY34JA   \n",
       "21105                                                                            Analysis: Banks' snubbing of junk-rated loan funds worsens financing logjam  https://t.co/Jl0EuExhB1  https://t.co/M8MuEzCPO1   \n",
       "21106                                                                                                 U.S. Treasury seeks information on digital asset risks  https://t.co/1qmdZ0O1n1  https://t.co/Zhn49a7nsy   \n",
       "\n",
       "       label  \n",
       "0          0  \n",
       "1          0  \n",
       "2          0  \n",
       "3          0  \n",
       "4          0  \n",
       "...      ...  \n",
       "21102      3  \n",
       "21103      3  \n",
       "21104      3  \n",
       "21105      3  \n",
       "21106      3  \n",
       "\n",
       "[21107 rows x 2 columns]"
      ]
     },
     "execution_count": 9,
     "metadata": {},
     "output_type": "execute_result"
    }
   ],
   "source": [
    "# Look at the data\n",
    "\n",
    "twitter_data"
   ]
  },
  {
   "cell_type": "code",
   "execution_count": 10,
   "id": "05aa9f32-234f-4644-bad5-3f6000ec640e",
   "metadata": {
    "tags": []
   },
   "outputs": [
    {
     "data": {
      "text/plain": [
       "text     0\n",
       "label    0\n",
       "dtype: int64"
      ]
     },
     "execution_count": 10,
     "metadata": {},
     "output_type": "execute_result"
    }
   ],
   "source": [
    "# Lets check to see if there are any missing values\n",
    "\n",
    "twitter_data.isnull().sum()"
   ]
  },
  {
   "cell_type": "code",
   "execution_count": 11,
   "id": "faba2e55-55b4-4ffb-b454-81fb1f8e06ac",
   "metadata": {
    "tags": []
   },
   "outputs": [
    {
     "data": {
      "text/html": [
       "<div>\n",
       "<style scoped>\n",
       "    .dataframe tbody tr th:only-of-type {\n",
       "        vertical-align: middle;\n",
       "    }\n",
       "\n",
       "    .dataframe tbody tr th {\n",
       "        vertical-align: top;\n",
       "    }\n",
       "\n",
       "    .dataframe thead th {\n",
       "        text-align: right;\n",
       "    }\n",
       "</style>\n",
       "<table border=\"1\" class=\"dataframe\">\n",
       "  <thead>\n",
       "    <tr style=\"text-align: right;\">\n",
       "      <th></th>\n",
       "      <th>label</th>\n",
       "    </tr>\n",
       "  </thead>\n",
       "  <tbody>\n",
       "    <tr>\n",
       "      <th>count</th>\n",
       "      <td>21107.000000</td>\n",
       "    </tr>\n",
       "    <tr>\n",
       "      <th>mean</th>\n",
       "      <td>9.536031</td>\n",
       "    </tr>\n",
       "    <tr>\n",
       "      <th>std</th>\n",
       "      <td>6.410118</td>\n",
       "    </tr>\n",
       "    <tr>\n",
       "      <th>min</th>\n",
       "      <td>0.000000</td>\n",
       "    </tr>\n",
       "    <tr>\n",
       "      <th>25%</th>\n",
       "      <td>2.000000</td>\n",
       "    </tr>\n",
       "    <tr>\n",
       "      <th>50%</th>\n",
       "      <td>9.000000</td>\n",
       "    </tr>\n",
       "    <tr>\n",
       "      <th>75%</th>\n",
       "      <td>16.000000</td>\n",
       "    </tr>\n",
       "    <tr>\n",
       "      <th>max</th>\n",
       "      <td>19.000000</td>\n",
       "    </tr>\n",
       "  </tbody>\n",
       "</table>\n",
       "</div>"
      ],
      "text/plain": [
       "              label\n",
       "count  21107.000000\n",
       "mean       9.536031\n",
       "std        6.410118\n",
       "min        0.000000\n",
       "25%        2.000000\n",
       "50%        9.000000\n",
       "75%       16.000000\n",
       "max       19.000000"
      ]
     },
     "execution_count": 11,
     "metadata": {},
     "output_type": "execute_result"
    }
   ],
   "source": [
    "# Use describe to get some information about the data\n",
    "\n",
    "twitter_data.describe()"
   ]
  },
  {
   "cell_type": "code",
   "execution_count": 12,
   "id": "b1dbce41-bdf4-468c-8fa4-514ee8b16ddb",
   "metadata": {
    "tags": []
   },
   "outputs": [
    {
     "data": {
      "text/html": [
       "<div>\n",
       "<style scoped>\n",
       "    .dataframe tbody tr th:only-of-type {\n",
       "        vertical-align: middle;\n",
       "    }\n",
       "\n",
       "    .dataframe tbody tr th {\n",
       "        vertical-align: top;\n",
       "    }\n",
       "\n",
       "    .dataframe thead tr th {\n",
       "        text-align: left;\n",
       "    }\n",
       "\n",
       "    .dataframe thead tr:last-of-type th {\n",
       "        text-align: right;\n",
       "    }\n",
       "</style>\n",
       "<table border=\"1\" class=\"dataframe\">\n",
       "  <thead>\n",
       "    <tr>\n",
       "      <th></th>\n",
       "      <th colspan=\"4\" halign=\"left\">text</th>\n",
       "    </tr>\n",
       "    <tr>\n",
       "      <th></th>\n",
       "      <th>count</th>\n",
       "      <th>unique</th>\n",
       "      <th>top</th>\n",
       "      <th>freq</th>\n",
       "    </tr>\n",
       "    <tr>\n",
       "      <th>label</th>\n",
       "      <th></th>\n",
       "      <th></th>\n",
       "      <th></th>\n",
       "      <th></th>\n",
       "    </tr>\n",
       "  </thead>\n",
       "  <tbody>\n",
       "    <tr>\n",
       "      <th>0</th>\n",
       "      <td>328</td>\n",
       "      <td>328</td>\n",
       "      <td>Here are Thursday's biggest analyst calls: Apple, Amazon, Tesla, Palantir, DocuSign, Exxon &amp;amp; more  https://t.co/QPN8Gwl7Uh</td>\n",
       "      <td>1</td>\n",
       "    </tr>\n",
       "    <tr>\n",
       "      <th>1</th>\n",
       "      <td>1051</td>\n",
       "      <td>1051</td>\n",
       "      <td>LIVE: ECB surprises with 50bps hike, ending its negative rate era.   President Christine Lagarde is taking questions ▶️  https://t.co/kYTBkHyofP  https://t.co/R6mOgZnMiL</td>\n",
       "      <td>1</td>\n",
       "    </tr>\n",
       "    <tr>\n",
       "      <th>2</th>\n",
       "      <td>4397</td>\n",
       "      <td>4397</td>\n",
       "      <td>Goldman Sachs traders countered the industry’s underwriting slump with revenue gains that raced past analysts’ estimates.  The trading operation posted a 32% surge in second-quarter revenue that i...</td>\n",
       "      <td>1</td>\n",
       "    </tr>\n",
       "    <tr>\n",
       "      <th>3</th>\n",
       "      <td>398</td>\n",
       "      <td>398</td>\n",
       "      <td>China Evergrande Group’s onshore bond holders rejected a plan by the distressed developer to further extend a bond payment which was due on Friday.   Rebecca Choong Wilkins reports on Bloomberg Te...</td>\n",
       "      <td>1</td>\n",
       "    </tr>\n",
       "    <tr>\n",
       "      <th>4</th>\n",
       "      <td>456</td>\n",
       "      <td>456</td>\n",
       "      <td>Investing Club: Morgan Stanley's dividend, buyback pay us for our patience after quarterly missteps  https://t.co/6uFVcvkxGN</td>\n",
       "      <td>1</td>\n",
       "    </tr>\n",
       "    <tr>\n",
       "      <th>5</th>\n",
       "      <td>1229</td>\n",
       "      <td>1229</td>\n",
       "      <td>Investing Club: Our takes on Amazon and Apple heading into next week's earnings reports  https://t.co/Tfk97a4R4C</td>\n",
       "      <td>1</td>\n",
       "    </tr>\n",
       "    <tr>\n",
       "      <th>6</th>\n",
       "      <td>670</td>\n",
       "      <td>670</td>\n",
       "      <td>JUST RELEASED: Oil Price Dynamics Report → Over the past week, oil prices decreased as supply expectations rose and anticipated demand remained unchanged.  https://t.co/abK4m2uzxo  https://t.co/0V...</td>\n",
       "      <td>1</td>\n",
       "    </tr>\n",
       "    <tr>\n",
       "      <th>7</th>\n",
       "      <td>784</td>\n",
       "      <td>784</td>\n",
       "      <td>Delta Air Lines fell short of profit expectations in the second quarter and said high operating costs will persist through the rest of the year.   Bloomberg Opinion's Brooke Sutherland has more on...</td>\n",
       "      <td>1</td>\n",
       "    </tr>\n",
       "    <tr>\n",
       "      <th>8</th>\n",
       "      <td>198</td>\n",
       "      <td>198</td>\n",
       "      <td>BREAKING: The Indian rupee plummets to a record 80 per US dollar as foreign investors pull out money from the nation's stocks  https://t.co/7vY4NvnvPS  https://t.co/r05nf59krL</td>\n",
       "      <td>1</td>\n",
       "    </tr>\n",
       "    <tr>\n",
       "      <th>9</th>\n",
       "      <td>1893</td>\n",
       "      <td>1893</td>\n",
       "      <td>Twitter and Elon Musk are now in a high stakes/high risk situation, one analyst said.  https://t.co/II5sEauXAW</td>\n",
       "      <td>1</td>\n",
       "    </tr>\n",
       "    <tr>\n",
       "      <th>10</th>\n",
       "      <td>82</td>\n",
       "      <td>82</td>\n",
       "      <td>Copper prices are signaling that investors are bearish on the economy, strategist says  https://t.co/APwUHPn9vk</td>\n",
       "      <td>1</td>\n",
       "    </tr>\n",
       "    <tr>\n",
       "      <th>11</th>\n",
       "      <td>58</td>\n",
       "      <td>58</td>\n",
       "      <td>Johnson &amp;amp; Johnson CFO Joe Wolk says the company is positioned for the long term and the plans for its consumer operations include an IPO. He speaks on “Bloomberg Markets”  https://t.co/A6UdvBy...</td>\n",
       "      <td>1</td>\n",
       "    </tr>\n",
       "    <tr>\n",
       "      <th>12</th>\n",
       "      <td>606</td>\n",
       "      <td>606</td>\n",
       "      <td>Company and Elon Musk are set for a blockbuster courtroom battle over Musk’s attempt to terminate his $44 billion acquisition deal for $TWTR, according to Wedbush analyst Dan Ives.  https://t.co/J...</td>\n",
       "      <td>1</td>\n",
       "    </tr>\n",
       "    <tr>\n",
       "      <th>13</th>\n",
       "      <td>587</td>\n",
       "      <td>587</td>\n",
       "      <td>Amazon to buy primary health care provider One Medical for roughly $3.9 billion  https://t.co/QE0bKb9AtK</td>\n",
       "      <td>1</td>\n",
       "    </tr>\n",
       "    <tr>\n",
       "      <th>14</th>\n",
       "      <td>2237</td>\n",
       "      <td>2237</td>\n",
       "      <td>Barclays Senior Analyst For Equity Research Jason Goldberg: “Price expectations have changed.”  The global markets business recorded $6.47 billion of revenue in the quarter with rates, commodities...</td>\n",
       "      <td>1</td>\n",
       "    </tr>\n",
       "    <tr>\n",
       "      <th>15</th>\n",
       "      <td>626</td>\n",
       "      <td>626</td>\n",
       "      <td>US stocks push higher in a volatile session. We break it down on The Countdown to The Close  https://t.co/FRU6ebqEx5  https://t.co/RrsZlMbq1B</td>\n",
       "      <td>1</td>\n",
       "    </tr>\n",
       "    <tr>\n",
       "      <th>16</th>\n",
       "      <td>1234</td>\n",
       "      <td>1234</td>\n",
       "      <td>LISTEN NOW: Morgan Stanley’s Keith Weiss joins the team to discuss why he lowered his estimates for Microsoft. Listen and follow the @CNBCTechCheck podcast here or on your favorite podcast platfor...</td>\n",
       "      <td>1</td>\n",
       "    </tr>\n",
       "    <tr>\n",
       "      <th>17</th>\n",
       "      <td>607</td>\n",
       "      <td>607</td>\n",
       "      <td>Airbnb co-founder Joe Gebbia is stepping down  https://t.co/zll1uGaLIL</td>\n",
       "      <td>1</td>\n",
       "    </tr>\n",
       "    <tr>\n",
       "      <th>18</th>\n",
       "      <td>2646</td>\n",
       "      <td>2646</td>\n",
       "      <td>@ArslanQ84819188 Bearish</td>\n",
       "      <td>1</td>\n",
       "    </tr>\n",
       "    <tr>\n",
       "      <th>19</th>\n",
       "      <td>1020</td>\n",
       "      <td>1020</td>\n",
       "      <td>JUST IN: Alibaba shares slide as much as 5.7%, bringing this week's slump to over 15%, after it reportedly faced a data-theft inquiry  https://t.co/JfqQUHXKqE  https://t.co/DO1KCRchEy</td>\n",
       "      <td>1</td>\n",
       "    </tr>\n",
       "  </tbody>\n",
       "</table>\n",
       "</div>"
      ],
      "text/plain": [
       "       text         \\\n",
       "      count unique   \n",
       "label                \n",
       "0       328    328   \n",
       "1      1051   1051   \n",
       "2      4397   4397   \n",
       "3       398    398   \n",
       "4       456    456   \n",
       "5      1229   1229   \n",
       "6       670    670   \n",
       "7       784    784   \n",
       "8       198    198   \n",
       "9      1893   1893   \n",
       "10       82     82   \n",
       "11       58     58   \n",
       "12      606    606   \n",
       "13      587    587   \n",
       "14     2237   2237   \n",
       "15      626    626   \n",
       "16     1234   1234   \n",
       "17      607    607   \n",
       "18     2646   2646   \n",
       "19     1020   1020   \n",
       "\n",
       "                                                                                                                                                                                                                \\\n",
       "                                                                                                                                                                                                           top   \n",
       "label                                                                                                                                                                                                            \n",
       "0                                                                               Here are Thursday's biggest analyst calls: Apple, Amazon, Tesla, Palantir, DocuSign, Exxon &amp; more  https://t.co/QPN8Gwl7Uh   \n",
       "1                                    LIVE: ECB surprises with 50bps hike, ending its negative rate era.   President Christine Lagarde is taking questions ▶️  https://t.co/kYTBkHyofP  https://t.co/R6mOgZnMiL   \n",
       "2      Goldman Sachs traders countered the industry’s underwriting slump with revenue gains that raced past analysts’ estimates.  The trading operation posted a 32% surge in second-quarter revenue that i...   \n",
       "3      China Evergrande Group’s onshore bond holders rejected a plan by the distressed developer to further extend a bond payment which was due on Friday.   Rebecca Choong Wilkins reports on Bloomberg Te...   \n",
       "4                                                                                 Investing Club: Morgan Stanley's dividend, buyback pay us for our patience after quarterly missteps  https://t.co/6uFVcvkxGN   \n",
       "5                                                                                             Investing Club: Our takes on Amazon and Apple heading into next week's earnings reports  https://t.co/Tfk97a4R4C   \n",
       "6      JUST RELEASED: Oil Price Dynamics Report → Over the past week, oil prices decreased as supply expectations rose and anticipated demand remained unchanged.  https://t.co/abK4m2uzxo  https://t.co/0V...   \n",
       "7      Delta Air Lines fell short of profit expectations in the second quarter and said high operating costs will persist through the rest of the year.   Bloomberg Opinion's Brooke Sutherland has more on...   \n",
       "8                              BREAKING: The Indian rupee plummets to a record 80 per US dollar as foreign investors pull out money from the nation's stocks  https://t.co/7vY4NvnvPS  https://t.co/r05nf59krL   \n",
       "9                                                                                               Twitter and Elon Musk are now in a high stakes/high risk situation, one analyst said.  https://t.co/II5sEauXAW   \n",
       "10                                                                                             Copper prices are signaling that investors are bearish on the economy, strategist says  https://t.co/APwUHPn9vk   \n",
       "11     Johnson &amp; Johnson CFO Joe Wolk says the company is positioned for the long term and the plans for its consumer operations include an IPO. He speaks on “Bloomberg Markets”  https://t.co/A6UdvBy...   \n",
       "12     Company and Elon Musk are set for a blockbuster courtroom battle over Musk’s attempt to terminate his $44 billion acquisition deal for $TWTR, according to Wedbush analyst Dan Ives.  https://t.co/J...   \n",
       "13                                                                                                    Amazon to buy primary health care provider One Medical for roughly $3.9 billion  https://t.co/QE0bKb9AtK   \n",
       "14     Barclays Senior Analyst For Equity Research Jason Goldberg: “Price expectations have changed.”  The global markets business recorded $6.47 billion of revenue in the quarter with rates, commodities...   \n",
       "15                                                               US stocks push higher in a volatile session. We break it down on The Countdown to The Close  https://t.co/FRU6ebqEx5  https://t.co/RrsZlMbq1B   \n",
       "16     LISTEN NOW: Morgan Stanley’s Keith Weiss joins the team to discuss why he lowered his estimates for Microsoft. Listen and follow the @CNBCTechCheck podcast here or on your favorite podcast platfor...   \n",
       "17                                                                                                                                      Airbnb co-founder Joe Gebbia is stepping down  https://t.co/zll1uGaLIL   \n",
       "18                                                                                                                                                                                    @ArslanQ84819188 Bearish   \n",
       "19                     JUST IN: Alibaba shares slide as much as 5.7%, bringing this week's slump to over 15%, after it reportedly faced a data-theft inquiry  https://t.co/JfqQUHXKqE  https://t.co/DO1KCRchEy   \n",
       "\n",
       "            \n",
       "      freq  \n",
       "label       \n",
       "0        1  \n",
       "1        1  \n",
       "2        1  \n",
       "3        1  \n",
       "4        1  \n",
       "5        1  \n",
       "6        1  \n",
       "7        1  \n",
       "8        1  \n",
       "9        1  \n",
       "10       1  \n",
       "11       1  \n",
       "12       1  \n",
       "13       1  \n",
       "14       1  \n",
       "15       1  \n",
       "16       1  \n",
       "17       1  \n",
       "18       1  \n",
       "19       1  "
      ]
     },
     "execution_count": 12,
     "metadata": {},
     "output_type": "execute_result"
    }
   ],
   "source": [
    "# Use the group by to see how many records there are for each label\n",
    "\n",
    "twitter_data.groupby('label').describe()"
   ]
  },
  {
   "cell_type": "markdown",
   "id": "f3ae5226-9a0a-4c3f-a2df-12593afcdb08",
   "metadata": {},
   "source": [
    "Creating a new column with teh label names tro create a legend"
   ]
  },
  {
   "cell_type": "code",
   "execution_count": 13,
   "id": "5a860bc1-d4e7-48a7-85e3-a8e88ca984a8",
   "metadata": {
    "tags": []
   },
   "outputs": [],
   "source": [
    "bar_labels = [\"Analyst Update\", \"Fed | Central Banks\", \"Company | Product News\", \"Treasuries | Corporate Debt\", \"Dividend\", \"Earnings\", \"Energy | Oil\", \"Financials\", \"Currencies\", \"General News | Opinion\",\n",
    "                \"Gold | Metals | Materials\", \"IPO\", \"Legal | Regulation\", \"M&A | Investments\", \"Macro\", \"Markets\", \"Politics\", \"Personnel Change\", \"Stock Commentary\", \"Stock Movement\"]\n",
    "\n",
    "# Create new dataframe column with the labels instead of numbers\n",
    "twitter_data[\"label_name\"] = twitter_data[\"label\"].map(dict(zip(range(0,19), bar_labels)))"
   ]
  },
  {
   "cell_type": "code",
   "execution_count": 14,
   "id": "4fb162b5-82f6-462b-bcf6-3ecd622b29c4",
   "metadata": {
    "tags": []
   },
   "outputs": [
    {
     "data": {
      "text/html": [
       "<div>\n",
       "<style scoped>\n",
       "    .dataframe tbody tr th:only-of-type {\n",
       "        vertical-align: middle;\n",
       "    }\n",
       "\n",
       "    .dataframe tbody tr th {\n",
       "        vertical-align: top;\n",
       "    }\n",
       "\n",
       "    .dataframe thead th {\n",
       "        text-align: right;\n",
       "    }\n",
       "</style>\n",
       "<table border=\"1\" class=\"dataframe\">\n",
       "  <thead>\n",
       "    <tr style=\"text-align: right;\">\n",
       "      <th></th>\n",
       "      <th>text</th>\n",
       "      <th>label</th>\n",
       "      <th>label_name</th>\n",
       "    </tr>\n",
       "  </thead>\n",
       "  <tbody>\n",
       "    <tr>\n",
       "      <th>0</th>\n",
       "      <td>Here are Thursday's biggest analyst calls: Apple, Amazon, Tesla, Palantir, DocuSign, Exxon &amp;amp; more  https://t.co/QPN8Gwl7Uh</td>\n",
       "      <td>0</td>\n",
       "      <td>Analyst Update</td>\n",
       "    </tr>\n",
       "    <tr>\n",
       "      <th>1</th>\n",
       "      <td>Buy Las Vegas Sands as travel to Singapore builds, Wells Fargo says  https://t.co/fLS2w57iCz</td>\n",
       "      <td>0</td>\n",
       "      <td>Analyst Update</td>\n",
       "    </tr>\n",
       "    <tr>\n",
       "      <th>2</th>\n",
       "      <td>Piper Sandler downgrades DocuSign to sell, citing elevated risks amid CEO transition  https://t.co/1EmtywmYpr</td>\n",
       "      <td>0</td>\n",
       "      <td>Analyst Update</td>\n",
       "    </tr>\n",
       "    <tr>\n",
       "      <th>3</th>\n",
       "      <td>Analysts react to Tesla's latest earnings, break down what's next for electric car maker  https://t.co/kwhoE6W06u</td>\n",
       "      <td>0</td>\n",
       "      <td>Analyst Update</td>\n",
       "    </tr>\n",
       "    <tr>\n",
       "      <th>4</th>\n",
       "      <td>Netflix and its peers are set for a ‘return to growth,’ analysts say, giving one stock 120% upside  https://t.co/jPpdl0D9s4</td>\n",
       "      <td>0</td>\n",
       "      <td>Analyst Update</td>\n",
       "    </tr>\n",
       "    <tr>\n",
       "      <th>...</th>\n",
       "      <td>...</td>\n",
       "      <td>...</td>\n",
       "      <td>...</td>\n",
       "    </tr>\n",
       "    <tr>\n",
       "      <th>21102</th>\n",
       "      <td>Dollar bonds of Chinese developers fall as stress spreads from junk-rated names to investment-grade peers amid renewed concerns about more Covid lockdowns  https://t.co/uhSv4iiR6C</td>\n",
       "      <td>3</td>\n",
       "      <td>Treasuries | Corporate Debt</td>\n",
       "    </tr>\n",
       "    <tr>\n",
       "      <th>21103</th>\n",
       "      <td>Longer maturity Treasury yields have scope to go higher still and the market is erring in pricing in Fed interest-rate cuts in the latter part of 2023, according to Franklin Templeton  https://t.c...</td>\n",
       "      <td>3</td>\n",
       "      <td>Treasuries | Corporate Debt</td>\n",
       "    </tr>\n",
       "    <tr>\n",
       "      <th>21104</th>\n",
       "      <td>Pimco buys €1bn of Apollo buyout loans from banks  https://t.co/nbgVPY34JA</td>\n",
       "      <td>3</td>\n",
       "      <td>Treasuries | Corporate Debt</td>\n",
       "    </tr>\n",
       "    <tr>\n",
       "      <th>21105</th>\n",
       "      <td>Analysis: Banks' snubbing of junk-rated loan funds worsens financing logjam  https://t.co/Jl0EuExhB1  https://t.co/M8MuEzCPO1</td>\n",
       "      <td>3</td>\n",
       "      <td>Treasuries | Corporate Debt</td>\n",
       "    </tr>\n",
       "    <tr>\n",
       "      <th>21106</th>\n",
       "      <td>U.S. Treasury seeks information on digital asset risks  https://t.co/1qmdZ0O1n1  https://t.co/Zhn49a7nsy</td>\n",
       "      <td>3</td>\n",
       "      <td>Treasuries | Corporate Debt</td>\n",
       "    </tr>\n",
       "  </tbody>\n",
       "</table>\n",
       "<p>21107 rows × 3 columns</p>\n",
       "</div>"
      ],
      "text/plain": [
       "                                                                                                                                                                                                          text  \\\n",
       "0                                                                               Here are Thursday's biggest analyst calls: Apple, Amazon, Tesla, Palantir, DocuSign, Exxon &amp; more  https://t.co/QPN8Gwl7Uh   \n",
       "1                                                                                                                 Buy Las Vegas Sands as travel to Singapore builds, Wells Fargo says  https://t.co/fLS2w57iCz   \n",
       "2                                                                                                Piper Sandler downgrades DocuSign to sell, citing elevated risks amid CEO transition  https://t.co/1EmtywmYpr   \n",
       "3                                                                                            Analysts react to Tesla's latest earnings, break down what's next for electric car maker  https://t.co/kwhoE6W06u   \n",
       "4                                                                                  Netflix and its peers are set for a ‘return to growth,’ analysts say, giving one stock 120% upside  https://t.co/jPpdl0D9s4   \n",
       "...                                                                                                                                                                                                        ...   \n",
       "21102                      Dollar bonds of Chinese developers fall as stress spreads from junk-rated names to investment-grade peers amid renewed concerns about more Covid lockdowns  https://t.co/uhSv4iiR6C   \n",
       "21103  Longer maturity Treasury yields have scope to go higher still and the market is erring in pricing in Fed interest-rate cuts in the latter part of 2023, according to Franklin Templeton  https://t.c...   \n",
       "21104                                                                                                                               Pimco buys €1bn of Apollo buyout loans from banks  https://t.co/nbgVPY34JA   \n",
       "21105                                                                            Analysis: Banks' snubbing of junk-rated loan funds worsens financing logjam  https://t.co/Jl0EuExhB1  https://t.co/M8MuEzCPO1   \n",
       "21106                                                                                                 U.S. Treasury seeks information on digital asset risks  https://t.co/1qmdZ0O1n1  https://t.co/Zhn49a7nsy   \n",
       "\n",
       "       label                   label_name  \n",
       "0          0               Analyst Update  \n",
       "1          0               Analyst Update  \n",
       "2          0               Analyst Update  \n",
       "3          0               Analyst Update  \n",
       "4          0               Analyst Update  \n",
       "...      ...                          ...  \n",
       "21102      3  Treasuries | Corporate Debt  \n",
       "21103      3  Treasuries | Corporate Debt  \n",
       "21104      3  Treasuries | Corporate Debt  \n",
       "21105      3  Treasuries | Corporate Debt  \n",
       "21106      3  Treasuries | Corporate Debt  \n",
       "\n",
       "[21107 rows x 3 columns]"
      ]
     },
     "execution_count": 14,
     "metadata": {},
     "output_type": "execute_result"
    }
   ],
   "source": [
    "twitter_data"
   ]
  },
  {
   "cell_type": "code",
   "execution_count": 15,
   "id": "889d7b22-7206-4b53-8d95-1368bbdca98b",
   "metadata": {
    "tags": []
   },
   "outputs": [
    {
     "data": {
      "text/plain": [
       "<matplotlib.legend.Legend at 0x7f3b0245c6a0>"
      ]
     },
     "execution_count": 15,
     "metadata": {},
     "output_type": "execute_result"
    },
    {
     "data": {
      "image/png": "[encoded data removed]",
      "text/plain": [
       "<Figure size 1000x700 with 1 Axes>"
      ]
     },
     "metadata": {},
     "output_type": "display_data"
    }
   ],
   "source": [
    "countplt, ax = plt.subplots(figsize = (10,7))\n",
    "ax =sns.countplot(x = 'label', data=twitter_data, hue='label_name', hue_order=bar_labels, dodge=False)\n",
    "\n",
    "ax.set_title('Twitter News Data',fontsize = 18, fontweight='bold' )\n",
    "ax.set_xlabel('News Category', fontsize = 15)\n",
    "ax.set_ylabel('News Category Count', fontsize = 15)\n",
    "\n",
    "ax.legend(fontsize = 12, bbox_to_anchor=(1.2, 1), title=\"News Category Names\", title_fontsize = 15, loc='upper left', borderaxespad=0)"
   ]
  },
  {
   "cell_type": "markdown",
   "id": "8ce86ae7-3ea0-4b62-998d-501dd4a4496e",
   "metadata": {},
   "source": [
    "# Cleanup the data"
   ]
  },
  {
   "cell_type": "markdown",
   "id": "31945d32-c21d-45cf-89f7-d6036b2197d5",
   "metadata": {},
   "source": [
    "## Convert all the text to lower case"
   ]
  },
  {
   "cell_type": "code",
   "execution_count": 16,
   "id": "e84ac0c7-37e4-4bdd-ad6b-79ab7c25d77a",
   "metadata": {
    "tags": []
   },
   "outputs": [
    {
     "data": {
      "text/plain": [
       "0                                                                                 here are thursday's biggest analyst calls: apple, amazon, tesla, palantir, docusign, exxon &amp; more  https://t.co/qpn8gwl7uh\n",
       "1                                                                                                                   buy las vegas sands as travel to singapore builds, wells fargo says  https://t.co/fls2w57icz\n",
       "2                                                                                                  piper sandler downgrades docusign to sell, citing elevated risks amid ceo transition  https://t.co/1emtywmypr\n",
       "3                                                                                              analysts react to tesla's latest earnings, break down what's next for electric car maker  https://t.co/kwhoe6w06u\n",
       "4                                                                                    netflix and its peers are set for a ‘return to growth,’ analysts say, giving one stock 120% upside  https://t.co/jppdl0d9s4\n",
       "                                                                                                          ...                                                                                                   \n",
       "21102                        dollar bonds of chinese developers fall as stress spreads from junk-rated names to investment-grade peers amid renewed concerns about more covid lockdowns  https://t.co/uhsv4iir6c\n",
       "21103    longer maturity treasury yields have scope to go higher still and the market is erring in pricing in fed interest-rate cuts in the latter part of 2023, according to franklin templeton  https://t.c...\n",
       "21104                                                                                                                                 pimco buys €1bn of apollo buyout loans from banks  https://t.co/nbgvpy34ja\n",
       "21105                                                                              analysis: banks' snubbing of junk-rated loan funds worsens financing logjam  https://t.co/jl0euexhb1  https://t.co/m8muezcpo1\n",
       "21106                                                                                                   u.s. treasury seeks information on digital asset risks  https://t.co/1qmdz0o1n1  https://t.co/zhn49a7nsy\n",
       "Name: text, Length: 21107, dtype: object"
      ]
     },
     "execution_count": 16,
     "metadata": {},
     "output_type": "execute_result"
    }
   ],
   "source": [
    "twitter_data['text'] = twitter_data['text'].str.lower()\n",
    "twitter_data['text']"
   ]
  },
  {
   "cell_type": "markdown",
   "id": "78548d60-5234-4692-a8d5-e12a63283e0d",
   "metadata": {},
   "source": [
    "## Remove website URLs"
   ]
  },
  {
   "cell_type": "code",
   "execution_count": 17,
   "id": "8a936bb9-5468-473d-99f9-4d3e2f8d1ea5",
   "metadata": {
    "tags": []
   },
   "outputs": [
    {
     "data": {
      "text/html": [
       "<div>\n",
       "<style scoped>\n",
       "    .dataframe tbody tr th:only-of-type {\n",
       "        vertical-align: middle;\n",
       "    }\n",
       "\n",
       "    .dataframe tbody tr th {\n",
       "        vertical-align: top;\n",
       "    }\n",
       "\n",
       "    .dataframe thead th {\n",
       "        text-align: right;\n",
       "    }\n",
       "</style>\n",
       "<table border=\"1\" class=\"dataframe\">\n",
       "  <thead>\n",
       "    <tr style=\"text-align: right;\">\n",
       "      <th></th>\n",
       "      <th>text</th>\n",
       "      <th>label</th>\n",
       "      <th>label_name</th>\n",
       "    </tr>\n",
       "  </thead>\n",
       "  <tbody>\n",
       "    <tr>\n",
       "      <th>0</th>\n",
       "      <td>here are thursday's biggest analyst calls: apple, amazon, tesla, palantir, docusign, exxon &amp;amp; more</td>\n",
       "      <td>0</td>\n",
       "      <td>Analyst Update</td>\n",
       "    </tr>\n",
       "    <tr>\n",
       "      <th>1</th>\n",
       "      <td>buy las vegas sands as travel to singapore builds, wells fargo says</td>\n",
       "      <td>0</td>\n",
       "      <td>Analyst Update</td>\n",
       "    </tr>\n",
       "    <tr>\n",
       "      <th>2</th>\n",
       "      <td>piper sandler downgrades docusign to sell, citing elevated risks amid ceo transition</td>\n",
       "      <td>0</td>\n",
       "      <td>Analyst Update</td>\n",
       "    </tr>\n",
       "    <tr>\n",
       "      <th>3</th>\n",
       "      <td>analysts react to tesla's latest earnings, break down what's next for electric car maker</td>\n",
       "      <td>0</td>\n",
       "      <td>Analyst Update</td>\n",
       "    </tr>\n",
       "    <tr>\n",
       "      <th>4</th>\n",
       "      <td>netflix and its peers are set for a ‘return to growth,’ analysts say, giving one stock 120% upside</td>\n",
       "      <td>0</td>\n",
       "      <td>Analyst Update</td>\n",
       "    </tr>\n",
       "    <tr>\n",
       "      <th>...</th>\n",
       "      <td>...</td>\n",
       "      <td>...</td>\n",
       "      <td>...</td>\n",
       "    </tr>\n",
       "    <tr>\n",
       "      <th>21102</th>\n",
       "      <td>dollar bonds of chinese developers fall as stress spreads from junk-rated names to investment-grade peers amid renewed concerns about more covid lockdowns</td>\n",
       "      <td>3</td>\n",
       "      <td>Treasuries | Corporate Debt</td>\n",
       "    </tr>\n",
       "    <tr>\n",
       "      <th>21103</th>\n",
       "      <td>longer maturity treasury yields have scope to go higher still and the market is erring in pricing in fed interest-rate cuts in the latter part of 2023, according to franklin templeton</td>\n",
       "      <td>3</td>\n",
       "      <td>Treasuries | Corporate Debt</td>\n",
       "    </tr>\n",
       "    <tr>\n",
       "      <th>21104</th>\n",
       "      <td>pimco buys €1bn of apollo buyout loans from banks</td>\n",
       "      <td>3</td>\n",
       "      <td>Treasuries | Corporate Debt</td>\n",
       "    </tr>\n",
       "    <tr>\n",
       "      <th>21105</th>\n",
       "      <td>analysis: banks' snubbing of junk-rated loan funds worsens financing logjam</td>\n",
       "      <td>3</td>\n",
       "      <td>Treasuries | Corporate Debt</td>\n",
       "    </tr>\n",
       "    <tr>\n",
       "      <th>21106</th>\n",
       "      <td>u.s. treasury seeks information on digital asset risks</td>\n",
       "      <td>3</td>\n",
       "      <td>Treasuries | Corporate Debt</td>\n",
       "    </tr>\n",
       "  </tbody>\n",
       "</table>\n",
       "<p>21107 rows × 3 columns</p>\n",
       "</div>"
      ],
      "text/plain": [
       "                                                                                                                                                                                            text  \\\n",
       "0                                                                                        here are thursday's biggest analyst calls: apple, amazon, tesla, palantir, docusign, exxon &amp; more     \n",
       "1                                                                                                                          buy las vegas sands as travel to singapore builds, wells fargo says     \n",
       "2                                                                                                         piper sandler downgrades docusign to sell, citing elevated risks amid ceo transition     \n",
       "3                                                                                                     analysts react to tesla's latest earnings, break down what's next for electric car maker     \n",
       "4                                                                                           netflix and its peers are set for a ‘return to growth,’ analysts say, giving one stock 120% upside     \n",
       "...                                                                                                                                                                                          ...   \n",
       "21102                               dollar bonds of chinese developers fall as stress spreads from junk-rated names to investment-grade peers amid renewed concerns about more covid lockdowns     \n",
       "21103  longer maturity treasury yields have scope to go higher still and the market is erring in pricing in fed interest-rate cuts in the latter part of 2023, according to franklin templeton     \n",
       "21104                                                                                                                                        pimco buys €1bn of apollo buyout loans from banks     \n",
       "21105                                                                                                            analysis: banks' snubbing of junk-rated loan funds worsens financing logjam       \n",
       "21106                                                                                                                                 u.s. treasury seeks information on digital asset risks       \n",
       "\n",
       "       label                   label_name  \n",
       "0          0               Analyst Update  \n",
       "1          0               Analyst Update  \n",
       "2          0               Analyst Update  \n",
       "3          0               Analyst Update  \n",
       "4          0               Analyst Update  \n",
       "...      ...                          ...  \n",
       "21102      3  Treasuries | Corporate Debt  \n",
       "21103      3  Treasuries | Corporate Debt  \n",
       "21104      3  Treasuries | Corporate Debt  \n",
       "21105      3  Treasuries | Corporate Debt  \n",
       "21106      3  Treasuries | Corporate Debt  \n",
       "\n",
       "[21107 rows x 3 columns]"
      ]
     },
     "execution_count": 17,
     "metadata": {},
     "output_type": "execute_result"
    }
   ],
   "source": [
    "twitter_data['text'] = twitter_data['text'].apply(lambda x : re.sub('http://\\S+|https://\\S+', '', x))\n",
    "\n",
    "twitter_data"
   ]
  },
  {
   "cell_type": "markdown",
   "id": "4e62ee2d-dd02-400a-a6e1-40e2f1e16ac2",
   "metadata": {},
   "source": [
    "## Remove whitespace at the front and end of the sentence"
   ]
  },
  {
   "cell_type": "code",
   "execution_count": 18,
   "id": "cb73c40d-4d2f-4f62-b99b-437c15936b7d",
   "metadata": {
    "tags": []
   },
   "outputs": [
    {
     "data": {
      "text/html": [
       "<div>\n",
       "<style scoped>\n",
       "    .dataframe tbody tr th:only-of-type {\n",
       "        vertical-align: middle;\n",
       "    }\n",
       "\n",
       "    .dataframe tbody tr th {\n",
       "        vertical-align: top;\n",
       "    }\n",
       "\n",
       "    .dataframe thead th {\n",
       "        text-align: right;\n",
       "    }\n",
       "</style>\n",
       "<table border=\"1\" class=\"dataframe\">\n",
       "  <thead>\n",
       "    <tr style=\"text-align: right;\">\n",
       "      <th></th>\n",
       "      <th>text</th>\n",
       "      <th>label</th>\n",
       "      <th>label_name</th>\n",
       "    </tr>\n",
       "  </thead>\n",
       "  <tbody>\n",
       "    <tr>\n",
       "      <th>0</th>\n",
       "      <td>here are thursday's biggest analyst calls: apple, amazon, tesla, palantir, docusign, exxon &amp;amp; more</td>\n",
       "      <td>0</td>\n",
       "      <td>Analyst Update</td>\n",
       "    </tr>\n",
       "    <tr>\n",
       "      <th>1</th>\n",
       "      <td>buy las vegas sands as travel to singapore builds, wells fargo says</td>\n",
       "      <td>0</td>\n",
       "      <td>Analyst Update</td>\n",
       "    </tr>\n",
       "    <tr>\n",
       "      <th>2</th>\n",
       "      <td>piper sandler downgrades docusign to sell, citing elevated risks amid ceo transition</td>\n",
       "      <td>0</td>\n",
       "      <td>Analyst Update</td>\n",
       "    </tr>\n",
       "    <tr>\n",
       "      <th>3</th>\n",
       "      <td>analysts react to tesla's latest earnings, break down what's next for electric car maker</td>\n",
       "      <td>0</td>\n",
       "      <td>Analyst Update</td>\n",
       "    </tr>\n",
       "    <tr>\n",
       "      <th>4</th>\n",
       "      <td>netflix and its peers are set for a ‘return to growth,’ analysts say, giving one stock 120% upside</td>\n",
       "      <td>0</td>\n",
       "      <td>Analyst Update</td>\n",
       "    </tr>\n",
       "    <tr>\n",
       "      <th>...</th>\n",
       "      <td>...</td>\n",
       "      <td>...</td>\n",
       "      <td>...</td>\n",
       "    </tr>\n",
       "    <tr>\n",
       "      <th>21102</th>\n",
       "      <td>dollar bonds of chinese developers fall as stress spreads from junk-rated names to investment-grade peers amid renewed concerns about more covid lockdowns</td>\n",
       "      <td>3</td>\n",
       "      <td>Treasuries | Corporate Debt</td>\n",
       "    </tr>\n",
       "    <tr>\n",
       "      <th>21103</th>\n",
       "      <td>longer maturity treasury yields have scope to go higher still and the market is erring in pricing in fed interest-rate cuts in the latter part of 2023, according to franklin templeton</td>\n",
       "      <td>3</td>\n",
       "      <td>Treasuries | Corporate Debt</td>\n",
       "    </tr>\n",
       "    <tr>\n",
       "      <th>21104</th>\n",
       "      <td>pimco buys €1bn of apollo buyout loans from banks</td>\n",
       "      <td>3</td>\n",
       "      <td>Treasuries | Corporate Debt</td>\n",
       "    </tr>\n",
       "    <tr>\n",
       "      <th>21105</th>\n",
       "      <td>analysis: banks' snubbing of junk-rated loan funds worsens financing logjam</td>\n",
       "      <td>3</td>\n",
       "      <td>Treasuries | Corporate Debt</td>\n",
       "    </tr>\n",
       "    <tr>\n",
       "      <th>21106</th>\n",
       "      <td>u.s. treasury seeks information on digital asset risks</td>\n",
       "      <td>3</td>\n",
       "      <td>Treasuries | Corporate Debt</td>\n",
       "    </tr>\n",
       "  </tbody>\n",
       "</table>\n",
       "<p>21107 rows × 3 columns</p>\n",
       "</div>"
      ],
      "text/plain": [
       "                                                                                                                                                                                          text  \\\n",
       "0                                                                                        here are thursday's biggest analyst calls: apple, amazon, tesla, palantir, docusign, exxon &amp; more   \n",
       "1                                                                                                                          buy las vegas sands as travel to singapore builds, wells fargo says   \n",
       "2                                                                                                         piper sandler downgrades docusign to sell, citing elevated risks amid ceo transition   \n",
       "3                                                                                                     analysts react to tesla's latest earnings, break down what's next for electric car maker   \n",
       "4                                                                                           netflix and its peers are set for a ‘return to growth,’ analysts say, giving one stock 120% upside   \n",
       "...                                                                                                                                                                                        ...   \n",
       "21102                               dollar bonds of chinese developers fall as stress spreads from junk-rated names to investment-grade peers amid renewed concerns about more covid lockdowns   \n",
       "21103  longer maturity treasury yields have scope to go higher still and the market is erring in pricing in fed interest-rate cuts in the latter part of 2023, according to franklin templeton   \n",
       "21104                                                                                                                                        pimco buys €1bn of apollo buyout loans from banks   \n",
       "21105                                                                                                              analysis: banks' snubbing of junk-rated loan funds worsens financing logjam   \n",
       "21106                                                                                                                                   u.s. treasury seeks information on digital asset risks   \n",
       "\n",
       "       label                   label_name  \n",
       "0          0               Analyst Update  \n",
       "1          0               Analyst Update  \n",
       "2          0               Analyst Update  \n",
       "3          0               Analyst Update  \n",
       "4          0               Analyst Update  \n",
       "...      ...                          ...  \n",
       "21102      3  Treasuries | Corporate Debt  \n",
       "21103      3  Treasuries | Corporate Debt  \n",
       "21104      3  Treasuries | Corporate Debt  \n",
       "21105      3  Treasuries | Corporate Debt  \n",
       "21106      3  Treasuries | Corporate Debt  \n",
       "\n",
       "[21107 rows x 3 columns]"
      ]
     },
     "execution_count": 18,
     "metadata": {},
     "output_type": "execute_result"
    }
   ],
   "source": [
    "twitter_data['text'] = twitter_data['text'].apply(lambda x : x.strip())\n",
    "\n",
    "twitter_data"
   ]
  },
  {
   "cell_type": "markdown",
   "id": "fc9ad346-45fd-47e8-8326-052bd2a83c9d",
   "metadata": {},
   "source": [
    "## Remove any punctuation"
   ]
  },
  {
   "cell_type": "code",
   "execution_count": 19,
   "id": "63df018e-6582-4c12-a7ac-cf4d22b70884",
   "metadata": {
    "tags": []
   },
   "outputs": [
    {
     "data": {
      "text/html": [
       "<div>\n",
       "<style scoped>\n",
       "    .dataframe tbody tr th:only-of-type {\n",
       "        vertical-align: middle;\n",
       "    }\n",
       "\n",
       "    .dataframe tbody tr th {\n",
       "        vertical-align: top;\n",
       "    }\n",
       "\n",
       "    .dataframe thead th {\n",
       "        text-align: right;\n",
       "    }\n",
       "</style>\n",
       "<table border=\"1\" class=\"dataframe\">\n",
       "  <thead>\n",
       "    <tr style=\"text-align: right;\">\n",
       "      <th></th>\n",
       "      <th>text</th>\n",
       "      <th>label</th>\n",
       "      <th>label_name</th>\n",
       "    </tr>\n",
       "  </thead>\n",
       "  <tbody>\n",
       "    <tr>\n",
       "      <th>0</th>\n",
       "      <td>here are thursdays biggest analyst calls apple amazon tesla palantir docusign exxon amp more</td>\n",
       "      <td>0</td>\n",
       "      <td>Analyst Update</td>\n",
       "    </tr>\n",
       "    <tr>\n",
       "      <th>1</th>\n",
       "      <td>buy las vegas sands as travel to singapore builds wells fargo says</td>\n",
       "      <td>0</td>\n",
       "      <td>Analyst Update</td>\n",
       "    </tr>\n",
       "    <tr>\n",
       "      <th>2</th>\n",
       "      <td>piper sandler downgrades docusign to sell citing elevated risks amid ceo transition</td>\n",
       "      <td>0</td>\n",
       "      <td>Analyst Update</td>\n",
       "    </tr>\n",
       "    <tr>\n",
       "      <th>3</th>\n",
       "      <td>analysts react to teslas latest earnings break down whats next for electric car maker</td>\n",
       "      <td>0</td>\n",
       "      <td>Analyst Update</td>\n",
       "    </tr>\n",
       "    <tr>\n",
       "      <th>4</th>\n",
       "      <td>netflix and its peers are set for a ‘return to growth’ analysts say giving one stock 120 upside</td>\n",
       "      <td>0</td>\n",
       "      <td>Analyst Update</td>\n",
       "    </tr>\n",
       "    <tr>\n",
       "      <th>...</th>\n",
       "      <td>...</td>\n",
       "      <td>...</td>\n",
       "      <td>...</td>\n",
       "    </tr>\n",
       "    <tr>\n",
       "      <th>21102</th>\n",
       "      <td>dollar bonds of chinese developers fall as stress spreads from junkrated names to investmentgrade peers amid renewed concerns about more covid lockdowns</td>\n",
       "      <td>3</td>\n",
       "      <td>Treasuries | Corporate Debt</td>\n",
       "    </tr>\n",
       "    <tr>\n",
       "      <th>21103</th>\n",
       "      <td>longer maturity treasury yields have scope to go higher still and the market is erring in pricing in fed interestrate cuts in the latter part of 2023 according to franklin templeton</td>\n",
       "      <td>3</td>\n",
       "      <td>Treasuries | Corporate Debt</td>\n",
       "    </tr>\n",
       "    <tr>\n",
       "      <th>21104</th>\n",
       "      <td>pimco buys €1bn of apollo buyout loans from banks</td>\n",
       "      <td>3</td>\n",
       "      <td>Treasuries | Corporate Debt</td>\n",
       "    </tr>\n",
       "    <tr>\n",
       "      <th>21105</th>\n",
       "      <td>analysis banks snubbing of junkrated loan funds worsens financing logjam</td>\n",
       "      <td>3</td>\n",
       "      <td>Treasuries | Corporate Debt</td>\n",
       "    </tr>\n",
       "    <tr>\n",
       "      <th>21106</th>\n",
       "      <td>us treasury seeks information on digital asset risks</td>\n",
       "      <td>3</td>\n",
       "      <td>Treasuries | Corporate Debt</td>\n",
       "    </tr>\n",
       "  </tbody>\n",
       "</table>\n",
       "<p>21107 rows × 3 columns</p>\n",
       "</div>"
      ],
      "text/plain": [
       "                                                                                                                                                                                        text  \\\n",
       "0                                                                                               here are thursdays biggest analyst calls apple amazon tesla palantir docusign exxon amp more   \n",
       "1                                                                                                                         buy las vegas sands as travel to singapore builds wells fargo says   \n",
       "2                                                                                                        piper sandler downgrades docusign to sell citing elevated risks amid ceo transition   \n",
       "3                                                                                                      analysts react to teslas latest earnings break down whats next for electric car maker   \n",
       "4                                                                                            netflix and its peers are set for a ‘return to growth’ analysts say giving one stock 120 upside   \n",
       "...                                                                                                                                                                                      ...   \n",
       "21102                               dollar bonds of chinese developers fall as stress spreads from junkrated names to investmentgrade peers amid renewed concerns about more covid lockdowns   \n",
       "21103  longer maturity treasury yields have scope to go higher still and the market is erring in pricing in fed interestrate cuts in the latter part of 2023 according to franklin templeton   \n",
       "21104                                                                                                                                      pimco buys €1bn of apollo buyout loans from banks   \n",
       "21105                                                                                                               analysis banks snubbing of junkrated loan funds worsens financing logjam   \n",
       "21106                                                                                                                                   us treasury seeks information on digital asset risks   \n",
       "\n",
       "       label                   label_name  \n",
       "0          0               Analyst Update  \n",
       "1          0               Analyst Update  \n",
       "2          0               Analyst Update  \n",
       "3          0               Analyst Update  \n",
       "4          0               Analyst Update  \n",
       "...      ...                          ...  \n",
       "21102      3  Treasuries | Corporate Debt  \n",
       "21103      3  Treasuries | Corporate Debt  \n",
       "21104      3  Treasuries | Corporate Debt  \n",
       "21105      3  Treasuries | Corporate Debt  \n",
       "21106      3  Treasuries | Corporate Debt  \n",
       "\n",
       "[21107 rows x 3 columns]"
      ]
     },
     "execution_count": 19,
     "metadata": {},
     "output_type": "execute_result"
    }
   ],
   "source": [
    "twitter_data['text'] = twitter_data['text'].apply(lambda x: x.translate (str.maketrans('', '', string.punctuation)))\n",
    "    \n",
    "twitter_data"
   ]
  },
  {
   "cell_type": "markdown",
   "id": "3f3f7d09-992e-4ee0-b50b-9d5742ce03ba",
   "metadata": {},
   "source": [
    "## Remove any numbers"
   ]
  },
  {
   "cell_type": "code",
   "execution_count": 20,
   "id": "468a4188-f447-40de-a0ca-65736d5e04db",
   "metadata": {
    "tags": []
   },
   "outputs": [
    {
     "data": {
      "text/html": [
       "<div>\n",
       "<style scoped>\n",
       "    .dataframe tbody tr th:only-of-type {\n",
       "        vertical-align: middle;\n",
       "    }\n",
       "\n",
       "    .dataframe tbody tr th {\n",
       "        vertical-align: top;\n",
       "    }\n",
       "\n",
       "    .dataframe thead th {\n",
       "        text-align: right;\n",
       "    }\n",
       "</style>\n",
       "<table border=\"1\" class=\"dataframe\">\n",
       "  <thead>\n",
       "    <tr style=\"text-align: right;\">\n",
       "      <th></th>\n",
       "      <th>text</th>\n",
       "      <th>label</th>\n",
       "      <th>label_name</th>\n",
       "    </tr>\n",
       "  </thead>\n",
       "  <tbody>\n",
       "    <tr>\n",
       "      <th>0</th>\n",
       "      <td>here are thursdays biggest analyst calls apple amazon tesla palantir docusign exxon amp more</td>\n",
       "      <td>0</td>\n",
       "      <td>Analyst Update</td>\n",
       "    </tr>\n",
       "    <tr>\n",
       "      <th>1</th>\n",
       "      <td>buy las vegas sands as travel to singapore builds wells fargo says</td>\n",
       "      <td>0</td>\n",
       "      <td>Analyst Update</td>\n",
       "    </tr>\n",
       "    <tr>\n",
       "      <th>2</th>\n",
       "      <td>piper sandler downgrades docusign to sell citing elevated risks amid ceo transition</td>\n",
       "      <td>0</td>\n",
       "      <td>Analyst Update</td>\n",
       "    </tr>\n",
       "    <tr>\n",
       "      <th>3</th>\n",
       "      <td>analysts react to teslas latest earnings break down whats next for electric car maker</td>\n",
       "      <td>0</td>\n",
       "      <td>Analyst Update</td>\n",
       "    </tr>\n",
       "    <tr>\n",
       "      <th>4</th>\n",
       "      <td>netflix and its peers are set for a ‘return to growth’ analysts say giving one stock  upside</td>\n",
       "      <td>0</td>\n",
       "      <td>Analyst Update</td>\n",
       "    </tr>\n",
       "    <tr>\n",
       "      <th>...</th>\n",
       "      <td>...</td>\n",
       "      <td>...</td>\n",
       "      <td>...</td>\n",
       "    </tr>\n",
       "    <tr>\n",
       "      <th>21102</th>\n",
       "      <td>dollar bonds of chinese developers fall as stress spreads from junkrated names to investmentgrade peers amid renewed concerns about more covid lockdowns</td>\n",
       "      <td>3</td>\n",
       "      <td>Treasuries | Corporate Debt</td>\n",
       "    </tr>\n",
       "    <tr>\n",
       "      <th>21103</th>\n",
       "      <td>longer maturity treasury yields have scope to go higher still and the market is erring in pricing in fed interestrate cuts in the latter part of  according to franklin templeton</td>\n",
       "      <td>3</td>\n",
       "      <td>Treasuries | Corporate Debt</td>\n",
       "    </tr>\n",
       "    <tr>\n",
       "      <th>21104</th>\n",
       "      <td>pimco buys €bn of apollo buyout loans from banks</td>\n",
       "      <td>3</td>\n",
       "      <td>Treasuries | Corporate Debt</td>\n",
       "    </tr>\n",
       "    <tr>\n",
       "      <th>21105</th>\n",
       "      <td>analysis banks snubbing of junkrated loan funds worsens financing logjam</td>\n",
       "      <td>3</td>\n",
       "      <td>Treasuries | Corporate Debt</td>\n",
       "    </tr>\n",
       "    <tr>\n",
       "      <th>21106</th>\n",
       "      <td>us treasury seeks information on digital asset risks</td>\n",
       "      <td>3</td>\n",
       "      <td>Treasuries | Corporate Debt</td>\n",
       "    </tr>\n",
       "  </tbody>\n",
       "</table>\n",
       "<p>21107 rows × 3 columns</p>\n",
       "</div>"
      ],
      "text/plain": [
       "                                                                                                                                                                                    text  \\\n",
       "0                                                                                           here are thursdays biggest analyst calls apple amazon tesla palantir docusign exxon amp more   \n",
       "1                                                                                                                     buy las vegas sands as travel to singapore builds wells fargo says   \n",
       "2                                                                                                    piper sandler downgrades docusign to sell citing elevated risks amid ceo transition   \n",
       "3                                                                                                  analysts react to teslas latest earnings break down whats next for electric car maker   \n",
       "4                                                                                           netflix and its peers are set for a ‘return to growth’ analysts say giving one stock  upside   \n",
       "...                                                                                                                                                                                  ...   \n",
       "21102                           dollar bonds of chinese developers fall as stress spreads from junkrated names to investmentgrade peers amid renewed concerns about more covid lockdowns   \n",
       "21103  longer maturity treasury yields have scope to go higher still and the market is erring in pricing in fed interestrate cuts in the latter part of  according to franklin templeton   \n",
       "21104                                                                                                                                   pimco buys €bn of apollo buyout loans from banks   \n",
       "21105                                                                                                           analysis banks snubbing of junkrated loan funds worsens financing logjam   \n",
       "21106                                                                                                                               us treasury seeks information on digital asset risks   \n",
       "\n",
       "       label                   label_name  \n",
       "0          0               Analyst Update  \n",
       "1          0               Analyst Update  \n",
       "2          0               Analyst Update  \n",
       "3          0               Analyst Update  \n",
       "4          0               Analyst Update  \n",
       "...      ...                          ...  \n",
       "21102      3  Treasuries | Corporate Debt  \n",
       "21103      3  Treasuries | Corporate Debt  \n",
       "21104      3  Treasuries | Corporate Debt  \n",
       "21105      3  Treasuries | Corporate Debt  \n",
       "21106      3  Treasuries | Corporate Debt  \n",
       "\n",
       "[21107 rows x 3 columns]"
      ]
     },
     "execution_count": 20,
     "metadata": {},
     "output_type": "execute_result"
    }
   ],
   "source": [
    "twitter_data['text'] = twitter_data['text'].apply(lambda x: x.translate (str.maketrans('', '', string.digits)))\n",
    "    \n",
    "twitter_data"
   ]
  },
  {
   "cell_type": "markdown",
   "id": "c0c18f64-9f79-4c80-b9c0-abd6c97e76c2",
   "metadata": {},
   "source": [
    "## Tokenize"
   ]
  },
  {
   "cell_type": "code",
   "execution_count": 21,
   "id": "131fe9e2-003e-4ab5-89a7-a9280ad27499",
   "metadata": {
    "tags": []
   },
   "outputs": [],
   "source": [
    "twitter_data['text'] = twitter_data['text'].apply(word_tokenize)"
   ]
  },
  {
   "cell_type": "code",
   "execution_count": 22,
   "id": "2d81c895-20e7-4d76-b3c1-76ff062c5edf",
   "metadata": {
    "tags": []
   },
   "outputs": [
    {
     "data": {
      "text/html": [
       "<div>\n",
       "<style scoped>\n",
       "    .dataframe tbody tr th:only-of-type {\n",
       "        vertical-align: middle;\n",
       "    }\n",
       "\n",
       "    .dataframe tbody tr th {\n",
       "        vertical-align: top;\n",
       "    }\n",
       "\n",
       "    .dataframe thead th {\n",
       "        text-align: right;\n",
       "    }\n",
       "</style>\n",
       "<table border=\"1\" class=\"dataframe\">\n",
       "  <thead>\n",
       "    <tr style=\"text-align: right;\">\n",
       "      <th></th>\n",
       "      <th>text</th>\n",
       "      <th>label</th>\n",
       "      <th>label_name</th>\n",
       "    </tr>\n",
       "  </thead>\n",
       "  <tbody>\n",
       "    <tr>\n",
       "      <th>0</th>\n",
       "      <td>[here, are, thursdays, biggest, analyst, calls, apple, amazon, tesla, palantir, docusign, exxon, amp, more]</td>\n",
       "      <td>0</td>\n",
       "      <td>Analyst Update</td>\n",
       "    </tr>\n",
       "    <tr>\n",
       "      <th>1</th>\n",
       "      <td>[buy, las, vegas, sands, as, travel, to, singapore, builds, wells, fargo, says]</td>\n",
       "      <td>0</td>\n",
       "      <td>Analyst Update</td>\n",
       "    </tr>\n",
       "    <tr>\n",
       "      <th>2</th>\n",
       "      <td>[piper, sandler, downgrades, docusign, to, sell, citing, elevated, risks, amid, ceo, transition]</td>\n",
       "      <td>0</td>\n",
       "      <td>Analyst Update</td>\n",
       "    </tr>\n",
       "    <tr>\n",
       "      <th>3</th>\n",
       "      <td>[analysts, react, to, teslas, latest, earnings, break, down, whats, next, for, electric, car, maker]</td>\n",
       "      <td>0</td>\n",
       "      <td>Analyst Update</td>\n",
       "    </tr>\n",
       "    <tr>\n",
       "      <th>4</th>\n",
       "      <td>[netflix, and, its, peers, are, set, for, a, ‘, return, to, growth, ’, analysts, say, giving, one, stock, upside]</td>\n",
       "      <td>0</td>\n",
       "      <td>Analyst Update</td>\n",
       "    </tr>\n",
       "    <tr>\n",
       "      <th>...</th>\n",
       "      <td>...</td>\n",
       "      <td>...</td>\n",
       "      <td>...</td>\n",
       "    </tr>\n",
       "    <tr>\n",
       "      <th>21102</th>\n",
       "      <td>[dollar, bonds, of, chinese, developers, fall, as, stress, spreads, from, junkrated, names, to, investmentgrade, peers, amid, renewed, concerns, about, more, covid, lockdowns]</td>\n",
       "      <td>3</td>\n",
       "      <td>Treasuries | Corporate Debt</td>\n",
       "    </tr>\n",
       "    <tr>\n",
       "      <th>21103</th>\n",
       "      <td>[longer, maturity, treasury, yields, have, scope, to, go, higher, still, and, the, market, is, erring, in, pricing, in, fed, interestrate, cuts, in, the, latter, part, of, according, to, franklin,...</td>\n",
       "      <td>3</td>\n",
       "      <td>Treasuries | Corporate Debt</td>\n",
       "    </tr>\n",
       "    <tr>\n",
       "      <th>21104</th>\n",
       "      <td>[pimco, buys, €bn, of, apollo, buyout, loans, from, banks]</td>\n",
       "      <td>3</td>\n",
       "      <td>Treasuries | Corporate Debt</td>\n",
       "    </tr>\n",
       "    <tr>\n",
       "      <th>21105</th>\n",
       "      <td>[analysis, banks, snubbing, of, junkrated, loan, funds, worsens, financing, logjam]</td>\n",
       "      <td>3</td>\n",
       "      <td>Treasuries | Corporate Debt</td>\n",
       "    </tr>\n",
       "    <tr>\n",
       "      <th>21106</th>\n",
       "      <td>[us, treasury, seeks, information, on, digital, asset, risks]</td>\n",
       "      <td>3</td>\n",
       "      <td>Treasuries | Corporate Debt</td>\n",
       "    </tr>\n",
       "  </tbody>\n",
       "</table>\n",
       "<p>21107 rows × 3 columns</p>\n",
       "</div>"
      ],
      "text/plain": [
       "                                                                                                                                                                                                          text  \\\n",
       "0                                                                                                  [here, are, thursdays, biggest, analyst, calls, apple, amazon, tesla, palantir, docusign, exxon, amp, more]   \n",
       "1                                                                                                                              [buy, las, vegas, sands, as, travel, to, singapore, builds, wells, fargo, says]   \n",
       "2                                                                                                             [piper, sandler, downgrades, docusign, to, sell, citing, elevated, risks, amid, ceo, transition]   \n",
       "3                                                                                                         [analysts, react, to, teslas, latest, earnings, break, down, whats, next, for, electric, car, maker]   \n",
       "4                                                                                            [netflix, and, its, peers, are, set, for, a, ‘, return, to, growth, ’, analysts, say, giving, one, stock, upside]   \n",
       "...                                                                                                                                                                                                        ...   \n",
       "21102                          [dollar, bonds, of, chinese, developers, fall, as, stress, spreads, from, junkrated, names, to, investmentgrade, peers, amid, renewed, concerns, about, more, covid, lockdowns]   \n",
       "21103  [longer, maturity, treasury, yields, have, scope, to, go, higher, still, and, the, market, is, erring, in, pricing, in, fed, interestrate, cuts, in, the, latter, part, of, according, to, franklin,...   \n",
       "21104                                                                                                                                               [pimco, buys, €bn, of, apollo, buyout, loans, from, banks]   \n",
       "21105                                                                                                                      [analysis, banks, snubbing, of, junkrated, loan, funds, worsens, financing, logjam]   \n",
       "21106                                                                                                                                            [us, treasury, seeks, information, on, digital, asset, risks]   \n",
       "\n",
       "       label                   label_name  \n",
       "0          0               Analyst Update  \n",
       "1          0               Analyst Update  \n",
       "2          0               Analyst Update  \n",
       "3          0               Analyst Update  \n",
       "4          0               Analyst Update  \n",
       "...      ...                          ...  \n",
       "21102      3  Treasuries | Corporate Debt  \n",
       "21103      3  Treasuries | Corporate Debt  \n",
       "21104      3  Treasuries | Corporate Debt  \n",
       "21105      3  Treasuries | Corporate Debt  \n",
       "21106      3  Treasuries | Corporate Debt  \n",
       "\n",
       "[21107 rows x 3 columns]"
      ]
     },
     "execution_count": 22,
     "metadata": {},
     "output_type": "execute_result"
    }
   ],
   "source": [
    "twitter_data"
   ]
  },
  {
   "cell_type": "markdown",
   "id": "09d45e1a-796a-4bcf-ae75-ce8ede1bfb79",
   "metadata": {},
   "source": [
    "## Remove Stopwords"
   ]
  },
  {
   "cell_type": "code",
   "execution_count": 23,
   "id": "2a0542ae-729e-424c-b0de-2a3e4db9e008",
   "metadata": {
    "tags": []
   },
   "outputs": [
    {
     "data": {
      "text/html": [
       "<div>\n",
       "<style scoped>\n",
       "    .dataframe tbody tr th:only-of-type {\n",
       "        vertical-align: middle;\n",
       "    }\n",
       "\n",
       "    .dataframe tbody tr th {\n",
       "        vertical-align: top;\n",
       "    }\n",
       "\n",
       "    .dataframe thead th {\n",
       "        text-align: right;\n",
       "    }\n",
       "</style>\n",
       "<table border=\"1\" class=\"dataframe\">\n",
       "  <thead>\n",
       "    <tr style=\"text-align: right;\">\n",
       "      <th></th>\n",
       "      <th>text</th>\n",
       "      <th>label</th>\n",
       "      <th>label_name</th>\n",
       "    </tr>\n",
       "  </thead>\n",
       "  <tbody>\n",
       "    <tr>\n",
       "      <th>0</th>\n",
       "      <td>[thursdays, biggest, analyst, calls, apple, amazon, tesla, palantir, docusign, exxon, amp]</td>\n",
       "      <td>0</td>\n",
       "      <td>Analyst Update</td>\n",
       "    </tr>\n",
       "    <tr>\n",
       "      <th>1</th>\n",
       "      <td>[buy, las, vegas, sands, travel, singapore, builds, wells, fargo, says]</td>\n",
       "      <td>0</td>\n",
       "      <td>Analyst Update</td>\n",
       "    </tr>\n",
       "    <tr>\n",
       "      <th>2</th>\n",
       "      <td>[piper, sandler, downgrades, docusign, sell, citing, elevated, risks, amid, ceo, transition]</td>\n",
       "      <td>0</td>\n",
       "      <td>Analyst Update</td>\n",
       "    </tr>\n",
       "    <tr>\n",
       "      <th>3</th>\n",
       "      <td>[analysts, react, teslas, latest, earnings, break, whats, next, electric, car, maker]</td>\n",
       "      <td>0</td>\n",
       "      <td>Analyst Update</td>\n",
       "    </tr>\n",
       "    <tr>\n",
       "      <th>4</th>\n",
       "      <td>[netflix, peers, set, ‘, return, growth, ’, analysts, say, giving, one, stock, upside]</td>\n",
       "      <td>0</td>\n",
       "      <td>Analyst Update</td>\n",
       "    </tr>\n",
       "    <tr>\n",
       "      <th>...</th>\n",
       "      <td>...</td>\n",
       "      <td>...</td>\n",
       "      <td>...</td>\n",
       "    </tr>\n",
       "    <tr>\n",
       "      <th>21102</th>\n",
       "      <td>[dollar, bonds, chinese, developers, fall, stress, spreads, junkrated, names, investmentgrade, peers, amid, renewed, concerns, covid, lockdowns]</td>\n",
       "      <td>3</td>\n",
       "      <td>Treasuries | Corporate Debt</td>\n",
       "    </tr>\n",
       "    <tr>\n",
       "      <th>21103</th>\n",
       "      <td>[longer, maturity, treasury, yields, scope, go, higher, still, market, erring, pricing, fed, interestrate, cuts, latter, part, according, franklin, templeton]</td>\n",
       "      <td>3</td>\n",
       "      <td>Treasuries | Corporate Debt</td>\n",
       "    </tr>\n",
       "    <tr>\n",
       "      <th>21104</th>\n",
       "      <td>[pimco, buys, €bn, apollo, buyout, loans, banks]</td>\n",
       "      <td>3</td>\n",
       "      <td>Treasuries | Corporate Debt</td>\n",
       "    </tr>\n",
       "    <tr>\n",
       "      <th>21105</th>\n",
       "      <td>[analysis, banks, snubbing, junkrated, loan, funds, worsens, financing, logjam]</td>\n",
       "      <td>3</td>\n",
       "      <td>Treasuries | Corporate Debt</td>\n",
       "    </tr>\n",
       "    <tr>\n",
       "      <th>21106</th>\n",
       "      <td>[us, treasury, seeks, information, digital, asset, risks]</td>\n",
       "      <td>3</td>\n",
       "      <td>Treasuries | Corporate Debt</td>\n",
       "    </tr>\n",
       "  </tbody>\n",
       "</table>\n",
       "<p>21107 rows × 3 columns</p>\n",
       "</div>"
      ],
      "text/plain": [
       "                                                                                                                                                                 text  \\\n",
       "0                                                                          [thursdays, biggest, analyst, calls, apple, amazon, tesla, palantir, docusign, exxon, amp]   \n",
       "1                                                                                             [buy, las, vegas, sands, travel, singapore, builds, wells, fargo, says]   \n",
       "2                                                                        [piper, sandler, downgrades, docusign, sell, citing, elevated, risks, amid, ceo, transition]   \n",
       "3                                                                               [analysts, react, teslas, latest, earnings, break, whats, next, electric, car, maker]   \n",
       "4                                                                              [netflix, peers, set, ‘, return, growth, ’, analysts, say, giving, one, stock, upside]   \n",
       "...                                                                                                                                                               ...   \n",
       "21102                [dollar, bonds, chinese, developers, fall, stress, spreads, junkrated, names, investmentgrade, peers, amid, renewed, concerns, covid, lockdowns]   \n",
       "21103  [longer, maturity, treasury, yields, scope, go, higher, still, market, erring, pricing, fed, interestrate, cuts, latter, part, according, franklin, templeton]   \n",
       "21104                                                                                                                [pimco, buys, €bn, apollo, buyout, loans, banks]   \n",
       "21105                                                                                 [analysis, banks, snubbing, junkrated, loan, funds, worsens, financing, logjam]   \n",
       "21106                                                                                                       [us, treasury, seeks, information, digital, asset, risks]   \n",
       "\n",
       "       label                   label_name  \n",
       "0          0               Analyst Update  \n",
       "1          0               Analyst Update  \n",
       "2          0               Analyst Update  \n",
       "3          0               Analyst Update  \n",
       "4          0               Analyst Update  \n",
       "...      ...                          ...  \n",
       "21102      3  Treasuries | Corporate Debt  \n",
       "21103      3  Treasuries | Corporate Debt  \n",
       "21104      3  Treasuries | Corporate Debt  \n",
       "21105      3  Treasuries | Corporate Debt  \n",
       "21106      3  Treasuries | Corporate Debt  \n",
       "\n",
       "[21107 rows x 3 columns]"
      ]
     },
     "execution_count": 23,
     "metadata": {},
     "output_type": "execute_result"
    }
   ],
   "source": [
    "stop_words = set(stopwords.words('english'))\n",
    "\n",
    "twitter_data['text'] = twitter_data['text'].apply(lambda x: [word for word in x if word not in (stop_words)])\n",
    "twitter_data"
   ]
  },
  {
   "cell_type": "markdown",
   "id": "ded31a8d-a5b5-459b-9ed0-ad7af66bb93f",
   "metadata": {
    "tags": []
   },
   "source": [
    "## Lemmatize Words\n"
   ]
  },
  {
   "cell_type": "code",
   "execution_count": 24,
   "id": "57949363-269f-4fb9-8d7d-ee36c286afda",
   "metadata": {
    "tags": []
   },
   "outputs": [
    {
     "data": {
      "text/html": [
       "<div>\n",
       "<style scoped>\n",
       "    .dataframe tbody tr th:only-of-type {\n",
       "        vertical-align: middle;\n",
       "    }\n",
       "\n",
       "    .dataframe tbody tr th {\n",
       "        vertical-align: top;\n",
       "    }\n",
       "\n",
       "    .dataframe thead th {\n",
       "        text-align: right;\n",
       "    }\n",
       "</style>\n",
       "<table border=\"1\" class=\"dataframe\">\n",
       "  <thead>\n",
       "    <tr style=\"text-align: right;\">\n",
       "      <th></th>\n",
       "      <th>text</th>\n",
       "      <th>label</th>\n",
       "      <th>label_name</th>\n",
       "    </tr>\n",
       "  </thead>\n",
       "  <tbody>\n",
       "    <tr>\n",
       "      <th>0</th>\n",
       "      <td>[thursday, biggest, analyst, call, apple, amazon, tesla, palantir, docusign, exxon, amp]</td>\n",
       "      <td>0</td>\n",
       "      <td>Analyst Update</td>\n",
       "    </tr>\n",
       "    <tr>\n",
       "      <th>1</th>\n",
       "      <td>[buy, la, vega, sand, travel, singapore, build, well, fargo, say]</td>\n",
       "      <td>0</td>\n",
       "      <td>Analyst Update</td>\n",
       "    </tr>\n",
       "    <tr>\n",
       "      <th>2</th>\n",
       "      <td>[piper, sandler, downgrade, docusign, sell, citing, elevated, risk, amid, ceo, transition]</td>\n",
       "      <td>0</td>\n",
       "      <td>Analyst Update</td>\n",
       "    </tr>\n",
       "    <tr>\n",
       "      <th>3</th>\n",
       "      <td>[analyst, react, tesla, latest, earnings, break, whats, next, electric, car, maker]</td>\n",
       "      <td>0</td>\n",
       "      <td>Analyst Update</td>\n",
       "    </tr>\n",
       "    <tr>\n",
       "      <th>4</th>\n",
       "      <td>[netflix, peer, set, ‘, return, growth, ’, analyst, say, giving, one, stock, upside]</td>\n",
       "      <td>0</td>\n",
       "      <td>Analyst Update</td>\n",
       "    </tr>\n",
       "    <tr>\n",
       "      <th>...</th>\n",
       "      <td>...</td>\n",
       "      <td>...</td>\n",
       "      <td>...</td>\n",
       "    </tr>\n",
       "    <tr>\n",
       "      <th>21102</th>\n",
       "      <td>[dollar, bond, chinese, developer, fall, stress, spread, junkrated, name, investmentgrade, peer, amid, renewed, concern, covid, lockdown]</td>\n",
       "      <td>3</td>\n",
       "      <td>Treasuries | Corporate Debt</td>\n",
       "    </tr>\n",
       "    <tr>\n",
       "      <th>21103</th>\n",
       "      <td>[longer, maturity, treasury, yield, scope, go, higher, still, market, erring, pricing, fed, interestrate, cut, latter, part, according, franklin, templeton]</td>\n",
       "      <td>3</td>\n",
       "      <td>Treasuries | Corporate Debt</td>\n",
       "    </tr>\n",
       "    <tr>\n",
       "      <th>21104</th>\n",
       "      <td>[pimco, buy, €bn, apollo, buyout, loan, bank]</td>\n",
       "      <td>3</td>\n",
       "      <td>Treasuries | Corporate Debt</td>\n",
       "    </tr>\n",
       "    <tr>\n",
       "      <th>21105</th>\n",
       "      <td>[analysis, bank, snubbing, junkrated, loan, fund, worsens, financing, logjam]</td>\n",
       "      <td>3</td>\n",
       "      <td>Treasuries | Corporate Debt</td>\n",
       "    </tr>\n",
       "    <tr>\n",
       "      <th>21106</th>\n",
       "      <td>[u, treasury, seek, information, digital, asset, risk]</td>\n",
       "      <td>3</td>\n",
       "      <td>Treasuries | Corporate Debt</td>\n",
       "    </tr>\n",
       "  </tbody>\n",
       "</table>\n",
       "<p>21107 rows × 3 columns</p>\n",
       "</div>"
      ],
      "text/plain": [
       "                                                                                                                                                               text  \\\n",
       "0                                                                          [thursday, biggest, analyst, call, apple, amazon, tesla, palantir, docusign, exxon, amp]   \n",
       "1                                                                                                 [buy, la, vega, sand, travel, singapore, build, well, fargo, say]   \n",
       "2                                                                        [piper, sandler, downgrade, docusign, sell, citing, elevated, risk, amid, ceo, transition]   \n",
       "3                                                                               [analyst, react, tesla, latest, earnings, break, whats, next, electric, car, maker]   \n",
       "4                                                                              [netflix, peer, set, ‘, return, growth, ’, analyst, say, giving, one, stock, upside]   \n",
       "...                                                                                                                                                             ...   \n",
       "21102                     [dollar, bond, chinese, developer, fall, stress, spread, junkrated, name, investmentgrade, peer, amid, renewed, concern, covid, lockdown]   \n",
       "21103  [longer, maturity, treasury, yield, scope, go, higher, still, market, erring, pricing, fed, interestrate, cut, latter, part, according, franklin, templeton]   \n",
       "21104                                                                                                                 [pimco, buy, €bn, apollo, buyout, loan, bank]   \n",
       "21105                                                                                 [analysis, bank, snubbing, junkrated, loan, fund, worsens, financing, logjam]   \n",
       "21106                                                                                                        [u, treasury, seek, information, digital, asset, risk]   \n",
       "\n",
       "       label                   label_name  \n",
       "0          0               Analyst Update  \n",
       "1          0               Analyst Update  \n",
       "2          0               Analyst Update  \n",
       "3          0               Analyst Update  \n",
       "4          0               Analyst Update  \n",
       "...      ...                          ...  \n",
       "21102      3  Treasuries | Corporate Debt  \n",
       "21103      3  Treasuries | Corporate Debt  \n",
       "21104      3  Treasuries | Corporate Debt  \n",
       "21105      3  Treasuries | Corporate Debt  \n",
       "21106      3  Treasuries | Corporate Debt  \n",
       "\n",
       "[21107 rows x 3 columns]"
      ]
     },
     "execution_count": 24,
     "metadata": {},
     "output_type": "execute_result"
    }
   ],
   "source": [
    "word_lemmatizer = WordNetLemmatizer()\n",
    "\n",
    "twitter_data['text'] = twitter_data['text'].apply(lambda x: [word_lemmatizer.lemmatize(word) for word in x])\n",
    "twitter_data"
   ]
  },
  {
   "cell_type": "markdown",
   "id": "96c0f8a5-335f-426c-bc1f-4c4e77f49ba6",
   "metadata": {
    "tags": []
   },
   "source": [
    "## Convert list back to sentences"
   ]
  },
  {
   "cell_type": "code",
   "execution_count": 25,
   "id": "95e2a4d7-5eab-4e46-a2d8-fd1c56634a31",
   "metadata": {
    "tags": []
   },
   "outputs": [
    {
     "data": {
      "text/html": [
       "<div>\n",
       "<style scoped>\n",
       "    .dataframe tbody tr th:only-of-type {\n",
       "        vertical-align: middle;\n",
       "    }\n",
       "\n",
       "    .dataframe tbody tr th {\n",
       "        vertical-align: top;\n",
       "    }\n",
       "\n",
       "    .dataframe thead th {\n",
       "        text-align: right;\n",
       "    }\n",
       "</style>\n",
       "<table border=\"1\" class=\"dataframe\">\n",
       "  <thead>\n",
       "    <tr style=\"text-align: right;\">\n",
       "      <th></th>\n",
       "      <th>text</th>\n",
       "      <th>label</th>\n",
       "      <th>label_name</th>\n",
       "    </tr>\n",
       "  </thead>\n",
       "  <tbody>\n",
       "    <tr>\n",
       "      <th>0</th>\n",
       "      <td>thursday biggest analyst call apple amazon tesla palantir docusign exxon amp</td>\n",
       "      <td>0</td>\n",
       "      <td>Analyst Update</td>\n",
       "    </tr>\n",
       "    <tr>\n",
       "      <th>1</th>\n",
       "      <td>buy la vega sand travel singapore build well fargo say</td>\n",
       "      <td>0</td>\n",
       "      <td>Analyst Update</td>\n",
       "    </tr>\n",
       "    <tr>\n",
       "      <th>2</th>\n",
       "      <td>piper sandler downgrade docusign sell citing elevated risk amid ceo transition</td>\n",
       "      <td>0</td>\n",
       "      <td>Analyst Update</td>\n",
       "    </tr>\n",
       "    <tr>\n",
       "      <th>3</th>\n",
       "      <td>analyst react tesla latest earnings break whats next electric car maker</td>\n",
       "      <td>0</td>\n",
       "      <td>Analyst Update</td>\n",
       "    </tr>\n",
       "    <tr>\n",
       "      <th>4</th>\n",
       "      <td>netflix peer set ‘ return growth ’ analyst say giving one stock upside</td>\n",
       "      <td>0</td>\n",
       "      <td>Analyst Update</td>\n",
       "    </tr>\n",
       "    <tr>\n",
       "      <th>...</th>\n",
       "      <td>...</td>\n",
       "      <td>...</td>\n",
       "      <td>...</td>\n",
       "    </tr>\n",
       "    <tr>\n",
       "      <th>21102</th>\n",
       "      <td>dollar bond chinese developer fall stress spread junkrated name investmentgrade peer amid renewed concern covid lockdown</td>\n",
       "      <td>3</td>\n",
       "      <td>Treasuries | Corporate Debt</td>\n",
       "    </tr>\n",
       "    <tr>\n",
       "      <th>21103</th>\n",
       "      <td>longer maturity treasury yield scope go higher still market erring pricing fed interestrate cut latter part according franklin templeton</td>\n",
       "      <td>3</td>\n",
       "      <td>Treasuries | Corporate Debt</td>\n",
       "    </tr>\n",
       "    <tr>\n",
       "      <th>21104</th>\n",
       "      <td>pimco buy €bn apollo buyout loan bank</td>\n",
       "      <td>3</td>\n",
       "      <td>Treasuries | Corporate Debt</td>\n",
       "    </tr>\n",
       "    <tr>\n",
       "      <th>21105</th>\n",
       "      <td>analysis bank snubbing junkrated loan fund worsens financing logjam</td>\n",
       "      <td>3</td>\n",
       "      <td>Treasuries | Corporate Debt</td>\n",
       "    </tr>\n",
       "    <tr>\n",
       "      <th>21106</th>\n",
       "      <td>u treasury seek information digital asset risk</td>\n",
       "      <td>3</td>\n",
       "      <td>Treasuries | Corporate Debt</td>\n",
       "    </tr>\n",
       "  </tbody>\n",
       "</table>\n",
       "<p>21107 rows × 3 columns</p>\n",
       "</div>"
      ],
      "text/plain": [
       "                                                                                                                                           text  \\\n",
       "0                                                                  thursday biggest analyst call apple amazon tesla palantir docusign exxon amp   \n",
       "1                                                                                        buy la vega sand travel singapore build well fargo say   \n",
       "2                                                                piper sandler downgrade docusign sell citing elevated risk amid ceo transition   \n",
       "3                                                                       analyst react tesla latest earnings break whats next electric car maker   \n",
       "4                                                                        netflix peer set ‘ return growth ’ analyst say giving one stock upside   \n",
       "...                                                                                                                                         ...   \n",
       "21102                  dollar bond chinese developer fall stress spread junkrated name investmentgrade peer amid renewed concern covid lockdown   \n",
       "21103  longer maturity treasury yield scope go higher still market erring pricing fed interestrate cut latter part according franklin templeton   \n",
       "21104                                                                                                     pimco buy €bn apollo buyout loan bank   \n",
       "21105                                                                       analysis bank snubbing junkrated loan fund worsens financing logjam   \n",
       "21106                                                                                            u treasury seek information digital asset risk   \n",
       "\n",
       "       label                   label_name  \n",
       "0          0               Analyst Update  \n",
       "1          0               Analyst Update  \n",
       "2          0               Analyst Update  \n",
       "3          0               Analyst Update  \n",
       "4          0               Analyst Update  \n",
       "...      ...                          ...  \n",
       "21102      3  Treasuries | Corporate Debt  \n",
       "21103      3  Treasuries | Corporate Debt  \n",
       "21104      3  Treasuries | Corporate Debt  \n",
       "21105      3  Treasuries | Corporate Debt  \n",
       "21106      3  Treasuries | Corporate Debt  \n",
       "\n",
       "[21107 rows x 3 columns]"
      ]
     },
     "execution_count": 25,
     "metadata": {},
     "output_type": "execute_result"
    }
   ],
   "source": [
    "twitter_data['text'] = twitter_data['text'].apply(lambda x: ' '.join(x))\n",
    "twitter_data"
   ]
  },
  {
   "cell_type": "markdown",
   "id": "911e3c28-609c-4d52-993d-82ac4c38eecf",
   "metadata": {},
   "source": [
    "## Create Word Cloud"
   ]
  },
  {
   "cell_type": "code",
   "execution_count": 26,
   "id": "12f46edf-31a6-4ea0-9d70-8947f5af6362",
   "metadata": {
    "tags": []
   },
   "outputs": [
    {
     "name": "stdout",
     "output_type": "stream",
     "text": [
      "There are 1754366 words in the combination of all review.\n"
     ]
    }
   ],
   "source": [
    "text = \" \".join(review for review in twitter_data['text'])\n",
    "print (\"There are {} words in the combination of all review.\".format(len(text)))"
   ]
  },
  {
   "cell_type": "code",
   "execution_count": 27,
   "id": "dfc523a9-df92-4d2b-8794-8f4a88c916a5",
   "metadata": {
    "tags": []
   },
   "outputs": [
    {
     "data": {
      "image/png": "[encoded data removed]",
      "text/plain": [
       "<Figure size 640x480 with 1 Axes>"
      ]
     },
     "metadata": {},
     "output_type": "display_data"
    }
   ],
   "source": [
    "# Generate a word cloud image\n",
    "wordcloud = WordCloud(max_font_size=50, max_words=100, background_color=\"white\").generate(text)\n",
    "\n",
    "# Display the generated image:\n",
    "# the matplotlib way:\n",
    "plt.imshow(wordcloud, interpolation='bilinear')\n",
    "plt.axis(\"off\")\n",
    "plt.show()\n"
   ]
  },
  {
   "cell_type": "markdown",
   "id": "91ee2788-976b-48ef-882f-7b23216b2058",
   "metadata": {},
   "source": [
    "## Drop the additional column made"
   ]
  },
  {
   "cell_type": "code",
   "execution_count": 28,
   "id": "d3ea9471-79f6-4dd6-a011-37b223a8ab53",
   "metadata": {
    "tags": []
   },
   "outputs": [
    {
     "data": {
      "text/html": [
       "<div>\n",
       "<style scoped>\n",
       "    .dataframe tbody tr th:only-of-type {\n",
       "        vertical-align: middle;\n",
       "    }\n",
       "\n",
       "    .dataframe tbody tr th {\n",
       "        vertical-align: top;\n",
       "    }\n",
       "\n",
       "    .dataframe thead th {\n",
       "        text-align: right;\n",
       "    }\n",
       "</style>\n",
       "<table border=\"1\" class=\"dataframe\">\n",
       "  <thead>\n",
       "    <tr style=\"text-align: right;\">\n",
       "      <th></th>\n",
       "      <th>text</th>\n",
       "      <th>label</th>\n",
       "    </tr>\n",
       "  </thead>\n",
       "  <tbody>\n",
       "    <tr>\n",
       "      <th>0</th>\n",
       "      <td>thursday biggest analyst call apple amazon tesla palantir docusign exxon amp</td>\n",
       "      <td>0</td>\n",
       "    </tr>\n",
       "    <tr>\n",
       "      <th>1</th>\n",
       "      <td>buy la vega sand travel singapore build well fargo say</td>\n",
       "      <td>0</td>\n",
       "    </tr>\n",
       "    <tr>\n",
       "      <th>2</th>\n",
       "      <td>piper sandler downgrade docusign sell citing elevated risk amid ceo transition</td>\n",
       "      <td>0</td>\n",
       "    </tr>\n",
       "    <tr>\n",
       "      <th>3</th>\n",
       "      <td>analyst react tesla latest earnings break whats next electric car maker</td>\n",
       "      <td>0</td>\n",
       "    </tr>\n",
       "    <tr>\n",
       "      <th>4</th>\n",
       "      <td>netflix peer set ‘ return growth ’ analyst say giving one stock upside</td>\n",
       "      <td>0</td>\n",
       "    </tr>\n",
       "    <tr>\n",
       "      <th>...</th>\n",
       "      <td>...</td>\n",
       "      <td>...</td>\n",
       "    </tr>\n",
       "    <tr>\n",
       "      <th>21102</th>\n",
       "      <td>dollar bond chinese developer fall stress spread junkrated name investmentgrade peer amid renewed concern covid lockdown</td>\n",
       "      <td>3</td>\n",
       "    </tr>\n",
       "    <tr>\n",
       "      <th>21103</th>\n",
       "      <td>longer maturity treasury yield scope go higher still market erring pricing fed interestrate cut latter part according franklin templeton</td>\n",
       "      <td>3</td>\n",
       "    </tr>\n",
       "    <tr>\n",
       "      <th>21104</th>\n",
       "      <td>pimco buy €bn apollo buyout loan bank</td>\n",
       "      <td>3</td>\n",
       "    </tr>\n",
       "    <tr>\n",
       "      <th>21105</th>\n",
       "      <td>analysis bank snubbing junkrated loan fund worsens financing logjam</td>\n",
       "      <td>3</td>\n",
       "    </tr>\n",
       "    <tr>\n",
       "      <th>21106</th>\n",
       "      <td>u treasury seek information digital asset risk</td>\n",
       "      <td>3</td>\n",
       "    </tr>\n",
       "  </tbody>\n",
       "</table>\n",
       "<p>21107 rows × 2 columns</p>\n",
       "</div>"
      ],
      "text/plain": [
       "                                                                                                                                           text  \\\n",
       "0                                                                  thursday biggest analyst call apple amazon tesla palantir docusign exxon amp   \n",
       "1                                                                                        buy la vega sand travel singapore build well fargo say   \n",
       "2                                                                piper sandler downgrade docusign sell citing elevated risk amid ceo transition   \n",
       "3                                                                       analyst react tesla latest earnings break whats next electric car maker   \n",
       "4                                                                        netflix peer set ‘ return growth ’ analyst say giving one stock upside   \n",
       "...                                                                                                                                         ...   \n",
       "21102                  dollar bond chinese developer fall stress spread junkrated name investmentgrade peer amid renewed concern covid lockdown   \n",
       "21103  longer maturity treasury yield scope go higher still market erring pricing fed interestrate cut latter part according franklin templeton   \n",
       "21104                                                                                                     pimco buy €bn apollo buyout loan bank   \n",
       "21105                                                                       analysis bank snubbing junkrated loan fund worsens financing logjam   \n",
       "21106                                                                                            u treasury seek information digital asset risk   \n",
       "\n",
       "       label  \n",
       "0          0  \n",
       "1          0  \n",
       "2          0  \n",
       "3          0  \n",
       "4          0  \n",
       "...      ...  \n",
       "21102      3  \n",
       "21103      3  \n",
       "21104      3  \n",
       "21105      3  \n",
       "21106      3  \n",
       "\n",
       "[21107 rows x 2 columns]"
      ]
     },
     "execution_count": 28,
     "metadata": {},
     "output_type": "execute_result"
    }
   ],
   "source": [
    "twitter_data = twitter_data.drop('label_name', axis=1)\n",
    "twitter_data"
   ]
  },
  {
   "cell_type": "markdown",
   "id": "674ee001-8452-4e5d-a7cf-ad589f2350bc",
   "metadata": {},
   "source": [
    "## Add the _ _ LABEL _ _ Prefix to the labels"
   ]
  },
  {
   "cell_type": "code",
   "execution_count": 29,
   "id": "aa1f7026-6887-491d-bb54-98756925ab8c",
   "metadata": {
    "tags": []
   },
   "outputs": [
    {
     "data": {
      "text/html": [
       "<div>\n",
       "<style scoped>\n",
       "    .dataframe tbody tr th:only-of-type {\n",
       "        vertical-align: middle;\n",
       "    }\n",
       "\n",
       "    .dataframe tbody tr th {\n",
       "        vertical-align: top;\n",
       "    }\n",
       "\n",
       "    .dataframe thead th {\n",
       "        text-align: right;\n",
       "    }\n",
       "</style>\n",
       "<table border=\"1\" class=\"dataframe\">\n",
       "  <thead>\n",
       "    <tr style=\"text-align: right;\">\n",
       "      <th></th>\n",
       "      <th>text</th>\n",
       "      <th>label</th>\n",
       "    </tr>\n",
       "  </thead>\n",
       "  <tbody>\n",
       "    <tr>\n",
       "      <th>0</th>\n",
       "      <td>thursday biggest analyst call apple amazon tesla palantir docusign exxon amp</td>\n",
       "      <td>__label__0</td>\n",
       "    </tr>\n",
       "    <tr>\n",
       "      <th>1</th>\n",
       "      <td>buy la vega sand travel singapore build well fargo say</td>\n",
       "      <td>__label__0</td>\n",
       "    </tr>\n",
       "    <tr>\n",
       "      <th>2</th>\n",
       "      <td>piper sandler downgrade docusign sell citing elevated risk amid ceo transition</td>\n",
       "      <td>__label__0</td>\n",
       "    </tr>\n",
       "    <tr>\n",
       "      <th>3</th>\n",
       "      <td>analyst react tesla latest earnings break whats next electric car maker</td>\n",
       "      <td>__label__0</td>\n",
       "    </tr>\n",
       "    <tr>\n",
       "      <th>4</th>\n",
       "      <td>netflix peer set ‘ return growth ’ analyst say giving one stock upside</td>\n",
       "      <td>__label__0</td>\n",
       "    </tr>\n",
       "    <tr>\n",
       "      <th>...</th>\n",
       "      <td>...</td>\n",
       "      <td>...</td>\n",
       "    </tr>\n",
       "    <tr>\n",
       "      <th>21102</th>\n",
       "      <td>dollar bond chinese developer fall stress spread junkrated name investmentgrade peer amid renewed concern covid lockdown</td>\n",
       "      <td>__label__3</td>\n",
       "    </tr>\n",
       "    <tr>\n",
       "      <th>21103</th>\n",
       "      <td>longer maturity treasury yield scope go higher still market erring pricing fed interestrate cut latter part according franklin templeton</td>\n",
       "      <td>__label__3</td>\n",
       "    </tr>\n",
       "    <tr>\n",
       "      <th>21104</th>\n",
       "      <td>pimco buy €bn apollo buyout loan bank</td>\n",
       "      <td>__label__3</td>\n",
       "    </tr>\n",
       "    <tr>\n",
       "      <th>21105</th>\n",
       "      <td>analysis bank snubbing junkrated loan fund worsens financing logjam</td>\n",
       "      <td>__label__3</td>\n",
       "    </tr>\n",
       "    <tr>\n",
       "      <th>21106</th>\n",
       "      <td>u treasury seek information digital asset risk</td>\n",
       "      <td>__label__3</td>\n",
       "    </tr>\n",
       "  </tbody>\n",
       "</table>\n",
       "<p>21107 rows × 2 columns</p>\n",
       "</div>"
      ],
      "text/plain": [
       "                                                                                                                                           text  \\\n",
       "0                                                                  thursday biggest analyst call apple amazon tesla palantir docusign exxon amp   \n",
       "1                                                                                        buy la vega sand travel singapore build well fargo say   \n",
       "2                                                                piper sandler downgrade docusign sell citing elevated risk amid ceo transition   \n",
       "3                                                                       analyst react tesla latest earnings break whats next electric car maker   \n",
       "4                                                                        netflix peer set ‘ return growth ’ analyst say giving one stock upside   \n",
       "...                                                                                                                                         ...   \n",
       "21102                  dollar bond chinese developer fall stress spread junkrated name investmentgrade peer amid renewed concern covid lockdown   \n",
       "21103  longer maturity treasury yield scope go higher still market erring pricing fed interestrate cut latter part according franklin templeton   \n",
       "21104                                                                                                     pimco buy €bn apollo buyout loan bank   \n",
       "21105                                                                       analysis bank snubbing junkrated loan fund worsens financing logjam   \n",
       "21106                                                                                            u treasury seek information digital asset risk   \n",
       "\n",
       "            label  \n",
       "0      __label__0  \n",
       "1      __label__0  \n",
       "2      __label__0  \n",
       "3      __label__0  \n",
       "4      __label__0  \n",
       "...           ...  \n",
       "21102  __label__3  \n",
       "21103  __label__3  \n",
       "21104  __label__3  \n",
       "21105  __label__3  \n",
       "21106  __label__3  \n",
       "\n",
       "[21107 rows x 2 columns]"
      ]
     },
     "execution_count": 29,
     "metadata": {},
     "output_type": "execute_result"
    }
   ],
   "source": [
    "# Concatenate __label__ with twitter['Category'] \n",
    "\n",
    "# label is numeric so convert to string\n",
    "twitter_data['label'] = twitter_data['label'].astype('string')\n",
    "\n",
    "twitter_data['label'] = \"__label__\" + twitter_data['label']\n",
    "twitter_data"
   ]
  },
  {
   "cell_type": "code",
   "execution_count": 30,
   "id": "6f83fad5-70d3-4669-a56a-5a3a92a2d66f",
   "metadata": {
    "tags": []
   },
   "outputs": [],
   "source": [
    "# Shuffle and Split the data into 80% training and 20% validating\n",
    "\n",
    "train_data, validate_data = train_test_split(twitter_data, test_size=0.2)\n",
    "\n",
    "# Convert dataframes to TEXT files and save them locally to the notebook and make sure to exclude the headers so that BlazingText will accept the file\n",
    "\n",
    "train_data.to_csv('twitter_data.train', sep=' ', header=False, index=False, quotechar=\" \")\n",
    "validate_data.to_csv('twitter_data.validate', sep=' ', header=False, index=False, quotechar=\" \")"
   ]
  },
  {
   "cell_type": "code",
   "execution_count": 31,
   "id": "d4375cb5-dc56-4f92-b28b-eb5fe5b9e11c",
   "metadata": {
    "tags": []
   },
   "outputs": [
    {
     "name": "stdout",
     "output_type": "stream",
     "text": [
      "s3://sagemaker-us-east-1-870427325799/twitter_news/input/train/twitter_data.train\n",
      "s3://sagemaker-us-east-1-870427325799/twitter_news/input/validate/twitter_data.validate\n",
      "s3://sagemaker-us-east-1-870427325799/twitter_news/output\n"
     ]
    }
   ],
   "source": [
    "# Copy the file to your S3 bucket using sess.upload_data\n",
    "# You will need to pass the file to be uploaded, a prefix (top level folder to store the data) and the subfolders\n",
    "# Here we will also define the output folder for the results\n",
    "# Note I did not call them .csv because the are not csv files but text files\n",
    "\n",
    "prefix = 'twitter_news'\n",
    "training_data_path = sess.upload_data( path='twitter_data.train', key_prefix=prefix + '/input/train') \n",
    "validation_data_path = sess.upload_data( path='twitter_data.validate', key_prefix=prefix + '/input/validate')\n",
    "output_data_path = 's3://{}/{}/output'.format(bucket, prefix)\n",
    "print(training_data_path)\n",
    "print(validation_data_path)\n",
    "print(output_data_path)"
   ]
  },
  {
   "cell_type": "code",
   "execution_count": 32,
   "id": "c93990ab-29d1-4de1-8de9-545bbf2352e1",
   "metadata": {
    "tags": []
   },
   "outputs": [],
   "source": [
    "# Create the training container\n",
    "\n",
    "container = image_uris.retrieve(framework='blazingtext',region=region)"
   ]
  },
  {
   "cell_type": "code",
   "execution_count": 33,
   "id": "8eb8aba9-5ab0-47de-895c-42b7df7b43a5",
   "metadata": {
    "tags": []
   },
   "outputs": [],
   "source": [
    "# Create your data channels\n",
    "\n",
    "train_data = sagemaker.inputs.TrainingInput(\n",
    "    training_data_path,\n",
    "    distribution=\"FullyReplicated\",\n",
    "    content_type=\"text/plain\",\n",
    "    s3_data_type=\"S3Prefix\",\n",
    ")\n",
    "validate_data = sagemaker.inputs.TrainingInput(\n",
    "    validation_data_path,\n",
    "    distribution=\"FullyReplicated\",\n",
    "    content_type=\"text/plain\",\n",
    "    s3_data_type=\"S3Prefix\",\n",
    ")\n",
    "data_channels = {\"train\": train_data, \"validation\": validate_data}"
   ]
  },
  {
   "cell_type": "code",
   "execution_count": 34,
   "id": "fb050e73-b128-46c0-a538-840ebb50f747",
   "metadata": {
    "tags": []
   },
   "outputs": [],
   "source": [
    "# Here we are using the only required hyperameter and everything else will be set to default\n",
    "\n",
    "bt_model = Estimator(\n",
    "    container,\n",
    "    role,\n",
    "    instance_count=1,\n",
    "    instance_type=\"ml.m5.large\",\n",
    "    volume_size=30,\n",
    "    max_run=360000,\n",
    "    input_mode=\"File\",\n",
    "    output_path=output_data_path,\n",
    "    hyperparameters={\n",
    "        \"mode\": \"supervised\"\n",
    "    },\n",
    ")"
   ]
  },
  {
   "cell_type": "code",
   "execution_count": 35,
   "id": "8ffad7a9-9805-427f-b543-f7c7529dd6c6",
   "metadata": {
    "tags": []
   },
   "outputs": [
    {
     "name": "stderr",
     "output_type": "stream",
     "text": [
      "INFO:sagemaker:Creating training-job with name: blazingtext-2023-03-09-12-19-48-813\n"
     ]
    },
    {
     "name": "stdout",
     "output_type": "stream",
     "text": [
      "2023-03-09 12:19:48 Starting - Starting the training job...\n",
      "2023-03-09 12:20:06 Starting - Preparing the instances for training......\n",
      "2023-03-09 12:20:54 Downloading - Downloading input data...\n",
      "2023-03-09 12:21:49 Training - Training image download completed. Training in progress...\u001b[34mArguments: train\u001b[0m\n",
      "\u001b[34m[03/09/2023 12:21:54 WARNING 139632368498496] Loggers have already been setup.\u001b[0m\n",
      "\u001b[34m[03/09/2023 12:21:54 WARNING 139632368498496] Loggers have already been setup.\u001b[0m\n",
      "\u001b[34m[03/09/2023 12:21:54 INFO 139632368498496] nvidia-smi took: 0.02521824836730957 secs to identify 0 gpus\u001b[0m\n",
      "\u001b[34m[03/09/2023 12:21:54 INFO 139632368498496] Running single machine CPU BlazingText training using supervised mode.\u001b[0m\n",
      "\u001b[34mNumber of CPU sockets found in instance is  1\u001b[0m\n",
      "\u001b[34m[03/09/2023 12:21:54 INFO 139632368498496] Processing /opt/ml/input/data/train/twitter_data.train . File size: 1.738835334777832 MB\u001b[0m\n",
      "\u001b[34m[03/09/2023 12:21:54 INFO 139632368498496] Processing /opt/ml/input/data/validation/twitter_data.validate . File size: 0.4384899139404297 MB\u001b[0m\n",
      "\u001b[34mRead 0M words\u001b[0m\n",
      "\u001b[34mNumber of words:  5365\u001b[0m\n",
      "\u001b[34m##### Alpha: 0.0392  Progress: 21.64%  Million Words/sec: 2.55 #####\u001b[0m\n",
      "\u001b[34m##### Alpha: 0.0282  Progress: 43.65%  Million Words/sec: 2.57 #####\u001b[0m\n",
      "\u001b[34m##### Alpha: 0.0172  Progress: 65.60%  Million Words/sec: 2.58 #####\u001b[0m\n",
      "\u001b[34m##### Alpha: 0.0062  Progress: 87.69%  Million Words/sec: 2.58 #####\u001b[0m\n",
      "\u001b[34m##### Alpha: -0.0000  Progress: 100.00%  Million Words/sec: 2.36 #####\u001b[0m\n",
      "\u001b[34m##### Alpha: 0.0000  Progress: 100.00%  Million Words/sec: 2.36 #####\u001b[0m\n",
      "\u001b[34mTraining finished.\u001b[0m\n",
      "\u001b[34mAverage throughput in Million words/sec: 2.36\u001b[0m\n",
      "\u001b[34mTotal training time in seconds: 0.50\u001b[0m\n",
      "\u001b[34m#train_accuracy: 0.4321\u001b[0m\n",
      "\u001b[34mNumber of train examples: 16885\u001b[0m\n",
      "\u001b[34m#validation_accuracy: 0.4098\u001b[0m\n",
      "\u001b[34mNumber of validation examples: 4222\u001b[0m\n",
      "\n",
      "2023-03-09 12:22:05 Uploading - Uploading generated training model\n",
      "2023-03-09 12:24:11 Completed - Training job completed\n",
      "Training seconds: 197\n",
      "Billable seconds: 197\n"
     ]
    }
   ],
   "source": [
    "# Train the model\n",
    "\n",
    "bt_model.fit(inputs=data_channels, logs=True)"
   ]
  },
  {
   "cell_type": "markdown",
   "id": "e1c0803a-a541-4848-ae46-1aa628faf06a",
   "metadata": {
    "tags": []
   },
   "source": [
    "# Deploy the model (no tuning)\n",
    "## Here we are going to deploy the model so that we can make some inferences"
   ]
  },
  {
   "cell_type": "code",
   "execution_count": 36,
   "id": "8ff7419d-e590-4ea0-92c1-c89617288171",
   "metadata": {
    "tags": []
   },
   "outputs": [
    {
     "data": {
      "text/plain": [
       "'s3://sagemaker-us-east-1-870427325799/twitter_news/output/blazingtext-2023-03-09-12-19-48-813/output/model.tar.gz'"
      ]
     },
     "execution_count": 36,
     "metadata": {},
     "output_type": "execute_result"
    }
   ],
   "source": [
    "# Retrieve model data from training job\n",
    "\n",
    "training_job_model_data = bt_model.model_data\n",
    "training_job_model_data"
   ]
  },
  {
   "cell_type": "code",
   "execution_count": 37,
   "id": "dcce3994-940f-4281-bae8-dafd316163f5",
   "metadata": {
    "tags": []
   },
   "outputs": [
    {
     "name": "stdout",
     "output_type": "stream",
     "text": [
      "Model name is twitter-no-tune-bt-model2023-03-09-12-24-40\n"
     ]
    }
   ],
   "source": [
    "# Create a unique model name so it won't overwrite ones taht are already there using date and time\n",
    "\n",
    "deployed_BlazingText_model_name = \"twitter-no-tune-bt-model\" + strftime(\"%Y-%m-%d-%H-%M-%S\", gmtime())\n",
    "print(\"Model name is \" + deployed_BlazingText_model_name)"
   ]
  },
  {
   "cell_type": "code",
   "execution_count": 38,
   "id": "a0edb9b4-6e5a-4906-a745-83f27b9457b7",
   "metadata": {
    "tags": []
   },
   "outputs": [
    {
     "name": "stderr",
     "output_type": "stream",
     "text": [
      "INFO:botocore.credentials:Found credentials from IAM Role: BaseNotebookInstanceEc2InstanceRole\n"
     ]
    },
    {
     "name": "stdout",
     "output_type": "stream",
     "text": [
      "Model Arn: arn:aws:sagemaker:us-east-1:870427325799:model/twitter-no-tune-bt-model2023-03-09-12-24-40\n"
     ]
    }
   ],
   "source": [
    "# Container Definition https://docs.aws.amazon.com/sagemaker/latest/APIReference/API_ContainerDefinition.html\n",
    "\n",
    "client = boto3.client(service_name=\"sagemaker\")\n",
    "\n",
    "create_model_response = client.create_model(\n",
    "    ModelName=deployed_BlazingText_model_name,\n",
    "    Containers=[\n",
    "        {\n",
    "            \"Image\": container, # use the same container defined in the estimator\n",
    "            \"ModelDataUrl\": training_job_model_data\n",
    "        }\n",
    "    ],\n",
    "    ExecutionRoleArn=role,\n",
    ")\n",
    "\n",
    "print(\"Model Arn: \" + create_model_response[\"ModelArn\"])"
   ]
  },
  {
   "cell_type": "code",
   "execution_count": 39,
   "id": "3f428b4a-2741-422a-9e6c-14ae52f2cd2f",
   "metadata": {
    "tags": []
   },
   "outputs": [
    {
     "name": "stdout",
     "output_type": "stream",
     "text": [
      "Endpoint Configuration Arn: arn:aws:sagemaker:us-east-1:870427325799:endpoint-config/blazingtext-serverless-epc2023-03-09-12-24-41\n"
     ]
    }
   ],
   "source": [
    "# Create the endpoint configuration\n",
    "\n",
    "twitter_epc_name = \"blazingtext-serverless-epc\" + strftime(\"%Y-%m-%d-%H-%M-%S\", gmtime())\n",
    "\n",
    "endpoint_config_response = client.create_endpoint_config(\n",
    "    EndpointConfigName=twitter_epc_name,\n",
    "    ProductionVariants=[\n",
    "        {\n",
    "            \"VariantName\": \"btVariant\",\n",
    "            \"ModelName\": deployed_BlazingText_model_name,\n",
    "            \"ServerlessConfig\": {\n",
    "                \"MemorySizeInMB\": 4096,\n",
    "                \"MaxConcurrency\": 1,\n",
    "            },\n",
    "        },\n",
    "    ],\n",
    ")\n",
    "\n",
    "print(\"Endpoint Configuration Arn: \" + endpoint_config_response[\"EndpointConfigArn\"])"
   ]
  },
  {
   "cell_type": "code",
   "execution_count": 40,
   "id": "03b47dae-5e23-4633-a9f0-928d231f09d4",
   "metadata": {
    "tags": []
   },
   "outputs": [
    {
     "name": "stdout",
     "output_type": "stream",
     "text": [
      "Endpoint Arn: arn:aws:sagemaker:us-east-1:870427325799:endpoint/twitter-serverless-ep2023-03-09-12-24-41\n"
     ]
    }
   ],
   "source": [
    "# Create the endpoint response\n",
    "\n",
    "twitter_ep_name = \"twitter-serverless-ep\" + strftime(\"%Y-%m-%d-%H-%M-%S\", gmtime())\n",
    "\n",
    "create_endpoint_response = client.create_endpoint(\n",
    "    EndpointName=twitter_ep_name,\n",
    "    EndpointConfigName=twitter_epc_name,\n",
    ")\n",
    "\n",
    "print(\"Endpoint Arn: \" + create_endpoint_response[\"EndpointArn\"])"
   ]
  },
  {
   "cell_type": "code",
   "execution_count": 41,
   "id": "1da0e90e-9587-49ef-a2b5-c41609d07687",
   "metadata": {
    "tags": []
   },
   "outputs": [
    {
     "name": "stdout",
     "output_type": "stream",
     "text": [
      "Creating\n",
      "Creating\n",
      "Creating\n",
      "Creating\n",
      "Creating\n",
      "Creating\n",
      "Creating\n",
      "InService\n"
     ]
    },
    {
     "data": {
      "text/plain": [
       "{'EndpointName': 'twitter-serverless-ep2023-03-09-12-24-41',\n",
       " 'EndpointArn': 'arn:aws:sagemaker:us-east-1:870427325799:endpoint/twitter-serverless-ep2023-03-09-12-24-41',\n",
       " 'EndpointConfigName': 'blazingtext-serverless-epc2023-03-09-12-24-41',\n",
       " 'ProductionVariants': [{'VariantName': 'btVariant',\n",
       "   'DeployedImages': [{'SpecifiedImage': '811284229777.dkr.ecr.us-east-1.amazonaws.com/blazingtext:1',\n",
       "     'ResolvedImage': '811284229777.dkr.ecr.us-east-1.amazonaws.com/blazingtext@sha256:f4a2d23762e88d6b992495a9a6384fd64f819fcbc2e143d8af222637ed6822ff',\n",
       "     'ResolutionTime': datetime.datetime(2023, 3, 9, 12, 24, 42, 641000, tzinfo=tzlocal())}],\n",
       "   'CurrentWeight': 1.0,\n",
       "   'DesiredWeight': 1.0,\n",
       "   'CurrentInstanceCount': 0,\n",
       "   'CurrentServerlessConfig': {'MemorySizeInMB': 4096, 'MaxConcurrency': 1}}],\n",
       " 'EndpointStatus': 'InService',\n",
       " 'CreationTime': datetime.datetime(2023, 3, 9, 12, 24, 42, 55000, tzinfo=tzlocal()),\n",
       " 'LastModifiedTime': datetime.datetime(2023, 3, 9, 12, 26, 25, 353000, tzinfo=tzlocal()),\n",
       " 'ResponseMetadata': {'RequestId': '308c3d90-a54c-4292-b488-59a22336b232',\n",
       "  'HTTPStatusCode': 200,\n",
       "  'HTTPHeaders': {'x-amzn-requestid': '308c3d90-a54c-4292-b488-59a22336b232',\n",
       "   'content-type': 'application/x-amz-json-1.1',\n",
       "   'content-length': '797',\n",
       "   'date': 'Thu, 09 Mar 2023 12:26:27 GMT'},\n",
       "  'RetryAttempts': 0}}"
      ]
     },
     "execution_count": 41,
     "metadata": {},
     "output_type": "execute_result"
    }
   ],
   "source": [
    "# Wait for endpoint to reach a terminal state (InService) using describe endpoint\n",
    "\n",
    "describe_endpoint_response = client.describe_endpoint(EndpointName=twitter_ep_name)\n",
    "\n",
    "while describe_endpoint_response[\"EndpointStatus\"] == \"Creating\":\n",
    "    describe_endpoint_response = client.describe_endpoint(EndpointName=twitter_ep_name)\n",
    "    print(describe_endpoint_response[\"EndpointStatus\"])\n",
    "    time.sleep(15)\n",
    "\n",
    "describe_endpoint_response"
   ]
  },
  {
   "cell_type": "code",
   "execution_count": 42,
   "id": "7ad2b6f0-ea89-43d6-b55e-246045d80169",
   "metadata": {
    "tags": []
   },
   "outputs": [],
   "source": [
    "# First sentence Label 0\n",
    "# Second Sentence Label 2\n",
    "\n",
    "sentences = [\"Here are Thursday's biggest analyst calls: Apple, Amazon, Tesla, Palantir, DocuSign, Exxon &amp; more  https://t.co/QPN8Gwl7Uh\",\n",
    "             \"Ford just unveiled the F-150 Raptor R, a new version of its high-performance, off-road pickup with a supercharged 5.2-liter V-8 engine that produces 700 horsepower and 640 foot-pounds of torque. Take a look:  https://t.co/4srERXe88q  https://t.co/YLVa6RKCEe\"]             "
   ]
  },
  {
   "cell_type": "code",
   "execution_count": 43,
   "id": "6af8774d-af8f-4e8f-abc6-ffb18e4f9f7e",
   "metadata": {
    "tags": []
   },
   "outputs": [
    {
     "name": "stderr",
     "output_type": "stream",
     "text": [
      "INFO:botocore.credentials:Found credentials from IAM Role: BaseNotebookInstanceEc2InstanceRole\n"
     ]
    },
    {
     "name": "stdout",
     "output_type": "stream",
     "text": [
      "[{'label': ['__label__2'], 'prob': [0.11956427991390228]}, {'label': ['__label__2'], 'prob': [0.15447886288166046]}]\n"
     ]
    }
   ],
   "source": [
    "runtime = boto3.Session().client('sagemaker-runtime')\n",
    "\n",
    "payload = {\"instances\": sentences}\n",
    "\n",
    "response = runtime.invoke_endpoint(\n",
    "    EndpointName=twitter_ep_name,\n",
    "    Body=json.dumps(payload),\n",
    "    ContentType=\"application/json\",\n",
    ")\n",
    "\n",
    "output = json.loads(response['Body'].read().decode('utf-8'))\n",
    "\n",
    "print(output)"
   ]
  },
  {
   "cell_type": "markdown",
   "id": "26dd9d36-2c9b-4097-929c-b65e3b6a6d02",
   "metadata": {},
   "source": [
    "# Cleanup the data"
   ]
  },
  {
   "cell_type": "code",
   "execution_count": 44,
   "id": "a3b1e018-e0af-408f-8cfa-6c1ef024219f",
   "metadata": {
    "tags": []
   },
   "outputs": [
    {
     "data": {
      "text/plain": [
       "['thursday biggest analyst call apple amazon tesla palantir docusign exxon amp',\n",
       " 'ford unveiled f150 raptor r new version highperformance offroad pickup supercharged 52liter v8 engine produce 700 horsepower 640 footpounds torque take look']"
      ]
     },
     "execution_count": 44,
     "metadata": {},
     "output_type": "execute_result"
    }
   ],
   "source": [
    "# Convert List to Dataframe\n",
    "\n",
    "twitter_sentences = pd.DataFrame(sentences)\n",
    "twitter_sentences.columns = ['text']\n",
    "twitter_sentences = twitter_sentences.astype('string') #Make senteces lowercase\n",
    "\n",
    "# Transform the sentences as we did with teh training data\n",
    "\n",
    "twitter_sentences['text'] = twitter_sentences['text'].str.lower() # Make senteces lowercase\n",
    "\n",
    "twitter_sentences['text'] = twitter_sentences['text'].apply(lambda x : re.sub('http://\\S+|https://\\S+', '', x)) # Remove URLs\n",
    "\n",
    "twitter_sentences['text'] = twitter_sentences['text'].apply(lambda x : x.strip()) # Remove white space at the beginign and end\n",
    "\n",
    "twitter_sentences['text'] = twitter_sentences['text'].apply(lambda x: x.translate (str.maketrans('', '', string.punctuation))) # Remove punctuation\n",
    "\n",
    "twitter_sentences['text'] = twitter_sentences['text'].apply(word_tokenize) # Tokenize the sentences\n",
    "\n",
    "twitter_sentences['text'] = twitter_sentences['text'].apply(lambda x: [word for word in x if word not in (stop_words)]) # Remove the stopwords\n",
    "\n",
    "twitter_sentences['text'] = twitter_sentences['text'].apply(lambda x: [word_lemmatizer.lemmatize(word) for word in x])\n",
    "\n",
    "twitter_sentences['text'] = twitter_sentences['text'].apply(lambda x: ' '.join(x))\n",
    "\n",
    "new_sentences = twitter_sentences['text'].values.tolist()\n",
    "\n",
    "new_sentences"
   ]
  },
  {
   "cell_type": "code",
   "execution_count": 45,
   "id": "60e2da11-111a-46c4-b505-a00ff0b36b75",
   "metadata": {
    "tags": []
   },
   "outputs": [
    {
     "name": "stdout",
     "output_type": "stream",
     "text": [
      "[{'label': ['__label__2'], 'prob': [0.2289547175168991]}, {'label': ['__label__2'], 'prob': [0.26644113659858704]}]\n"
     ]
    }
   ],
   "source": [
    "payload = {\"instances\": new_sentences}\n",
    "\n",
    "response = runtime.invoke_endpoint(\n",
    "    EndpointName=twitter_ep_name,\n",
    "    Body=json.dumps(payload),\n",
    "    ContentType=\"application/json\",\n",
    ")\n",
    "\n",
    "output = json.loads(response['Body'].read().decode('utf-8'))\n",
    "\n",
    "print(output)"
   ]
  },
  {
   "cell_type": "code",
   "execution_count": 46,
   "id": "baf43ff9-b554-461a-a691-a05c3e0c2160",
   "metadata": {
    "tags": []
   },
   "outputs": [],
   "source": [
    "# Delete the endpoint\n",
    "\n",
    "# client.delete_endpoint_config(EndpointConfigName=twitter_epc_name)\n",
    "# client.delete_endpoint(EndpointName=twitter_ep_name)"
   ]
  },
  {
   "cell_type": "markdown",
   "id": "1ac320ed-f0a1-4558-92b2-bcead1549219",
   "metadata": {},
   "source": [
    "## Hyperparameter Tuning"
   ]
  },
  {
   "cell_type": "code",
   "execution_count": 47,
   "id": "b02b894f-4bfd-4857-83bc-e97f993379ec",
   "metadata": {
    "tags": []
   },
   "outputs": [],
   "source": [
    "# Here we are using the only required hyperameter and everything else will be set to default\n",
    "\n",
    "bt_model = Estimator(\n",
    "    container,\n",
    "    role,\n",
    "    instance_count=1,\n",
    "    instance_type=\"ml.m5.large\",\n",
    "    volume_size=30,\n",
    "    max_run=360000,\n",
    "    input_mode=\"File\",\n",
    "    output_path=output_data_path,\n",
    "    hyperparameters={\n",
    "        \"mode\": \"supervised\"\n",
    "    },\n",
    ")"
   ]
  },
  {
   "cell_type": "code",
   "execution_count": 48,
   "id": "e528aa5a-9b23-4841-9cfe-f1dda9def945",
   "metadata": {
    "tags": []
   },
   "outputs": [],
   "source": [
    "# The BlazingText Text Classification algorithm (supervised mode), also reports on a single metric during training: the validation:accuracy.\n",
    "\n",
    "from sagemaker.tuner import IntegerParameter, CategoricalParameter, ContinuousParameter, HyperparameterTuner\n",
    "\n",
    "hypertuner = HyperparameterTuner(bt_model, \n",
    "                                 objective_metric_name = 'validation:accuracy',\n",
    "                                 hyperparameter_ranges = {\n",
    "                                 'epochs' : CategoricalParameter([1,3,5]),\n",
    "                                 'min_count' : CategoricalParameter([1,3,5]),\n",
    "                                 'learning_rate' : ContinuousParameter(0.01, 0.1),\n",
    "                                 'batch_size': CategoricalParameter([32,64,128,256,512])},   \n",
    "                                 objective_type = 'Maximize',\n",
    "                                 metric_definitions = [{'Name': 'validation:accuracy', 'Regex': 'loss (\\S+)'}],\n",
    "                                 max_jobs=10, \n",
    "                                 max_parallel_jobs=1\n",
    "                                )\n"
   ]
  },
  {
   "cell_type": "code",
   "execution_count": 49,
   "id": "d1b06ec6-5feb-4845-be10-3cecca30c6aa",
   "metadata": {
    "tags": []
   },
   "outputs": [
    {
     "name": "stderr",
     "output_type": "stream",
     "text": [
      "WARNING:sagemaker.estimator:No finished training job found associated with this estimator. Please make sure this estimator is only used for building workflow config\n",
      "WARNING:sagemaker.estimator:No finished training job found associated with this estimator. Please make sure this estimator is only used for building workflow config\n",
      "INFO:sagemaker:Creating hyperparameter tuning job with name: blazingtext-230309-1226\n"
     ]
    },
    {
     "name": "stdout",
     "output_type": "stream",
     "text": [
      "...............................................................................................................................................................................................................................................................................................................................................................!\n"
     ]
    }
   ],
   "source": [
    "# Start the training and tuning\n",
    "\n",
    "hypertuner.fit(inputs=data_channels, logs=True)"
   ]
  },
  {
   "cell_type": "code",
   "execution_count": 50,
   "id": "91a63cf6-6298-4621-8d2b-2b6f77a07911",
   "metadata": {
    "tags": []
   },
   "outputs": [
    {
     "name": "stdout",
     "output_type": "stream",
     "text": [
      "Best hyerparameter tuning job:blazingtext-230309-1226-003-953d86ca\n",
      "\n",
      "2023-03-09 12:36:43 Starting - Found matching resource for reuse\n",
      "2023-03-09 12:36:43 Downloading - Downloading input data\n",
      "2023-03-09 12:36:43 Training - Training image download completed. Training in progress.\n",
      "2023-03-09 12:36:43 Uploading - Uploading generated training model\n",
      "2023-03-09 12:36:43 Completed - Resource reused by training job: blazingtext-230309-1226-004-4bc9a058\n",
      "Best parameters found={'_tuning_objective_metric': 'validation:accuracy', 'batch_size': '256', 'epochs': '5', 'learning_rate': '0.0768564102201141', 'min_count': '1', 'mode': 'supervised'}\n"
     ]
    }
   ],
   "source": [
    "# Print out the best parameters the tuning job found\n",
    "\n",
    "print(\"Best hyerparameter tuning job:{}\".format(hypertuner.best_training_job()))\n",
    "print(\"Best parameters found={}\".format(hypertuner.best_estimator().hyperparameters()))"
   ]
  },
  {
   "cell_type": "code",
   "execution_count": 51,
   "id": "70fce7fc-66a7-491b-ab91-ab157ee1ee12",
   "metadata": {
    "tags": []
   },
   "outputs": [],
   "source": [
    "# Confirgure the model with the parameters that were printed\n",
    "\n",
    "bt_model = Estimator(\n",
    "    container,\n",
    "    role,\n",
    "    instance_count=1,\n",
    "    instance_type=\"ml.m5.large\",\n",
    "    volume_size=30,\n",
    "    max_run=360000,\n",
    "    input_mode=\"File\",\n",
    "    output_path=output_data_path,\n",
    "    hyperparameters={\n",
    "        \"mode\": \"supervised\",\n",
    "        \"batch_size\": 32,\n",
    "        \"epochs\": 5,\n",
    "        \"learning_rate\": 0.09869630055892538,\n",
    "        \"min_count\": 3\n",
    "    },\n",
    ")"
   ]
  },
  {
   "cell_type": "code",
   "execution_count": 52,
   "id": "74c95ee1-4da8-4a06-b7f5-59090635368f",
   "metadata": {
    "tags": []
   },
   "outputs": [
    {
     "name": "stderr",
     "output_type": "stream",
     "text": [
      "INFO:sagemaker:Creating training-job with name: blazingtext-2023-03-09-12-56-54-946\n"
     ]
    },
    {
     "name": "stdout",
     "output_type": "stream",
     "text": [
      "2023-03-09 12:56:55 Starting - Starting the training job............\n",
      "2023-03-09 12:58:44 Starting - Preparing the instances for training...\n",
      "2023-03-09 12:59:25 Downloading - Downloading input data......\n",
      "2023-03-09 13:00:00 Training - Downloading the training image...\n",
      "2023-03-09 13:00:44 Training - Training image download completed. Training in progress.\u001b[34mArguments: train\u001b[0m\n",
      "\u001b[34m[03/09/2023 13:00:47 WARNING 140332353386304] Loggers have already been setup.\u001b[0m\n",
      "\u001b[34m[03/09/2023 13:00:47 WARNING 140332353386304] Loggers have already been setup.\u001b[0m\n",
      "\u001b[34m[03/09/2023 13:00:47 INFO 140332353386304] nvidia-smi took: 0.02520895004272461 secs to identify 0 gpus\u001b[0m\n",
      "\u001b[34m[03/09/2023 13:00:47 INFO 140332353386304] Running single machine CPU BlazingText training using supervised mode.\u001b[0m\n",
      "\u001b[34mNumber of CPU sockets found in instance is  1\u001b[0m\n",
      "\u001b[34m[03/09/2023 13:00:47 INFO 140332353386304] Processing /opt/ml/input/data/train/twitter_data.train . File size: 1.738835334777832 MB\u001b[0m\n",
      "\u001b[34m[03/09/2023 13:00:47 INFO 140332353386304] Processing /opt/ml/input/data/validation/twitter_data.validate . File size: 0.4384899139404297 MB\u001b[0m\n",
      "\u001b[34mRead 0M words\u001b[0m\n",
      "\u001b[34mNumber of words:  7991\u001b[0m\n",
      "\u001b[34m##### Alpha: 0.0769  Progress: 22.08%  Million Words/sec: 2.60 #####\u001b[0m\n",
      "\u001b[34m##### Alpha: 0.0544  Progress: 44.89%  Million Words/sec: 2.64 #####\u001b[0m\n",
      "\u001b[34m##### Alpha: 0.0316  Progress: 68.00%  Million Words/sec: 2.67 #####\u001b[0m\n",
      "\u001b[34m##### Alpha: 0.0091  Progress: 90.81%  Million Words/sec: 2.67 #####\u001b[0m\n",
      "\u001b[34m##### Alpha: -0.0000  Progress: 100.00%  Million Words/sec: 2.35 #####\u001b[0m\n",
      "\u001b[34m##### Alpha: 0.0000  Progress: 100.00%  Million Words/sec: 2.35 #####\u001b[0m\n",
      "\u001b[34mTraining finished.\u001b[0m\n",
      "\u001b[34mAverage throughput in Million words/sec: 2.35\u001b[0m\n",
      "\u001b[34mTotal training time in seconds: 0.50\u001b[0m\n",
      "\u001b[34m#train_accuracy: 0.7419\u001b[0m\n",
      "\u001b[34mNumber of train examples: 16885\u001b[0m\n",
      "\u001b[34m#validation_accuracy: 0.6587\u001b[0m\n",
      "\u001b[34mNumber of validation examples: 4222\u001b[0m\n",
      "\n",
      "2023-03-09 13:01:00 Uploading - Uploading generated training model\n",
      "2023-03-09 13:03:01 Completed - Training job completed\n",
      "Training seconds: 216\n",
      "Billable seconds: 216\n"
     ]
    }
   ],
   "source": [
    "# Train the model\n",
    "\n",
    "bt_model.fit(inputs=data_channels, logs=True)"
   ]
  },
  {
   "cell_type": "markdown",
   "id": "e2907115-83fa-4804-8f08-cadcdf82d04c",
   "metadata": {
    "tags": []
   },
   "source": [
    "# Deploy the model (with tuning)\n",
    "## Here we are going to deploy the model so that we can make some inferences"
   ]
  },
  {
   "cell_type": "code",
   "execution_count": 53,
   "id": "2c9ed945-8483-453e-9183-6c6a5a1f04f9",
   "metadata": {
    "tags": []
   },
   "outputs": [
    {
     "data": {
      "text/plain": [
       "'s3://sagemaker-us-east-1-870427325799/twitter_news/output/blazingtext-2023-03-09-12-56-54-946/output/model.tar.gz'"
      ]
     },
     "execution_count": 53,
     "metadata": {},
     "output_type": "execute_result"
    }
   ],
   "source": [
    "# Retrieve model data from training job\n",
    "\n",
    "training_job_model_data = bt_model.model_data\n",
    "training_job_model_data"
   ]
  },
  {
   "cell_type": "code",
   "execution_count": 54,
   "id": "f96ea344-1849-4919-9fd7-549ca84dca56",
   "metadata": {
    "tags": []
   },
   "outputs": [
    {
     "name": "stdout",
     "output_type": "stream",
     "text": [
      "Model name is twitter-bt-model2023-03-09-13-03-16\n"
     ]
    }
   ],
   "source": [
    "# Create a unique model name so it won't overwrite ones taht are already there using date and time\n",
    "deployed_BlazingText_model_name = \"twitter-bt-model\" + strftime(\"%Y-%m-%d-%H-%M-%S\", gmtime())\n",
    "print(\"Model name is \" + deployed_BlazingText_model_name)"
   ]
  },
  {
   "cell_type": "code",
   "execution_count": 55,
   "id": "a19a99c5-156d-4597-8941-e4fdcabaa06e",
   "metadata": {
    "tags": []
   },
   "outputs": [
    {
     "name": "stdout",
     "output_type": "stream",
     "text": [
      "Model Arn: arn:aws:sagemaker:us-east-1:870427325799:model/twitter-bt-model2023-03-09-13-03-16\n"
     ]
    }
   ],
   "source": [
    "# Container Definition https://docs.aws.amazon.com/sagemaker/latest/APIReference/API_ContainerDefinition.html\n",
    "\n",
    "client = boto3.client(service_name=\"sagemaker\")\n",
    "\n",
    "create_model_response = client.create_model(\n",
    "    ModelName=deployed_BlazingText_model_name,\n",
    "    Containers=[\n",
    "        {\n",
    "            \"Image\": container, # use the same container defined in the estimator\n",
    "            \"ModelDataUrl\": training_job_model_data\n",
    "        }\n",
    "    ],\n",
    "    ExecutionRoleArn=role,\n",
    ")\n",
    "\n",
    "print(\"Model Arn: \" + create_model_response[\"ModelArn\"])"
   ]
  },
  {
   "cell_type": "code",
   "execution_count": 56,
   "id": "278c25e0-005d-4012-bfe4-40de50ed91b7",
   "metadata": {
    "tags": []
   },
   "outputs": [
    {
     "name": "stdout",
     "output_type": "stream",
     "text": [
      "Endpoint Configuration Arn: arn:aws:sagemaker:us-east-1:870427325799:endpoint-config/blazingtext-serverless-epc2023-03-09-13-03-17\n"
     ]
    }
   ],
   "source": [
    "twitter_epc_name = \"blazingtext-serverless-epc\" + strftime(\"%Y-%m-%d-%H-%M-%S\", gmtime())\n",
    "\n",
    "endpoint_config_response = client.create_endpoint_config(\n",
    "    EndpointConfigName=twitter_epc_name,\n",
    "    ProductionVariants=[\n",
    "        {\n",
    "            \"VariantName\": \"btVariant\",\n",
    "            \"ModelName\": deployed_BlazingText_model_name,\n",
    "            \"ServerlessConfig\": {\n",
    "                \"MemorySizeInMB\": 4096,\n",
    "                \"MaxConcurrency\": 1,\n",
    "            },\n",
    "        },\n",
    "    ],\n",
    ")\n",
    "\n",
    "print(\"Endpoint Configuration Arn: \" + endpoint_config_response[\"EndpointConfigArn\"])"
   ]
  },
  {
   "cell_type": "code",
   "execution_count": 57,
   "id": "a8b0fef9-3960-4f75-90c5-7335c4c544b4",
   "metadata": {
    "tags": []
   },
   "outputs": [
    {
     "name": "stdout",
     "output_type": "stream",
     "text": [
      "Endpoint Arn: arn:aws:sagemaker:us-east-1:870427325799:endpoint/twitter-serverless-ep2023-03-09-13-03-17\n"
     ]
    }
   ],
   "source": [
    "twitter_ep_name = \"twitter-serverless-ep\" + strftime(\"%Y-%m-%d-%H-%M-%S\", gmtime())\n",
    "\n",
    "create_endpoint_response = client.create_endpoint(\n",
    "    EndpointName=twitter_ep_name,\n",
    "    EndpointConfigName=twitter_epc_name,\n",
    ")\n",
    "\n",
    "print(\"Endpoint Arn: \" + create_endpoint_response[\"EndpointArn\"])"
   ]
  },
  {
   "cell_type": "code",
   "execution_count": 58,
   "id": "d1da4d8a-fb2d-4d4b-85d2-6ea3f1c297a0",
   "metadata": {
    "tags": []
   },
   "outputs": [
    {
     "name": "stdout",
     "output_type": "stream",
     "text": [
      "Creating\n",
      "Creating\n",
      "Creating\n",
      "Creating\n",
      "Creating\n",
      "Creating\n",
      "Creating\n",
      "InService\n"
     ]
    },
    {
     "data": {
      "text/plain": [
       "{'EndpointName': 'twitter-serverless-ep2023-03-09-13-03-17',\n",
       " 'EndpointArn': 'arn:aws:sagemaker:us-east-1:870427325799:endpoint/twitter-serverless-ep2023-03-09-13-03-17',\n",
       " 'EndpointConfigName': 'blazingtext-serverless-epc2023-03-09-13-03-17',\n",
       " 'ProductionVariants': [{'VariantName': 'btVariant',\n",
       "   'DeployedImages': [{'SpecifiedImage': '811284229777.dkr.ecr.us-east-1.amazonaws.com/blazingtext:1',\n",
       "     'ResolvedImage': '811284229777.dkr.ecr.us-east-1.amazonaws.com/blazingtext@sha256:f4a2d23762e88d6b992495a9a6384fd64f819fcbc2e143d8af222637ed6822ff',\n",
       "     'ResolutionTime': datetime.datetime(2023, 3, 9, 13, 3, 18, 155000, tzinfo=tzlocal())}],\n",
       "   'CurrentWeight': 1.0,\n",
       "   'DesiredWeight': 1.0,\n",
       "   'CurrentInstanceCount': 0,\n",
       "   'CurrentServerlessConfig': {'MemorySizeInMB': 4096, 'MaxConcurrency': 1}}],\n",
       " 'EndpointStatus': 'InService',\n",
       " 'CreationTime': datetime.datetime(2023, 3, 9, 13, 3, 17, 581000, tzinfo=tzlocal()),\n",
       " 'LastModifiedTime': datetime.datetime(2023, 3, 9, 13, 5, 0, 574000, tzinfo=tzlocal()),\n",
       " 'ResponseMetadata': {'RequestId': '9c5957ef-6285-47b9-a84c-5bb0ffbeefc7',\n",
       "  'HTTPStatusCode': 200,\n",
       "  'HTTPHeaders': {'x-amzn-requestid': '9c5957ef-6285-47b9-a84c-5bb0ffbeefc7',\n",
       "   'content-type': 'application/x-amz-json-1.1',\n",
       "   'content-length': '797',\n",
       "   'date': 'Thu, 09 Mar 2023 13:05:03 GMT'},\n",
       "  'RetryAttempts': 0}}"
      ]
     },
     "execution_count": 58,
     "metadata": {},
     "output_type": "execute_result"
    }
   ],
   "source": [
    "# wait for endpoint to reach a terminal state (InService) using describe endpoint\n",
    "\n",
    "import time\n",
    "\n",
    "describe_endpoint_response = client.describe_endpoint(EndpointName=twitter_ep_name)\n",
    "\n",
    "while describe_endpoint_response[\"EndpointStatus\"] == \"Creating\":\n",
    "    describe_endpoint_response = client.describe_endpoint(EndpointName=twitter_ep_name)\n",
    "    print(describe_endpoint_response[\"EndpointStatus\"])\n",
    "    time.sleep(15)\n",
    "\n",
    "describe_endpoint_response"
   ]
  },
  {
   "cell_type": "code",
   "execution_count": 59,
   "id": "ef8846df-38f5-4207-8b60-d698da234983",
   "metadata": {
    "tags": []
   },
   "outputs": [],
   "source": [
    "# First sentence Label 0\n",
    "# Second Sentence Label 2\n",
    "\n",
    "sentences = [\"Here are Thursday's biggest analyst calls: Apple, Amazon, Tesla, Palantir, DocuSign, Exxon &amp; more  https://t.co/QPN8Gwl7Uh\",\n",
    "             \"Ford just unveiled the F-150 Raptor R, a new version of its high-performance, off-road pickup with a supercharged 5.2-liter V-8 engine that produces 700 horsepower and 640 foot-pounds of torque. Take a look:  https://t.co/4srERXe88q  https://t.co/YLVa6RKCEe\"]                 "
   ]
  },
  {
   "cell_type": "code",
   "execution_count": 60,
   "id": "5ff634a2-6b4b-4b7d-9aea-b431984247ab",
   "metadata": {
    "tags": []
   },
   "outputs": [
    {
     "name": "stderr",
     "output_type": "stream",
     "text": [
      "INFO:botocore.credentials:Found credentials from IAM Role: BaseNotebookInstanceEc2InstanceRole\n"
     ]
    },
    {
     "name": "stdout",
     "output_type": "stream",
     "text": [
      "[{'label': ['__label__17'], 'prob': [0.10960441082715988]}, {'label': ['__label__2'], 'prob': [0.21533791720867157]}]\n"
     ]
    }
   ],
   "source": [
    "runtime = boto3.Session().client('sagemaker-runtime')\n",
    "\n",
    "payload = {\"instances\": sentences}\n",
    "\n",
    "response = runtime.invoke_endpoint(\n",
    "    EndpointName=twitter_ep_name,\n",
    "    Body=json.dumps(payload),\n",
    "    ContentType=\"application/json\",\n",
    ")\n",
    "\n",
    "output = json.loads(response['Body'].read().decode('utf-8'))\n",
    "\n",
    "print(output)"
   ]
  },
  {
   "cell_type": "markdown",
   "id": "c0c5095d-10b9-4970-99ef-af30b566a20f",
   "metadata": {},
   "source": [
    "# Cleanup the data"
   ]
  },
  {
   "cell_type": "code",
   "execution_count": 61,
   "id": "729f1985-c208-4be7-8791-28427869e8f9",
   "metadata": {
    "tags": []
   },
   "outputs": [
    {
     "data": {
      "text/plain": [
       "['thursday biggest analyst call apple amazon tesla palantir docusign exxon amp',\n",
       " 'ford unveiled f150 raptor r new version highperformance offroad pickup supercharged 52liter v8 engine produce 700 horsepower 640 footpounds torque take look']"
      ]
     },
     "execution_count": 61,
     "metadata": {},
     "output_type": "execute_result"
    }
   ],
   "source": [
    "# Convert List to Dataframe\n",
    "\n",
    "twitter_sentences = pd.DataFrame(sentences)\n",
    "twitter_sentences.columns = ['text']\n",
    "twitter_sentences = twitter_sentences.astype('string') #Make senteces lowercase\n",
    "\n",
    "# Transform the sentences as we did with teh training data\n",
    "\n",
    "twitter_sentences['text'] = twitter_sentences['text'].str.lower() # Make senteces lowercase\n",
    "\n",
    "twitter_sentences['text'] = twitter_sentences['text'].apply(lambda x : re.sub('http://\\S+|https://\\S+', '', x)) # Remove URLs\n",
    "\n",
    "twitter_sentences['text'] = twitter_sentences['text'].apply(lambda x : x.strip()) # Remove white space at the beginign and end\n",
    "\n",
    "twitter_sentences['text'] = twitter_sentences['text'].apply(lambda x: x.translate (str.maketrans('', '', string.punctuation))) # Remove punctuation\n",
    "\n",
    "twitter_sentences['text'] = twitter_sentences['text'].apply(word_tokenize) # Tokenize the sentences\n",
    "\n",
    "twitter_sentences['text'] = twitter_sentences['text'].apply(lambda x: [word for word in x if word not in (stop_words)]) # Remove the stopwords\n",
    "\n",
    "twitter_sentences['text'] = twitter_sentences['text'].apply(lambda x: [word_lemmatizer.lemmatize(word) for word in x])\n",
    "\n",
    "twitter_sentences['text'] = twitter_sentences['text'].apply(lambda x: ' '.join(x))\n",
    "\n",
    "new_sentences = twitter_sentences['text'].values.tolist()\n",
    "\n",
    "new_sentences"
   ]
  },
  {
   "cell_type": "code",
   "execution_count": 62,
   "id": "47f0e7b1-9a0f-4d7f-8827-c33d2b10f37a",
   "metadata": {
    "tags": []
   },
   "outputs": [
    {
     "name": "stdout",
     "output_type": "stream",
     "text": [
      "[{'label': ['__label__2'], 'prob': [0.3209604322910309]}, {'label': ['__label__2'], 'prob': [0.6337446570396423]}]\n"
     ]
    }
   ],
   "source": [
    "payload = {\"instances\": new_sentences}\n",
    "\n",
    "response = runtime.invoke_endpoint(\n",
    "    EndpointName=twitter_ep_name,\n",
    "    Body=json.dumps(payload),\n",
    "    ContentType=\"application/json\",\n",
    ")\n",
    "\n",
    "output = json.loads(response['Body'].read().decode('utf-8'))\n",
    "\n",
    "print(output)"
   ]
  },
  {
   "cell_type": "markdown",
   "id": "f48fb705-7e99-4b62-a4bc-986b8ab59afb",
   "metadata": {},
   "source": [
    "# Cleanup the data"
   ]
  },
  {
   "cell_type": "code",
   "execution_count": 63,
   "id": "9b148312-67af-4ea2-a88b-293005093cf8",
   "metadata": {
    "tags": []
   },
   "outputs": [],
   "source": [
    "# Delete the endpoint\n",
    "\n",
    "# client.delete_model(ModelName=deployed_BlazingText_model_name)\n",
    "# client.delete_endpoint_config(EndpointConfigName=twitter_epc_name)\n",
    "# client.delete_endpoint(EndpointName=twitter_ep_name)"
   ]
  },
  {
   "cell_type": "code",
   "execution_count": null,
   "id": "34610cfc-e368-4d67-9446-b00bbda78621",
   "metadata": {},
   "outputs": [],
   "source": []
  }
 ],
 "metadata": {
  "kernelspec": {
   "display_name": "conda_python3",
   "language": "python",
   "name": "conda_python3"
  },
  "language_info": {
   "codemirror_mode": {
    "name": "ipython",
    "version": 3
   },
   "file_extension": ".py",
   "mimetype": "text/x-python",
   "name": "python",
   "nbconvert_exporter": "python",
   "pygments_lexer": "ipython3",
   "version": "3.10.8"
  }
 },
 "nbformat": 4,
 "nbformat_minor": 5
}
